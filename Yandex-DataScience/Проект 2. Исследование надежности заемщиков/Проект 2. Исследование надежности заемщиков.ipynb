{
 "cells": [
  {
   "cell_type": "markdown",
   "id": "2546dde1",
   "metadata": {
    "deletable": false,
    "editable": false,
    "id": "c81daeeb"
   },
   "source": [
    "# Исследование надежности заемщиков\n"
   ]
  },
  {
   "cell_type": "markdown",
   "id": "04663df9",
   "metadata": {
    "deletable": false,
    "editable": false,
    "id": "827c20bf"
   },
   "source": [
    "Во второй части проекта вы выполните шаги 3 и 4. Их вручную проверит ревьюер.\n",
    "Чтобы вам не пришлось писать код заново для шагов 1 и 2, мы добавили авторские решения в ячейки с кодом. \n",
    "\n"
   ]
  },
  {
   "cell_type": "markdown",
   "id": "b992afef",
   "metadata": {
    "deletable": false,
    "editable": false,
    "id": "744d7639"
   },
   "source": [
    "## Откройте таблицу и изучите общую информацию о данных"
   ]
  },
  {
   "cell_type": "markdown",
   "id": "fcc373d1",
   "metadata": {
    "deletable": false,
    "editable": false,
    "id": "e7a14c31"
   },
   "source": [
    "**Задание 1. Импортируйте библиотеку pandas. Считайте данные из csv-файла в датафрейм и сохраните в переменную `data`. Путь к файлу:**\n",
    "\n",
    "`/datasets/data.csv`"
   ]
  },
  {
   "cell_type": "code",
   "execution_count": 1,
   "id": "622d810c",
   "metadata": {
    "deletable": false,
    "id": "7bcf75c9"
   },
   "outputs": [],
   "source": [
    "import pandas as pd\n",
    "\n",
    "try:\n",
    "    data = pd.read_csv('/datasets/data.csv')\n",
    "except:\n",
    "    data = pd.read_csv('https://code.s3.yandex.net/datasets/data.csv')"
   ]
  },
  {
   "cell_type": "markdown",
   "id": "0590b249",
   "metadata": {
    "deletable": false,
    "editable": false,
    "id": "b8038fe3"
   },
   "source": [
    "**Задание 2. Выведите первые 20 строчек датафрейма `data` на экран.**"
   ]
  },
  {
   "cell_type": "code",
   "execution_count": 2,
   "id": "fcecdc7c",
   "metadata": {
    "deletable": false,
    "id": "2a7cab99",
    "outputId": "1a8f3ef2-d323-4ec2-ddf7-89670b5944c4"
   },
   "outputs": [
    {
     "data": {
      "text/html": [
       "<div>\n",
       "<style scoped>\n",
       "    .dataframe tbody tr th:only-of-type {\n",
       "        vertical-align: middle;\n",
       "    }\n",
       "\n",
       "    .dataframe tbody tr th {\n",
       "        vertical-align: top;\n",
       "    }\n",
       "\n",
       "    .dataframe thead th {\n",
       "        text-align: right;\n",
       "    }\n",
       "</style>\n",
       "<table border=\"1\" class=\"dataframe\">\n",
       "  <thead>\n",
       "    <tr style=\"text-align: right;\">\n",
       "      <th></th>\n",
       "      <th>children</th>\n",
       "      <th>days_employed</th>\n",
       "      <th>dob_years</th>\n",
       "      <th>education</th>\n",
       "      <th>education_id</th>\n",
       "      <th>family_status</th>\n",
       "      <th>family_status_id</th>\n",
       "      <th>gender</th>\n",
       "      <th>income_type</th>\n",
       "      <th>debt</th>\n",
       "      <th>total_income</th>\n",
       "      <th>purpose</th>\n",
       "    </tr>\n",
       "  </thead>\n",
       "  <tbody>\n",
       "    <tr>\n",
       "      <th>0</th>\n",
       "      <td>1</td>\n",
       "      <td>-8437.673028</td>\n",
       "      <td>42</td>\n",
       "      <td>высшее</td>\n",
       "      <td>0</td>\n",
       "      <td>женат / замужем</td>\n",
       "      <td>0</td>\n",
       "      <td>F</td>\n",
       "      <td>сотрудник</td>\n",
       "      <td>0</td>\n",
       "      <td>253875.639453</td>\n",
       "      <td>покупка жилья</td>\n",
       "    </tr>\n",
       "    <tr>\n",
       "      <th>1</th>\n",
       "      <td>1</td>\n",
       "      <td>-4024.803754</td>\n",
       "      <td>36</td>\n",
       "      <td>среднее</td>\n",
       "      <td>1</td>\n",
       "      <td>женат / замужем</td>\n",
       "      <td>0</td>\n",
       "      <td>F</td>\n",
       "      <td>сотрудник</td>\n",
       "      <td>0</td>\n",
       "      <td>112080.014102</td>\n",
       "      <td>приобретение автомобиля</td>\n",
       "    </tr>\n",
       "    <tr>\n",
       "      <th>2</th>\n",
       "      <td>0</td>\n",
       "      <td>-5623.422610</td>\n",
       "      <td>33</td>\n",
       "      <td>Среднее</td>\n",
       "      <td>1</td>\n",
       "      <td>женат / замужем</td>\n",
       "      <td>0</td>\n",
       "      <td>M</td>\n",
       "      <td>сотрудник</td>\n",
       "      <td>0</td>\n",
       "      <td>145885.952297</td>\n",
       "      <td>покупка жилья</td>\n",
       "    </tr>\n",
       "    <tr>\n",
       "      <th>3</th>\n",
       "      <td>3</td>\n",
       "      <td>-4124.747207</td>\n",
       "      <td>32</td>\n",
       "      <td>среднее</td>\n",
       "      <td>1</td>\n",
       "      <td>женат / замужем</td>\n",
       "      <td>0</td>\n",
       "      <td>M</td>\n",
       "      <td>сотрудник</td>\n",
       "      <td>0</td>\n",
       "      <td>267628.550329</td>\n",
       "      <td>дополнительное образование</td>\n",
       "    </tr>\n",
       "    <tr>\n",
       "      <th>4</th>\n",
       "      <td>0</td>\n",
       "      <td>340266.072047</td>\n",
       "      <td>53</td>\n",
       "      <td>среднее</td>\n",
       "      <td>1</td>\n",
       "      <td>гражданский брак</td>\n",
       "      <td>1</td>\n",
       "      <td>F</td>\n",
       "      <td>пенсионер</td>\n",
       "      <td>0</td>\n",
       "      <td>158616.077870</td>\n",
       "      <td>сыграть свадьбу</td>\n",
       "    </tr>\n",
       "    <tr>\n",
       "      <th>5</th>\n",
       "      <td>0</td>\n",
       "      <td>-926.185831</td>\n",
       "      <td>27</td>\n",
       "      <td>высшее</td>\n",
       "      <td>0</td>\n",
       "      <td>гражданский брак</td>\n",
       "      <td>1</td>\n",
       "      <td>M</td>\n",
       "      <td>компаньон</td>\n",
       "      <td>0</td>\n",
       "      <td>255763.565419</td>\n",
       "      <td>покупка жилья</td>\n",
       "    </tr>\n",
       "    <tr>\n",
       "      <th>6</th>\n",
       "      <td>0</td>\n",
       "      <td>-2879.202052</td>\n",
       "      <td>43</td>\n",
       "      <td>высшее</td>\n",
       "      <td>0</td>\n",
       "      <td>женат / замужем</td>\n",
       "      <td>0</td>\n",
       "      <td>F</td>\n",
       "      <td>компаньон</td>\n",
       "      <td>0</td>\n",
       "      <td>240525.971920</td>\n",
       "      <td>операции с жильем</td>\n",
       "    </tr>\n",
       "    <tr>\n",
       "      <th>7</th>\n",
       "      <td>0</td>\n",
       "      <td>-152.779569</td>\n",
       "      <td>50</td>\n",
       "      <td>СРЕДНЕЕ</td>\n",
       "      <td>1</td>\n",
       "      <td>женат / замужем</td>\n",
       "      <td>0</td>\n",
       "      <td>M</td>\n",
       "      <td>сотрудник</td>\n",
       "      <td>0</td>\n",
       "      <td>135823.934197</td>\n",
       "      <td>образование</td>\n",
       "    </tr>\n",
       "    <tr>\n",
       "      <th>8</th>\n",
       "      <td>2</td>\n",
       "      <td>-6929.865299</td>\n",
       "      <td>35</td>\n",
       "      <td>ВЫСШЕЕ</td>\n",
       "      <td>0</td>\n",
       "      <td>гражданский брак</td>\n",
       "      <td>1</td>\n",
       "      <td>F</td>\n",
       "      <td>сотрудник</td>\n",
       "      <td>0</td>\n",
       "      <td>95856.832424</td>\n",
       "      <td>на проведение свадьбы</td>\n",
       "    </tr>\n",
       "    <tr>\n",
       "      <th>9</th>\n",
       "      <td>0</td>\n",
       "      <td>-2188.756445</td>\n",
       "      <td>41</td>\n",
       "      <td>среднее</td>\n",
       "      <td>1</td>\n",
       "      <td>женат / замужем</td>\n",
       "      <td>0</td>\n",
       "      <td>M</td>\n",
       "      <td>сотрудник</td>\n",
       "      <td>0</td>\n",
       "      <td>144425.938277</td>\n",
       "      <td>покупка жилья для семьи</td>\n",
       "    </tr>\n",
       "    <tr>\n",
       "      <th>10</th>\n",
       "      <td>2</td>\n",
       "      <td>-4171.483647</td>\n",
       "      <td>36</td>\n",
       "      <td>высшее</td>\n",
       "      <td>0</td>\n",
       "      <td>женат / замужем</td>\n",
       "      <td>0</td>\n",
       "      <td>M</td>\n",
       "      <td>компаньон</td>\n",
       "      <td>0</td>\n",
       "      <td>113943.491460</td>\n",
       "      <td>покупка недвижимости</td>\n",
       "    </tr>\n",
       "    <tr>\n",
       "      <th>11</th>\n",
       "      <td>0</td>\n",
       "      <td>-792.701887</td>\n",
       "      <td>40</td>\n",
       "      <td>среднее</td>\n",
       "      <td>1</td>\n",
       "      <td>женат / замужем</td>\n",
       "      <td>0</td>\n",
       "      <td>F</td>\n",
       "      <td>сотрудник</td>\n",
       "      <td>0</td>\n",
       "      <td>77069.234271</td>\n",
       "      <td>покупка коммерческой недвижимости</td>\n",
       "    </tr>\n",
       "    <tr>\n",
       "      <th>12</th>\n",
       "      <td>0</td>\n",
       "      <td>NaN</td>\n",
       "      <td>65</td>\n",
       "      <td>среднее</td>\n",
       "      <td>1</td>\n",
       "      <td>гражданский брак</td>\n",
       "      <td>1</td>\n",
       "      <td>M</td>\n",
       "      <td>пенсионер</td>\n",
       "      <td>0</td>\n",
       "      <td>NaN</td>\n",
       "      <td>сыграть свадьбу</td>\n",
       "    </tr>\n",
       "    <tr>\n",
       "      <th>13</th>\n",
       "      <td>0</td>\n",
       "      <td>-1846.641941</td>\n",
       "      <td>54</td>\n",
       "      <td>неоконченное высшее</td>\n",
       "      <td>2</td>\n",
       "      <td>женат / замужем</td>\n",
       "      <td>0</td>\n",
       "      <td>F</td>\n",
       "      <td>сотрудник</td>\n",
       "      <td>0</td>\n",
       "      <td>130458.228857</td>\n",
       "      <td>приобретение автомобиля</td>\n",
       "    </tr>\n",
       "    <tr>\n",
       "      <th>14</th>\n",
       "      <td>0</td>\n",
       "      <td>-1844.956182</td>\n",
       "      <td>56</td>\n",
       "      <td>высшее</td>\n",
       "      <td>0</td>\n",
       "      <td>гражданский брак</td>\n",
       "      <td>1</td>\n",
       "      <td>F</td>\n",
       "      <td>компаньон</td>\n",
       "      <td>1</td>\n",
       "      <td>165127.911772</td>\n",
       "      <td>покупка жилой недвижимости</td>\n",
       "    </tr>\n",
       "    <tr>\n",
       "      <th>15</th>\n",
       "      <td>1</td>\n",
       "      <td>-972.364419</td>\n",
       "      <td>26</td>\n",
       "      <td>среднее</td>\n",
       "      <td>1</td>\n",
       "      <td>женат / замужем</td>\n",
       "      <td>0</td>\n",
       "      <td>F</td>\n",
       "      <td>сотрудник</td>\n",
       "      <td>0</td>\n",
       "      <td>116820.904450</td>\n",
       "      <td>строительство собственной недвижимости</td>\n",
       "    </tr>\n",
       "    <tr>\n",
       "      <th>16</th>\n",
       "      <td>0</td>\n",
       "      <td>-1719.934226</td>\n",
       "      <td>35</td>\n",
       "      <td>среднее</td>\n",
       "      <td>1</td>\n",
       "      <td>женат / замужем</td>\n",
       "      <td>0</td>\n",
       "      <td>F</td>\n",
       "      <td>сотрудник</td>\n",
       "      <td>0</td>\n",
       "      <td>289202.704229</td>\n",
       "      <td>недвижимость</td>\n",
       "    </tr>\n",
       "    <tr>\n",
       "      <th>17</th>\n",
       "      <td>0</td>\n",
       "      <td>-2369.999720</td>\n",
       "      <td>33</td>\n",
       "      <td>высшее</td>\n",
       "      <td>0</td>\n",
       "      <td>гражданский брак</td>\n",
       "      <td>1</td>\n",
       "      <td>M</td>\n",
       "      <td>сотрудник</td>\n",
       "      <td>0</td>\n",
       "      <td>90410.586745</td>\n",
       "      <td>строительство недвижимости</td>\n",
       "    </tr>\n",
       "    <tr>\n",
       "      <th>18</th>\n",
       "      <td>0</td>\n",
       "      <td>400281.136913</td>\n",
       "      <td>53</td>\n",
       "      <td>среднее</td>\n",
       "      <td>1</td>\n",
       "      <td>вдовец / вдова</td>\n",
       "      <td>2</td>\n",
       "      <td>F</td>\n",
       "      <td>пенсионер</td>\n",
       "      <td>0</td>\n",
       "      <td>56823.777243</td>\n",
       "      <td>на покупку подержанного автомобиля</td>\n",
       "    </tr>\n",
       "    <tr>\n",
       "      <th>19</th>\n",
       "      <td>0</td>\n",
       "      <td>-10038.818549</td>\n",
       "      <td>48</td>\n",
       "      <td>СРЕДНЕЕ</td>\n",
       "      <td>1</td>\n",
       "      <td>в разводе</td>\n",
       "      <td>3</td>\n",
       "      <td>F</td>\n",
       "      <td>сотрудник</td>\n",
       "      <td>0</td>\n",
       "      <td>242831.107982</td>\n",
       "      <td>на покупку своего автомобиля</td>\n",
       "    </tr>\n",
       "  </tbody>\n",
       "</table>\n",
       "</div>"
      ],
      "text/plain": [
       "    children  days_employed  dob_years            education  education_id  \\\n",
       "0          1   -8437.673028         42               высшее             0   \n",
       "1          1   -4024.803754         36              среднее             1   \n",
       "2          0   -5623.422610         33              Среднее             1   \n",
       "3          3   -4124.747207         32              среднее             1   \n",
       "4          0  340266.072047         53              среднее             1   \n",
       "5          0    -926.185831         27               высшее             0   \n",
       "6          0   -2879.202052         43               высшее             0   \n",
       "7          0    -152.779569         50              СРЕДНЕЕ             1   \n",
       "8          2   -6929.865299         35               ВЫСШЕЕ             0   \n",
       "9          0   -2188.756445         41              среднее             1   \n",
       "10         2   -4171.483647         36               высшее             0   \n",
       "11         0    -792.701887         40              среднее             1   \n",
       "12         0            NaN         65              среднее             1   \n",
       "13         0   -1846.641941         54  неоконченное высшее             2   \n",
       "14         0   -1844.956182         56               высшее             0   \n",
       "15         1    -972.364419         26              среднее             1   \n",
       "16         0   -1719.934226         35              среднее             1   \n",
       "17         0   -2369.999720         33               высшее             0   \n",
       "18         0  400281.136913         53              среднее             1   \n",
       "19         0  -10038.818549         48              СРЕДНЕЕ             1   \n",
       "\n",
       "       family_status  family_status_id gender income_type  debt  \\\n",
       "0    женат / замужем                 0      F   сотрудник     0   \n",
       "1    женат / замужем                 0      F   сотрудник     0   \n",
       "2    женат / замужем                 0      M   сотрудник     0   \n",
       "3    женат / замужем                 0      M   сотрудник     0   \n",
       "4   гражданский брак                 1      F   пенсионер     0   \n",
       "5   гражданский брак                 1      M   компаньон     0   \n",
       "6    женат / замужем                 0      F   компаньон     0   \n",
       "7    женат / замужем                 0      M   сотрудник     0   \n",
       "8   гражданский брак                 1      F   сотрудник     0   \n",
       "9    женат / замужем                 0      M   сотрудник     0   \n",
       "10   женат / замужем                 0      M   компаньон     0   \n",
       "11   женат / замужем                 0      F   сотрудник     0   \n",
       "12  гражданский брак                 1      M   пенсионер     0   \n",
       "13   женат / замужем                 0      F   сотрудник     0   \n",
       "14  гражданский брак                 1      F   компаньон     1   \n",
       "15   женат / замужем                 0      F   сотрудник     0   \n",
       "16   женат / замужем                 0      F   сотрудник     0   \n",
       "17  гражданский брак                 1      M   сотрудник     0   \n",
       "18    вдовец / вдова                 2      F   пенсионер     0   \n",
       "19         в разводе                 3      F   сотрудник     0   \n",
       "\n",
       "     total_income                                 purpose  \n",
       "0   253875.639453                           покупка жилья  \n",
       "1   112080.014102                 приобретение автомобиля  \n",
       "2   145885.952297                           покупка жилья  \n",
       "3   267628.550329              дополнительное образование  \n",
       "4   158616.077870                         сыграть свадьбу  \n",
       "5   255763.565419                           покупка жилья  \n",
       "6   240525.971920                       операции с жильем  \n",
       "7   135823.934197                             образование  \n",
       "8    95856.832424                   на проведение свадьбы  \n",
       "9   144425.938277                 покупка жилья для семьи  \n",
       "10  113943.491460                    покупка недвижимости  \n",
       "11   77069.234271       покупка коммерческой недвижимости  \n",
       "12            NaN                         сыграть свадьбу  \n",
       "13  130458.228857                 приобретение автомобиля  \n",
       "14  165127.911772              покупка жилой недвижимости  \n",
       "15  116820.904450  строительство собственной недвижимости  \n",
       "16  289202.704229                            недвижимость  \n",
       "17   90410.586745              строительство недвижимости  \n",
       "18   56823.777243      на покупку подержанного автомобиля  \n",
       "19  242831.107982            на покупку своего автомобиля  "
      ]
     },
     "execution_count": 2,
     "metadata": {},
     "output_type": "execute_result"
    }
   ],
   "source": [
    "data2 = data.copy()\n",
    "data.head(20)\n"
   ]
  },
  {
   "cell_type": "markdown",
   "id": "affcdb38",
   "metadata": {
    "deletable": false,
    "editable": false,
    "id": "1c12e233"
   },
   "source": [
    "**Задание 3. Выведите основную информацию о датафрейме с помощью метода `info()`.**"
   ]
  },
  {
   "cell_type": "code",
   "execution_count": 3,
   "id": "0a18e613",
   "metadata": {
    "deletable": false,
    "id": "2b757bca",
    "outputId": "15376089-8dad-46c9-b520-c05248d43158"
   },
   "outputs": [
    {
     "name": "stdout",
     "output_type": "stream",
     "text": [
      "<class 'pandas.core.frame.DataFrame'>\n",
      "RangeIndex: 21525 entries, 0 to 21524\n",
      "Data columns (total 12 columns):\n",
      " #   Column            Non-Null Count  Dtype  \n",
      "---  ------            --------------  -----  \n",
      " 0   children          21525 non-null  int64  \n",
      " 1   days_employed     19351 non-null  float64\n",
      " 2   dob_years         21525 non-null  int64  \n",
      " 3   education         21525 non-null  object \n",
      " 4   education_id      21525 non-null  int64  \n",
      " 5   family_status     21525 non-null  object \n",
      " 6   family_status_id  21525 non-null  int64  \n",
      " 7   gender            21525 non-null  object \n",
      " 8   income_type       21525 non-null  object \n",
      " 9   debt              21525 non-null  int64  \n",
      " 10  total_income      19351 non-null  float64\n",
      " 11  purpose           21525 non-null  object \n",
      "dtypes: float64(2), int64(5), object(5)\n",
      "memory usage: 2.0+ MB\n"
     ]
    }
   ],
   "source": [
    "data.info()"
   ]
  },
  {
   "cell_type": "markdown",
   "id": "c62cd2a9",
   "metadata": {
    "deletable": false,
    "editable": false,
    "id": "333ec665"
   },
   "source": [
    "## Предобработка данных"
   ]
  },
  {
   "cell_type": "markdown",
   "id": "914e5780",
   "metadata": {
    "deletable": false,
    "editable": false,
    "id": "02d92d53"
   },
   "source": [
    "### Удаление пропусков"
   ]
  },
  {
   "cell_type": "markdown",
   "id": "eac93e7a",
   "metadata": {
    "deletable": false,
    "editable": false,
    "id": "cd84967c"
   },
   "source": [
    "**Задание 4. Выведите количество пропущенных значений для каждого столбца. Используйте комбинацию двух методов.**"
   ]
  },
  {
   "cell_type": "code",
   "execution_count": 4,
   "id": "00328252",
   "metadata": {
    "deletable": false,
    "id": "7f9b2309",
    "outputId": "81f4d817-781c-465c-ed15-91ce4446810d"
   },
   "outputs": [
    {
     "data": {
      "text/plain": [
       "children               0\n",
       "days_employed       2174\n",
       "dob_years              0\n",
       "education              0\n",
       "education_id           0\n",
       "family_status          0\n",
       "family_status_id       0\n",
       "gender                 0\n",
       "income_type            0\n",
       "debt                   0\n",
       "total_income        2174\n",
       "purpose                0\n",
       "dtype: int64"
      ]
     },
     "execution_count": 4,
     "metadata": {},
     "output_type": "execute_result"
    }
   ],
   "source": [
    "data.isna().sum()"
   ]
  },
  {
   "cell_type": "markdown",
   "id": "b77a2b94",
   "metadata": {
    "deletable": false,
    "editable": false,
    "id": "db86e27b"
   },
   "source": [
    "**Задание 5. В двух столбцах есть пропущенные значения. Один из них — `days_employed`. Пропуски в этом столбце вы обработаете на следующем этапе. Другой столбец с пропущенными значениями — `total_income` — хранит данные о доходах. На сумму дохода сильнее всего влияет тип занятости, поэтому заполнить пропуски в этом столбце нужно медианным значением по каждому типу из столбца `income_type`. Например, у человека с типом занятости `сотрудник` пропуск в столбце `total_income` должен быть заполнен медианным доходом среди всех записей с тем же типом.**"
   ]
  },
  {
   "cell_type": "code",
   "execution_count": 5,
   "id": "a68d9f44",
   "metadata": {
    "deletable": false,
    "id": "42006a93"
   },
   "outputs": [],
   "source": [
    "for t in data['income_type'].unique():\n",
    "    data.loc[(data['income_type'] == t) & (data['total_income'].isna()), 'total_income'] = \\\n",
    "    data.loc[(data['income_type'] == t), 'total_income'].median()"
   ]
  },
  {
   "cell_type": "markdown",
   "id": "4c13983d",
   "metadata": {
    "deletable": false,
    "editable": false,
    "id": "89da5ece"
   },
   "source": [
    "### Обработка аномальных значений"
   ]
  },
  {
   "cell_type": "markdown",
   "id": "1bb2c61f",
   "metadata": {
    "deletable": false,
    "editable": false,
    "id": "57964554"
   },
   "source": [
    "**Задание 6. В данных могут встречаться артефакты (аномалии) — значения, которые не отражают действительность и появились по какой-то ошибке. таким артефактом будет отрицательное количество дней трудового стажа в столбце `days_employed`. Для реальных данных это нормально. Обработайте значения в этом столбце: замените все отрицательные значения положительными с помощью метода `abs()`.**"
   ]
  },
  {
   "cell_type": "code",
   "execution_count": 6,
   "id": "aa0b7ac7",
   "metadata": {
    "deletable": false,
    "id": "f6f055bf"
   },
   "outputs": [],
   "source": [
    "data['days_employed'] = data['days_employed'].abs()"
   ]
  },
  {
   "cell_type": "markdown",
   "id": "508cecf9",
   "metadata": {
    "deletable": false,
    "editable": false,
    "id": "6107dd2f"
   },
   "source": [
    "**Задание 7. Для каждого типа занятости выведите медианное значение трудового стажа `days_employed` в днях.**"
   ]
  },
  {
   "cell_type": "code",
   "execution_count": 7,
   "id": "1f9f9978",
   "metadata": {
    "deletable": false,
    "id": "85a5faf6",
    "outputId": "801ef80e-522b-4668-f34e-565af7432bcf"
   },
   "outputs": [
    {
     "data": {
      "text/plain": [
       "income_type\n",
       "безработный        366413.652744\n",
       "в декрете            3296.759962\n",
       "госслужащий          2689.368353\n",
       "компаньон            1547.382223\n",
       "пенсионер          365213.306266\n",
       "предприниматель       520.848083\n",
       "сотрудник            1574.202821\n",
       "студент               578.751554\n",
       "Name: days_employed, dtype: float64"
      ]
     },
     "execution_count": 7,
     "metadata": {},
     "output_type": "execute_result"
    }
   ],
   "source": [
    "data.groupby('income_type')['days_employed'].agg('median')"
   ]
  },
  {
   "cell_type": "markdown",
   "id": "64c0edbe",
   "metadata": {
    "deletable": false,
    "editable": false,
    "id": "38d1a030"
   },
   "source": [
    "У двух типов (безработные и пенсионеры) получатся аномально большие значения. Исправить такие значения сложно, поэтому оставьте их как есть. Тем более этот столбец не понадобится вам для исследования."
   ]
  },
  {
   "cell_type": "markdown",
   "id": "ca2a7404",
   "metadata": {
    "deletable": false,
    "editable": false,
    "id": "d8a9f147"
   },
   "source": [
    "**Задание 8. Выведите перечень уникальных значений столбца `children`.**"
   ]
  },
  {
   "cell_type": "code",
   "execution_count": 8,
   "id": "e841a17f",
   "metadata": {
    "deletable": false,
    "id": "ef5056eb",
    "outputId": "6975b15c-7f95-4697-d16d-a0c79b657b03"
   },
   "outputs": [
    {
     "data": {
      "text/plain": [
       "array([ 1,  0,  3,  2, -1,  4, 20,  5])"
      ]
     },
     "execution_count": 8,
     "metadata": {},
     "output_type": "execute_result"
    }
   ],
   "source": [
    "data['children'].unique()"
   ]
  },
  {
   "cell_type": "markdown",
   "id": "728bbb86",
   "metadata": {
    "deletable": false,
    "editable": false,
    "id": "40b9ebf2"
   },
   "source": [
    "**Задание 9. В столбце `children` есть два аномальных значения. Удалите строки, в которых встречаются такие аномальные значения из датафрейма `data`.**"
   ]
  },
  {
   "cell_type": "code",
   "execution_count": 9,
   "id": "9f3169fb",
   "metadata": {
    "deletable": false,
    "id": "3ff9801d"
   },
   "outputs": [],
   "source": [
    "data = data[(data['children'] != -1) & (data['children'] != 20)]"
   ]
  },
  {
   "cell_type": "markdown",
   "id": "d41b0348",
   "metadata": {
    "deletable": false,
    "editable": false,
    "id": "bbc4d0ce"
   },
   "source": [
    "**Задание 10. Ещё раз выведите перечень уникальных значений столбца `children`, чтобы убедиться, что артефакты удалены.**"
   ]
  },
  {
   "cell_type": "code",
   "execution_count": 10,
   "id": "280cdb97",
   "metadata": {
    "deletable": false,
    "id": "ad4fa8b7",
    "outputId": "b2097101-d49d-44d9-901b-32a65c9463d1"
   },
   "outputs": [
    {
     "data": {
      "text/plain": [
       "array([1, 0, 3, 2, 4, 5])"
      ]
     },
     "execution_count": 10,
     "metadata": {},
     "output_type": "execute_result"
    }
   ],
   "source": [
    "data['children'].unique()"
   ]
  },
  {
   "cell_type": "markdown",
   "id": "f85f2984",
   "metadata": {
    "deletable": false,
    "editable": false,
    "id": "75440b63"
   },
   "source": [
    "### Удаление пропусков (продолжение)"
   ]
  },
  {
   "cell_type": "markdown",
   "id": "6f05d2fd",
   "metadata": {
    "deletable": false,
    "editable": false,
    "id": "f4ea573f"
   },
   "source": [
    "**Задание 11. Заполните пропуски в столбце `days_employed` медианными значениями по каждого типа занятости `income_type`.**"
   ]
  },
  {
   "cell_type": "code",
   "execution_count": 11,
   "id": "071e5c63",
   "metadata": {
    "deletable": false,
    "id": "af6b1a7e"
   },
   "outputs": [],
   "source": [
    "for t in data['income_type'].unique():\n",
    "    data.loc[(data['income_type'] == t) & (data['days_employed'].isna()), 'days_employed'] = \\\n",
    "    data.loc[(data['income_type'] == t), 'days_employed'].median()"
   ]
  },
  {
   "cell_type": "markdown",
   "id": "c17ab0b8",
   "metadata": {
    "deletable": false,
    "editable": false,
    "id": "2753f40d"
   },
   "source": [
    "**Задание 12. Убедитесь, что все пропуски заполнены. Проверьте себя и ещё раз выведите количество пропущенных значений для каждого столбца с помощью двух методов.**"
   ]
  },
  {
   "cell_type": "code",
   "execution_count": 12,
   "id": "e39c2148",
   "metadata": {
    "deletable": false,
    "id": "55f78bc2",
    "outputId": "8da1e4e1-358e-4e87-98c9-f261bce0a7b2"
   },
   "outputs": [
    {
     "data": {
      "text/plain": [
       "children            0\n",
       "days_employed       0\n",
       "dob_years           0\n",
       "education           0\n",
       "education_id        0\n",
       "family_status       0\n",
       "family_status_id    0\n",
       "gender              0\n",
       "income_type         0\n",
       "debt                0\n",
       "total_income        0\n",
       "purpose             0\n",
       "dtype: int64"
      ]
     },
     "execution_count": 12,
     "metadata": {},
     "output_type": "execute_result"
    }
   ],
   "source": [
    "data.isna().sum()"
   ]
  },
  {
   "cell_type": "markdown",
   "id": "2565022f",
   "metadata": {
    "deletable": false,
    "editable": false,
    "id": "ddc81e43"
   },
   "source": [
    "### Изменение типов данных"
   ]
  },
  {
   "cell_type": "markdown",
   "id": "cd13a4cd",
   "metadata": {
    "deletable": false,
    "editable": false,
    "id": "42d19d24"
   },
   "source": [
    "**Задание 13. Замените вещественный тип данных в столбце `total_income` на целочисленный с помощью метода `astype()`.**"
   ]
  },
  {
   "cell_type": "code",
   "execution_count": 13,
   "id": "ad49381e",
   "metadata": {
    "deletable": false,
    "id": "920b65ad"
   },
   "outputs": [],
   "source": [
    "data['total_income'] = data['total_income'].astype(int)"
   ]
  },
  {
   "cell_type": "markdown",
   "id": "591efee4",
   "metadata": {
    "deletable": false,
    "editable": false,
    "id": "80c420ba"
   },
   "source": [
    "### Обработка дубликатов"
   ]
  },
  {
   "cell_type": "markdown",
   "id": "a1e75924",
   "metadata": {
    "deletable": false,
    "editable": false
   },
   "source": [
    "**Задание 14. Обработайте неявные дубликаты в столбце `education`. В этом столбце есть одни и те же значения, но записанные по-разному: с использованием заглавных и строчных букв. Приведите их к нижнему регистру. Проверьте остальные столбцы.**"
   ]
  },
  {
   "cell_type": "code",
   "execution_count": 14,
   "id": "840d3d9a",
   "metadata": {
    "deletable": false
   },
   "outputs": [],
   "source": [
    "data['education'] = data['education'].str.lower()"
   ]
  },
  {
   "cell_type": "markdown",
   "id": "3156b056",
   "metadata": {
    "deletable": false,
    "editable": false,
    "id": "dc587695"
   },
   "source": [
    "**Задание 15. Выведите на экран количество строк-дубликатов в данных. Если такие строки присутствуют, удалите их.**"
   ]
  },
  {
   "cell_type": "code",
   "execution_count": 15,
   "id": "c599c9cf",
   "metadata": {
    "deletable": false,
    "id": "3ee445e4",
    "outputId": "9684deba-1934-42d1-99e1-cda61740f822"
   },
   "outputs": [
    {
     "data": {
      "text/plain": [
       "71"
      ]
     },
     "execution_count": 15,
     "metadata": {},
     "output_type": "execute_result"
    }
   ],
   "source": [
    "data.duplicated().sum()"
   ]
  },
  {
   "cell_type": "code",
   "execution_count": 16,
   "id": "633d31f9",
   "metadata": {
    "deletable": false,
    "id": "8575fe05"
   },
   "outputs": [],
   "source": [
    "data = data.drop_duplicates()"
   ]
  },
  {
   "cell_type": "markdown",
   "id": "f29b9aff",
   "metadata": {
    "deletable": false,
    "editable": false,
    "id": "9904cf55"
   },
   "source": [
    "### Категоризация данных"
   ]
  },
  {
   "cell_type": "markdown",
   "id": "e1e00546",
   "metadata": {
    "deletable": false,
    "editable": false,
    "id": "72fcc8a2"
   },
   "source": [
    "**Задание 16. На основании диапазонов, указанных ниже, создайте в датафрейме `data` столбец `total_income_category` с категориями:**\n",
    "\n",
    "- 0–30000 — `'E'`;\n",
    "- 30001–50000 — `'D'`;\n",
    "- 50001–200000 — `'C'`;\n",
    "- 200001–1000000 — `'B'`;\n",
    "- 1000001 и выше — `'A'`.\n",
    "\n",
    "\n",
    "**Например, кредитополучателю с доходом 25000 нужно назначить категорию `'E'`, а клиенту, получающему 235000, — `'B'`. Используйте собственную функцию с именем `categorize_income()` и метод `apply()`.**"
   ]
  },
  {
   "cell_type": "code",
   "execution_count": 17,
   "id": "9fafacdc",
   "metadata": {
    "deletable": false,
    "id": "e1771346"
   },
   "outputs": [],
   "source": [
    "def categorize_income(income):\n",
    "    try:\n",
    "        if 0 <= income <= 30000:\n",
    "            return 'E'\n",
    "        elif 30001 <= income <= 50000:\n",
    "            return 'D'\n",
    "        elif 50001 <= income <= 200000:\n",
    "            return 'C'\n",
    "        elif 200001 <= income <= 1000000:\n",
    "            return 'B'\n",
    "        elif income >= 1000001:\n",
    "            return 'A'\n",
    "    except:\n",
    "        pass"
   ]
  },
  {
   "cell_type": "code",
   "execution_count": 18,
   "id": "2311507e",
   "metadata": {
    "deletable": false,
    "id": "d5f3586d"
   },
   "outputs": [],
   "source": [
    "data['total_income_category'] = data['total_income'].apply(categorize_income)"
   ]
  },
  {
   "cell_type": "markdown",
   "id": "6d398cba",
   "metadata": {
    "deletable": false,
    "editable": false,
    "id": "dde49b5c"
   },
   "source": [
    "**Задание 17. Выведите на экран перечень уникальных целей взятия кредита из столбца `purpose`.**"
   ]
  },
  {
   "cell_type": "code",
   "execution_count": 19,
   "id": "d595d38b",
   "metadata": {
    "deletable": false,
    "id": "f67ce9b3",
    "outputId": "673c12d9-7d7e-4ae0-9812-c622c89dd244"
   },
   "outputs": [
    {
     "data": {
      "text/plain": [
       "array(['покупка жилья', 'приобретение автомобиля',\n",
       "       'дополнительное образование', 'сыграть свадьбу',\n",
       "       'операции с жильем', 'образование', 'на проведение свадьбы',\n",
       "       'покупка жилья для семьи', 'покупка недвижимости',\n",
       "       'покупка коммерческой недвижимости', 'покупка жилой недвижимости',\n",
       "       'строительство собственной недвижимости', 'недвижимость',\n",
       "       'строительство недвижимости', 'на покупку подержанного автомобиля',\n",
       "       'на покупку своего автомобиля',\n",
       "       'операции с коммерческой недвижимостью',\n",
       "       'строительство жилой недвижимости', 'жилье',\n",
       "       'операции со своей недвижимостью', 'автомобили',\n",
       "       'заняться образованием', 'сделка с подержанным автомобилем',\n",
       "       'получение образования', 'автомобиль', 'свадьба',\n",
       "       'получение дополнительного образования', 'покупка своего жилья',\n",
       "       'операции с недвижимостью', 'получение высшего образования',\n",
       "       'свой автомобиль', 'сделка с автомобилем',\n",
       "       'профильное образование', 'высшее образование',\n",
       "       'покупка жилья для сдачи', 'на покупку автомобиля', 'ремонт жилью',\n",
       "       'заняться высшим образованием'], dtype=object)"
      ]
     },
     "execution_count": 19,
     "metadata": {},
     "output_type": "execute_result"
    }
   ],
   "source": [
    "data['purpose'].unique()"
   ]
  },
  {
   "cell_type": "markdown",
   "id": "dd0fcd50",
   "metadata": {
    "deletable": false,
    "editable": false,
    "id": "85d0aef0"
   },
   "source": [
    "**Задание 18. Создайте функцию, которая на основании данных из столбца `purpose` сформирует новый столбец `purpose_category`, в который войдут следующие категории:**\n",
    "\n",
    "- `'операции с автомобилем'`,\n",
    "- `'операции с недвижимостью'`,\n",
    "- `'проведение свадьбы'`,\n",
    "- `'получение образования'`.\n",
    "\n",
    "**Например, если в столбце `purpose` находится подстрока `'на покупку автомобиля'`, то в столбце `purpose_category` должна появиться строка `'операции с автомобилем'`.**\n",
    "\n",
    "**Используйте собственную функцию с именем `categorize_purpose()` и метод `apply()`. Изучите данные в столбце `purpose` и определите, какие подстроки помогут вам правильно определить категорию.**"
   ]
  },
  {
   "cell_type": "code",
   "execution_count": 20,
   "id": "5ce46128",
   "metadata": {
    "deletable": false,
    "id": "e149fab4"
   },
   "outputs": [],
   "source": [
    "def categorize_purpose(row):\n",
    "    try:\n",
    "        if 'автом' in row:\n",
    "            return 'операции с автомобилем'\n",
    "        elif 'жил' in row or 'недвиж' in row:\n",
    "            return 'операции с недвижимостью'\n",
    "        elif 'свад' in row:\n",
    "            return 'проведение свадьбы'\n",
    "        elif 'образов' in row:\n",
    "            return 'получение образования'\n",
    "    except:\n",
    "        return 'нет категории'"
   ]
  },
  {
   "cell_type": "code",
   "execution_count": 21,
   "id": "61c28f7a",
   "metadata": {
    "deletable": false,
    "id": "bf36e69b"
   },
   "outputs": [],
   "source": [
    "data['purpose_category'] = data['purpose'].apply(categorize_purpose)"
   ]
  },
  {
   "cell_type": "markdown",
   "id": "e608e035",
   "metadata": {
    "deletable": false,
    "editable": false,
    "id": "09b242bf"
   },
   "source": [
    "### Шаг 3. Исследуйте данные и ответьте на вопросы"
   ]
  },
  {
   "cell_type": "markdown",
   "id": "7e4490c9",
   "metadata": {
    "deletable": false,
    "editable": false,
    "id": "c5d66278"
   },
   "source": [
    "#### 3.1 Есть ли зависимость между количеством детей и возвратом кредита в срок?"
   ]
  },
  {
   "cell_type": "code",
   "execution_count": 22,
   "id": "7ca6d31b",
   "metadata": {
    "deletable": false,
    "id": "2cacfc4a",
    "scrolled": false
   },
   "outputs": [],
   "source": []
  },
  {
   "cell_type": "code",
   "execution_count": 23,
   "id": "5660a70e",
   "metadata": {
    "scrolled": false
   },
   "outputs": [
    {
     "data": {
      "text/html": [
       "<style  type=\"text/css\" >\n",
       "#T_e7b48_row0_col0,#T_e7b48_row0_col1,#T_e7b48_row0_col2,#T_e7b48_row5_col0,#T_e7b48_row5_col1{\n",
       "            background-color:  #f7fbff;\n",
       "            color:  #000000;\n",
       "        }#T_e7b48_row1_col0,#T_e7b48_row1_col1,#T_e7b48_row5_col2{\n",
       "            background-color:  #08306b;\n",
       "            color:  #f1f1f1;\n",
       "        }#T_e7b48_row1_col2{\n",
       "            background-color:  #1c6bb0;\n",
       "            color:  #f1f1f1;\n",
       "        }#T_e7b48_row2_col0{\n",
       "            background-color:  #f3f8fe;\n",
       "            color:  #000000;\n",
       "        }#T_e7b48_row2_col1{\n",
       "            background-color:  #f2f8fd;\n",
       "            color:  #000000;\n",
       "        }#T_e7b48_row2_col2{\n",
       "            background-color:  #0f5aa3;\n",
       "            color:  #f1f1f1;\n",
       "        }#T_e7b48_row3_col0{\n",
       "            background-color:  #a9cfe5;\n",
       "            color:  #000000;\n",
       "        }#T_e7b48_row3_col1{\n",
       "            background-color:  #8dc1dd;\n",
       "            color:  #000000;\n",
       "        }#T_e7b48_row3_col2{\n",
       "            background-color:  #083d7f;\n",
       "            color:  #f1f1f1;\n",
       "        }#T_e7b48_row4_col0{\n",
       "            background-color:  #dae8f6;\n",
       "            color:  #000000;\n",
       "        }#T_e7b48_row4_col1{\n",
       "            background-color:  #d3e4f3;\n",
       "            color:  #000000;\n",
       "        }#T_e7b48_row4_col2{\n",
       "            background-color:  #083776;\n",
       "            color:  #f1f1f1;\n",
       "        }</style><table id=\"T_e7b48_\" ><thead>    <tr>        <th class=\"blank level0\" ></th>        <th class=\"col_heading level0 col0\" >Всего кредитополучателей</th>        <th class=\"col_heading level0 col1\" >Всего должников</th>        <th class=\"col_heading level0 col2\" >Доля должников</th>    </tr>    <tr>        <th class=\"index_name level0\" >children</th>        <th class=\"blank\" ></th>        <th class=\"blank\" ></th>        <th class=\"blank\" ></th>    </tr></thead><tbody>\n",
       "                <tr>\n",
       "                        <th id=\"T_e7b48_level0_row0\" class=\"row_heading level0 row0\" >5</th>\n",
       "                        <td id=\"T_e7b48_row0_col0\" class=\"data row0 col0\" >9.000</td>\n",
       "                        <td id=\"T_e7b48_row0_col1\" class=\"data row0 col1\" >0.000</td>\n",
       "                        <td id=\"T_e7b48_row0_col2\" class=\"data row0 col2\" >0.000</td>\n",
       "            </tr>\n",
       "            <tr>\n",
       "                        <th id=\"T_e7b48_level0_row1\" class=\"row_heading level0 row1\" >0</th>\n",
       "                        <td id=\"T_e7b48_row1_col0\" class=\"data row1 col0\" >14091.000</td>\n",
       "                        <td id=\"T_e7b48_row1_col1\" class=\"data row1 col1\" >1063.000</td>\n",
       "                        <td id=\"T_e7b48_row1_col2\" class=\"data row1 col2\" >0.075</td>\n",
       "            </tr>\n",
       "            <tr>\n",
       "                        <th id=\"T_e7b48_level0_row2\" class=\"row_heading level0 row2\" >3</th>\n",
       "                        <td id=\"T_e7b48_row2_col0\" class=\"data row2 col0\" >330.000</td>\n",
       "                        <td id=\"T_e7b48_row2_col1\" class=\"data row2 col1\" >27.000</td>\n",
       "                        <td id=\"T_e7b48_row2_col2\" class=\"data row2 col2\" >0.082</td>\n",
       "            </tr>\n",
       "            <tr>\n",
       "                        <th id=\"T_e7b48_level0_row3\" class=\"row_heading level0 row3\" >1</th>\n",
       "                        <td id=\"T_e7b48_row3_col0\" class=\"data row3 col0\" >4808.000</td>\n",
       "                        <td id=\"T_e7b48_row3_col1\" class=\"data row3 col1\" >444.000</td>\n",
       "                        <td id=\"T_e7b48_row3_col2\" class=\"data row3 col2\" >0.092</td>\n",
       "            </tr>\n",
       "            <tr>\n",
       "                        <th id=\"T_e7b48_level0_row4\" class=\"row_heading level0 row4\" >2</th>\n",
       "                        <td id=\"T_e7b48_row4_col0\" class=\"data row4 col0\" >2052.000</td>\n",
       "                        <td id=\"T_e7b48_row4_col1\" class=\"data row4 col1\" >194.000</td>\n",
       "                        <td id=\"T_e7b48_row4_col2\" class=\"data row4 col2\" >0.095</td>\n",
       "            </tr>\n",
       "            <tr>\n",
       "                        <th id=\"T_e7b48_level0_row5\" class=\"row_heading level0 row5\" >4</th>\n",
       "                        <td id=\"T_e7b48_row5_col0\" class=\"data row5 col0\" >41.000</td>\n",
       "                        <td id=\"T_e7b48_row5_col1\" class=\"data row5 col1\" >4.000</td>\n",
       "                        <td id=\"T_e7b48_row5_col2\" class=\"data row5 col2\" >0.098</td>\n",
       "            </tr>\n",
       "    </tbody></table>"
      ],
      "text/plain": [
       "<pandas.io.formats.style.Styler at 0x7f5a2ef9c520>"
      ]
     },
     "metadata": {},
     "output_type": "display_data"
    }
   ],
   "source": [
    "# Комментарий ревьюера\n",
    "# Создаем копию датасета, что бы не работать с исходным\n",
    "temp = data.copy()\n",
    "# Напишем функцию, так как все задачи аналогичны\n",
    "def que(category):\n",
    "    data_temp = temp.pivot_table(index=category, values='debt', aggfunc=['count', 'sum', 'mean'])\n",
    "    data_temp.columns = ['Всего кредитополучателей', 'Всего должников', 'Доля должников']\n",
    "    data_temp = data_temp.sort_values(by='Доля должников', ascending=True)\n",
    "    # Оформим таблицу цветным градиентом, но можно ее вывести и просто display(data_temp)\n",
    "    display(data_temp.style.format(\"{:.3f}\").background_gradient(cmap='Blues', axis=0))\n",
    "    \n",
    "que('children')"
   ]
  },
  {
   "cell_type": "markdown",
   "id": "880f26f7",
   "metadata": {
    "deletable": false,
    "id": "3a6b99ec"
   },
   "source": [
    "**Вывод:** \n",
    "Есть небольшая корреляция между возвратом кредита и кол-вом детей.\n",
    "1. У семей с 0, 3 и 5 детей меньше всего просрочки по кредитам. У первых нет трат на детей и они могут вернуть кредит в срок, семьи с 3 - мя детьми более ответственны, а с 5-ю по всей видимости достаточно богаты\n",
    "2. Семьи с 1-2 детьми имеют почти одинаковую просрочку.\n",
    "3. Семьи с 4 имеют самый большой показатель невозврата кредита, скорее всего из-за больших проблем с финансами\n",
    "\n",
    "\n"
   ]
  },
  {
   "cell_type": "markdown",
   "id": "85dcb83f",
   "metadata": {
    "deletable": false,
    "editable": false,
    "id": "97be82ca"
   },
   "source": [
    "#### 3.2 Есть ли зависимость между семейным положением и возвратом кредита в срок?"
   ]
  },
  {
   "cell_type": "code",
   "execution_count": 24,
   "id": "d5e2a59c",
   "metadata": {
    "deletable": false,
    "id": "dc3f7ee8"
   },
   "outputs": [
    {
     "data": {
      "text/html": [
       "<style  type=\"text/css\" >\n",
       "#T_0db42_row0_col0,#T_0db42_row0_col1,#T_0db42_row0_col2{\n",
       "            background-color:  #f7fbff;\n",
       "            color:  #000000;\n",
       "        }#T_0db42_row1_col0{\n",
       "            background-color:  #f3f8fe;\n",
       "            color:  #000000;\n",
       "        }#T_0db42_row1_col1{\n",
       "            background-color:  #f2f8fd;\n",
       "            color:  #000000;\n",
       "        }#T_0db42_row1_col2{\n",
       "            background-color:  #dce9f6;\n",
       "            color:  #000000;\n",
       "        }#T_0db42_row2_col0,#T_0db42_row2_col1,#T_0db42_row4_col2{\n",
       "            background-color:  #08306b;\n",
       "            color:  #f1f1f1;\n",
       "        }#T_0db42_row2_col2{\n",
       "            background-color:  #b7d4ea;\n",
       "            color:  #000000;\n",
       "        }#T_0db42_row3_col0{\n",
       "            background-color:  #bcd7eb;\n",
       "            color:  #000000;\n",
       "        }#T_0db42_row3_col1{\n",
       "            background-color:  #9fcae1;\n",
       "            color:  #000000;\n",
       "        }#T_0db42_row3_col2{\n",
       "            background-color:  #0b559f;\n",
       "            color:  #f1f1f1;\n",
       "        }#T_0db42_row4_col0{\n",
       "            background-color:  #d7e6f5;\n",
       "            color:  #000000;\n",
       "        }#T_0db42_row4_col1{\n",
       "            background-color:  #c7dcef;\n",
       "            color:  #000000;\n",
       "        }</style><table id=\"T_0db42_\" ><thead>    <tr>        <th class=\"blank level0\" ></th>        <th class=\"col_heading level0 col0\" >Всего кредитополучателей</th>        <th class=\"col_heading level0 col1\" >Всего должников</th>        <th class=\"col_heading level0 col2\" >Доля должников</th>    </tr>    <tr>        <th class=\"index_name level0\" >family_status</th>        <th class=\"blank\" ></th>        <th class=\"blank\" ></th>        <th class=\"blank\" ></th>    </tr></thead><tbody>\n",
       "                <tr>\n",
       "                        <th id=\"T_0db42_level0_row0\" class=\"row_heading level0 row0\" >вдовец / вдова</th>\n",
       "                        <td id=\"T_0db42_row0_col0\" class=\"data row0 col0\" >951.000</td>\n",
       "                        <td id=\"T_0db42_row0_col1\" class=\"data row0 col1\" >63.000</td>\n",
       "                        <td id=\"T_0db42_row0_col2\" class=\"data row0 col2\" >0.066</td>\n",
       "            </tr>\n",
       "            <tr>\n",
       "                        <th id=\"T_0db42_level0_row1\" class=\"row_heading level0 row1\" >в разводе</th>\n",
       "                        <td id=\"T_0db42_row1_col0\" class=\"data row1 col0\" >1189.000</td>\n",
       "                        <td id=\"T_0db42_row1_col1\" class=\"data row1 col1\" >84.000</td>\n",
       "                        <td id=\"T_0db42_row1_col2\" class=\"data row1 col2\" >0.071</td>\n",
       "            </tr>\n",
       "            <tr>\n",
       "                        <th id=\"T_0db42_level0_row2\" class=\"row_heading level0 row2\" >женат / замужем</th>\n",
       "                        <td id=\"T_0db42_row2_col0\" class=\"data row2 col0\" >12261.000</td>\n",
       "                        <td id=\"T_0db42_row2_col1\" class=\"data row2 col1\" >927.000</td>\n",
       "                        <td id=\"T_0db42_row2_col2\" class=\"data row2 col2\" >0.076</td>\n",
       "            </tr>\n",
       "            <tr>\n",
       "                        <th id=\"T_0db42_level0_row3\" class=\"row_heading level0 row3\" >гражданский брак</th>\n",
       "                        <td id=\"T_0db42_row3_col0\" class=\"data row3 col0\" >4134.000</td>\n",
       "                        <td id=\"T_0db42_row3_col1\" class=\"data row3 col1\" >385.000</td>\n",
       "                        <td id=\"T_0db42_row3_col2\" class=\"data row3 col2\" >0.093</td>\n",
       "            </tr>\n",
       "            <tr>\n",
       "                        <th id=\"T_0db42_level0_row4\" class=\"row_heading level0 row4\" >Не женат / не замужем</th>\n",
       "                        <td id=\"T_0db42_row4_col0\" class=\"data row4 col0\" >2796.000</td>\n",
       "                        <td id=\"T_0db42_row4_col1\" class=\"data row4 col1\" >273.000</td>\n",
       "                        <td id=\"T_0db42_row4_col2\" class=\"data row4 col2\" >0.098</td>\n",
       "            </tr>\n",
       "    </tbody></table>"
      ],
      "text/plain": [
       "<pandas.io.formats.style.Styler at 0x7f5a2ef9cfd0>"
      ]
     },
     "metadata": {},
     "output_type": "display_data"
    }
   ],
   "source": [
    "#data.head()\n",
    "que('family_status')\n",
    "\n",
    "# Ваш код будет здесь. Вы можете создавать новые ячейки."
   ]
  },
  {
   "cell_type": "markdown",
   "id": "593b56e0",
   "metadata": {
    "deletable": false,
    "id": "1cef7837"
   },
   "source": [
    "**Вывод:** \n",
    "1. Наибольшая вероятность возврата кредита в срок у людей, ранее бывших в браке. Причинами скорее всего может быть: возвраст и хорошее финансовое положение ввиду возраста.\n",
    "2. Среднюю вероятность возврата имеют люди в браке. У них имеются дети и финансовые трудности.\n",
    "3. Люди не состоящие в браке имеют наименьшую вероятность возврата кредита. Причины: дети, молодой возвраст => недостаточный доход.\n",
    " \n",
    " "
   ]
  },
  {
   "cell_type": "markdown",
   "id": "1288a80c",
   "metadata": {
    "deletable": false,
    "editable": false,
    "id": "1e8b2fca"
   },
   "source": [
    "#### 3.3 Есть ли зависимость между уровнем дохода и возвратом кредита в срок?"
   ]
  },
  {
   "cell_type": "code",
   "execution_count": 25,
   "id": "b49b4f0a",
   "metadata": {
    "deletable": false,
    "id": "cd7e3720",
    "scrolled": true
   },
   "outputs": [
    {
     "data": {
      "text/html": [
       "<style  type=\"text/css\" >\n",
       "#T_fd3ce_row0_col0{\n",
       "            background-color:  #f3f8fe;\n",
       "            color:  #000000;\n",
       "        }#T_fd3ce_row0_col1{\n",
       "            background-color:  #f5f9fe;\n",
       "            color:  #000000;\n",
       "        }#T_fd3ce_row0_col2,#T_fd3ce_row2_col0,#T_fd3ce_row2_col1,#T_fd3ce_row4_col0,#T_fd3ce_row4_col1{\n",
       "            background-color:  #f7fbff;\n",
       "            color:  #000000;\n",
       "        }#T_fd3ce_row1_col0{\n",
       "            background-color:  #b2d2e8;\n",
       "            color:  #000000;\n",
       "        }#T_fd3ce_row1_col1{\n",
       "            background-color:  #c3daee;\n",
       "            color:  #000000;\n",
       "        }#T_fd3ce_row1_col2{\n",
       "            background-color:  #aacfe5;\n",
       "            color:  #000000;\n",
       "        }#T_fd3ce_row2_col2{\n",
       "            background-color:  #3c8cc3;\n",
       "            color:  #000000;\n",
       "        }#T_fd3ce_row3_col0,#T_fd3ce_row3_col1,#T_fd3ce_row4_col2{\n",
       "            background-color:  #08306b;\n",
       "            color:  #f1f1f1;\n",
       "        }#T_fd3ce_row3_col2{\n",
       "            background-color:  #1562a9;\n",
       "            color:  #f1f1f1;\n",
       "        }</style><table id=\"T_fd3ce_\" ><thead>    <tr>        <th class=\"blank level0\" ></th>        <th class=\"col_heading level0 col0\" >Всего кредитополучателей</th>        <th class=\"col_heading level0 col1\" >Всего должников</th>        <th class=\"col_heading level0 col2\" >Доля должников</th>    </tr>    <tr>        <th class=\"index_name level0\" >total_income_category</th>        <th class=\"blank\" ></th>        <th class=\"blank\" ></th>        <th class=\"blank\" ></th>    </tr></thead><tbody>\n",
       "                <tr>\n",
       "                        <th id=\"T_fd3ce_level0_row0\" class=\"row_heading level0 row0\" >D</th>\n",
       "                        <td id=\"T_fd3ce_row0_col0\" class=\"data row0 col0\" >349.000</td>\n",
       "                        <td id=\"T_fd3ce_row0_col1\" class=\"data row0 col1\" >21.000</td>\n",
       "                        <td id=\"T_fd3ce_row0_col2\" class=\"data row0 col2\" >0.060</td>\n",
       "            </tr>\n",
       "            <tr>\n",
       "                        <th id=\"T_fd3ce_level0_row1\" class=\"row_heading level0 row1\" >B</th>\n",
       "                        <td id=\"T_fd3ce_row1_col0\" class=\"data row1 col0\" >5014.000</td>\n",
       "                        <td id=\"T_fd3ce_row1_col1\" class=\"data row1 col1\" >354.000</td>\n",
       "                        <td id=\"T_fd3ce_row1_col2\" class=\"data row1 col2\" >0.071</td>\n",
       "            </tr>\n",
       "            <tr>\n",
       "                        <th id=\"T_fd3ce_level0_row2\" class=\"row_heading level0 row2\" >A</th>\n",
       "                        <td id=\"T_fd3ce_row2_col0\" class=\"data row2 col0\" >25.000</td>\n",
       "                        <td id=\"T_fd3ce_row2_col1\" class=\"data row2 col1\" >2.000</td>\n",
       "                        <td id=\"T_fd3ce_row2_col2\" class=\"data row2 col2\" >0.080</td>\n",
       "            </tr>\n",
       "            <tr>\n",
       "                        <th id=\"T_fd3ce_level0_row3\" class=\"row_heading level0 row3\" >C</th>\n",
       "                        <td id=\"T_fd3ce_row3_col0\" class=\"data row3 col0\" >15921.000</td>\n",
       "                        <td id=\"T_fd3ce_row3_col1\" class=\"data row3 col1\" >1353.000</td>\n",
       "                        <td id=\"T_fd3ce_row3_col2\" class=\"data row3 col2\" >0.085</td>\n",
       "            </tr>\n",
       "            <tr>\n",
       "                        <th id=\"T_fd3ce_level0_row4\" class=\"row_heading level0 row4\" >E</th>\n",
       "                        <td id=\"T_fd3ce_row4_col0\" class=\"data row4 col0\" >22.000</td>\n",
       "                        <td id=\"T_fd3ce_row4_col1\" class=\"data row4 col1\" >2.000</td>\n",
       "                        <td id=\"T_fd3ce_row4_col2\" class=\"data row4 col2\" >0.091</td>\n",
       "            </tr>\n",
       "    </tbody></table>"
      ],
      "text/plain": [
       "<pandas.io.formats.style.Styler at 0x7f5a2ef9cb80>"
      ]
     },
     "metadata": {},
     "output_type": "display_data"
    }
   ],
   "source": [
    "que('total_income_category')\n",
    "\n",
    "# Ваш код будет здесь. Вы можете создавать новые ячейки."
   ]
  },
  {
   "cell_type": "markdown",
   "id": "70418dfa",
   "metadata": {
    "deletable": false,
    "id": "e8593def"
   },
   "source": [
    "**Вывод:** \n",
    "1. Больше всего возвращают люди с доходом от 30 до 50 тысяч\n",
    "2. Люди с доходом от 500 до 1000 тысяч также имеют низкую долю просрочки по кредиту. Хороший доход и ответственность позваляют также вернуть кредит\n",
    "3. Люди со среднем достатком (от 50 до 200 тысяч) с большой долей вероятности не вернут кредит.\n",
    "4. Люди с наименьшем доходом реже всех вернут кредит"
   ]
  },
  {
   "cell_type": "code",
   "execution_count": 29,
   "id": "a7c51f1b",
   "metadata": {},
   "outputs": [
    {
     "data": {
      "text/html": [
       "<style  type=\"text/css\" >\n",
       "#T_024db_row0_col0{\n",
       "            background-color:  #69add5;\n",
       "            color:  #000000;\n",
       "        }#T_024db_row0_col1{\n",
       "            background-color:  #5da5d1;\n",
       "            color:  #000000;\n",
       "        }#T_024db_row0_col2{\n",
       "            background-color:  #58a1cf;\n",
       "            color:  #000000;\n",
       "        }#T_024db_row1_col0,#T_024db_row1_col1,#T_024db_row1_col2{\n",
       "            background-color:  #08306b;\n",
       "            color:  #f1f1f1;\n",
       "        }#T_024db_row2_col0,#T_024db_row2_col1,#T_024db_row2_col2{\n",
       "            background-color:  #f7fbff;\n",
       "            color:  #000000;\n",
       "        }</style><table id=\"T_024db_\" ><thead>    <tr>        <th class=\"blank level0\" ></th>        <th class=\"col_heading level0 col0\" >Всего кредитополучателей</th>        <th class=\"col_heading level0 col1\" >Всего должников</th>        <th class=\"col_heading level0 col2\" >Доля должников</th>    </tr>    <tr>        <th class=\"index_name level0\" >new_category</th>        <th class=\"blank\" ></th>        <th class=\"blank\" ></th>        <th class=\"blank\" ></th>    </tr></thead><tbody>\n",
       "                <tr>\n",
       "                        <th id=\"T_024db_level0_row0\" class=\"row_heading level0 row0\" >(20666.0, 119218.0]</th>\n",
       "                        <td id=\"T_024db_row0_col0\" class=\"data row0 col0\" >7111.000</td>\n",
       "                        <td id=\"T_024db_row0_col1\" class=\"data row0 col1\" >580.000</td>\n",
       "                        <td id=\"T_024db_row0_col2\" class=\"data row0 col2\" >0.082</td>\n",
       "            </tr>\n",
       "            <tr>\n",
       "                        <th id=\"T_024db_level0_row1\" class=\"row_heading level0 row1\" >(119218.0, 172357.0]</th>\n",
       "                        <td id=\"T_024db_row1_col0\" class=\"data row1 col0\" >7238.000</td>\n",
       "                        <td id=\"T_024db_row1_col1\" class=\"data row1 col1\" >627.000</td>\n",
       "                        <td id=\"T_024db_row1_col2\" class=\"data row1 col2\" >0.087</td>\n",
       "            </tr>\n",
       "            <tr>\n",
       "                        <th id=\"T_024db_level0_row2\" class=\"row_heading level0 row2\" >(172357.0, 2265604.0]</th>\n",
       "                        <td id=\"T_024db_row2_col0\" class=\"data row2 col0\" >6982.000</td>\n",
       "                        <td id=\"T_024db_row2_col1\" class=\"data row2 col1\" >525.000</td>\n",
       "                        <td id=\"T_024db_row2_col2\" class=\"data row2 col2\" >0.075</td>\n",
       "            </tr>\n",
       "    </tbody></table>"
      ],
      "text/plain": [
       "<pandas.io.formats.style.Styler at 0x7f5a2eff7850>"
      ]
     },
     "metadata": {},
     "output_type": "display_data"
    },
    {
     "data": {
      "text/html": [
       "<style  type=\"text/css\" >\n",
       "#T_d3cee_row0_col0{\n",
       "            background-color:  #6aaed6;\n",
       "            color:  #000000;\n",
       "        }#T_d3cee_row0_col1{\n",
       "            background-color:  #7ab6d9;\n",
       "            color:  #000000;\n",
       "        }#T_d3cee_row0_col2{\n",
       "            background-color:  #65aad4;\n",
       "            color:  #000000;\n",
       "        }#T_d3cee_row1_col0,#T_d3cee_row1_col1,#T_d3cee_row1_col2{\n",
       "            background-color:  #08306b;\n",
       "            color:  #f1f1f1;\n",
       "        }#T_d3cee_row2_col0,#T_d3cee_row3_col1,#T_d3cee_row3_col2{\n",
       "            background-color:  #f7fbff;\n",
       "            color:  #000000;\n",
       "        }#T_d3cee_row2_col1{\n",
       "            background-color:  #3f8fc5;\n",
       "            color:  #000000;\n",
       "        }#T_d3cee_row2_col2{\n",
       "            background-color:  #125ea6;\n",
       "            color:  #f1f1f1;\n",
       "        }#T_d3cee_row3_col0{\n",
       "            background-color:  #6dafd7;\n",
       "            color:  #000000;\n",
       "        }</style><table id=\"T_d3cee_\" ><thead>    <tr>        <th class=\"blank level0\" ></th>        <th class=\"col_heading level0 col0\" >Всего кредитополучателей</th>        <th class=\"col_heading level0 col1\" >Всего должников</th>        <th class=\"col_heading level0 col2\" >Доля должников</th>    </tr>    <tr>        <th class=\"index_name level0\" >new_category</th>        <th class=\"blank\" ></th>        <th class=\"blank\" ></th>        <th class=\"blank\" ></th>    </tr></thead><tbody>\n",
       "                <tr>\n",
       "                        <th id=\"T_d3cee_level0_row0\" class=\"row_heading level0 row0\" >(20666.0, 107507.0]</th>\n",
       "                        <td id=\"T_d3cee_row0_col0\" class=\"data row0 col0\" >5333.000</td>\n",
       "                        <td id=\"T_d3cee_row0_col1\" class=\"data row0 col1\" >427.000</td>\n",
       "                        <td id=\"T_d3cee_row0_col2\" class=\"data row0 col2\" >0.080</td>\n",
       "            </tr>\n",
       "            <tr>\n",
       "                        <th id=\"T_d3cee_level0_row1\" class=\"row_heading level0 row1\" >(107507.0, 142594.0]</th>\n",
       "                        <td id=\"T_d3cee_row1_col0\" class=\"data row1 col0\" >5450.000</td>\n",
       "                        <td id=\"T_d3cee_row1_col1\" class=\"data row1 col1\" >480.000</td>\n",
       "                        <td id=\"T_d3cee_row1_col2\" class=\"data row1 col2\" >0.088</td>\n",
       "            </tr>\n",
       "            <tr>\n",
       "                        <th id=\"T_d3cee_level0_row2\" class=\"row_heading level0 row2\" >(142594.0, 195842.0]</th>\n",
       "                        <td id=\"T_d3cee_row2_col0\" class=\"data row2 col0\" >5216.000</td>\n",
       "                        <td id=\"T_d3cee_row2_col1\" class=\"data row2 col1\" >444.000</td>\n",
       "                        <td id=\"T_d3cee_row2_col2\" class=\"data row2 col2\" >0.085</td>\n",
       "            </tr>\n",
       "            <tr>\n",
       "                        <th id=\"T_d3cee_level0_row3\" class=\"row_heading level0 row3\" >(195842.0, 2265604.0]</th>\n",
       "                        <td id=\"T_d3cee_row3_col0\" class=\"data row3 col0\" >5332.000</td>\n",
       "                        <td id=\"T_d3cee_row3_col1\" class=\"data row3 col1\" >381.000</td>\n",
       "                        <td id=\"T_d3cee_row3_col2\" class=\"data row3 col2\" >0.071</td>\n",
       "            </tr>\n",
       "    </tbody></table>"
      ],
      "text/plain": [
       "<pandas.io.formats.style.Styler at 0x7f59c4418f70>"
      ]
     },
     "metadata": {},
     "output_type": "display_data"
    },
    {
     "data": {
      "text/html": [
       "<style  type=\"text/css\" >\n",
       "#T_fb021_row0_col0,#T_fb021_row2_col1,#T_fb021_row2_col2{\n",
       "            background-color:  #08306b;\n",
       "            color:  #f1f1f1;\n",
       "        }#T_fb021_row0_col1,#T_fb021_row0_col2{\n",
       "            background-color:  #4896c8;\n",
       "            color:  #000000;\n",
       "        }#T_fb021_row1_col0,#T_fb021_row2_col0,#T_fb021_row3_col0,#T_fb021_row4_col0,#T_fb021_row4_col1,#T_fb021_row4_col2{\n",
       "            background-color:  #f7fbff;\n",
       "            color:  #000000;\n",
       "        }#T_fb021_row1_col1,#T_fb021_row1_col2,#T_fb021_row3_col1,#T_fb021_row3_col2{\n",
       "            background-color:  #1764ab;\n",
       "            color:  #f1f1f1;\n",
       "        }</style><table id=\"T_fb021_\" ><thead>    <tr>        <th class=\"blank level0\" ></th>        <th class=\"col_heading level0 col0\" >Всего кредитополучателей</th>        <th class=\"col_heading level0 col1\" >Всего должников</th>        <th class=\"col_heading level0 col2\" >Доля должников</th>    </tr>    <tr>        <th class=\"index_name level0\" >new_category</th>        <th class=\"blank\" ></th>        <th class=\"blank\" ></th>        <th class=\"blank\" ></th>    </tr></thead><tbody>\n",
       "                <tr>\n",
       "                        <th id=\"T_fb021_level0_row0\" class=\"row_heading level0 row0\" >(20666.0, 98514.0]</th>\n",
       "                        <td id=\"T_fb021_row0_col0\" class=\"data row0 col0\" >4267.000</td>\n",
       "                        <td id=\"T_fb021_row0_col1\" class=\"data row0 col1\" >344.000</td>\n",
       "                        <td id=\"T_fb021_row0_col2\" class=\"data row0 col2\" >0.081</td>\n",
       "            </tr>\n",
       "            <tr>\n",
       "                        <th id=\"T_fb021_level0_row1\" class=\"row_heading level0 row1\" >(98514.0, 132113.0]</th>\n",
       "                        <td id=\"T_fb021_row1_col0\" class=\"data row1 col0\" >4266.000</td>\n",
       "                        <td id=\"T_fb021_row1_col1\" class=\"data row1 col1\" >358.000</td>\n",
       "                        <td id=\"T_fb021_row1_col2\" class=\"data row1 col2\" >0.084</td>\n",
       "            </tr>\n",
       "            <tr>\n",
       "                        <th id=\"T_fb021_level0_row2\" class=\"row_heading level0 row2\" >(132113.0, 161380.0]</th>\n",
       "                        <td id=\"T_fb021_row2_col0\" class=\"data row2 col0\" >4266.000</td>\n",
       "                        <td id=\"T_fb021_row2_col1\" class=\"data row2 col1\" >373.000</td>\n",
       "                        <td id=\"T_fb021_row2_col2\" class=\"data row2 col2\" >0.087</td>\n",
       "            </tr>\n",
       "            <tr>\n",
       "                        <th id=\"T_fb021_level0_row3\" class=\"row_heading level0 row3\" >(161380.0, 214604.0]</th>\n",
       "                        <td id=\"T_fb021_row3_col0\" class=\"data row3 col0\" >4266.000</td>\n",
       "                        <td id=\"T_fb021_row3_col1\" class=\"data row3 col1\" >358.000</td>\n",
       "                        <td id=\"T_fb021_row3_col2\" class=\"data row3 col2\" >0.084</td>\n",
       "            </tr>\n",
       "            <tr>\n",
       "                        <th id=\"T_fb021_level0_row4\" class=\"row_heading level0 row4\" >(214604.0, 2265604.0]</th>\n",
       "                        <td id=\"T_fb021_row4_col0\" class=\"data row4 col0\" >4266.000</td>\n",
       "                        <td id=\"T_fb021_row4_col1\" class=\"data row4 col1\" >299.000</td>\n",
       "                        <td id=\"T_fb021_row4_col2\" class=\"data row4 col2\" >0.070</td>\n",
       "            </tr>\n",
       "    </tbody></table>"
      ],
      "text/plain": [
       "<pandas.io.formats.style.Styler at 0x7f59c444ae50>"
      ]
     },
     "metadata": {},
     "output_type": "display_data"
    },
    {
     "data": {
      "text/html": [
       "<style  type=\"text/css\" >\n",
       "#T_35cd2_row0_col0{\n",
       "            background-color:  #63a8d3;\n",
       "            color:  #000000;\n",
       "        }#T_35cd2_row0_col1{\n",
       "            background-color:  #7ab6d9;\n",
       "            color:  #000000;\n",
       "        }#T_35cd2_row0_col2{\n",
       "            background-color:  #60a7d2;\n",
       "            color:  #000000;\n",
       "        }#T_35cd2_row1_col0,#T_35cd2_row5_col0{\n",
       "            background-color:  #64a9d3;\n",
       "            color:  #000000;\n",
       "        }#T_35cd2_row1_col1{\n",
       "            background-color:  #4e9acb;\n",
       "            color:  #000000;\n",
       "        }#T_35cd2_row1_col2{\n",
       "            background-color:  #3383be;\n",
       "            color:  #000000;\n",
       "        }#T_35cd2_row2_col0,#T_35cd2_row2_col1,#T_35cd2_row2_col2{\n",
       "            background-color:  #08306b;\n",
       "            color:  #f1f1f1;\n",
       "        }#T_35cd2_row3_col0{\n",
       "            background-color:  #549fcd;\n",
       "            color:  #000000;\n",
       "        }#T_35cd2_row3_col1{\n",
       "            background-color:  #3a8ac2;\n",
       "            color:  #000000;\n",
       "        }#T_35cd2_row3_col2{\n",
       "            background-color:  #2373b6;\n",
       "            color:  #f1f1f1;\n",
       "        }#T_35cd2_row4_col0,#T_35cd2_row5_col1,#T_35cd2_row5_col2{\n",
       "            background-color:  #f7fbff;\n",
       "            color:  #000000;\n",
       "        }#T_35cd2_row4_col1{\n",
       "            background-color:  #a8cee4;\n",
       "            color:  #000000;\n",
       "        }#T_35cd2_row4_col2{\n",
       "            background-color:  #5aa2cf;\n",
       "            color:  #000000;\n",
       "        }</style><table id=\"T_35cd2_\" ><thead>    <tr>        <th class=\"blank level0\" ></th>        <th class=\"col_heading level0 col0\" >Всего кредитополучателей</th>        <th class=\"col_heading level0 col1\" >Всего должников</th>        <th class=\"col_heading level0 col2\" >Доля должников</th>    </tr>    <tr>        <th class=\"index_name level0\" >new_category</th>        <th class=\"blank\" ></th>        <th class=\"blank\" ></th>        <th class=\"blank\" ></th>    </tr></thead><tbody>\n",
       "                <tr>\n",
       "                        <th id=\"T_35cd2_level0_row0\" class=\"row_heading level0 row0\" >(20666.0, 92092.0]</th>\n",
       "                        <td id=\"T_35cd2_row0_col0\" class=\"data row0 col0\" >3556.000</td>\n",
       "                        <td id=\"T_35cd2_row0_col1\" class=\"data row0 col1\" >285.000</td>\n",
       "                        <td id=\"T_35cd2_row0_col2\" class=\"data row0 col2\" >0.080</td>\n",
       "            </tr>\n",
       "            <tr>\n",
       "                        <th id=\"T_35cd2_level0_row1\" class=\"row_heading level0 row1\" >(92092.0, 119218.0]</th>\n",
       "                        <td id=\"T_35cd2_row1_col0\" class=\"data row1 col0\" >3555.000</td>\n",
       "                        <td id=\"T_35cd2_row1_col1\" class=\"data row1 col1\" >295.000</td>\n",
       "                        <td id=\"T_35cd2_row1_col2\" class=\"data row1 col2\" >0.083</td>\n",
       "            </tr>\n",
       "            <tr>\n",
       "                        <th id=\"T_35cd2_level0_row2\" class=\"row_heading level0 row2\" >(119218.0, 142594.0]</th>\n",
       "                        <td id=\"T_35cd2_row2_col0\" class=\"data row2 col0\" >3672.000</td>\n",
       "                        <td id=\"T_35cd2_row2_col1\" class=\"data row2 col1\" >327.000</td>\n",
       "                        <td id=\"T_35cd2_row2_col2\" class=\"data row2 col2\" >0.089</td>\n",
       "            </tr>\n",
       "            <tr>\n",
       "                        <th id=\"T_35cd2_level0_row3\" class=\"row_heading level0 row3\" >(142594.0, 172357.0]</th>\n",
       "                        <td id=\"T_35cd2_row3_col0\" class=\"data row3 col0\" >3566.000</td>\n",
       "                        <td id=\"T_35cd2_row3_col1\" class=\"data row3 col1\" >300.000</td>\n",
       "                        <td id=\"T_35cd2_row3_col2\" class=\"data row3 col2\" >0.084</td>\n",
       "            </tr>\n",
       "            <tr>\n",
       "                        <th id=\"T_35cd2_level0_row4\" class=\"row_heading level0 row4\" >(172357.0, 228893.0]</th>\n",
       "                        <td id=\"T_35cd2_row4_col0\" class=\"data row4 col0\" >3427.000</td>\n",
       "                        <td id=\"T_35cd2_row4_col1\" class=\"data row4 col1\" >276.000</td>\n",
       "                        <td id=\"T_35cd2_row4_col2\" class=\"data row4 col2\" >0.081</td>\n",
       "            </tr>\n",
       "            <tr>\n",
       "                        <th id=\"T_35cd2_level0_row5\" class=\"row_heading level0 row5\" >(228893.0, 2265604.0]</th>\n",
       "                        <td id=\"T_35cd2_row5_col0\" class=\"data row5 col0\" >3555.000</td>\n",
       "                        <td id=\"T_35cd2_row5_col1\" class=\"data row5 col1\" >249.000</td>\n",
       "                        <td id=\"T_35cd2_row5_col2\" class=\"data row5 col2\" >0.070</td>\n",
       "            </tr>\n",
       "    </tbody></table>"
      ],
      "text/plain": [
       "<pandas.io.formats.style.Styler at 0x7f59c2a0ea30>"
      ]
     },
     "metadata": {},
     "output_type": "display_data"
    },
    {
     "data": {
      "text/html": [
       "<style  type=\"text/css\" >\n",
       "#T_2fa71_row0_col0,#T_2fa71_row3_col1,#T_2fa71_row3_col2,#T_2fa71_row6_col0{\n",
       "            background-color:  #08306b;\n",
       "            color:  #f1f1f1;\n",
       "        }#T_2fa71_row0_col1,#T_2fa71_row0_col2{\n",
       "            background-color:  #8dc1dd;\n",
       "            color:  #000000;\n",
       "        }#T_2fa71_row1_col0,#T_2fa71_row2_col0,#T_2fa71_row3_col0,#T_2fa71_row4_col0,#T_2fa71_row5_col0,#T_2fa71_row6_col1,#T_2fa71_row6_col2{\n",
       "            background-color:  #f7fbff;\n",
       "            color:  #000000;\n",
       "        }#T_2fa71_row1_col1,#T_2fa71_row1_col2{\n",
       "            background-color:  #083979;\n",
       "            color:  #f1f1f1;\n",
       "        }#T_2fa71_row2_col1,#T_2fa71_row2_col2{\n",
       "            background-color:  #083471;\n",
       "            color:  #f1f1f1;\n",
       "        }#T_2fa71_row4_col1,#T_2fa71_row4_col2{\n",
       "            background-color:  #09529d;\n",
       "            color:  #f1f1f1;\n",
       "        }#T_2fa71_row5_col1,#T_2fa71_row5_col2{\n",
       "            background-color:  #4f9bcb;\n",
       "            color:  #000000;\n",
       "        }</style><table id=\"T_2fa71_\" ><thead>    <tr>        <th class=\"blank level0\" ></th>        <th class=\"col_heading level0 col0\" >Всего кредитополучателей</th>        <th class=\"col_heading level0 col1\" >Всего должников</th>        <th class=\"col_heading level0 col2\" >Доля должников</th>    </tr>    <tr>        <th class=\"index_name level0\" >new_category</th>        <th class=\"blank\" ></th>        <th class=\"blank\" ></th>        <th class=\"blank\" ></th>    </tr></thead><tbody>\n",
       "                <tr>\n",
       "                        <th id=\"T_2fa71_level0_row0\" class=\"row_heading level0 row0\" >(20666.0, 87287.0]</th>\n",
       "                        <td id=\"T_2fa71_row0_col0\" class=\"data row0 col0\" >3048.000</td>\n",
       "                        <td id=\"T_2fa71_row0_col1\" class=\"data row0 col1\" >233.000</td>\n",
       "                        <td id=\"T_2fa71_row0_col2\" class=\"data row0 col2\" >0.076</td>\n",
       "            </tr>\n",
       "            <tr>\n",
       "                        <th id=\"T_2fa71_level0_row1\" class=\"row_heading level0 row1\" >(87287.0, 113563.0]</th>\n",
       "                        <td id=\"T_2fa71_row1_col0\" class=\"data row1 col0\" >3047.000</td>\n",
       "                        <td id=\"T_2fa71_row1_col1\" class=\"data row1 col1\" >262.000</td>\n",
       "                        <td id=\"T_2fa71_row1_col2\" class=\"data row1 col2\" >0.086</td>\n",
       "            </tr>\n",
       "            <tr>\n",
       "                        <th id=\"T_2fa71_level0_row2\" class=\"row_heading level0 row2\" >(113563.0, 137465.0]</th>\n",
       "                        <td id=\"T_2fa71_row2_col0\" class=\"data row2 col0\" >3047.000</td>\n",
       "                        <td id=\"T_2fa71_row2_col1\" class=\"data row2 col1\" >263.000</td>\n",
       "                        <td id=\"T_2fa71_row2_col2\" class=\"data row2 col2\" >0.086</td>\n",
       "            </tr>\n",
       "            <tr>\n",
       "                        <th id=\"T_2fa71_level0_row3\" class=\"row_heading level0 row3\" >(137465.0, 155314.0]</th>\n",
       "                        <td id=\"T_2fa71_row3_col0\" class=\"data row3 col0\" >3047.000</td>\n",
       "                        <td id=\"T_2fa71_row3_col1\" class=\"data row3 col1\" >264.000</td>\n",
       "                        <td id=\"T_2fa71_row3_col2\" class=\"data row3 col2\" >0.087</td>\n",
       "            </tr>\n",
       "            <tr>\n",
       "                        <th id=\"T_2fa71_level0_row4\" class=\"row_heading level0 row4\" >(155314.0, 184554.0]</th>\n",
       "                        <td id=\"T_2fa71_row4_col0\" class=\"data row4 col0\" >3047.000</td>\n",
       "                        <td id=\"T_2fa71_row4_col1\" class=\"data row4 col1\" >257.000</td>\n",
       "                        <td id=\"T_2fa71_row4_col2\" class=\"data row4 col2\" >0.084</td>\n",
       "            </tr>\n",
       "            <tr>\n",
       "                        <th id=\"T_2fa71_level0_row5\" class=\"row_heading level0 row5\" >(184554.0, 242009.0]</th>\n",
       "                        <td id=\"T_2fa71_row5_col0\" class=\"data row5 col0\" >3047.000</td>\n",
       "                        <td id=\"T_2fa71_row5_col1\" class=\"data row5 col1\" >242.000</td>\n",
       "                        <td id=\"T_2fa71_row5_col2\" class=\"data row5 col2\" >0.079</td>\n",
       "            </tr>\n",
       "            <tr>\n",
       "                        <th id=\"T_2fa71_level0_row6\" class=\"row_heading level0 row6\" >(242009.0, 2265604.0]</th>\n",
       "                        <td id=\"T_2fa71_row6_col0\" class=\"data row6 col0\" >3048.000</td>\n",
       "                        <td id=\"T_2fa71_row6_col1\" class=\"data row6 col1\" >211.000</td>\n",
       "                        <td id=\"T_2fa71_row6_col2\" class=\"data row6 col2\" >0.069</td>\n",
       "            </tr>\n",
       "    </tbody></table>"
      ],
      "text/plain": [
       "<pandas.io.formats.style.Styler at 0x7f59c4424cd0>"
      ]
     },
     "metadata": {},
     "output_type": "display_data"
    },
    {
     "data": {
      "text/html": [
       "<style  type=\"text/css\" >\n",
       "#T_344d8_row0_col0,#T_344d8_row5_col0,#T_344d8_row7_col0{\n",
       "            background-color:  #6aaed6;\n",
       "            color:  #000000;\n",
       "        }#T_344d8_row0_col1{\n",
       "            background-color:  #aacfe5;\n",
       "            color:  #000000;\n",
       "        }#T_344d8_row0_col2{\n",
       "            background-color:  #91c3de;\n",
       "            color:  #000000;\n",
       "        }#T_344d8_row1_col0,#T_344d8_row2_col0{\n",
       "            background-color:  #6caed6;\n",
       "            color:  #000000;\n",
       "        }#T_344d8_row1_col1,#T_344d8_row5_col1{\n",
       "            background-color:  #519ccc;\n",
       "            color:  #000000;\n",
       "        }#T_344d8_row1_col2,#T_344d8_row5_col2{\n",
       "            background-color:  #2f7fbc;\n",
       "            color:  #000000;\n",
       "        }#T_344d8_row2_col1{\n",
       "            background-color:  #1c6ab0;\n",
       "            color:  #f1f1f1;\n",
       "        }#T_344d8_row2_col2{\n",
       "            background-color:  #084285;\n",
       "            color:  #f1f1f1;\n",
       "        }#T_344d8_row3_col0,#T_344d8_row3_col1,#T_344d8_row3_col2{\n",
       "            background-color:  #08306b;\n",
       "            color:  #f1f1f1;\n",
       "        }#T_344d8_row4_col0,#T_344d8_row7_col1,#T_344d8_row7_col2{\n",
       "            background-color:  #f7fbff;\n",
       "            color:  #000000;\n",
       "        }#T_344d8_row4_col1{\n",
       "            background-color:  #4695c8;\n",
       "            color:  #000000;\n",
       "        }#T_344d8_row4_col2{\n",
       "            background-color:  #084184;\n",
       "            color:  #f1f1f1;\n",
       "        }#T_344d8_row6_col0{\n",
       "            background-color:  #6dafd7;\n",
       "            color:  #000000;\n",
       "        }#T_344d8_row6_col1{\n",
       "            background-color:  #d4e4f4;\n",
       "            color:  #000000;\n",
       "        }#T_344d8_row6_col2{\n",
       "            background-color:  #cddff1;\n",
       "            color:  #000000;\n",
       "        }</style><table id=\"T_344d8_\" ><thead>    <tr>        <th class=\"blank level0\" ></th>        <th class=\"col_heading level0 col0\" >Всего кредитополучателей</th>        <th class=\"col_heading level0 col1\" >Всего должников</th>        <th class=\"col_heading level0 col2\" >Доля должников</th>    </tr>    <tr>        <th class=\"index_name level0\" >new_category</th>        <th class=\"blank\" ></th>        <th class=\"blank\" ></th>        <th class=\"blank\" ></th>    </tr></thead><tbody>\n",
       "                <tr>\n",
       "                        <th id=\"T_344d8_level0_row0\" class=\"row_heading level0 row0\" >(20666.0, 83837.0]</th>\n",
       "                        <td id=\"T_344d8_row0_col0\" class=\"data row0 col0\" >2667.000</td>\n",
       "                        <td id=\"T_344d8_row0_col1\" class=\"data row0 col1\" >206.000</td>\n",
       "                        <td id=\"T_344d8_row0_col2\" class=\"data row0 col2\" >0.077</td>\n",
       "            </tr>\n",
       "            <tr>\n",
       "                        <th id=\"T_344d8_level0_row1\" class=\"row_heading level0 row1\" >(83837.0, 107507.0]</th>\n",
       "                        <td id=\"T_344d8_row1_col0\" class=\"data row1 col0\" >2666.000</td>\n",
       "                        <td id=\"T_344d8_row1_col1\" class=\"data row1 col1\" >221.000</td>\n",
       "                        <td id=\"T_344d8_row1_col2\" class=\"data row1 col2\" >0.083</td>\n",
       "            </tr>\n",
       "            <tr>\n",
       "                        <th id=\"T_344d8_level0_row2\" class=\"row_heading level0 row2\" >(107507.0, 127546.0]</th>\n",
       "                        <td id=\"T_344d8_row2_col0\" class=\"data row2 col0\" >2666.000</td>\n",
       "                        <td id=\"T_344d8_row2_col1\" class=\"data row2 col1\" >233.000</td>\n",
       "                        <td id=\"T_344d8_row2_col2\" class=\"data row2 col2\" >0.087</td>\n",
       "            </tr>\n",
       "            <tr>\n",
       "                        <th id=\"T_344d8_level0_row3\" class=\"row_heading level0 row3\" >(127546.0, 142594.0]</th>\n",
       "                        <td id=\"T_344d8_row3_col0\" class=\"data row3 col0\" >2784.000</td>\n",
       "                        <td id=\"T_344d8_row3_col1\" class=\"data row3 col1\" >247.000</td>\n",
       "                        <td id=\"T_344d8_row3_col2\" class=\"data row3 col2\" >0.089</td>\n",
       "            </tr>\n",
       "            <tr>\n",
       "                        <th id=\"T_344d8_level0_row4\" class=\"row_heading level0 row4\" >(142594.0, 166525.0]</th>\n",
       "                        <td id=\"T_344d8_row4_col0\" class=\"data row4 col0\" >2549.000</td>\n",
       "                        <td id=\"T_344d8_row4_col1\" class=\"data row4 col1\" >223.000</td>\n",
       "                        <td id=\"T_344d8_row4_col2\" class=\"data row4 col2\" >0.087</td>\n",
       "            </tr>\n",
       "            <tr>\n",
       "                        <th id=\"T_344d8_level0_row5\" class=\"row_heading level0 row5\" >(166525.0, 195842.0]</th>\n",
       "                        <td id=\"T_344d8_row5_col0\" class=\"data row5 col0\" >2667.000</td>\n",
       "                        <td id=\"T_344d8_row5_col1\" class=\"data row5 col1\" >221.000</td>\n",
       "                        <td id=\"T_344d8_row5_col2\" class=\"data row5 col2\" >0.083</td>\n",
       "            </tr>\n",
       "            <tr>\n",
       "                        <th id=\"T_344d8_level0_row6\" class=\"row_heading level0 row6\" >(195842.0, 254250.0]</th>\n",
       "                        <td id=\"T_344d8_row6_col0\" class=\"data row6 col0\" >2665.000</td>\n",
       "                        <td id=\"T_344d8_row6_col1\" class=\"data row6 col1\" >196.000</td>\n",
       "                        <td id=\"T_344d8_row6_col2\" class=\"data row6 col2\" >0.074</td>\n",
       "            </tr>\n",
       "            <tr>\n",
       "                        <th id=\"T_344d8_level0_row7\" class=\"row_heading level0 row7\" >(254250.0, 2265604.0]</th>\n",
       "                        <td id=\"T_344d8_row7_col0\" class=\"data row7 col0\" >2667.000</td>\n",
       "                        <td id=\"T_344d8_row7_col1\" class=\"data row7 col1\" >185.000</td>\n",
       "                        <td id=\"T_344d8_row7_col2\" class=\"data row7 col2\" >0.069</td>\n",
       "            </tr>\n",
       "    </tbody></table>"
      ],
      "text/plain": [
       "<pandas.io.formats.style.Styler at 0x7f59c4418f70>"
      ]
     },
     "metadata": {},
     "output_type": "display_data"
    }
   ],
   "source": [
    "temp = data.copy()\n",
    "def que1(category):\n",
    "    data_temp = temp.pivot_table(index=category, values='debt', aggfunc=['count', 'sum', 'mean'])\n",
    "    data_temp.columns = ['Всего кредитополучателей', 'Всего должников', 'Доля должников']\n",
    "    # Оформим таблицу цветным градиентом, но можно ее вывести и просто display(data_temp)\n",
    "    display(data_temp.style.format(\"{:.3f}\").background_gradient(cmap='Blues', axis=0))\n",
    "    \n",
    "start, stop = 3, 8 # начальное и конечное количество категорий\n",
    "while start <= stop:\n",
    "    temp['new_category'] = pd.qcut(temp['total_income'], q=start, precision=0)\n",
    "    que1('new_category')\n",
    "    start += 1"
   ]
  },
  {
   "cell_type": "markdown",
   "id": "a08a8e29",
   "metadata": {
    "deletable": false,
    "editable": false,
    "id": "99ecbd1f"
   },
   "source": [
    "#### 3.4 Как разные цели кредита влияют на его возврат в срок?"
   ]
  },
  {
   "cell_type": "code",
   "execution_count": 26,
   "id": "a3ebfc7d",
   "metadata": {
    "deletable": false,
    "id": "2b687290"
   },
   "outputs": [
    {
     "data": {
      "text/html": [
       "<style  type=\"text/css\" >\n",
       "#T_118f1_row0_col0,#T_118f1_row0_col1,#T_118f1_row3_col2{\n",
       "            background-color:  #08306b;\n",
       "            color:  #f1f1f1;\n",
       "        }#T_118f1_row0_col2,#T_118f1_row1_col0,#T_118f1_row1_col1{\n",
       "            background-color:  #f7fbff;\n",
       "            color:  #000000;\n",
       "        }#T_118f1_row1_col2{\n",
       "            background-color:  #b2d2e8;\n",
       "            color:  #000000;\n",
       "        }#T_118f1_row2_col0{\n",
       "            background-color:  #d0e2f2;\n",
       "            color:  #000000;\n",
       "        }#T_118f1_row2_col1{\n",
       "            background-color:  #b3d3e8;\n",
       "            color:  #000000;\n",
       "        }#T_118f1_row2_col2{\n",
       "            background-color:  #083b7c;\n",
       "            color:  #f1f1f1;\n",
       "        }#T_118f1_row3_col0{\n",
       "            background-color:  #caddf0;\n",
       "            color:  #000000;\n",
       "        }#T_118f1_row3_col1{\n",
       "            background-color:  #a1cbe2;\n",
       "            color:  #000000;\n",
       "        }</style><table id=\"T_118f1_\" ><thead>    <tr>        <th class=\"blank level0\" ></th>        <th class=\"col_heading level0 col0\" >Всего кредитополучателей</th>        <th class=\"col_heading level0 col1\" >Всего должников</th>        <th class=\"col_heading level0 col2\" >Доля должников</th>    </tr>    <tr>        <th class=\"index_name level0\" >purpose_category</th>        <th class=\"blank\" ></th>        <th class=\"blank\" ></th>        <th class=\"blank\" ></th>    </tr></thead><tbody>\n",
       "                <tr>\n",
       "                        <th id=\"T_118f1_level0_row0\" class=\"row_heading level0 row0\" >операции с недвижимостью</th>\n",
       "                        <td id=\"T_118f1_row0_col0\" class=\"data row0 col0\" >10751.000</td>\n",
       "                        <td id=\"T_118f1_row0_col1\" class=\"data row0 col1\" >780.000</td>\n",
       "                        <td id=\"T_118f1_row0_col2\" class=\"data row0 col2\" >0.073</td>\n",
       "            </tr>\n",
       "            <tr>\n",
       "                        <th id=\"T_118f1_level0_row1\" class=\"row_heading level0 row1\" >проведение свадьбы</th>\n",
       "                        <td id=\"T_118f1_row1_col0\" class=\"data row1 col0\" >2313.000</td>\n",
       "                        <td id=\"T_118f1_row1_col1\" class=\"data row1 col1\" >183.000</td>\n",
       "                        <td id=\"T_118f1_row1_col2\" class=\"data row1 col2\" >0.079</td>\n",
       "            </tr>\n",
       "            <tr>\n",
       "                        <th id=\"T_118f1_level0_row2\" class=\"row_heading level0 row2\" >получение образования</th>\n",
       "                        <td id=\"T_118f1_row2_col0\" class=\"data row2 col0\" >3988.000</td>\n",
       "                        <td id=\"T_118f1_row2_col1\" class=\"data row2 col1\" >369.000</td>\n",
       "                        <td id=\"T_118f1_row2_col2\" class=\"data row2 col2\" >0.093</td>\n",
       "            </tr>\n",
       "            <tr>\n",
       "                        <th id=\"T_118f1_level0_row3\" class=\"row_heading level0 row3\" >операции с автомобилем</th>\n",
       "                        <td id=\"T_118f1_row3_col0\" class=\"data row3 col0\" >4279.000</td>\n",
       "                        <td id=\"T_118f1_row3_col1\" class=\"data row3 col1\" >400.000</td>\n",
       "                        <td id=\"T_118f1_row3_col2\" class=\"data row3 col2\" >0.093</td>\n",
       "            </tr>\n",
       "    </tbody></table>"
      ],
      "text/plain": [
       "<pandas.io.formats.style.Styler at 0x7f59c444aaf0>"
      ]
     },
     "metadata": {},
     "output_type": "display_data"
    }
   ],
   "source": [
    "que('purpose_category')\n",
    "\n",
    "\n",
    "# Ваш код будет здесь. Вы можете создавать новые ячейки."
   ]
  },
  {
   "cell_type": "markdown",
   "id": "69b19a50",
   "metadata": {
    "deletable": false,
    "id": "b4bb2ce6"
   },
   "source": [
    "**Вывод:** Скорее всего люди создающие семью и покупающие жил площадь и играющие свадьбу вероятнее всего вернут кредит, нежели неженатые люди получающие образование или покупающие автомобиль"
   ]
  },
  {
   "cell_type": "markdown",
   "id": "f4942da9",
   "metadata": {},
   "source": [
    "<font color='DarkBlue'><b>Комментарий ревьюера</b></font><br>\n",
    "<font color='DarkGreen'>👌 Правильно, видимо, кредиты на автомобиль и обучение несут дополнительные риски связанные или с возможной аварией, или с проблемами трудоустройства после обучения.</font>"
   ]
  },
  {
   "cell_type": "markdown",
   "id": "82e4e8b4",
   "metadata": {
    "deletable": false,
    "editable": false,
    "id": "09c3ac4c"
   },
   "source": [
    "#### 3.5 Приведите возможные причины появления пропусков в исходных данных."
   ]
  },
  {
   "cell_type": "code",
   "execution_count": 27,
   "id": "39ae3940",
   "metadata": {},
   "outputs": [
    {
     "data": {
      "text/plain": [
       "children               0\n",
       "days_employed       2174\n",
       "dob_years              0\n",
       "education              0\n",
       "education_id           0\n",
       "family_status          0\n",
       "family_status_id       0\n",
       "gender                 0\n",
       "income_type            0\n",
       "debt                   0\n",
       "total_income        2174\n",
       "purpose                0\n",
       "dtype: int64"
      ]
     },
     "execution_count": 27,
     "metadata": {},
     "output_type": "execute_result"
    }
   ],
   "source": [
    "data2.isna().sum()"
   ]
  },
  {
   "cell_type": "markdown",
   "id": "521b6efe",
   "metadata": {
    "deletable": false,
    "id": "9da2ceda"
   },
   "source": [
    "*Ответ:* Пропуски в столбцах days_employed и total_income.\n",
    "Причины: \n",
    "1. Человеческий фактор - не все хотят отвечать"
   ]
  },
  {
   "cell_type": "markdown",
   "id": "b1fad235",
   "metadata": {
    "deletable": false,
    "editable": false,
    "id": "7b0487d6"
   },
   "source": [
    "#### 3.6 Объясните, почему заполнить пропуски медианным значением — лучшее решение для количественных переменных."
   ]
  },
  {
   "cell_type": "markdown",
   "id": "4f3e00e9",
   "metadata": {
    "deletable": false,
    "id": "7ecf2b8e"
   },
   "source": [
    "*Ответ:* Лучше потому что при большом разбросе данных среднее значение будет некорректно отражать реальное положение данных"
   ]
  },
  {
   "cell_type": "markdown",
   "id": "31bf6671",
   "metadata": {
    "deletable": false,
    "editable": false,
    "id": "6db5255a"
   },
   "source": [
    "### Шаг 4: общий вывод."
   ]
  },
  {
   "cell_type": "markdown",
   "id": "39dcb36f",
   "metadata": {
    "deletable": false,
    "id": "bad65432"
   },
   "source": [
    "Сложно выдвинуть четкую корреляцию, однако можно сделать вывод, что люди с 4 детьм, в гражданском браке или без брака с низким доходом не вернут кредит. Все эти факторы повышают вероятность невозврата кредита в срок.\n",
    "Наибольшая вероятность возврата у людей разведенных, с высоким доходом и без детей."
   ]
  },
  {
   "cell_type": "markdown",
   "id": "97987d2e",
   "metadata": {},
   "source": [
    "</font><font color='Blue'><b><br><br>\n",
    "Для кредитного отдела банка было необходимо понять, влияет ли семейное положение и количество детей клиента на факт погашения кредита в срок.<br><br>\n",
    "1. Для анализа были получена статистика о платежеспособности клиентов, в базе данных имелись пропуски, в данных о доходах (total_income) пропуски были заменены на медианные значения согласно типу занятости клиента\n",
    "2. Также встретились анамальные значения, которые были удалены из данных. <br>\n",
    "3. Для более удобного анализа, доходы кредитополучателей были разделены на 5 категорий и сохранены в базе\n",
    "4. Тоже самое было сделано для целей кредита, и получили 4 категории:\n",
    "- 'операции с автомобилем',\n",
    "- 'операции с недвижимостью',\n",
    "- 'проведение свадьбы',\n",
    "- 'получение образования'.\n",
    " <br> <br>  В результате проведённого анализа были получены следующие результаты:\n",
    "    1. Выборка для клиентов с 4 и 5 слишком мала для оценки\n",
    "    2. Наибольшее число просрочек по кредиту имеют клиенты с 1,2 детьми нежели клиенты без детей\n",
    "    3. Люди не состоящие в браке или находящиеся в гражданском браке имеют наименьшую вероятность возврата кредита.\n",
    "    4. Разведенные люди с большей долей вероятности вернут кредит\n",
    "    5. Доходы кредито получателей сильно разняться и нельзя сделать точных выводов\n",
    "    6. Люди создающие семью и покупающие жил площадь и играющие свадьбу вероятнее всего вернут кредит, нежели неженатые люди получающие образование или покупающие автомобиль\n",
    "    </b></font><br>"
   ]
  }
 ],
 "metadata": {
  "ExecuteTimeLog": [
   {
    "duration": 692,
    "start_time": "2023-08-10T17:02:29.201Z"
   },
   {
    "duration": 35,
    "start_time": "2023-08-10T17:02:29.895Z"
   },
   {
    "duration": 16,
    "start_time": "2023-08-10T17:02:31.906Z"
   },
   {
    "duration": 11,
    "start_time": "2023-08-10T17:02:33.334Z"
   },
   {
    "duration": 40,
    "start_time": "2023-08-10T17:02:33.692Z"
   },
   {
    "duration": 4,
    "start_time": "2023-08-10T17:02:34.184Z"
   },
   {
    "duration": 8,
    "start_time": "2023-08-10T17:02:34.473Z"
   },
   {
    "duration": 5,
    "start_time": "2023-08-10T17:02:34.880Z"
   },
   {
    "duration": 7,
    "start_time": "2023-08-10T17:02:35.182Z"
   },
   {
    "duration": 6,
    "start_time": "2023-08-10T17:02:35.479Z"
   },
   {
    "duration": 33,
    "start_time": "2023-08-10T17:02:35.911Z"
   },
   {
    "duration": 11,
    "start_time": "2023-08-10T17:02:36.191Z"
   },
   {
    "duration": 4,
    "start_time": "2023-08-10T17:02:36.672Z"
   },
   {
    "duration": 19,
    "start_time": "2023-08-10T17:02:37.095Z"
   },
   {
    "duration": 22,
    "start_time": "2023-08-10T17:02:37.469Z"
   },
   {
    "duration": 19,
    "start_time": "2023-08-10T17:02:37.631Z"
   },
   {
    "duration": 4,
    "start_time": "2023-08-10T17:02:38.072Z"
   },
   {
    "duration": 16,
    "start_time": "2023-08-10T17:02:38.209Z"
   },
   {
    "duration": 6,
    "start_time": "2023-08-10T17:02:38.504Z"
   },
   {
    "duration": 4,
    "start_time": "2023-08-10T17:02:38.872Z"
   },
   {
    "duration": 11,
    "start_time": "2023-08-10T17:02:39.023Z"
   },
   {
    "duration": 3,
    "start_time": "2023-08-10T17:02:39.495Z"
   },
   {
    "duration": 13,
    "start_time": "2023-08-10T17:03:04.889Z"
   },
   {
    "duration": 17,
    "start_time": "2023-08-10T17:03:22.870Z"
   },
   {
    "duration": 22,
    "start_time": "2023-08-10T17:08:21.987Z"
   },
   {
    "duration": 9,
    "start_time": "2023-08-10T17:08:50.482Z"
   },
   {
    "duration": 19,
    "start_time": "2023-08-10T17:09:36.281Z"
   },
   {
    "duration": 12,
    "start_time": "2023-08-10T17:12:24.168Z"
   },
   {
    "duration": 10,
    "start_time": "2023-08-10T17:12:34.178Z"
   },
   {
    "duration": 746,
    "start_time": "2023-08-10T17:13:44.084Z"
   },
   {
    "duration": 660,
    "start_time": "2023-08-10T17:13:54.699Z"
   },
   {
    "duration": 83,
    "start_time": "2023-08-10T17:14:12.667Z"
   },
   {
    "duration": 705,
    "start_time": "2023-08-10T17:14:15.674Z"
   },
   {
    "duration": 18,
    "start_time": "2023-08-10T17:14:21.213Z"
   },
   {
    "duration": 16,
    "start_time": "2023-08-10T17:14:42.854Z"
   },
   {
    "duration": 1938,
    "start_time": "2023-08-10T17:15:10.293Z"
   },
   {
    "duration": 8,
    "start_time": "2023-08-10T17:15:22.220Z"
   },
   {
    "duration": 8,
    "start_time": "2023-08-10T17:15:27.299Z"
   },
   {
    "duration": 11,
    "start_time": "2023-08-10T17:16:01.476Z"
   },
   {
    "duration": 17,
    "start_time": "2023-08-10T17:17:41.978Z"
   },
   {
    "duration": 19,
    "start_time": "2023-08-10T17:17:47.132Z"
   },
   {
    "duration": 17,
    "start_time": "2023-08-10T17:18:55.093Z"
   },
   {
    "duration": 16,
    "start_time": "2023-08-10T17:20:22.187Z"
   },
   {
    "duration": 1319,
    "start_time": "2023-08-10T17:21:12.591Z"
   },
   {
    "duration": 1319,
    "start_time": "2023-08-10T17:21:23.094Z"
   },
   {
    "duration": 1268,
    "start_time": "2023-08-10T17:21:43.570Z"
   },
   {
    "duration": 25,
    "start_time": "2023-08-10T17:21:52.223Z"
   },
   {
    "duration": 21,
    "start_time": "2023-08-10T17:22:10.567Z"
   },
   {
    "duration": 23,
    "start_time": "2023-08-10T17:22:20.491Z"
   },
   {
    "duration": 18,
    "start_time": "2023-08-10T17:22:30.712Z"
   },
   {
    "duration": 107,
    "start_time": "2023-08-10T17:23:19.071Z"
   },
   {
    "duration": 5,
    "start_time": "2023-08-10T17:23:22.519Z"
   },
   {
    "duration": 6,
    "start_time": "2023-08-10T17:23:50.871Z"
   },
   {
    "duration": 29,
    "start_time": "2023-08-10T17:24:28.366Z"
   },
   {
    "duration": 19,
    "start_time": "2023-08-10T17:24:44.435Z"
   },
   {
    "duration": 24,
    "start_time": "2023-08-10T17:41:34.285Z"
   },
   {
    "duration": 4,
    "start_time": "2023-08-10T17:41:38.785Z"
   },
   {
    "duration": 19,
    "start_time": "2023-08-10T17:41:46.570Z"
   },
   {
    "duration": 27,
    "start_time": "2023-08-10T17:42:05.813Z"
   },
   {
    "duration": 29,
    "start_time": "2023-08-10T17:42:14.798Z"
   },
   {
    "duration": 30,
    "start_time": "2023-08-10T17:43:12.197Z"
   },
   {
    "duration": 29,
    "start_time": "2023-08-10T17:43:18.401Z"
   },
   {
    "duration": 22,
    "start_time": "2023-08-10T17:45:06.133Z"
   },
   {
    "duration": 30,
    "start_time": "2023-08-10T17:45:17.286Z"
   },
   {
    "duration": 21,
    "start_time": "2023-08-10T19:26:37.690Z"
   },
   {
    "duration": 29,
    "start_time": "2023-08-10T19:26:42.889Z"
   },
   {
    "duration": 21,
    "start_time": "2023-08-10T19:27:42.878Z"
   },
   {
    "duration": 21,
    "start_time": "2023-08-10T19:33:02.620Z"
   },
   {
    "duration": 28,
    "start_time": "2023-08-10T19:38:25.235Z"
   },
   {
    "duration": 18,
    "start_time": "2023-08-10T19:38:39.021Z"
   },
   {
    "duration": 673,
    "start_time": "2023-08-11T00:20:11.739Z"
   },
   {
    "duration": 23,
    "start_time": "2023-08-11T00:20:12.414Z"
   },
   {
    "duration": 16,
    "start_time": "2023-08-11T00:20:12.438Z"
   },
   {
    "duration": 10,
    "start_time": "2023-08-11T00:20:12.456Z"
   },
   {
    "duration": 46,
    "start_time": "2023-08-11T00:20:12.469Z"
   },
   {
    "duration": 4,
    "start_time": "2023-08-11T00:20:12.517Z"
   },
   {
    "duration": 10,
    "start_time": "2023-08-11T00:20:12.523Z"
   },
   {
    "duration": 8,
    "start_time": "2023-08-11T00:20:12.535Z"
   },
   {
    "duration": 12,
    "start_time": "2023-08-11T00:20:12.545Z"
   },
   {
    "duration": 6,
    "start_time": "2023-08-11T00:20:12.559Z"
   },
   {
    "duration": 57,
    "start_time": "2023-08-11T00:20:12.566Z"
   },
   {
    "duration": 10,
    "start_time": "2023-08-11T00:20:12.624Z"
   },
   {
    "duration": 5,
    "start_time": "2023-08-11T00:20:12.635Z"
   },
   {
    "duration": 13,
    "start_time": "2023-08-11T00:20:12.642Z"
   },
   {
    "duration": 40,
    "start_time": "2023-08-11T00:20:12.656Z"
   },
   {
    "duration": 17,
    "start_time": "2023-08-11T00:20:12.698Z"
   },
   {
    "duration": 4,
    "start_time": "2023-08-11T00:20:12.717Z"
   },
   {
    "duration": 15,
    "start_time": "2023-08-11T00:20:12.722Z"
   },
   {
    "duration": 16,
    "start_time": "2023-08-11T00:20:12.738Z"
   },
   {
    "duration": 8,
    "start_time": "2023-08-11T00:20:12.756Z"
   },
   {
    "duration": 27,
    "start_time": "2023-08-11T00:20:12.765Z"
   },
   {
    "duration": 50,
    "start_time": "2023-08-11T00:20:12.794Z"
   },
   {
    "duration": 18,
    "start_time": "2023-08-11T00:20:12.846Z"
   },
   {
    "duration": 17,
    "start_time": "2023-08-11T00:20:12.866Z"
   },
   {
    "duration": 20,
    "start_time": "2023-08-11T00:20:12.884Z"
   },
   {
    "duration": 490,
    "start_time": "2023-08-11T00:23:35.705Z"
   },
   {
    "duration": 99,
    "start_time": "2023-08-12T11:21:01.893Z"
   },
   {
    "duration": 47,
    "start_time": "2023-08-12T11:21:04.961Z"
   },
   {
    "duration": 738,
    "start_time": "2023-08-12T11:21:09.097Z"
   },
   {
    "duration": 23,
    "start_time": "2023-08-12T11:21:10.026Z"
   },
   {
    "duration": 2,
    "start_time": "2023-08-12T11:22:43.465Z"
   },
   {
    "duration": 489,
    "start_time": "2023-08-12T11:22:45.874Z"
   },
   {
    "duration": 34,
    "start_time": "2023-08-12T11:22:52.994Z"
   },
   {
    "duration": 79,
    "start_time": "2023-08-12T11:23:14.137Z"
   },
   {
    "duration": 17,
    "start_time": "2023-08-12T11:23:15.050Z"
   },
   {
    "duration": 16,
    "start_time": "2023-08-12T11:23:16.042Z"
   },
   {
    "duration": 11,
    "start_time": "2023-08-12T11:23:18.881Z"
   },
   {
    "duration": 35,
    "start_time": "2023-08-12T11:23:19.561Z"
   },
   {
    "duration": 4,
    "start_time": "2023-08-12T11:23:20.273Z"
   },
   {
    "duration": 8,
    "start_time": "2023-08-12T11:23:20.610Z"
   },
   {
    "duration": 4,
    "start_time": "2023-08-12T11:23:21.161Z"
   },
   {
    "duration": 6,
    "start_time": "2023-08-12T11:23:21.466Z"
   },
   {
    "duration": 5,
    "start_time": "2023-08-12T11:23:21.737Z"
   },
   {
    "duration": 35,
    "start_time": "2023-08-12T11:23:22.153Z"
   },
   {
    "duration": 10,
    "start_time": "2023-08-12T11:23:22.417Z"
   },
   {
    "duration": 3,
    "start_time": "2023-08-12T11:23:22.833Z"
   },
   {
    "duration": 11,
    "start_time": "2023-08-12T11:23:23.250Z"
   },
   {
    "duration": 20,
    "start_time": "2023-08-12T11:23:23.545Z"
   },
   {
    "duration": 18,
    "start_time": "2023-08-12T11:23:23.665Z"
   },
   {
    "duration": 3,
    "start_time": "2023-08-12T11:23:24.201Z"
   },
   {
    "duration": 10,
    "start_time": "2023-08-12T11:23:24.537Z"
   },
   {
    "duration": 5,
    "start_time": "2023-08-12T11:23:25.466Z"
   },
   {
    "duration": 4,
    "start_time": "2023-08-12T11:23:26.281Z"
   },
   {
    "duration": 8,
    "start_time": "2023-08-12T11:23:26.721Z"
   },
   {
    "duration": 2,
    "start_time": "2023-08-12T11:23:29.794Z"
   },
   {
    "duration": 39,
    "start_time": "2023-08-12T11:23:30.250Z"
   },
   {
    "duration": 32,
    "start_time": "2023-08-12T11:23:56.778Z"
   },
   {
    "duration": 35,
    "start_time": "2023-08-12T11:24:15.810Z"
   },
   {
    "duration": 37,
    "start_time": "2023-08-12T11:25:22.426Z"
   },
   {
    "duration": 31,
    "start_time": "2023-08-12T11:25:29.682Z"
   },
   {
    "duration": 34,
    "start_time": "2023-08-12T11:25:32.770Z"
   },
   {
    "duration": 37,
    "start_time": "2023-08-12T11:26:13.188Z"
   },
   {
    "duration": 140,
    "start_time": "2023-08-12T11:26:19.162Z"
   },
   {
    "duration": 47,
    "start_time": "2023-08-12T11:27:33.419Z"
   },
   {
    "duration": 34,
    "start_time": "2023-08-12T11:28:21.820Z"
   },
   {
    "duration": 34,
    "start_time": "2023-08-12T11:28:30.003Z"
   },
   {
    "duration": 35,
    "start_time": "2023-08-12T11:29:43.676Z"
   },
   {
    "duration": 33,
    "start_time": "2023-08-12T11:29:46.115Z"
   },
   {
    "duration": 33,
    "start_time": "2023-08-12T11:30:00.251Z"
   },
   {
    "duration": 34,
    "start_time": "2023-08-12T11:30:07.491Z"
   },
   {
    "duration": 43,
    "start_time": "2023-08-12T11:30:10.931Z"
   },
   {
    "duration": 38,
    "start_time": "2023-08-12T11:30:22.579Z"
   },
   {
    "duration": 18,
    "start_time": "2023-08-12T11:32:51.325Z"
   },
   {
    "duration": 56,
    "start_time": "2023-08-12T11:33:03.532Z"
   },
   {
    "duration": 454,
    "start_time": "2023-08-12T11:33:05.236Z"
   },
   {
    "duration": 21,
    "start_time": "2023-08-12T11:33:05.771Z"
   },
   {
    "duration": 32,
    "start_time": "2023-08-12T11:33:23.684Z"
   },
   {
    "duration": 3,
    "start_time": "2023-08-12T11:33:37.348Z"
   },
   {
    "duration": 18,
    "start_time": "2023-08-12T11:33:43.867Z"
   },
   {
    "duration": 76,
    "start_time": "2023-08-12T11:33:48.545Z"
   },
   {
    "duration": 17,
    "start_time": "2023-08-12T11:33:48.623Z"
   },
   {
    "duration": 21,
    "start_time": "2023-08-12T11:33:48.641Z"
   },
   {
    "duration": 11,
    "start_time": "2023-08-12T11:33:48.664Z"
   },
   {
    "duration": 37,
    "start_time": "2023-08-12T11:33:48.695Z"
   },
   {
    "duration": 4,
    "start_time": "2023-08-12T11:33:48.734Z"
   },
   {
    "duration": 12,
    "start_time": "2023-08-12T11:33:48.739Z"
   },
   {
    "duration": 4,
    "start_time": "2023-08-12T11:33:48.753Z"
   },
   {
    "duration": 36,
    "start_time": "2023-08-12T11:33:48.759Z"
   },
   {
    "duration": 5,
    "start_time": "2023-08-12T11:33:48.797Z"
   },
   {
    "duration": 41,
    "start_time": "2023-08-12T11:33:48.804Z"
   },
   {
    "duration": 10,
    "start_time": "2023-08-12T11:33:48.847Z"
   },
   {
    "duration": 11,
    "start_time": "2023-08-12T11:33:48.858Z"
   },
   {
    "duration": 28,
    "start_time": "2023-08-12T11:33:48.870Z"
   },
   {
    "duration": 20,
    "start_time": "2023-08-12T11:33:48.900Z"
   },
   {
    "duration": 19,
    "start_time": "2023-08-12T11:33:48.922Z"
   },
   {
    "duration": 4,
    "start_time": "2023-08-12T11:33:48.942Z"
   },
   {
    "duration": 23,
    "start_time": "2023-08-12T11:33:48.947Z"
   },
   {
    "duration": 24,
    "start_time": "2023-08-12T11:33:48.972Z"
   },
   {
    "duration": 4,
    "start_time": "2023-08-12T11:33:48.997Z"
   },
   {
    "duration": 19,
    "start_time": "2023-08-12T11:33:49.003Z"
   },
   {
    "duration": 7,
    "start_time": "2023-08-12T11:33:49.023Z"
   },
   {
    "duration": 342,
    "start_time": "2023-08-12T11:33:49.032Z"
   },
   {
    "duration": 39,
    "start_time": "2023-08-12T11:33:49.376Z"
   },
   {
    "duration": 32,
    "start_time": "2023-08-12T11:33:49.417Z"
   },
   {
    "duration": 53,
    "start_time": "2023-08-12T11:33:49.451Z"
   },
   {
    "duration": 11,
    "start_time": "2023-08-12T11:34:11.901Z"
   },
   {
    "duration": 12,
    "start_time": "2023-08-12T11:34:14.588Z"
   },
   {
    "duration": 14,
    "start_time": "2023-08-12T11:34:20.316Z"
   },
   {
    "duration": 16,
    "start_time": "2023-08-12T11:34:23.252Z"
   },
   {
    "duration": 106,
    "start_time": "2023-08-12T11:35:15.773Z"
   },
   {
    "duration": 9,
    "start_time": "2023-08-12T11:35:18.772Z"
   },
   {
    "duration": 9,
    "start_time": "2023-08-12T11:35:31.452Z"
   },
   {
    "duration": 9,
    "start_time": "2023-08-12T11:35:41.285Z"
   },
   {
    "duration": 27,
    "start_time": "2023-08-12T11:35:44.796Z"
   },
   {
    "duration": 22,
    "start_time": "2023-08-12T11:35:56.845Z"
   },
   {
    "duration": 27,
    "start_time": "2023-08-12T11:36:59.668Z"
   },
   {
    "duration": 24,
    "start_time": "2023-08-12T11:37:54.260Z"
   },
   {
    "duration": 26,
    "start_time": "2023-08-12T11:37:59.580Z"
   },
   {
    "duration": 32,
    "start_time": "2023-08-12T11:38:26.133Z"
   },
   {
    "duration": 28,
    "start_time": "2023-08-12T11:38:30.893Z"
   },
   {
    "duration": 47,
    "start_time": "2023-08-12T11:38:36.718Z"
   },
   {
    "duration": 37,
    "start_time": "2023-08-12T11:39:03.942Z"
   },
   {
    "duration": 38,
    "start_time": "2023-08-12T11:39:09.230Z"
   },
   {
    "duration": 30,
    "start_time": "2023-08-12T11:39:13.877Z"
   },
   {
    "duration": 1314,
    "start_time": "2023-08-12T11:39:16.197Z"
   },
   {
    "duration": 1241,
    "start_time": "2023-08-12T11:39:17.805Z"
   },
   {
    "duration": 11,
    "start_time": "2023-08-12T11:40:59.773Z"
   },
   {
    "duration": 82,
    "start_time": "2023-08-12T11:42:24.726Z"
   },
   {
    "duration": 66,
    "start_time": "2023-08-12T11:42:27.062Z"
   },
   {
    "duration": 76,
    "start_time": "2023-08-12T11:42:55.774Z"
   },
   {
    "duration": 118,
    "start_time": "2023-08-12T11:42:59.861Z"
   },
   {
    "duration": 85,
    "start_time": "2023-08-12T11:43:16.821Z"
   },
   {
    "duration": 495,
    "start_time": "2023-08-12T11:43:41.485Z"
   },
   {
    "duration": 23,
    "start_time": "2023-08-12T11:43:41.982Z"
   },
   {
    "duration": 21,
    "start_time": "2023-08-12T11:43:42.006Z"
   },
   {
    "duration": 11,
    "start_time": "2023-08-12T11:43:42.029Z"
   },
   {
    "duration": 35,
    "start_time": "2023-08-12T11:43:42.042Z"
   },
   {
    "duration": 17,
    "start_time": "2023-08-12T11:43:42.079Z"
   },
   {
    "duration": 24,
    "start_time": "2023-08-12T11:43:42.098Z"
   },
   {
    "duration": 11,
    "start_time": "2023-08-12T11:43:42.124Z"
   },
   {
    "duration": 11,
    "start_time": "2023-08-12T11:43:42.136Z"
   },
   {
    "duration": 4,
    "start_time": "2023-08-12T11:43:42.149Z"
   },
   {
    "duration": 43,
    "start_time": "2023-08-12T11:43:42.155Z"
   },
   {
    "duration": 9,
    "start_time": "2023-08-12T11:43:42.200Z"
   },
   {
    "duration": 5,
    "start_time": "2023-08-12T11:43:42.211Z"
   },
   {
    "duration": 20,
    "start_time": "2023-08-12T11:43:42.217Z"
   },
   {
    "duration": 21,
    "start_time": "2023-08-12T11:43:42.238Z"
   },
   {
    "duration": 17,
    "start_time": "2023-08-12T11:43:42.260Z"
   },
   {
    "duration": 17,
    "start_time": "2023-08-12T11:43:42.278Z"
   },
   {
    "duration": 11,
    "start_time": "2023-08-12T11:43:42.298Z"
   },
   {
    "duration": 17,
    "start_time": "2023-08-12T11:43:42.311Z"
   },
   {
    "duration": 8,
    "start_time": "2023-08-12T11:43:42.330Z"
   },
   {
    "duration": 27,
    "start_time": "2023-08-12T11:43:42.340Z"
   },
   {
    "duration": 8,
    "start_time": "2023-08-12T11:43:42.369Z"
   },
   {
    "duration": 321,
    "start_time": "2023-08-12T11:43:42.379Z"
   },
   {
    "duration": 33,
    "start_time": "2023-08-12T11:43:42.702Z"
   },
   {
    "duration": 30,
    "start_time": "2023-08-12T11:43:42.737Z"
   },
   {
    "duration": 54,
    "start_time": "2023-08-12T11:43:42.768Z"
   },
   {
    "duration": 10,
    "start_time": "2023-08-12T11:43:42.824Z"
   },
   {
    "duration": 4,
    "start_time": "2023-08-12T11:51:07.807Z"
   },
   {
    "duration": 80,
    "start_time": "2023-08-12T11:52:11.040Z"
   },
   {
    "duration": 406,
    "start_time": "2023-08-12T17:28:16.565Z"
   },
   {
    "duration": 24,
    "start_time": "2023-08-12T17:28:16.974Z"
   },
   {
    "duration": 53,
    "start_time": "2023-08-12T17:28:16.999Z"
   },
   {
    "duration": 13,
    "start_time": "2023-08-12T17:28:17.053Z"
   },
   {
    "duration": 42,
    "start_time": "2023-08-12T17:28:17.068Z"
   },
   {
    "duration": 9,
    "start_time": "2023-08-12T17:28:17.112Z"
   },
   {
    "duration": 22,
    "start_time": "2023-08-12T17:28:17.122Z"
   },
   {
    "duration": 9,
    "start_time": "2023-08-12T17:28:17.145Z"
   },
   {
    "duration": 12,
    "start_time": "2023-08-12T17:28:17.156Z"
   },
   {
    "duration": 7,
    "start_time": "2023-08-12T17:28:17.170Z"
   },
   {
    "duration": 43,
    "start_time": "2023-08-12T17:28:17.179Z"
   },
   {
    "duration": 14,
    "start_time": "2023-08-12T17:28:17.225Z"
   },
   {
    "duration": 14,
    "start_time": "2023-08-12T17:28:17.240Z"
   },
   {
    "duration": 16,
    "start_time": "2023-08-12T17:28:17.257Z"
   },
   {
    "duration": 47,
    "start_time": "2023-08-12T17:28:17.274Z"
   },
   {
    "duration": 22,
    "start_time": "2023-08-12T17:28:17.325Z"
   },
   {
    "duration": 4,
    "start_time": "2023-08-12T17:28:17.349Z"
   },
   {
    "duration": 18,
    "start_time": "2023-08-12T17:28:17.354Z"
   },
   {
    "duration": 7,
    "start_time": "2023-08-12T17:28:17.373Z"
   },
   {
    "duration": 7,
    "start_time": "2023-08-12T17:28:17.382Z"
   },
   {
    "duration": 46,
    "start_time": "2023-08-12T17:28:17.391Z"
   },
   {
    "duration": 10,
    "start_time": "2023-08-12T17:28:17.439Z"
   },
   {
    "duration": 328,
    "start_time": "2023-08-12T17:28:17.451Z"
   },
   {
    "duration": 46,
    "start_time": "2023-08-12T17:28:17.781Z"
   },
   {
    "duration": 28,
    "start_time": "2023-08-12T17:28:17.830Z"
   },
   {
    "duration": 49,
    "start_time": "2023-08-12T17:28:17.860Z"
   },
   {
    "duration": 20,
    "start_time": "2023-08-12T17:28:17.910Z"
   },
   {
    "duration": 214,
    "start_time": "2023-08-12T17:30:33.011Z"
   },
   {
    "duration": 214,
    "start_time": "2023-08-12T17:32:01.432Z"
   }
  ],
  "colab": {
   "name": "dpp_template_part2.ipynb",
   "provenance": []
  },
  "kernelspec": {
   "display_name": "Python 3 (ipykernel)",
   "language": "python",
   "name": "python3"
  },
  "language_info": {
   "codemirror_mode": {
    "name": "ipython",
    "version": 3
   },
   "file_extension": ".py",
   "mimetype": "text/x-python",
   "name": "python",
   "nbconvert_exporter": "python",
   "pygments_lexer": "ipython3",
   "version": "3.9.16"
  },
  "toc": {
   "base_numbering": 1,
   "nav_menu": {},
   "number_sections": true,
   "sideBar": true,
   "skip_h1_title": true,
   "title_cell": "Table of Contents",
   "title_sidebar": "Contents",
   "toc_cell": false,
   "toc_position": {
    "height": "calc(100% - 180px)",
    "left": "10px",
    "top": "150px",
    "width": "238.938px"
   },
   "toc_section_display": true,
   "toc_window_display": true
  }
 },
 "nbformat": 4,
 "nbformat_minor": 5
}
