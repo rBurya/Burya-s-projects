{
 "cells": [
  {
   "cell_type": "markdown",
   "id": "fbe43fe8",
   "metadata": {},
   "source": [
    "# Проект сервиса аренды самокатов\n",
    "\n",
    "Вы аналитик популярного сервиса аренды самокатов GoFast. Вам передали данные о некоторых пользователях из нескольких городов, а также об их поездках. Проанализируйте данные и проверьте некоторые гипотезы, которые могут помочь бизнесу вырасти.\n",
    "Чтобы совершать поездки по городу, пользователи сервиса GoFast пользуются мобильным приложением. Сервисом можно пользоваться:\n",
    " - без подписки\n",
    "        абонентская плата отсутствует;\n",
    "        стоимость одной минуты поездки — 8 рублей;\n",
    "        стоимость старта (начала поездки) — 50 рублей;\n",
    " - с подпиской Ultra\n",
    "        абонентская плата — 199 рублей в месяц;\n",
    "        стоимость одной минуты поездки — 6 рублей;\n",
    "        стоимость старта — бесплатно."
   ]
  },
  {
   "cell_type": "markdown",
   "id": "2b360d9b",
   "metadata": {},
   "source": [
    "# Описание данных\n",
    "В основных данных есть информация о пользователях, их поездках и подписках. \n",
    "\n",
    "Пользователи — users_go.csv  \n",
    "-   user_id - \tуникальный идентификатор пользователя  \n",
    "-    name - имя пользователя  \n",
    "-    age - возраст  \n",
    "-    city -\tгород  \n",
    "-    subscription_type -\tтип подписки (free, ultra)\n",
    "\n",
    "Поездки — rides_go.csv\n",
    "\n",
    "- user_id - уникальный идентификатор пользователя  \n",
    "- distance -\tрасстояние, которое пользователь проехал в текущей сессии (в метрах)  \n",
    "- duration -\tпродолжительность сессии (в минутах) — время с того момента, как пользователь нажал кнопку «Начать поездку» до момента, как он нажал кнопку «Завершить поездку»  \n",
    "- date -\tдата совершения поездки  \n",
    "\n",
    "Подписки — subscriptions_go.csv\n",
    "\n",
    "- subscription_type -\tтип подписки\n",
    "- minute_price -\tстоимость одной минуты поездки по данной подписке\n",
    "- start_ride_price - стоимость начала поездки\n",
    "- subscription_fee -\tстоимость ежемесячного платежа"
   ]
  },
  {
   "cell_type": "markdown",
   "id": "c42cbe00",
   "metadata": {},
   "source": [
    "#### Шаг 1. Загрузка данных"
   ]
  },
  {
   "cell_type": "markdown",
   "id": "d4729fd1",
   "metadata": {},
   "source": [
    "Загрузим необходимые библиотеки"
   ]
  },
  {
   "cell_type": "code",
   "execution_count": 1,
   "id": "37af3224",
   "metadata": {},
   "outputs": [],
   "source": [
    "import pandas as pd\n",
    "from matplotlib import pyplot as plt\n",
    "import numpy as np\n",
    "from scipy import stats as st"
   ]
  },
  {
   "cell_type": "code",
   "execution_count": 2,
   "id": "eff9f206",
   "metadata": {},
   "outputs": [],
   "source": [
    "# Чтение данных\n",
    "\n",
    "users_go = pd.read_csv(\"C://Users/rdl_b/OneDrive/Рабочий стол/python/Yandex Practicum/Загрузка проектов/Проект 4/users_go.csv\")\n",
    "rides_go = pd.read_csv(\"C://Users/rdl_b/OneDrive/Рабочий стол/python/Yandex Practicum/Загрузка проектов/Проект 4/rides_go.csv\")\n",
    "subscriptions_go = pd.read_csv(\"C://Users/rdl_b/OneDrive/Рабочий стол/python/Yandex Practicum/Загрузка проектов/Проект 4/subscriptions_go.csv\")"
   ]
  },
  {
   "cell_type": "code",
   "execution_count": 3,
   "id": "1e022c82",
   "metadata": {
    "scrolled": false
   },
   "outputs": [
    {
     "name": "stdout",
     "output_type": "stream",
     "text": [
      "<class 'pandas.core.frame.DataFrame'>\n",
      "RangeIndex: 1565 entries, 0 to 1564\n",
      "Data columns (total 5 columns):\n",
      " #   Column             Non-Null Count  Dtype \n",
      "---  ------             --------------  ----- \n",
      " 0   user_id            1565 non-null   int64 \n",
      " 1   name               1565 non-null   object\n",
      " 2   age                1565 non-null   int64 \n",
      " 3   city               1565 non-null   object\n",
      " 4   subscription_type  1565 non-null   object\n",
      "dtypes: int64(2), object(3)\n",
      "memory usage: 61.3+ KB\n",
      "None\n",
      "\n",
      "           user_id          age\n",
      "count  1565.000000  1565.000000\n",
      "mean    762.633866    24.922045\n",
      "std     443.260155     4.553496\n",
      "min       1.000000    12.000000\n",
      "25%     378.000000    22.000000\n",
      "50%     762.000000    25.000000\n",
      "75%    1146.000000    28.000000\n",
      "max    1534.000000    43.000000\n"
     ]
    },
    {
     "data": {
      "text/html": [
       "<div>\n",
       "<style scoped>\n",
       "    .dataframe tbody tr th:only-of-type {\n",
       "        vertical-align: middle;\n",
       "    }\n",
       "\n",
       "    .dataframe tbody tr th {\n",
       "        vertical-align: top;\n",
       "    }\n",
       "\n",
       "    .dataframe thead th {\n",
       "        text-align: right;\n",
       "    }\n",
       "</style>\n",
       "<table border=\"1\" class=\"dataframe\">\n",
       "  <thead>\n",
       "    <tr style=\"text-align: right;\">\n",
       "      <th></th>\n",
       "      <th>user_id</th>\n",
       "      <th>name</th>\n",
       "      <th>age</th>\n",
       "      <th>city</th>\n",
       "      <th>subscription_type</th>\n",
       "    </tr>\n",
       "  </thead>\n",
       "  <tbody>\n",
       "    <tr>\n",
       "      <th>0</th>\n",
       "      <td>1</td>\n",
       "      <td>Кира</td>\n",
       "      <td>22</td>\n",
       "      <td>Тюмень</td>\n",
       "      <td>ultra</td>\n",
       "    </tr>\n",
       "    <tr>\n",
       "      <th>1</th>\n",
       "      <td>2</td>\n",
       "      <td>Станислав</td>\n",
       "      <td>31</td>\n",
       "      <td>Омск</td>\n",
       "      <td>ultra</td>\n",
       "    </tr>\n",
       "    <tr>\n",
       "      <th>2</th>\n",
       "      <td>3</td>\n",
       "      <td>Алексей</td>\n",
       "      <td>20</td>\n",
       "      <td>Москва</td>\n",
       "      <td>ultra</td>\n",
       "    </tr>\n",
       "    <tr>\n",
       "      <th>3</th>\n",
       "      <td>4</td>\n",
       "      <td>Константин</td>\n",
       "      <td>26</td>\n",
       "      <td>Ростов-на-Дону</td>\n",
       "      <td>ultra</td>\n",
       "    </tr>\n",
       "    <tr>\n",
       "      <th>4</th>\n",
       "      <td>5</td>\n",
       "      <td>Адель</td>\n",
       "      <td>28</td>\n",
       "      <td>Омск</td>\n",
       "      <td>ultra</td>\n",
       "    </tr>\n",
       "  </tbody>\n",
       "</table>\n",
       "</div>"
      ],
      "text/plain": [
       "   user_id        name  age            city subscription_type\n",
       "0        1        Кира   22          Тюмень             ultra\n",
       "1        2   Станислав   31            Омск             ultra\n",
       "2        3     Алексей   20          Москва             ultra\n",
       "3        4  Константин   26  Ростов-на-Дону             ultra\n",
       "4        5       Адель   28            Омск             ultra"
      ]
     },
     "execution_count": 3,
     "metadata": {},
     "output_type": "execute_result"
    },
    {
     "data": {
      "image/png": "[encoded data removed]",
      "text/plain": [
       "<Figure size 640x480 with 1 Axes>"
      ]
     },
     "metadata": {},
     "output_type": "display_data"
    }
   ],
   "source": [
    "# Выведем информацию по датафрейму users_go\n",
    "print(users_go.info()) \n",
    "print()\n",
    "print(users_go.describe())\n",
    "users_go['age'].hist()\n",
    "plt.xlabel('Возраст')\n",
    "plt.ylabel('Количество пользователей')\n",
    "plt.title('Распределение возрастов пользователей')\n",
    "users_go.head()"
   ]
  },
  {
   "cell_type": "code",
   "execution_count": 4,
   "id": "ddbf4ba0",
   "metadata": {},
   "outputs": [
    {
     "name": "stdout",
     "output_type": "stream",
     "text": [
      "1565 - всего строк\n",
      "1534 - уникальных значений\n"
     ]
    }
   ],
   "source": [
    "# Уникальные идентификаторы\n",
    "print(users_go['user_id'].count(), \"- всего строк\")\n",
    "print(len(users_go['user_id'].unique()), \"- уникальных значений\")"
   ]
  },
  {
   "cell_type": "markdown",
   "id": "6cde1be5",
   "metadata": {},
   "source": [
    "В user_id  имеются дубликаты идентификаторов"
   ]
  },
  {
   "cell_type": "code",
   "execution_count": 5,
   "id": "5c94f675",
   "metadata": {
    "scrolled": true
   },
   "outputs": [
    {
     "data": {
      "text/plain": [
       "array(['Тюмень', 'Омск', 'Москва', 'Ростов-на-Дону', 'Краснодар',\n",
       "       'Пятигорск', 'Екатеринбург', 'Сочи'], dtype=object)"
      ]
     },
     "execution_count": 5,
     "metadata": {},
     "output_type": "execute_result"
    }
   ],
   "source": [
    "# Уникальные названия населенных пунктов\n",
    "users_go['city'].unique()"
   ]
  },
  {
   "cell_type": "markdown",
   "id": "479f5dfd",
   "metadata": {},
   "source": [
    "Неявные дубликаты в столбце ‘city’ не обнаружены."
   ]
  },
  {
   "cell_type": "code",
   "execution_count": 6,
   "id": "797f2e35",
   "metadata": {},
   "outputs": [
    {
     "data": {
      "text/plain": [
       "array(['ultra', 'free'], dtype=object)"
      ]
     },
     "execution_count": 6,
     "metadata": {},
     "output_type": "execute_result"
    }
   ],
   "source": [
    "# Уникальные типы\n",
    "users_go['subscription_type'].unique()"
   ]
  },
  {
   "cell_type": "markdown",
   "id": "9c07984a",
   "metadata": {},
   "source": [
    "Имеющиеся значения в столбце ‘subscription_type’ позволяют изменить ‘ultra’ и ‘free’ на True и False соответственно, а также использовать для этого столбца тип данных ‘bool’."
   ]
  },
  {
   "cell_type": "code",
   "execution_count": 7,
   "id": "3177238e",
   "metadata": {},
   "outputs": [
    {
     "name": "stdout",
     "output_type": "stream",
     "text": [
      "<class 'pandas.core.frame.DataFrame'>\n",
      "RangeIndex: 18068 entries, 0 to 18067\n",
      "Data columns (total 4 columns):\n",
      " #   Column    Non-Null Count  Dtype  \n",
      "---  ------    --------------  -----  \n",
      " 0   user_id   18068 non-null  int64  \n",
      " 1   distance  18068 non-null  float64\n",
      " 2   duration  18068 non-null  float64\n",
      " 3   date      18068 non-null  object \n",
      "dtypes: float64(2), int64(1), object(1)\n",
      "memory usage: 564.8+ KB\n",
      "None\n",
      "\n",
      "            user_id      distance      duration\n",
      "count  18068.000000  18068.000000  18068.000000\n",
      "mean     842.869936   3070.659976     17.805011\n",
      "std      434.734317   1116.831209      6.091051\n",
      "min        1.000000      0.855683      0.500000\n",
      "25%      487.000000   2543.226360     13.597563\n",
      "50%      889.000000   3133.609994     17.678395\n",
      "75%     1213.250000   3776.222735     21.724800\n",
      "max     1534.000000   7211.007745     40.823963\n",
      "   user_id     distance   duration        date\n",
      "0        1  4409.919140  25.599769  2021-01-01\n",
      "1        1  2617.592153  15.816871  2021-01-18\n",
      "2        1   754.159807   6.232113  2021-04-20\n",
      "3        1  2694.783254  18.511000  2021-08-11\n",
      "4        1  4028.687306  26.265803  2021-08-28\n"
     ]
    },
    {
     "data": {
      "image/png": "[encoded data removed]",
      "text/plain": [
       "<Figure size 640x480 with 1 Axes>"
      ]
     },
     "metadata": {},
     "output_type": "display_data"
    },
    {
     "data": {
      "text/plain": [
       "Text(0.5, 1.0, 'Распределение по длительности поездки')"
      ]
     },
     "execution_count": 7,
     "metadata": {},
     "output_type": "execute_result"
    },
    {
     "data": {
      "image/png": "[encoded data removed]",
      "text/plain": [
       "<Figure size 640x480 with 1 Axes>"
      ]
     },
     "metadata": {},
     "output_type": "display_data"
    }
   ],
   "source": [
    "# Изучение датафрейма 'rides_go' \n",
    "print(rides_go.info())\n",
    "print()\n",
    "print(rides_go.describe())\n",
    "print(rides_go.head())\n",
    "rides_go['distance'].hist() \n",
    "plt.xlabel('Дистанция, м')\n",
    "plt.ylabel('Количество поездок')\n",
    "plt.title('Распределение пройденной дистанции поездки')\n",
    "plt.show()\n",
    "rides_go['duration'].hist() \n",
    "plt.xlabel('Длительность, мин')\n",
    "plt.ylabel('Количество поездок')\n",
    "plt.title('Распределение по длительности поездки')\n"
   ]
  },
  {
   "cell_type": "markdown",
   "id": "f067c2e4",
   "metadata": {},
   "source": [
    "В датафрейме ‘rides_go’ обнаружены 4 столбца и 18068 строк без пропусков и выбросов. Тип столбца  ‘date’ не оптимален. Названия столбцов соответствуют ‘змеиному’ стилю. Возможно наличие выбросов в столбцах ‘distance’ и ‘duration’."
   ]
  },
  {
   "cell_type": "code",
   "execution_count": 8,
   "id": "2b95de0d",
   "metadata": {},
   "outputs": [
    {
     "name": "stdout",
     "output_type": "stream",
     "text": [
      "18068 - всего строк\n",
      "1534 - уникальных значений\n"
     ]
    }
   ],
   "source": [
    "# Уникальные идентификаторы\n",
    "print(rides_go['user_id'].count(), \"- всего строк\")\n",
    "print(len(rides_go['user_id'].unique()), \"- уникальных значений\")"
   ]
  },
  {
   "cell_type": "code",
   "execution_count": 9,
   "id": "405871b5",
   "metadata": {
    "scrolled": true
   },
   "outputs": [
    {
     "name": "stdout",
     "output_type": "stream",
     "text": [
      "<class 'pandas.core.frame.DataFrame'>\n",
      "RangeIndex: 2 entries, 0 to 1\n",
      "Data columns (total 4 columns):\n",
      " #   Column             Non-Null Count  Dtype \n",
      "---  ------             --------------  ----- \n",
      " 0   subscription_type  2 non-null      object\n",
      " 1   minute_price       2 non-null      int64 \n",
      " 2   start_ride_price   2 non-null      int64 \n",
      " 3   subscription_fee   2 non-null      int64 \n",
      "dtypes: int64(3), object(1)\n",
      "memory usage: 192.0+ bytes\n",
      "None\n"
     ]
    },
    {
     "data": {
      "text/html": [
       "<div>\n",
       "<style scoped>\n",
       "    .dataframe tbody tr th:only-of-type {\n",
       "        vertical-align: middle;\n",
       "    }\n",
       "\n",
       "    .dataframe tbody tr th {\n",
       "        vertical-align: top;\n",
       "    }\n",
       "\n",
       "    .dataframe thead th {\n",
       "        text-align: right;\n",
       "    }\n",
       "</style>\n",
       "<table border=\"1\" class=\"dataframe\">\n",
       "  <thead>\n",
       "    <tr style=\"text-align: right;\">\n",
       "      <th></th>\n",
       "      <th>subscription_type</th>\n",
       "      <th>minute_price</th>\n",
       "      <th>start_ride_price</th>\n",
       "      <th>subscription_fee</th>\n",
       "    </tr>\n",
       "  </thead>\n",
       "  <tbody>\n",
       "    <tr>\n",
       "      <th>0</th>\n",
       "      <td>free</td>\n",
       "      <td>8</td>\n",
       "      <td>50</td>\n",
       "      <td>0</td>\n",
       "    </tr>\n",
       "    <tr>\n",
       "      <th>1</th>\n",
       "      <td>ultra</td>\n",
       "      <td>6</td>\n",
       "      <td>0</td>\n",
       "      <td>199</td>\n",
       "    </tr>\n",
       "  </tbody>\n",
       "</table>\n",
       "</div>"
      ],
      "text/plain": [
       "  subscription_type  minute_price  start_ride_price  subscription_fee\n",
       "0              free             8                50                 0\n",
       "1             ultra             6                 0               199"
      ]
     },
     "execution_count": 9,
     "metadata": {},
     "output_type": "execute_result"
    }
   ],
   "source": [
    "# Изучение датафрейма 'subscriptions_go' \n",
    "print(subscriptions_go.info())\n",
    "subscriptions_go.head() "
   ]
  },
  {
   "cell_type": "markdown",
   "id": "e95ebca7",
   "metadata": {},
   "source": [
    "#### Шаг 2. Предобработка данных"
   ]
  },
  {
   "cell_type": "markdown",
   "id": "ce596855",
   "metadata": {},
   "source": [
    "#####  Приведите столбец date к типу даты pandas.  \n"
   ]
  },
  {
   "cell_type": "code",
   "execution_count": 10,
   "id": "bfd16e57",
   "metadata": {},
   "outputs": [],
   "source": [
    "# Изменем столбец 'date' в датафрейме'rides_go'\n",
    "rides_go['date'] = pd.to_datetime(rides_go['date'], format='%Y-%m-%d')"
   ]
  },
  {
   "cell_type": "code",
   "execution_count": 11,
   "id": "a10a115f",
   "metadata": {
    "scrolled": true
   },
   "outputs": [
    {
     "name": "stdout",
     "output_type": "stream",
     "text": [
      "<class 'pandas.core.frame.DataFrame'>\n",
      "RangeIndex: 18068 entries, 0 to 18067\n",
      "Data columns (total 4 columns):\n",
      " #   Column    Non-Null Count  Dtype         \n",
      "---  ------    --------------  -----         \n",
      " 0   user_id   18068 non-null  int64         \n",
      " 1   distance  18068 non-null  float64       \n",
      " 2   duration  18068 non-null  float64       \n",
      " 3   date      18068 non-null  datetime64[ns]\n",
      "dtypes: datetime64[ns](1), float64(2), int64(1)\n",
      "memory usage: 564.8 KB\n"
     ]
    }
   ],
   "source": [
    "rides_go.info()"
   ]
  },
  {
   "cell_type": "markdown",
   "id": "18be9f52",
   "metadata": {},
   "source": [
    "##### Создайте новый столбец с номером месяца на основе столбца date.  "
   ]
  },
  {
   "cell_type": "code",
   "execution_count": 12,
   "id": "7976abfb",
   "metadata": {
    "scrolled": true
   },
   "outputs": [
    {
     "name": "stdout",
     "output_type": "stream",
     "text": [
      "Int64Index([2021], dtype='int64', name='date')\n"
     ]
    },
    {
     "data": {
      "text/plain": [
       "0         1\n",
       "1         1\n",
       "2         4\n",
       "3         8\n",
       "4         8\n",
       "         ..\n",
       "18063    11\n",
       "18064    11\n",
       "18065    11\n",
       "18066    11\n",
       "18067    12\n",
       "Name: month, Length: 18068, dtype: int64"
      ]
     },
     "execution_count": 12,
     "metadata": {},
     "output_type": "execute_result"
    }
   ],
   "source": [
    "rides_go['month'] = pd.DatetimeIndex(rides_go['date']).month\n",
    "\n",
    "# проверим за какие года имеются данные\n",
    "print(pd.DatetimeIndex(rides_go['date']).year.unique())\n",
    "\n",
    "# выведем столбец с месяцами\n",
    "rides_go['month']"
   ]
  },
  {
   "cell_type": "markdown",
   "id": "67ae8a94",
   "metadata": {},
   "source": [
    "#####  Проверьте наличие пропущенных значений и дубликатов в датафреймах. Обработайте их, если такие значения присутствуют."
   ]
  },
  {
   "cell_type": "code",
   "execution_count": 13,
   "id": "83f8996c",
   "metadata": {},
   "outputs": [
    {
     "data": {
      "text/plain": [
       "user_id              31\n",
       "name                 31\n",
       "age                  31\n",
       "city                 31\n",
       "subscription_type    31\n",
       "dtype: int64"
      ]
     },
     "execution_count": 13,
     "metadata": {},
     "output_type": "execute_result"
    }
   ],
   "source": [
    "# Проверка наличия дубликатов в 'users_go'\n",
    "users_go.sort_values(by='user_id').loc[users_go['user_id'].duplicated() == True].count()"
   ]
  },
  {
   "cell_type": "code",
   "execution_count": 14,
   "id": "bc4e7f1e",
   "metadata": {},
   "outputs": [],
   "source": [
    "# Удаление дубликатов\n",
    "users_go = users_go.sort_values(by='user_id').loc[users_go['user_id'].duplicated() == False]"
   ]
  },
  {
   "cell_type": "code",
   "execution_count": 15,
   "id": "31fbd2c8",
   "metadata": {
    "scrolled": false
   },
   "outputs": [
    {
     "data": {
      "text/plain": [
       "user_id              0\n",
       "name                 0\n",
       "age                  0\n",
       "city                 0\n",
       "subscription_type    0\n",
       "dtype: int64"
      ]
     },
     "execution_count": 15,
     "metadata": {},
     "output_type": "execute_result"
    }
   ],
   "source": [
    "# Проверка наличия дубликатов в 'users_go'\n",
    "users_go.sort_values(by='user_id').loc[users_go['user_id'].duplicated() == True].count()"
   ]
  },
  {
   "cell_type": "markdown",
   "id": "06503d44",
   "metadata": {},
   "source": [
    "**Промежуточный вывод**\n",
    "1. В DataFrame users_go - имеются дубликаты идентификаторов. Неявные дубликаты в столбце ‘city’ не обнаружены. Пропуски отсутствуют\n",
    "2. В датафрейме ‘rides_go’ отсутствуют пропуски, дубликаты и выбросы\n",
    "3. В датафрейме subscriptions_go - обнаружены 4 столбца и 2 строки без пропусков и выбросов.\n"
   ]
  },
  {
   "cell_type": "markdown",
   "id": "212593c7",
   "metadata": {},
   "source": [
    "#### Шаг 3. Исследовательский анализ данных"
   ]
  },
  {
   "cell_type": "markdown",
   "id": "00e62897",
   "metadata": {},
   "source": [
    "Опишите и визуализируйте общую информацию о пользователях и поездках:  \n",
    "3.1 частота встречаемости городов;  \n",
    "3.2 соотношение пользователей с подпиской и без подписки;  \n",
    "3.3 возраст пользователей;  \n",
    "3.4 расстояние, которое пользователь преодолел за одну поездку;  \n",
    "3.5 продолжительность поездок.  \n"
   ]
  },
  {
   "cell_type": "markdown",
   "id": "2d74ab95",
   "metadata": {},
   "source": [
    "##### Частота встречаемости городов;"
   ]
  },
  {
   "cell_type": "code",
   "execution_count": 16,
   "id": "080d8a7b",
   "metadata": {
    "scrolled": true
   },
   "outputs": [],
   "source": [
    "cities = users_go.groupby('city')['user_id'].count().reset_index(name='count')\n",
    "cities = cities.sort_values(by = 'count')"
   ]
  },
  {
   "cell_type": "code",
   "execution_count": 17,
   "id": "e3a4274c",
   "metadata": {},
   "outputs": [
    {
     "data": {
      "text/plain": [
       "Text(0.5, 1.0, 'Статистика пользователей по городам')"
      ]
     },
     "execution_count": 17,
     "metadata": {},
     "output_type": "execute_result"
    },
    {
     "data": {
      "image/png": "[encoded data removed]",
      "text/plain": [
       "<Figure size 640x480 with 1 Axes>"
      ]
     },
     "metadata": {},
     "output_type": "display_data"
    }
   ],
   "source": [
    "plt.barh(cities['city'], cities['count'])\n",
    "plt.xlabel('Количество пользователей')\n",
    "plt.ylabel('Город')\n",
    "plt.title('Статистика пользователей по городам')"
   ]
  },
  {
   "cell_type": "code",
   "execution_count": 18,
   "id": "ec4ef893",
   "metadata": {},
   "outputs": [
    {
     "data": {
      "text/html": [
       "<div>\n",
       "<style scoped>\n",
       "    .dataframe tbody tr th:only-of-type {\n",
       "        vertical-align: middle;\n",
       "    }\n",
       "\n",
       "    .dataframe tbody tr th {\n",
       "        vertical-align: top;\n",
       "    }\n",
       "\n",
       "    .dataframe thead th {\n",
       "        text-align: right;\n",
       "    }\n",
       "</style>\n",
       "<table border=\"1\" class=\"dataframe\">\n",
       "  <thead>\n",
       "    <tr style=\"text-align: right;\">\n",
       "      <th></th>\n",
       "      <th>city</th>\n",
       "      <th>count</th>\n",
       "    </tr>\n",
       "  </thead>\n",
       "  <tbody>\n",
       "    <tr>\n",
       "      <th>4</th>\n",
       "      <td>Пятигорск</td>\n",
       "      <td>219</td>\n",
       "    </tr>\n",
       "    <tr>\n",
       "      <th>0</th>\n",
       "      <td>Екатеринбург</td>\n",
       "      <td>204</td>\n",
       "    </tr>\n",
       "    <tr>\n",
       "      <th>5</th>\n",
       "      <td>Ростов-на-Дону</td>\n",
       "      <td>198</td>\n",
       "    </tr>\n",
       "    <tr>\n",
       "      <th>1</th>\n",
       "      <td>Краснодар</td>\n",
       "      <td>193</td>\n",
       "    </tr>\n",
       "    <tr>\n",
       "      <th>6</th>\n",
       "      <td>Сочи</td>\n",
       "      <td>189</td>\n",
       "    </tr>\n",
       "    <tr>\n",
       "      <th>3</th>\n",
       "      <td>Омск</td>\n",
       "      <td>183</td>\n",
       "    </tr>\n",
       "    <tr>\n",
       "      <th>7</th>\n",
       "      <td>Тюмень</td>\n",
       "      <td>180</td>\n",
       "    </tr>\n",
       "    <tr>\n",
       "      <th>2</th>\n",
       "      <td>Москва</td>\n",
       "      <td>168</td>\n",
       "    </tr>\n",
       "  </tbody>\n",
       "</table>\n",
       "</div>"
      ],
      "text/plain": [
       "             city  count\n",
       "4       Пятигорск    219\n",
       "0    Екатеринбург    204\n",
       "5  Ростов-на-Дону    198\n",
       "1       Краснодар    193\n",
       "6            Сочи    189\n",
       "3            Омск    183\n",
       "7          Тюмень    180\n",
       "2          Москва    168"
      ]
     },
     "execution_count": 18,
     "metadata": {},
     "output_type": "execute_result"
    }
   ],
   "source": [
    "cities.sort_values(by = 'count', ascending = False)"
   ]
  },
  {
   "cell_type": "markdown",
   "id": "0cf20470",
   "metadata": {},
   "source": [
    "Лидером по частотности является Пятигорск (219 строк). Следом идут Екатеринбург (204 строки) и Ростов-на-Дону (198 строк). Антилидер — Москва (168 строк)."
   ]
  },
  {
   "cell_type": "markdown",
   "id": "3ed05139",
   "metadata": {},
   "source": [
    "##### Cоотношение пользователей с подпиской и без подписки;"
   ]
  },
  {
   "cell_type": "code",
   "execution_count": 19,
   "id": "fd95be67",
   "metadata": {
    "scrolled": false
   },
   "outputs": [
    {
     "data": {
      "text/html": [
       "<div>\n",
       "<style scoped>\n",
       "    .dataframe tbody tr th:only-of-type {\n",
       "        vertical-align: middle;\n",
       "    }\n",
       "\n",
       "    .dataframe tbody tr th {\n",
       "        vertical-align: top;\n",
       "    }\n",
       "\n",
       "    .dataframe thead th {\n",
       "        text-align: right;\n",
       "    }\n",
       "</style>\n",
       "<table border=\"1\" class=\"dataframe\">\n",
       "  <thead>\n",
       "    <tr style=\"text-align: right;\">\n",
       "      <th></th>\n",
       "      <th>subscription_type</th>\n",
       "      <th>count</th>\n",
       "      <th>percent</th>\n",
       "    </tr>\n",
       "  </thead>\n",
       "  <tbody>\n",
       "    <tr>\n",
       "      <th>1</th>\n",
       "      <td>ultra</td>\n",
       "      <td>699</td>\n",
       "      <td>0.455671</td>\n",
       "    </tr>\n",
       "    <tr>\n",
       "      <th>0</th>\n",
       "      <td>free</td>\n",
       "      <td>835</td>\n",
       "      <td>0.544329</td>\n",
       "    </tr>\n",
       "  </tbody>\n",
       "</table>\n",
       "</div>"
      ],
      "text/plain": [
       "  subscription_type  count   percent\n",
       "1             ultra    699  0.455671\n",
       "0              free    835  0.544329"
      ]
     },
     "execution_count": 19,
     "metadata": {},
     "output_type": "execute_result"
    }
   ],
   "source": [
    "subs = users_go.groupby('subscription_type')['user_id'].count().reset_index(name='count').sort_values(by = 'count')\n",
    "subs['percent'] = subs['count'] / subs['count'].sum()\n",
    "subs"
   ]
  },
  {
   "cell_type": "markdown",
   "id": "e9cf8c34",
   "metadata": {},
   "source": [
    "Пользователей с подпиской «free» всего 835, что составляет 54.43% от общего количества и на 136 больше, чем с подпиской «ultra»."
   ]
  },
  {
   "cell_type": "code",
   "execution_count": 20,
   "id": "b52785ae",
   "metadata": {},
   "outputs": [
    {
     "data": {
      "image/png": "[encoded data removed]",
      "text/plain": [
       "<Figure size 300x300 with 1 Axes>"
      ]
     },
     "metadata": {},
     "output_type": "display_data"
    }
   ],
   "source": [
    "plt.figure(figsize=(3, 3)) \n",
    "plt.pie(subs['count'], labels=subs['subscription_type'], autopct='%1.1f%%', startangle=140)\n",
    "plt.title('Распределение типов подписок')\n",
    "plt.axis('equal')  \n",
    "plt.show()"
   ]
  },
  {
   "cell_type": "markdown",
   "id": "fad1b706",
   "metadata": {},
   "source": [
    "##### Возраст пользователей;"
   ]
  },
  {
   "cell_type": "code",
   "execution_count": 21,
   "id": "7df24ce2",
   "metadata": {
    "scrolled": true
   },
   "outputs": [
    {
     "data": {
      "text/plain": [
       "Text(0.5, 1.0, 'Распределение возрастов пользователей')"
      ]
     },
     "execution_count": 21,
     "metadata": {},
     "output_type": "execute_result"
    },
    {
     "data": {
      "image/png": "[encoded data removed]",
      "text/plain": [
       "<Figure size 640x480 with 1 Axes>"
      ]
     },
     "metadata": {},
     "output_type": "display_data"
    }
   ],
   "source": [
    "users_go['age'].hist(bins = 30)\n",
    "users_go['age'].describe()\n",
    "plt.xlabel('Возраст')\n",
    "plt.ylabel('Количество пользователей')\n",
    "plt.title('Распределение возрастов пользователей')"
   ]
  },
  {
   "cell_type": "markdown",
   "id": "4bbea02b",
   "metadata": {},
   "source": [
    "Услугами сервиса аренды самокатов пользуются люди от 12 до 43 лет. Распределение возрастной кривой имеет нормальное распределение. Максимальное количество пользователей в возрасте 25 лет, этот же возраст является медианным."
   ]
  },
  {
   "cell_type": "markdown",
   "id": "341dfe7d",
   "metadata": {},
   "source": [
    "##### Расстояние, которое пользователь преодолел за одну поездку;"
   ]
  },
  {
   "cell_type": "code",
   "execution_count": 22,
   "id": "ab1056b3",
   "metadata": {},
   "outputs": [
    {
     "data": {
      "text/plain": [
       "count    18068.000000\n",
       "mean      3070.659976\n",
       "std       1116.831209\n",
       "min          0.855683\n",
       "25%       2543.226360\n",
       "50%       3133.609994\n",
       "75%       3776.222735\n",
       "max       7211.007745\n",
       "Name: distance, dtype: float64"
      ]
     },
     "execution_count": 22,
     "metadata": {},
     "output_type": "execute_result"
    },
    {
     "data": {
      "image/png": "[encoded data removed]",
      "text/plain": [
       "<Figure size 640x480 with 1 Axes>"
      ]
     },
     "metadata": {},
     "output_type": "display_data"
    }
   ],
   "source": [
    "rides_go['distance'].hist(bins = 30)\n",
    "plt.xlabel('Расстояние, м')\n",
    "plt.ylabel('Количество поездок')\n",
    "plt.title('Распределение по пройденому расстоянию')\n",
    "\n",
    "rides_go['distance'].describe()"
   ]
  },
  {
   "cell_type": "markdown",
   "id": "0281885b",
   "metadata": {},
   "source": [
    "За одну поездку пользователи преодолевают от 1 до 7211 метров. Медиана всех значений равна 3134 метров. Наблюдаются два пика. Малый пик около 700 метров, большой пик около 3200 метров. Между пиками значения нормально распределены."
   ]
  },
  {
   "cell_type": "code",
   "execution_count": 23,
   "id": "cb7e7e25",
   "metadata": {},
   "outputs": [
    {
     "data": {
      "text/plain": [
       "count    18068.000000\n",
       "mean        17.805011\n",
       "std          6.091051\n",
       "min          0.500000\n",
       "25%         13.597563\n",
       "50%         17.678395\n",
       "75%         21.724800\n",
       "max         40.823963\n",
       "Name: duration, dtype: float64"
      ]
     },
     "execution_count": 23,
     "metadata": {},
     "output_type": "execute_result"
    },
    {
     "data": {
      "image/png": "[encoded data removed]",
      "text/plain": [
       "<Figure size 640x480 with 1 Axes>"
      ]
     },
     "metadata": {},
     "output_type": "display_data"
    }
   ],
   "source": [
    "rides_go['duration'].hist(bins = 50)\n",
    "plt.xlabel('Продолжительность поездок, мин')\n",
    "plt.ylabel('Количество поездокй')\n",
    "plt.title('Распределение по времени поездки')\n",
    "rides_go['duration'].describe()"
   ]
  },
  {
   "cell_type": "markdown",
   "id": "1f556d90",
   "metadata": {},
   "source": [
    "Продолжительность поездок нормально распределена от 0 до 41 минуты. Продолжительность в 18 минут является как наиболее распространенной так и медианным значением.\n",
    "\n",
    "Наблюдается анамалия размером менее 100 поездок с продолжительностью в 1 минуту. Однако, они не являются выбрасами, т.к. подкреплены данными о поездках со столь же маленькими дистанциями."
   ]
  },
  {
   "cell_type": "markdown",
   "id": "5c6720b9",
   "metadata": {},
   "source": [
    "**ПРОМЕЖУТОЧНЫЕ ВЫВОДЫ ИССЛЕДОВАТЕЛЬСКОГО АНАЛИЗА**  \n",
    "Услугами сервиса аренды самокатов пользуются люди от 12 до 43 лет. Максимальное количество пользователей в возрасте 25 лет, этот же возраст является медианным.\n",
    "\n",
    "Большая часть всех пользователей используют подписку «free». Всего их 835, что составляет 54.43% от общего количества и на 136 больше, чем с подпиской «ultra».\n",
    "\n",
    "Максимальное количество в 219 поездок совершено в Пятигорске. Минимальное количество в 168 поездок совершено в Москве.\n",
    "\n",
    "За одну поездку пользователи преодолевают от 1 до 7211 метров. Медиана всех значений равна 3134 метров. Наблюдаются два пика. Малый пик около 700 метров, большой пик около 3200 метров. Между пиками значения нормально распределены.\n",
    "\n",
    "Продолжительность поездок нормально распределена от 0 до 41 минуты. Продолжительность в 18 минут является как наиболее распространенной так и медианным значением. Наблюдается выброс размером менее 100 поездок с продолжительностью в 1 минуту."
   ]
  },
  {
   "cell_type": "markdown",
   "id": "4ef51331",
   "metadata": {},
   "source": [
    "#### Шаг 4. Объединение данных"
   ]
  },
  {
   "cell_type": "markdown",
   "id": "98ebd876",
   "metadata": {},
   "source": [
    "##### Объедините данные о пользователях, поездках и подписках в один датафрейм. Для этого воспользуйтесь методом merge().  \n"
   ]
  },
  {
   "cell_type": "code",
   "execution_count": 24,
   "id": "12181af3",
   "metadata": {},
   "outputs": [],
   "source": [
    "# Общая таблица с данными\n",
    "total_go = users_go.merge(rides_go, on='user_id').merge(subscriptions_go, on='subscription_type')"
   ]
  },
  {
   "cell_type": "code",
   "execution_count": 25,
   "id": "d0ad8fce",
   "metadata": {
    "scrolled": false
   },
   "outputs": [
    {
     "data": {
      "text/html": [
       "<div>\n",
       "<style scoped>\n",
       "    .dataframe tbody tr th:only-of-type {\n",
       "        vertical-align: middle;\n",
       "    }\n",
       "\n",
       "    .dataframe tbody tr th {\n",
       "        vertical-align: top;\n",
       "    }\n",
       "\n",
       "    .dataframe thead th {\n",
       "        text-align: right;\n",
       "    }\n",
       "</style>\n",
       "<table border=\"1\" class=\"dataframe\">\n",
       "  <thead>\n",
       "    <tr style=\"text-align: right;\">\n",
       "      <th></th>\n",
       "      <th>user_id</th>\n",
       "      <th>name</th>\n",
       "      <th>age</th>\n",
       "      <th>city</th>\n",
       "      <th>subscription_type</th>\n",
       "      <th>distance</th>\n",
       "      <th>duration</th>\n",
       "      <th>date</th>\n",
       "      <th>month</th>\n",
       "      <th>minute_price</th>\n",
       "      <th>start_ride_price</th>\n",
       "      <th>subscription_fee</th>\n",
       "    </tr>\n",
       "  </thead>\n",
       "  <tbody>\n",
       "    <tr>\n",
       "      <th>0</th>\n",
       "      <td>1</td>\n",
       "      <td>Кира</td>\n",
       "      <td>22</td>\n",
       "      <td>Тюмень</td>\n",
       "      <td>ultra</td>\n",
       "      <td>4409.919140</td>\n",
       "      <td>25.599769</td>\n",
       "      <td>2021-01-01</td>\n",
       "      <td>1</td>\n",
       "      <td>6</td>\n",
       "      <td>0</td>\n",
       "      <td>199</td>\n",
       "    </tr>\n",
       "    <tr>\n",
       "      <th>1</th>\n",
       "      <td>1</td>\n",
       "      <td>Кира</td>\n",
       "      <td>22</td>\n",
       "      <td>Тюмень</td>\n",
       "      <td>ultra</td>\n",
       "      <td>2617.592153</td>\n",
       "      <td>15.816871</td>\n",
       "      <td>2021-01-18</td>\n",
       "      <td>1</td>\n",
       "      <td>6</td>\n",
       "      <td>0</td>\n",
       "      <td>199</td>\n",
       "    </tr>\n",
       "    <tr>\n",
       "      <th>2</th>\n",
       "      <td>1</td>\n",
       "      <td>Кира</td>\n",
       "      <td>22</td>\n",
       "      <td>Тюмень</td>\n",
       "      <td>ultra</td>\n",
       "      <td>754.159807</td>\n",
       "      <td>6.232113</td>\n",
       "      <td>2021-04-20</td>\n",
       "      <td>4</td>\n",
       "      <td>6</td>\n",
       "      <td>0</td>\n",
       "      <td>199</td>\n",
       "    </tr>\n",
       "    <tr>\n",
       "      <th>3</th>\n",
       "      <td>1</td>\n",
       "      <td>Кира</td>\n",
       "      <td>22</td>\n",
       "      <td>Тюмень</td>\n",
       "      <td>ultra</td>\n",
       "      <td>2694.783254</td>\n",
       "      <td>18.511000</td>\n",
       "      <td>2021-08-11</td>\n",
       "      <td>8</td>\n",
       "      <td>6</td>\n",
       "      <td>0</td>\n",
       "      <td>199</td>\n",
       "    </tr>\n",
       "    <tr>\n",
       "      <th>4</th>\n",
       "      <td>1</td>\n",
       "      <td>Кира</td>\n",
       "      <td>22</td>\n",
       "      <td>Тюмень</td>\n",
       "      <td>ultra</td>\n",
       "      <td>4028.687306</td>\n",
       "      <td>26.265803</td>\n",
       "      <td>2021-08-28</td>\n",
       "      <td>8</td>\n",
       "      <td>6</td>\n",
       "      <td>0</td>\n",
       "      <td>199</td>\n",
       "    </tr>\n",
       "  </tbody>\n",
       "</table>\n",
       "</div>"
      ],
      "text/plain": [
       "   user_id  name  age    city subscription_type     distance   duration  \\\n",
       "0        1  Кира   22  Тюмень             ultra  4409.919140  25.599769   \n",
       "1        1  Кира   22  Тюмень             ultra  2617.592153  15.816871   \n",
       "2        1  Кира   22  Тюмень             ultra   754.159807   6.232113   \n",
       "3        1  Кира   22  Тюмень             ultra  2694.783254  18.511000   \n",
       "4        1  Кира   22  Тюмень             ultra  4028.687306  26.265803   \n",
       "\n",
       "        date  month  minute_price  start_ride_price  subscription_fee  \n",
       "0 2021-01-01      1             6                 0               199  \n",
       "1 2021-01-18      1             6                 0               199  \n",
       "2 2021-04-20      4             6                 0               199  \n",
       "3 2021-08-11      8             6                 0               199  \n",
       "4 2021-08-28      8             6                 0               199  "
      ]
     },
     "execution_count": 25,
     "metadata": {},
     "output_type": "execute_result"
    }
   ],
   "source": [
    "total_go.head()"
   ]
  },
  {
   "cell_type": "code",
   "execution_count": 26,
   "id": "45dcea8f",
   "metadata": {
    "scrolled": false
   },
   "outputs": [
    {
     "name": "stdout",
     "output_type": "stream",
     "text": [
      "Количество строк (поездок) в 'rides_go': 18068\n",
      "Количество строк (поездок) в 'total_go': 18068\n",
      "\n",
      "Количество уникальных пользователей в 'users_go': 1534\n",
      "Количество уникальных пользователей в 'total_go': 1534\n",
      "\n",
      "Пропуски в users_go\n",
      " user_id              0\n",
      "name                 0\n",
      "age                  0\n",
      "city                 0\n",
      "subscription_type    0\n",
      "dtype: int64\n",
      "\n",
      "Пропуски в total_go\n",
      " user_id              0\n",
      "name                 0\n",
      "age                  0\n",
      "city                 0\n",
      "subscription_type    0\n",
      "distance             0\n",
      "duration             0\n",
      "date                 0\n",
      "month                0\n",
      "minute_price         0\n",
      "start_ride_price     0\n",
      "subscription_fee     0\n",
      "dtype: int64\n"
     ]
    }
   ],
   "source": [
    "print(\"Количество строк (поездок) в 'rides_go':\", rides_go['user_id'].count())\n",
    "print(\"Количество строк (поездок) в 'total_go':\", total_go['user_id'].count())\n",
    "print()\n",
    "print(\"Количество уникальных пользователей в 'users_go':\", len(users_go['user_id'].unique()))\n",
    "print(\"Количество уникальных пользователей в 'total_go':\", len(total_go['user_id'].unique()))\n",
    "print()\n",
    "print('Пропуски в users_go\\n',users_go.isnull().sum())\n",
    "print()\n",
    "print('Пропуски в total_go\\n',total_go.isnull().sum())"
   ]
  },
  {
   "cell_type": "markdown",
   "id": "64eeaf58",
   "metadata": {},
   "source": [
    "##### Создайте ещё два датафрейма из датафрейма, созданного на этапе 4.1: c данными о пользователях без подписки; с данными о пользователях с подпиской."
   ]
  },
  {
   "cell_type": "code",
   "execution_count": 27,
   "id": "e21b46ab",
   "metadata": {},
   "outputs": [],
   "source": [
    "# Датафрейм данных с пользователями с подпиской\n",
    "ultra_go = total_go.loc[total_go['subscription_type'] == 'ultra']\n",
    "# Датафрейм данных с пользователями без подписки\n",
    "free_go = total_go.loc[total_go['subscription_type'] == 'free']\n"
   ]
  },
  {
   "cell_type": "markdown",
   "id": "2ebb2c52",
   "metadata": {},
   "source": [
    "##### Визуализируйте информацию о расстоянии и времени поездок для пользователей обеих категорий"
   ]
  },
  {
   "cell_type": "code",
   "execution_count": 28,
   "id": "c8cdf990",
   "metadata": {},
   "outputs": [
    {
     "data": {
      "text/html": [
       "<div>\n",
       "<style scoped>\n",
       "    .dataframe tbody tr th:only-of-type {\n",
       "        vertical-align: middle;\n",
       "    }\n",
       "\n",
       "    .dataframe tbody tr th {\n",
       "        vertical-align: top;\n",
       "    }\n",
       "\n",
       "    .dataframe thead th {\n",
       "        text-align: right;\n",
       "    }\n",
       "</style>\n",
       "<table border=\"1\" class=\"dataframe\">\n",
       "  <thead>\n",
       "    <tr style=\"text-align: right;\">\n",
       "      <th></th>\n",
       "      <th>user_id</th>\n",
       "      <th>name</th>\n",
       "      <th>age</th>\n",
       "      <th>city</th>\n",
       "      <th>subscription_type</th>\n",
       "      <th>distance</th>\n",
       "      <th>duration</th>\n",
       "      <th>date</th>\n",
       "      <th>month</th>\n",
       "      <th>minute_price</th>\n",
       "      <th>start_ride_price</th>\n",
       "      <th>subscription_fee</th>\n",
       "    </tr>\n",
       "  </thead>\n",
       "  <tbody>\n",
       "    <tr>\n",
       "      <th>0</th>\n",
       "      <td>1</td>\n",
       "      <td>Кира</td>\n",
       "      <td>22</td>\n",
       "      <td>Тюмень</td>\n",
       "      <td>ultra</td>\n",
       "      <td>4409.919140</td>\n",
       "      <td>25.599769</td>\n",
       "      <td>2021-01-01</td>\n",
       "      <td>1</td>\n",
       "      <td>6</td>\n",
       "      <td>0</td>\n",
       "      <td>199</td>\n",
       "    </tr>\n",
       "    <tr>\n",
       "      <th>1</th>\n",
       "      <td>1</td>\n",
       "      <td>Кира</td>\n",
       "      <td>22</td>\n",
       "      <td>Тюмень</td>\n",
       "      <td>ultra</td>\n",
       "      <td>2617.592153</td>\n",
       "      <td>15.816871</td>\n",
       "      <td>2021-01-18</td>\n",
       "      <td>1</td>\n",
       "      <td>6</td>\n",
       "      <td>0</td>\n",
       "      <td>199</td>\n",
       "    </tr>\n",
       "    <tr>\n",
       "      <th>2</th>\n",
       "      <td>1</td>\n",
       "      <td>Кира</td>\n",
       "      <td>22</td>\n",
       "      <td>Тюмень</td>\n",
       "      <td>ultra</td>\n",
       "      <td>754.159807</td>\n",
       "      <td>6.232113</td>\n",
       "      <td>2021-04-20</td>\n",
       "      <td>4</td>\n",
       "      <td>6</td>\n",
       "      <td>0</td>\n",
       "      <td>199</td>\n",
       "    </tr>\n",
       "    <tr>\n",
       "      <th>3</th>\n",
       "      <td>1</td>\n",
       "      <td>Кира</td>\n",
       "      <td>22</td>\n",
       "      <td>Тюмень</td>\n",
       "      <td>ultra</td>\n",
       "      <td>2694.783254</td>\n",
       "      <td>18.511000</td>\n",
       "      <td>2021-08-11</td>\n",
       "      <td>8</td>\n",
       "      <td>6</td>\n",
       "      <td>0</td>\n",
       "      <td>199</td>\n",
       "    </tr>\n",
       "    <tr>\n",
       "      <th>4</th>\n",
       "      <td>1</td>\n",
       "      <td>Кира</td>\n",
       "      <td>22</td>\n",
       "      <td>Тюмень</td>\n",
       "      <td>ultra</td>\n",
       "      <td>4028.687306</td>\n",
       "      <td>26.265803</td>\n",
       "      <td>2021-08-28</td>\n",
       "      <td>8</td>\n",
       "      <td>6</td>\n",
       "      <td>0</td>\n",
       "      <td>199</td>\n",
       "    </tr>\n",
       "  </tbody>\n",
       "</table>\n",
       "</div>"
      ],
      "text/plain": [
       "   user_id  name  age    city subscription_type     distance   duration  \\\n",
       "0        1  Кира   22  Тюмень             ultra  4409.919140  25.599769   \n",
       "1        1  Кира   22  Тюмень             ultra  2617.592153  15.816871   \n",
       "2        1  Кира   22  Тюмень             ultra   754.159807   6.232113   \n",
       "3        1  Кира   22  Тюмень             ultra  2694.783254  18.511000   \n",
       "4        1  Кира   22  Тюмень             ultra  4028.687306  26.265803   \n",
       "\n",
       "        date  month  minute_price  start_ride_price  subscription_fee  \n",
       "0 2021-01-01      1             6                 0               199  \n",
       "1 2021-01-18      1             6                 0               199  \n",
       "2 2021-04-20      4             6                 0               199  \n",
       "3 2021-08-11      8             6                 0               199  \n",
       "4 2021-08-28      8             6                 0               199  "
      ]
     },
     "execution_count": 28,
     "metadata": {},
     "output_type": "execute_result"
    }
   ],
   "source": [
    "ultra_go.head()"
   ]
  },
  {
   "cell_type": "code",
   "execution_count": 29,
   "id": "4fdf8175",
   "metadata": {
    "scrolled": true
   },
   "outputs": [
    {
     "data": {
      "text/html": [
       "<div>\n",
       "<style scoped>\n",
       "    .dataframe tbody tr th:only-of-type {\n",
       "        vertical-align: middle;\n",
       "    }\n",
       "\n",
       "    .dataframe tbody tr th {\n",
       "        vertical-align: top;\n",
       "    }\n",
       "\n",
       "    .dataframe thead th {\n",
       "        text-align: right;\n",
       "    }\n",
       "</style>\n",
       "<table border=\"1\" class=\"dataframe\">\n",
       "  <thead>\n",
       "    <tr style=\"text-align: right;\">\n",
       "      <th></th>\n",
       "      <th>user_id</th>\n",
       "      <th>name</th>\n",
       "      <th>age</th>\n",
       "      <th>city</th>\n",
       "      <th>subscription_type</th>\n",
       "      <th>distance</th>\n",
       "      <th>duration</th>\n",
       "      <th>date</th>\n",
       "      <th>month</th>\n",
       "      <th>minute_price</th>\n",
       "      <th>start_ride_price</th>\n",
       "      <th>subscription_fee</th>\n",
       "    </tr>\n",
       "  </thead>\n",
       "  <tbody>\n",
       "    <tr>\n",
       "      <th>6500</th>\n",
       "      <td>700</td>\n",
       "      <td>Айдар</td>\n",
       "      <td>22</td>\n",
       "      <td>Омск</td>\n",
       "      <td>free</td>\n",
       "      <td>2515.690719</td>\n",
       "      <td>14.944286</td>\n",
       "      <td>2021-01-02</td>\n",
       "      <td>1</td>\n",
       "      <td>8</td>\n",
       "      <td>50</td>\n",
       "      <td>0</td>\n",
       "    </tr>\n",
       "    <tr>\n",
       "      <th>6501</th>\n",
       "      <td>700</td>\n",
       "      <td>Айдар</td>\n",
       "      <td>22</td>\n",
       "      <td>Омск</td>\n",
       "      <td>free</td>\n",
       "      <td>846.932642</td>\n",
       "      <td>16.234663</td>\n",
       "      <td>2021-02-01</td>\n",
       "      <td>2</td>\n",
       "      <td>8</td>\n",
       "      <td>50</td>\n",
       "      <td>0</td>\n",
       "    </tr>\n",
       "    <tr>\n",
       "      <th>6502</th>\n",
       "      <td>700</td>\n",
       "      <td>Айдар</td>\n",
       "      <td>22</td>\n",
       "      <td>Омск</td>\n",
       "      <td>free</td>\n",
       "      <td>4004.434142</td>\n",
       "      <td>20.016628</td>\n",
       "      <td>2021-02-04</td>\n",
       "      <td>2</td>\n",
       "      <td>8</td>\n",
       "      <td>50</td>\n",
       "      <td>0</td>\n",
       "    </tr>\n",
       "    <tr>\n",
       "      <th>6503</th>\n",
       "      <td>700</td>\n",
       "      <td>Айдар</td>\n",
       "      <td>22</td>\n",
       "      <td>Омск</td>\n",
       "      <td>free</td>\n",
       "      <td>1205.911290</td>\n",
       "      <td>9.782872</td>\n",
       "      <td>2021-02-10</td>\n",
       "      <td>2</td>\n",
       "      <td>8</td>\n",
       "      <td>50</td>\n",
       "      <td>0</td>\n",
       "    </tr>\n",
       "    <tr>\n",
       "      <th>6504</th>\n",
       "      <td>700</td>\n",
       "      <td>Айдар</td>\n",
       "      <td>22</td>\n",
       "      <td>Омск</td>\n",
       "      <td>free</td>\n",
       "      <td>3047.379435</td>\n",
       "      <td>17.427673</td>\n",
       "      <td>2021-02-14</td>\n",
       "      <td>2</td>\n",
       "      <td>8</td>\n",
       "      <td>50</td>\n",
       "      <td>0</td>\n",
       "    </tr>\n",
       "  </tbody>\n",
       "</table>\n",
       "</div>"
      ],
      "text/plain": [
       "      user_id   name  age  city subscription_type     distance   duration  \\\n",
       "6500      700  Айдар   22  Омск              free  2515.690719  14.944286   \n",
       "6501      700  Айдар   22  Омск              free   846.932642  16.234663   \n",
       "6502      700  Айдар   22  Омск              free  4004.434142  20.016628   \n",
       "6503      700  Айдар   22  Омск              free  1205.911290   9.782872   \n",
       "6504      700  Айдар   22  Омск              free  3047.379435  17.427673   \n",
       "\n",
       "           date  month  minute_price  start_ride_price  subscription_fee  \n",
       "6500 2021-01-02      1             8                50                 0  \n",
       "6501 2021-02-01      2             8                50                 0  \n",
       "6502 2021-02-04      2             8                50                 0  \n",
       "6503 2021-02-10      2             8                50                 0  \n",
       "6504 2021-02-14      2             8                50                 0  "
      ]
     },
     "execution_count": 29,
     "metadata": {},
     "output_type": "execute_result"
    }
   ],
   "source": [
    "free_go.head() "
   ]
  },
  {
   "cell_type": "code",
   "execution_count": 30,
   "id": "870f4879",
   "metadata": {},
   "outputs": [
    {
     "name": "stdout",
     "output_type": "stream",
     "text": [
      "<class 'pandas.core.frame.DataFrame'>\n",
      "Int64Index: 6500 entries, 0 to 6499\n",
      "Data columns (total 12 columns):\n",
      " #   Column             Non-Null Count  Dtype         \n",
      "---  ------             --------------  -----         \n",
      " 0   user_id            6500 non-null   int64         \n",
      " 1   name               6500 non-null   object        \n",
      " 2   age                6500 non-null   int64         \n",
      " 3   city               6500 non-null   object        \n",
      " 4   subscription_type  6500 non-null   object        \n",
      " 5   distance           6500 non-null   float64       \n",
      " 6   duration           6500 non-null   float64       \n",
      " 7   date               6500 non-null   datetime64[ns]\n",
      " 8   month              6500 non-null   int64         \n",
      " 9   minute_price       6500 non-null   int64         \n",
      " 10  start_ride_price   6500 non-null   int64         \n",
      " 11  subscription_fee   6500 non-null   int64         \n",
      "dtypes: datetime64[ns](1), float64(2), int64(6), object(3)\n",
      "memory usage: 660.2+ KB\n"
     ]
    }
   ],
   "source": [
    "ultra_go.info()"
   ]
  },
  {
   "cell_type": "code",
   "execution_count": 31,
   "id": "f48c7f5c",
   "metadata": {},
   "outputs": [
    {
     "name": "stdout",
     "output_type": "stream",
     "text": [
      "<class 'pandas.core.frame.DataFrame'>\n",
      "Int64Index: 11568 entries, 6500 to 18067\n",
      "Data columns (total 12 columns):\n",
      " #   Column             Non-Null Count  Dtype         \n",
      "---  ------             --------------  -----         \n",
      " 0   user_id            11568 non-null  int64         \n",
      " 1   name               11568 non-null  object        \n",
      " 2   age                11568 non-null  int64         \n",
      " 3   city               11568 non-null  object        \n",
      " 4   subscription_type  11568 non-null  object        \n",
      " 5   distance           11568 non-null  float64       \n",
      " 6   duration           11568 non-null  float64       \n",
      " 7   date               11568 non-null  datetime64[ns]\n",
      " 8   month              11568 non-null  int64         \n",
      " 9   minute_price       11568 non-null  int64         \n",
      " 10  start_ride_price   11568 non-null  int64         \n",
      " 11  subscription_fee   11568 non-null  int64         \n",
      "dtypes: datetime64[ns](1), float64(2), int64(6), object(3)\n",
      "memory usage: 1.1+ MB\n"
     ]
    }
   ],
   "source": [
    "free_go.info()"
   ]
  },
  {
   "cell_type": "code",
   "execution_count": 32,
   "id": "42ee1dac",
   "metadata": {},
   "outputs": [
    {
     "name": "stdout",
     "output_type": "stream",
     "text": [
      "Разница описательных значений столбцов с числовыми данными датафреймов 'free_go' и 'ultra_go'\n"
     ]
    },
    {
     "data": {
      "text/html": [
       "<div>\n",
       "<style scoped>\n",
       "    .dataframe tbody tr th:only-of-type {\n",
       "        vertical-align: middle;\n",
       "    }\n",
       "\n",
       "    .dataframe tbody tr th {\n",
       "        vertical-align: top;\n",
       "    }\n",
       "\n",
       "    .dataframe thead th {\n",
       "        text-align: right;\n",
       "    }\n",
       "</style>\n",
       "<table border=\"1\" class=\"dataframe\">\n",
       "  <thead>\n",
       "    <tr style=\"text-align: right;\">\n",
       "      <th></th>\n",
       "      <th>user_id</th>\n",
       "      <th>age</th>\n",
       "      <th>distance</th>\n",
       "      <th>duration</th>\n",
       "      <th>month</th>\n",
       "      <th>minute_price</th>\n",
       "      <th>start_ride_price</th>\n",
       "      <th>subscription_fee</th>\n",
       "    </tr>\n",
       "  </thead>\n",
       "  <tbody>\n",
       "    <tr>\n",
       "      <th>count</th>\n",
       "      <td>5068.000000</td>\n",
       "      <td>5068.000000</td>\n",
       "      <td>5068.000000</td>\n",
       "      <td>5068.000000</td>\n",
       "      <td>5068.000000</td>\n",
       "      <td>5068.0</td>\n",
       "      <td>5068.0</td>\n",
       "      <td>5068.0</td>\n",
       "    </tr>\n",
       "    <tr>\n",
       "      <th>mean</th>\n",
       "      <td>771.801846</td>\n",
       "      <td>0.000711</td>\n",
       "      <td>-69.950106</td>\n",
       "      <td>-1.151076</td>\n",
       "      <td>0.100687</td>\n",
       "      <td>2.0</td>\n",
       "      <td>50.0</td>\n",
       "      <td>-199.0</td>\n",
       "    </tr>\n",
       "    <tr>\n",
       "      <th>std</th>\n",
       "      <td>40.066290</td>\n",
       "      <td>-0.276108</td>\n",
       "      <td>409.278476</td>\n",
       "      <td>0.754755</td>\n",
       "      <td>0.035154</td>\n",
       "      <td>0.0</td>\n",
       "      <td>0.0</td>\n",
       "      <td>0.0</td>\n",
       "    </tr>\n",
       "    <tr>\n",
       "      <th>min</th>\n",
       "      <td>699.000000</td>\n",
       "      <td>0.000000</td>\n",
       "      <td>-243.354755</td>\n",
       "      <td>-3.260353</td>\n",
       "      <td>0.000000</td>\n",
       "      <td>2.0</td>\n",
       "      <td>50.0</td>\n",
       "      <td>-199.0</td>\n",
       "    </tr>\n",
       "    <tr>\n",
       "      <th>25%</th>\n",
       "      <td>740.000000</td>\n",
       "      <td>0.000000</td>\n",
       "      <td>-418.881328</td>\n",
       "      <td>-1.566217</td>\n",
       "      <td>0.000000</td>\n",
       "      <td>2.0</td>\n",
       "      <td>50.0</td>\n",
       "      <td>-199.0</td>\n",
       "    </tr>\n",
       "    <tr>\n",
       "      <th>50%</th>\n",
       "      <td>772.000000</td>\n",
       "      <td>0.000000</td>\n",
       "      <td>-33.988764</td>\n",
       "      <td>-0.851263</td>\n",
       "      <td>1.000000</td>\n",
       "      <td>2.0</td>\n",
       "      <td>50.0</td>\n",
       "      <td>-199.0</td>\n",
       "    </tr>\n",
       "    <tr>\n",
       "      <th>75%</th>\n",
       "      <td>803.000000</td>\n",
       "      <td>0.000000</td>\n",
       "      <td>345.123469</td>\n",
       "      <td>-0.290058</td>\n",
       "      <td>0.000000</td>\n",
       "      <td>2.0</td>\n",
       "      <td>50.0</td>\n",
       "      <td>-199.0</td>\n",
       "    </tr>\n",
       "    <tr>\n",
       "      <th>max</th>\n",
       "      <td>835.000000</td>\n",
       "      <td>5.000000</td>\n",
       "      <td>1511.238083</td>\n",
       "      <td>-5.875464</td>\n",
       "      <td>0.000000</td>\n",
       "      <td>2.0</td>\n",
       "      <td>50.0</td>\n",
       "      <td>-199.0</td>\n",
       "    </tr>\n",
       "  </tbody>\n",
       "</table>\n",
       "</div>"
      ],
      "text/plain": [
       "           user_id          age     distance     duration        month  \\\n",
       "count  5068.000000  5068.000000  5068.000000  5068.000000  5068.000000   \n",
       "mean    771.801846     0.000711   -69.950106    -1.151076     0.100687   \n",
       "std      40.066290    -0.276108   409.278476     0.754755     0.035154   \n",
       "min     699.000000     0.000000  -243.354755    -3.260353     0.000000   \n",
       "25%     740.000000     0.000000  -418.881328    -1.566217     0.000000   \n",
       "50%     772.000000     0.000000   -33.988764    -0.851263     1.000000   \n",
       "75%     803.000000     0.000000   345.123469    -0.290058     0.000000   \n",
       "max     835.000000     5.000000  1511.238083    -5.875464     0.000000   \n",
       "\n",
       "       minute_price  start_ride_price  subscription_fee  \n",
       "count        5068.0            5068.0            5068.0  \n",
       "mean            2.0              50.0            -199.0  \n",
       "std             0.0               0.0               0.0  \n",
       "min             2.0              50.0            -199.0  \n",
       "25%             2.0              50.0            -199.0  \n",
       "50%             2.0              50.0            -199.0  \n",
       "75%             2.0              50.0            -199.0  \n",
       "max             2.0              50.0            -199.0  "
      ]
     },
     "execution_count": 32,
     "metadata": {},
     "output_type": "execute_result"
    }
   ],
   "source": [
    "print(\"Разница описательных значений столбцов с числовыми данными датафреймов 'free_go' и 'ultra_go'\") \n",
    "free_go.describe() - ultra_go.describe()"
   ]
  },
  {
   "cell_type": "markdown",
   "id": "ee074b42",
   "metadata": {},
   "source": [
    "Выводы из анализа разницы использования обоих типов подписки:\n",
    "\n",
    "**Общее количество.** Поездок с исползьзованием подписки ‘free’ на 5068 больше, чем с использованием подписки ‘ultra’, и составляет 11568.  \n",
    "**Возраст.** Возрастные показатели пользователей с разным типом подписки в целом схожи, за исключением максимального возраста, который на 5 лет больше у пользователей с подпиской ‘free’.  \n",
    "**Дистанция.** Дистанция поездок при использовании подписки ‘free’ более разнообразна. Так максимальная дистанция больше на 1511 метров, а минимальная на 243 метра меньше, чем при использовании подписки ‘ultra’. Об этом же свидетельствует и стандартное отклонение, которое при использовании подписки ‘free’ больше на 409 метров, чем при использовании подписки ‘ultra’. Средняя дистанция при использовании подписки ‘free’ короче. Это следует из того, что среднее значениее на 70 метров, а медиана на 34 метра, меньше, чем при использовании ‘ultra’.  \n",
    "**Продолжительность.** Продолжительность поездок при использовании подписки ‘free’ немного меньше по всем показателям, чем при использовании ‘ultra’. Например, минимальное время меньше на 3.26 минут, а максимальное меньше на 5.88 минут.  \n",
    "**Месяцы.** Сезонность использования разного типа подписки схожа за исключением медианы, которая у подписчиков ‘ultra’ приходится на июнь, а у подписчиков ‘free’ на июль. При использовании обоих типов подписок наблюдаются спады пользовательской активности в феврале и ноябре."
   ]
  },
  {
   "cell_type": "code",
   "execution_count": 33,
   "id": "85eda88c",
   "metadata": {},
   "outputs": [
    {
     "name": "stdout",
     "output_type": "stream",
     "text": [
      "count    11568.000000\n",
      "mean        24.893326\n",
      "std          4.481100\n",
      "min         12.000000\n",
      "25%         22.000000\n",
      "50%         25.000000\n",
      "75%         28.000000\n",
      "max         43.000000\n",
      "Name: age, dtype: float64\n"
     ]
    },
    {
     "data": {
      "text/plain": [
       "count    6500.000000\n",
       "mean       24.892615\n",
       "std         4.757208\n",
       "min        12.000000\n",
       "25%        22.000000\n",
       "50%        25.000000\n",
       "75%        28.000000\n",
       "max        38.000000\n",
       "Name: age, dtype: float64"
      ]
     },
     "execution_count": 33,
     "metadata": {},
     "output_type": "execute_result"
    },
    {
     "data": {
      "image/png": "[encoded data removed]",
      "text/plain": [
       "<Figure size 640x480 with 1 Axes>"
      ]
     },
     "metadata": {},
     "output_type": "display_data"
    }
   ],
   "source": [
    "# Срвнение столбцов 'age' в 'ultra_go' и 'free_go'\n",
    "free_go['age'].hist(bins = 30)\n",
    "ultra_go['age'].hist(bins = 30, alpha = 0.5)\n",
    "plt.xlabel('Возраст')\n",
    "plt.ylabel('Количество пользователей')\n",
    "plt.title('Распределение возрастов пользователей для разных типов подписки')\n",
    "print(free_go['age'].describe())\n",
    "ultra_go['age'].describe()"
   ]
  },
  {
   "cell_type": "markdown",
   "id": "9b56ed5e",
   "metadata": {},
   "source": [
    "Возрастные показатели пользователей с разным типом подписки в целом схожи, за исключением максимального возраста, который на 5 лет больше у пользователей с подпиской ‘free’ и равен 43 годам."
   ]
  },
  {
   "cell_type": "code",
   "execution_count": 34,
   "id": "0868bbce",
   "metadata": {},
   "outputs": [
    {
     "name": "stdout",
     "output_type": "stream",
     "text": [
      "              free\n",
      "count     8.000000\n",
      "mean   1446.000000\n",
      "std     173.412802\n",
      "min    1175.000000\n",
      "25%    1328.000000\n",
      "50%    1483.500000\n",
      "75%    1570.000000\n",
      "max    1672.000000\n",
      "            ultra\n",
      "count    8.000000\n",
      "mean   812.500000\n",
      "std     61.923916\n",
      "min    700.000000\n",
      "25%    776.750000\n",
      "50%    820.000000\n",
      "75%    858.000000\n",
      "max    885.000000\n"
     ]
    },
    {
     "data": {
      "image/png": "[encoded data removed]",
      "text/plain": [
       "<Figure size 640x480 with 1 Axes>"
      ]
     },
     "metadata": {},
     "output_type": "display_data"
    }
   ],
   "source": [
    "# Срвнение столбцов 'city' в 'ultra_go' и 'free_go'\n",
    "cities = free_go.groupby('city')['user_id'].count().reset_index(name='free')\n",
    "cities = cities.sort_values(by = 'free')\n",
    "plt.barh(cities['city'], cities['free'])\n",
    "print(cities.describe())\n",
    "cities = ultra_go.groupby('city')['user_id'].count().reset_index(name='ultra')\n",
    "cities = cities.sort_values(by = 'ultra')\n",
    "plt.barh(cities['city'], cities['ultra'])\n",
    "print(cities.describe())"
   ]
  },
  {
   "cell_type": "markdown",
   "id": "78f33fc8",
   "metadata": {},
   "source": [
    "Во всех городах доминирует подписка ‘free’. Пятигорск является лидером по использованию этиго типа подписки (1672 поездок, это 9.25% от общего количества поездок). Ростов-на-Дону является лидером по использованию подписки ‘ultra’ (885 поездок, это 4.9% от общего количества поездок). Минимальное количество поездок совершено в Москве с использованием подписки ‘ultra’ (700 поездок, это 3.87% от общего количества поездок)."
   ]
  },
  {
   "cell_type": "code",
   "execution_count": 35,
   "id": "563ecf95",
   "metadata": {},
   "outputs": [
    {
     "name": "stdout",
     "output_type": "stream",
     "text": [
      "count    11568.000000\n",
      "mean      3045.495282\n",
      "std       1246.173806\n",
      "min          0.855683\n",
      "25%       2366.562689\n",
      "50%       3114.648465\n",
      "75%       3905.697894\n",
      "max       7211.007745\n",
      "Name: distance, dtype: float64\n"
     ]
    },
    {
     "data": {
      "text/plain": [
       "count    6500.000000\n",
       "mean     3115.445388\n",
       "std       836.895330\n",
       "min       244.210438\n",
       "25%      2785.444017\n",
       "50%      3148.637229\n",
       "75%      3560.574425\n",
       "max      5699.769662\n",
       "Name: distance, dtype: float64"
      ]
     },
     "execution_count": 35,
     "metadata": {},
     "output_type": "execute_result"
    },
    {
     "data": {
      "image/png": "[encoded data removed]",
      "text/plain": [
       "<Figure size 640x480 with 1 Axes>"
      ]
     },
     "metadata": {},
     "output_type": "display_data"
    }
   ],
   "source": [
    "# Срвнение столбцов 'distance' в 'ultra_go' и 'free_go'\n",
    "free_go['distance'].hist(bins = 30)\n",
    "ultra_go['distance'].hist(bins = 30, alpha = 0.5)\n",
    "\n",
    "plt.xlabel('Дистанция, м')\n",
    "plt.ylabel('Количество поездок')\n",
    "plt.title('Распределение по пройденной дистанции за поездку для разных типов подписок')\n",
    "print(free_go['distance'].describe())\n",
    "ultra_go['distance'].describe()"
   ]
  },
  {
   "cell_type": "markdown",
   "id": "e87c8fc0",
   "metadata": {},
   "source": [
    "Дистанция поездок при использовании подписки ‘free’ более разнообразна. Так максимальная дистанция больше на 1511 метров, а минимальная на 243 метра меньше, чем при использовании подписки ‘ultra’. Об этом же свидетельствует и стандартное отклонение, которое при использовании подписки ‘free’ больше на 409 метров, чем при использовании подписки ‘ultra’. Средняя дистанция при использовании подписки ‘free’ короче. Это следует из того, что среднее значениее на 70 метров, а медиана на 34 метра, меньше, чем при использовании ‘ultra’.  \n",
    "\n",
    "При использовании обоих подписок наблюдается два пика. Первый небольшой пик на меньших дистанциях и второй основной пик на больших дистанциях. Так меньший пик ‘ultra’ находится в районе 1000 метров, а основной в районе 3100 метров с небольшой коррекцией около 4000 метров. Меншьй пик ‘free’ в районе 700 метров, а основной 2500-3500 метров. В целом пики ‘ultra’ более выраженные и имеют меньший разрбос."
   ]
  },
  {
   "cell_type": "code",
   "execution_count": 36,
   "id": "126ccb3f",
   "metadata": {},
   "outputs": [
    {
     "name": "stdout",
     "output_type": "stream",
     "text": [
      "count    11568.000000\n",
      "mean        17.390909\n",
      "std          6.326803\n",
      "min          0.500000\n",
      "25%         12.958437\n",
      "50%         17.326890\n",
      "75%         21.594071\n",
      "max         34.948498\n",
      "Name: duration, dtype: float64\n"
     ]
    },
    {
     "data": {
      "text/plain": [
       "count    6500.000000\n",
       "mean       18.541985\n",
       "std         5.572048\n",
       "min         3.760353\n",
       "25%        14.524654\n",
       "50%        18.178153\n",
       "75%        21.884129\n",
       "max        40.823963\n",
       "Name: duration, dtype: float64"
      ]
     },
     "execution_count": 36,
     "metadata": {},
     "output_type": "execute_result"
    },
    {
     "data": {
      "image/png": "[encoded data removed]",
      "text/plain": [
       "<Figure size 640x480 with 1 Axes>"
      ]
     },
     "metadata": {},
     "output_type": "display_data"
    }
   ],
   "source": [
    "# Срвнение столбцов 'duration' в 'ultra_go' и 'free_go'\n",
    "free_go['duration'].hist(bins = 30)\n",
    "ultra_go['duration'].hist(bins = 30, alpha = 0.5)\n",
    "plt.xlabel('Продолжительность, мин')\n",
    "plt.ylabel('Количество поездок')\n",
    "plt.title('Распределение по продолжительности поездки')\n",
    "print(free_go['duration'].describe())\n",
    "ultra_go['duration'].describe()"
   ]
  },
  {
   "cell_type": "markdown",
   "id": "b462f171",
   "metadata": {},
   "source": [
    "Продолжительность поездок при использовании подписки ‘free’ немного меньше по всем показателям, чем при использовании ‘ultra’. Например, минимальное время меньше на 3.26 минут, а максимальное меньше на 5.88 минут. В обоих случаях количество поездок относительно нормально распределено в зависимости от их продолжительности. Пик количества поездок приходится на 17-18 минут. При использовании подписки ‘free’ наблюдается пик в около 100 поездок с продолжительностью около 1 минуты."
   ]
  },
  {
   "cell_type": "code",
   "execution_count": 37,
   "id": "6bdc5e8e",
   "metadata": {},
   "outputs": [
    {
     "name": "stdout",
     "output_type": "stream",
     "text": [
      "count    11568.000000\n",
      "mean         6.522994\n",
      "std          3.449770\n",
      "min          1.000000\n",
      "25%          4.000000\n",
      "50%          7.000000\n",
      "75%          9.000000\n",
      "max         12.000000\n",
      "Name: month, dtype: float64\n"
     ]
    },
    {
     "data": {
      "text/plain": [
       "count    6500.000000\n",
       "mean        6.422308\n",
       "std         3.414616\n",
       "min         1.000000\n",
       "25%         4.000000\n",
       "50%         6.000000\n",
       "75%         9.000000\n",
       "max        12.000000\n",
       "Name: month, dtype: float64"
      ]
     },
     "execution_count": 37,
     "metadata": {},
     "output_type": "execute_result"
    },
    {
     "data": {
      "image/png": "[encoded data removed]",
      "text/plain": [
       "<Figure size 640x480 with 1 Axes>"
      ]
     },
     "metadata": {},
     "output_type": "display_data"
    }
   ],
   "source": [
    "# Срвнение столбцов 'month' в 'ultra_go' и 'free_go'\n",
    "free_go['month'].hist(bins = 12)\n",
    "ultra_go['month'].hist(bins = 12, alpha = 0.5)\n",
    "plt.xlabel('Месяц, м')\n",
    "plt.ylabel('Количество поездок')\n",
    "plt.title('Распределение по кол-ву поездко по месяцам для разных типов подписок')\n",
    "print(free_go['month'].describe())\n",
    "ultra_go['month'].describe()"
   ]
  },
  {
   "cell_type": "markdown",
   "id": "a83ad61b",
   "metadata": {},
   "source": [
    "Сезонность использования разного типа подписки схожа за исключением медианы, которая у подписчиков ‘ultra’ приходится на июнь, а у подписчиков ‘free’ на июль. При использовании обоих типов подписок наблюдаются спады пользовательской активности в феврале и ноябре. Максимум поездок с подпиской ‘ultra’ в мае (597 поездок, это 3.3% от всех поездок). Максимумы поездок с подпиской ‘free’ в январе (1001 поездка, это 5.54% от всех поездок), сентябре (1002 поездки) и декабре (1003 поездки). При использовании подписки ‘free’ нет выраженной сезонности, кроме спдов в феврале и ноябре. При использовании подписки ‘ultra’ наблюдается более выраженная сезонность. Количество поездок растет с февраля по май, а затем медленно снижается до ноября."
   ]
  },
  {
   "cell_type": "markdown",
   "id": "a121078f",
   "metadata": {},
   "source": [
    "Выводы из сравнения использования разных типов подписки:\n",
    "\n",
    "1. **Общее количество.** Поездок с исползьзованием подписки ‘free’ на 5068 больше, чем с использованием подписки ‘ultra’, и составляет 11568.  \n",
    "Возраст. Возрастные показатели пользователей с разным типом подписки в целом схожи, за исключением максимального возраста, который на 5 лет больше у пользователей с подпиской ‘free’.  \n",
    "2. **Дистанция.** Дистанция поездок при использовании подписки ‘free’ более разнообразна. Так максимальная дистанция больше на 1511 метров, а минимальная на 243 метра меньше, чем при использовании подписки ‘ultra’. Об этом же свидетельствует и стандартное отклонение, которое при использовании подписки ‘free’ больше на 409 метров, чем при использовании подписки ‘ultra’. Средняя дистанция при использовании подписки ‘free’ короче. Это следует из того, что среднее значениее на 70 метров, а медиана на 34 метра, меньше, чем при использовании ‘ultra’. При использовании обоих подписок наблюдается два пика. Первый небольшой пик на меньших дистанциях и второй основной пик на больших дистанциях. Так меньший пик ‘ultra’ находится в районе 1000 метров, а основной в районе 3100 метров с небольшой коррекцией около 4000 метров. Меншьй пик ‘free’ в районе 700 метров, а основной 2500-3500 метров. В целом пики ‘ultra’ более выраженные и имеют меньший разрбос.  \n",
    "3. **Продолжительность.** Продолжительность поездок при использовании подписки ‘free’ немного меньше по всем показателям, чем при использовании ‘ultra’. Например, минимальное время меньше на 3.26 минут, а максимальное меньше на 5.88 минут. В обоих случаях количество поездок относительно нормально распределено в зависимости от их продолжительности. Пик количества поездок приходится на 17-18 минут. При использовании подписки ‘free’ наблюдается пик в около 100 поездок с продолжительностью около 1 минуты.\n",
    "4. **Месяцы.** Сезонность использования разного типа подписки схожа за исключением медианы, которая у подписчиков ‘ultra’ приходится на июнь, а у подписчиков ‘free’ на июль. При использовании обоих типов подписок наблюдаются спады пользовательской активности в феврале и ноябре. Максимум поездок с подпиской ‘ultra’ в мае (597 поездок, это 3.3% от всех поездок). Максимумы поездок с подпиской ‘free’ в январе (1001 поездка, это 5.54% от всех поездок), сентябре (1002 поездки) и декабре (1003 поездки). При использовании подписки ‘free’ нет выраженной сезонности, кроме спдов в феврале и ноябре. При использовании подписки ‘ultra’ наблюдается более выраженная сезонность. Количество поездок растет с февраля по май, а затем медленно снижается до ноября.  \n",
    "5. **Города.** Во всех городах доминирует подписка ‘free’. Пятигорск является лидером по использованию этиго типа подписки (1672 поездок). Ростов-на-Дону является лидером по использованию подписки ‘ultra’ (885 поездок)."
   ]
  },
  {
   "cell_type": "markdown",
   "id": "402d620f",
   "metadata": {},
   "source": [
    "#### Шаг 5. Подсчёт выручки"
   ]
  },
  {
   "cell_type": "markdown",
   "id": "90fe8d44",
   "metadata": {},
   "source": [
    "##### Создайте датафрейм с агрегированными данными о поездках на основе датафрейма с объединёнными данными из шага 4: найдите суммарное расстояние, количество поездок и суммарное время для каждого пользователя за каждый месяц."
   ]
  },
  {
   "cell_type": "code",
   "execution_count": 38,
   "id": "ad7b4324",
   "metadata": {},
   "outputs": [],
   "source": [
    "# Округление продолжительности поездок в 'duration'\n",
    "total_go['duration'] = np.ceil(total_go['duration'])\n"
   ]
  },
  {
   "cell_type": "code",
   "execution_count": 39,
   "id": "b91c0584",
   "metadata": {
    "scrolled": true
   },
   "outputs": [
    {
     "data": {
      "text/html": [
       "<div>\n",
       "<style scoped>\n",
       "    .dataframe tbody tr th:only-of-type {\n",
       "        vertical-align: middle;\n",
       "    }\n",
       "\n",
       "    .dataframe tbody tr th {\n",
       "        vertical-align: top;\n",
       "    }\n",
       "\n",
       "    .dataframe thead tr th {\n",
       "        text-align: left;\n",
       "    }\n",
       "\n",
       "    .dataframe thead tr:last-of-type th {\n",
       "        text-align: right;\n",
       "    }\n",
       "</style>\n",
       "<table border=\"1\" class=\"dataframe\">\n",
       "  <thead>\n",
       "    <tr>\n",
       "      <th></th>\n",
       "      <th></th>\n",
       "      <th colspan=\"2\" halign=\"left\">distance</th>\n",
       "      <th colspan=\"2\" halign=\"left\">duration</th>\n",
       "      <th colspan=\"2\" halign=\"left\">minute_price</th>\n",
       "      <th colspan=\"2\" halign=\"left\">start_ride_price</th>\n",
       "      <th colspan=\"2\" halign=\"left\">subscription_fee</th>\n",
       "    </tr>\n",
       "    <tr>\n",
       "      <th></th>\n",
       "      <th></th>\n",
       "      <th>count</th>\n",
       "      <th>sum</th>\n",
       "      <th>count</th>\n",
       "      <th>sum</th>\n",
       "      <th>count</th>\n",
       "      <th>sum</th>\n",
       "      <th>count</th>\n",
       "      <th>sum</th>\n",
       "      <th>count</th>\n",
       "      <th>sum</th>\n",
       "    </tr>\n",
       "    <tr>\n",
       "      <th>user_id</th>\n",
       "      <th>month</th>\n",
       "      <th></th>\n",
       "      <th></th>\n",
       "      <th></th>\n",
       "      <th></th>\n",
       "      <th></th>\n",
       "      <th></th>\n",
       "      <th></th>\n",
       "      <th></th>\n",
       "      <th></th>\n",
       "      <th></th>\n",
       "    </tr>\n",
       "  </thead>\n",
       "  <tbody>\n",
       "    <tr>\n",
       "      <th rowspan=\"5\" valign=\"top\">1</th>\n",
       "      <th>1</th>\n",
       "      <td>2</td>\n",
       "      <td>7027.511294</td>\n",
       "      <td>2</td>\n",
       "      <td>42.0</td>\n",
       "      <td>2</td>\n",
       "      <td>12</td>\n",
       "      <td>2</td>\n",
       "      <td>0</td>\n",
       "      <td>2</td>\n",
       "      <td>398</td>\n",
       "    </tr>\n",
       "    <tr>\n",
       "      <th>4</th>\n",
       "      <td>1</td>\n",
       "      <td>754.159807</td>\n",
       "      <td>1</td>\n",
       "      <td>7.0</td>\n",
       "      <td>1</td>\n",
       "      <td>6</td>\n",
       "      <td>1</td>\n",
       "      <td>0</td>\n",
       "      <td>1</td>\n",
       "      <td>199</td>\n",
       "    </tr>\n",
       "    <tr>\n",
       "      <th>8</th>\n",
       "      <td>2</td>\n",
       "      <td>6723.470560</td>\n",
       "      <td>2</td>\n",
       "      <td>46.0</td>\n",
       "      <td>2</td>\n",
       "      <td>12</td>\n",
       "      <td>2</td>\n",
       "      <td>0</td>\n",
       "      <td>2</td>\n",
       "      <td>398</td>\n",
       "    </tr>\n",
       "    <tr>\n",
       "      <th>10</th>\n",
       "      <td>2</td>\n",
       "      <td>5809.911100</td>\n",
       "      <td>2</td>\n",
       "      <td>32.0</td>\n",
       "      <td>2</td>\n",
       "      <td>12</td>\n",
       "      <td>2</td>\n",
       "      <td>0</td>\n",
       "      <td>2</td>\n",
       "      <td>398</td>\n",
       "    </tr>\n",
       "    <tr>\n",
       "      <th>11</th>\n",
       "      <td>3</td>\n",
       "      <td>7003.499363</td>\n",
       "      <td>3</td>\n",
       "      <td>56.0</td>\n",
       "      <td>3</td>\n",
       "      <td>18</td>\n",
       "      <td>3</td>\n",
       "      <td>0</td>\n",
       "      <td>3</td>\n",
       "      <td>597</td>\n",
       "    </tr>\n",
       "    <tr>\n",
       "      <th>...</th>\n",
       "      <th>...</th>\n",
       "      <td>...</td>\n",
       "      <td>...</td>\n",
       "      <td>...</td>\n",
       "      <td>...</td>\n",
       "      <td>...</td>\n",
       "      <td>...</td>\n",
       "      <td>...</td>\n",
       "      <td>...</td>\n",
       "      <td>...</td>\n",
       "      <td>...</td>\n",
       "    </tr>\n",
       "    <tr>\n",
       "      <th rowspan=\"5\" valign=\"top\">1534</th>\n",
       "      <th>6</th>\n",
       "      <td>2</td>\n",
       "      <td>3409.468534</td>\n",
       "      <td>2</td>\n",
       "      <td>26.0</td>\n",
       "      <td>2</td>\n",
       "      <td>16</td>\n",
       "      <td>2</td>\n",
       "      <td>100</td>\n",
       "      <td>2</td>\n",
       "      <td>0</td>\n",
       "    </tr>\n",
       "    <tr>\n",
       "      <th>8</th>\n",
       "      <td>2</td>\n",
       "      <td>7622.453034</td>\n",
       "      <td>2</td>\n",
       "      <td>48.0</td>\n",
       "      <td>2</td>\n",
       "      <td>16</td>\n",
       "      <td>2</td>\n",
       "      <td>100</td>\n",
       "      <td>2</td>\n",
       "      <td>0</td>\n",
       "    </tr>\n",
       "    <tr>\n",
       "      <th>9</th>\n",
       "      <td>1</td>\n",
       "      <td>4928.173852</td>\n",
       "      <td>1</td>\n",
       "      <td>23.0</td>\n",
       "      <td>1</td>\n",
       "      <td>8</td>\n",
       "      <td>1</td>\n",
       "      <td>50</td>\n",
       "      <td>1</td>\n",
       "      <td>0</td>\n",
       "    </tr>\n",
       "    <tr>\n",
       "      <th>11</th>\n",
       "      <td>4</td>\n",
       "      <td>13350.015305</td>\n",
       "      <td>4</td>\n",
       "      <td>78.0</td>\n",
       "      <td>4</td>\n",
       "      <td>32</td>\n",
       "      <td>4</td>\n",
       "      <td>200</td>\n",
       "      <td>4</td>\n",
       "      <td>0</td>\n",
       "    </tr>\n",
       "    <tr>\n",
       "      <th>12</th>\n",
       "      <td>1</td>\n",
       "      <td>2371.711192</td>\n",
       "      <td>1</td>\n",
       "      <td>16.0</td>\n",
       "      <td>1</td>\n",
       "      <td>8</td>\n",
       "      <td>1</td>\n",
       "      <td>50</td>\n",
       "      <td>1</td>\n",
       "      <td>0</td>\n",
       "    </tr>\n",
       "  </tbody>\n",
       "</table>\n",
       "<p>11331 rows × 10 columns</p>\n",
       "</div>"
      ],
      "text/plain": [
       "              distance               duration       minute_price      \\\n",
       "                 count           sum    count   sum        count sum   \n",
       "user_id month                                                          \n",
       "1       1            2   7027.511294        2  42.0            2  12   \n",
       "        4            1    754.159807        1   7.0            1   6   \n",
       "        8            2   6723.470560        2  46.0            2  12   \n",
       "        10           2   5809.911100        2  32.0            2  12   \n",
       "        11           3   7003.499363        3  56.0            3  18   \n",
       "...                ...           ...      ...   ...          ...  ..   \n",
       "1534    6            2   3409.468534        2  26.0            2  16   \n",
       "        8            2   7622.453034        2  48.0            2  16   \n",
       "        9            1   4928.173852        1  23.0            1   8   \n",
       "        11           4  13350.015305        4  78.0            4  32   \n",
       "        12           1   2371.711192        1  16.0            1   8   \n",
       "\n",
       "              start_ride_price      subscription_fee       \n",
       "                         count  sum            count  sum  \n",
       "user_id month                                              \n",
       "1       1                    2    0                2  398  \n",
       "        4                    1    0                1  199  \n",
       "        8                    2    0                2  398  \n",
       "        10                   2    0                2  398  \n",
       "        11                   3    0                3  597  \n",
       "...                        ...  ...              ...  ...  \n",
       "1534    6                    2  100                2    0  \n",
       "        8                    2  100                2    0  \n",
       "        9                    1   50                1    0  \n",
       "        11                   4  200                4    0  \n",
       "        12                   1   50                1    0  \n",
       "\n",
       "[11331 rows x 10 columns]"
      ]
     },
     "execution_count": 39,
     "metadata": {},
     "output_type": "execute_result"
    }
   ],
   "source": [
    "# Создание сводной таблицы\n",
    "users_go_pivot = total_go.pivot_table(\n",
    "    index=('user_id', 'month'), \n",
    "    values=(\n",
    "        'distance', \n",
    "        'duration', \n",
    "        'minute_price', \n",
    "        'start_ride_price', \n",
    "        'subscription_fee'\n",
    "    ), \n",
    "    aggfunc=('count', 'sum'))\n",
    "users_go_pivot"
   ]
  },
  {
   "cell_type": "code",
   "execution_count": 40,
   "id": "31b083cb",
   "metadata": {},
   "outputs": [
    {
     "data": {
      "text/html": [
       "<div>\n",
       "<style scoped>\n",
       "    .dataframe tbody tr th:only-of-type {\n",
       "        vertical-align: middle;\n",
       "    }\n",
       "\n",
       "    .dataframe tbody tr th {\n",
       "        vertical-align: top;\n",
       "    }\n",
       "\n",
       "    .dataframe thead th {\n",
       "        text-align: right;\n",
       "    }\n",
       "</style>\n",
       "<table border=\"1\" class=\"dataframe\">\n",
       "  <thead>\n",
       "    <tr style=\"text-align: right;\">\n",
       "      <th></th>\n",
       "      <th></th>\n",
       "      <th>count</th>\n",
       "      <th>distance</th>\n",
       "      <th>count2</th>\n",
       "      <th>duration</th>\n",
       "      <th>count3</th>\n",
       "      <th>minute_price</th>\n",
       "      <th>count4</th>\n",
       "      <th>start_ride_price</th>\n",
       "      <th>count5</th>\n",
       "      <th>subscription_fee</th>\n",
       "    </tr>\n",
       "    <tr>\n",
       "      <th>user_id</th>\n",
       "      <th>month</th>\n",
       "      <th></th>\n",
       "      <th></th>\n",
       "      <th></th>\n",
       "      <th></th>\n",
       "      <th></th>\n",
       "      <th></th>\n",
       "      <th></th>\n",
       "      <th></th>\n",
       "      <th></th>\n",
       "      <th></th>\n",
       "    </tr>\n",
       "  </thead>\n",
       "  <tbody>\n",
       "    <tr>\n",
       "      <th rowspan=\"5\" valign=\"top\">1</th>\n",
       "      <th>1</th>\n",
       "      <td>2</td>\n",
       "      <td>7027.511294</td>\n",
       "      <td>2</td>\n",
       "      <td>42.0</td>\n",
       "      <td>2</td>\n",
       "      <td>12</td>\n",
       "      <td>2</td>\n",
       "      <td>0</td>\n",
       "      <td>2</td>\n",
       "      <td>398</td>\n",
       "    </tr>\n",
       "    <tr>\n",
       "      <th>4</th>\n",
       "      <td>1</td>\n",
       "      <td>754.159807</td>\n",
       "      <td>1</td>\n",
       "      <td>7.0</td>\n",
       "      <td>1</td>\n",
       "      <td>6</td>\n",
       "      <td>1</td>\n",
       "      <td>0</td>\n",
       "      <td>1</td>\n",
       "      <td>199</td>\n",
       "    </tr>\n",
       "    <tr>\n",
       "      <th>8</th>\n",
       "      <td>2</td>\n",
       "      <td>6723.470560</td>\n",
       "      <td>2</td>\n",
       "      <td>46.0</td>\n",
       "      <td>2</td>\n",
       "      <td>12</td>\n",
       "      <td>2</td>\n",
       "      <td>0</td>\n",
       "      <td>2</td>\n",
       "      <td>398</td>\n",
       "    </tr>\n",
       "    <tr>\n",
       "      <th>10</th>\n",
       "      <td>2</td>\n",
       "      <td>5809.911100</td>\n",
       "      <td>2</td>\n",
       "      <td>32.0</td>\n",
       "      <td>2</td>\n",
       "      <td>12</td>\n",
       "      <td>2</td>\n",
       "      <td>0</td>\n",
       "      <td>2</td>\n",
       "      <td>398</td>\n",
       "    </tr>\n",
       "    <tr>\n",
       "      <th>11</th>\n",
       "      <td>3</td>\n",
       "      <td>7003.499363</td>\n",
       "      <td>3</td>\n",
       "      <td>56.0</td>\n",
       "      <td>3</td>\n",
       "      <td>18</td>\n",
       "      <td>3</td>\n",
       "      <td>0</td>\n",
       "      <td>3</td>\n",
       "      <td>597</td>\n",
       "    </tr>\n",
       "    <tr>\n",
       "      <th>...</th>\n",
       "      <th>...</th>\n",
       "      <td>...</td>\n",
       "      <td>...</td>\n",
       "      <td>...</td>\n",
       "      <td>...</td>\n",
       "      <td>...</td>\n",
       "      <td>...</td>\n",
       "      <td>...</td>\n",
       "      <td>...</td>\n",
       "      <td>...</td>\n",
       "      <td>...</td>\n",
       "    </tr>\n",
       "    <tr>\n",
       "      <th rowspan=\"5\" valign=\"top\">1534</th>\n",
       "      <th>6</th>\n",
       "      <td>2</td>\n",
       "      <td>3409.468534</td>\n",
       "      <td>2</td>\n",
       "      <td>26.0</td>\n",
       "      <td>2</td>\n",
       "      <td>16</td>\n",
       "      <td>2</td>\n",
       "      <td>100</td>\n",
       "      <td>2</td>\n",
       "      <td>0</td>\n",
       "    </tr>\n",
       "    <tr>\n",
       "      <th>8</th>\n",
       "      <td>2</td>\n",
       "      <td>7622.453034</td>\n",
       "      <td>2</td>\n",
       "      <td>48.0</td>\n",
       "      <td>2</td>\n",
       "      <td>16</td>\n",
       "      <td>2</td>\n",
       "      <td>100</td>\n",
       "      <td>2</td>\n",
       "      <td>0</td>\n",
       "    </tr>\n",
       "    <tr>\n",
       "      <th>9</th>\n",
       "      <td>1</td>\n",
       "      <td>4928.173852</td>\n",
       "      <td>1</td>\n",
       "      <td>23.0</td>\n",
       "      <td>1</td>\n",
       "      <td>8</td>\n",
       "      <td>1</td>\n",
       "      <td>50</td>\n",
       "      <td>1</td>\n",
       "      <td>0</td>\n",
       "    </tr>\n",
       "    <tr>\n",
       "      <th>11</th>\n",
       "      <td>4</td>\n",
       "      <td>13350.015305</td>\n",
       "      <td>4</td>\n",
       "      <td>78.0</td>\n",
       "      <td>4</td>\n",
       "      <td>32</td>\n",
       "      <td>4</td>\n",
       "      <td>200</td>\n",
       "      <td>4</td>\n",
       "      <td>0</td>\n",
       "    </tr>\n",
       "    <tr>\n",
       "      <th>12</th>\n",
       "      <td>1</td>\n",
       "      <td>2371.711192</td>\n",
       "      <td>1</td>\n",
       "      <td>16.0</td>\n",
       "      <td>1</td>\n",
       "      <td>8</td>\n",
       "      <td>1</td>\n",
       "      <td>50</td>\n",
       "      <td>1</td>\n",
       "      <td>0</td>\n",
       "    </tr>\n",
       "  </tbody>\n",
       "</table>\n",
       "<p>11331 rows × 10 columns</p>\n",
       "</div>"
      ],
      "text/plain": [
       "               count      distance  count2  duration  count3  minute_price  \\\n",
       "user_id month                                                                \n",
       "1       1          2   7027.511294       2      42.0       2            12   \n",
       "        4          1    754.159807       1       7.0       1             6   \n",
       "        8          2   6723.470560       2      46.0       2            12   \n",
       "        10         2   5809.911100       2      32.0       2            12   \n",
       "        11         3   7003.499363       3      56.0       3            18   \n",
       "...              ...           ...     ...       ...     ...           ...   \n",
       "1534    6          2   3409.468534       2      26.0       2            16   \n",
       "        8          2   7622.453034       2      48.0       2            16   \n",
       "        9          1   4928.173852       1      23.0       1             8   \n",
       "        11         4  13350.015305       4      78.0       4            32   \n",
       "        12         1   2371.711192       1      16.0       1             8   \n",
       "\n",
       "               count4  start_ride_price  count5  subscription_fee  \n",
       "user_id month                                                      \n",
       "1       1           2                 0       2               398  \n",
       "        4           1                 0       1               199  \n",
       "        8           2                 0       2               398  \n",
       "        10          2                 0       2               398  \n",
       "        11          3                 0       3               597  \n",
       "...               ...               ...     ...               ...  \n",
       "1534    6           2               100       2                 0  \n",
       "        8           2               100       2                 0  \n",
       "        9           1                50       1                 0  \n",
       "        11          4               200       4                 0  \n",
       "        12          1                50       1                 0  \n",
       "\n",
       "[11331 rows x 10 columns]"
      ]
     },
     "execution_count": 40,
     "metadata": {},
     "output_type": "execute_result"
    }
   ],
   "source": [
    "# Переименование \"двухэтажных\" названий столбцов\n",
    "users_go_pivot.columns = [\n",
    "    'count', 'distance', \n",
    "    'count2', 'duration', \n",
    "    'count3', 'minute_price',\n",
    "    'count4', 'start_ride_price', \n",
    "    'count5', 'subscription_fee'\n",
    "]\n",
    "users_go_pivot"
   ]
  },
  {
   "cell_type": "code",
   "execution_count": 41,
   "id": "b9f2a15f",
   "metadata": {},
   "outputs": [
    {
     "data": {
      "text/html": [
       "<div>\n",
       "<style scoped>\n",
       "    .dataframe tbody tr th:only-of-type {\n",
       "        vertical-align: middle;\n",
       "    }\n",
       "\n",
       "    .dataframe tbody tr th {\n",
       "        vertical-align: top;\n",
       "    }\n",
       "\n",
       "    .dataframe thead th {\n",
       "        text-align: right;\n",
       "    }\n",
       "</style>\n",
       "<table border=\"1\" class=\"dataframe\">\n",
       "  <thead>\n",
       "    <tr style=\"text-align: right;\">\n",
       "      <th></th>\n",
       "      <th></th>\n",
       "      <th>count</th>\n",
       "      <th>distance</th>\n",
       "      <th>duration</th>\n",
       "      <th>minute_price</th>\n",
       "      <th>start_ride_price</th>\n",
       "      <th>subscription_fee</th>\n",
       "    </tr>\n",
       "    <tr>\n",
       "      <th>user_id</th>\n",
       "      <th>month</th>\n",
       "      <th></th>\n",
       "      <th></th>\n",
       "      <th></th>\n",
       "      <th></th>\n",
       "      <th></th>\n",
       "      <th></th>\n",
       "    </tr>\n",
       "  </thead>\n",
       "  <tbody>\n",
       "    <tr>\n",
       "      <th rowspan=\"5\" valign=\"top\">1</th>\n",
       "      <th>1</th>\n",
       "      <td>2</td>\n",
       "      <td>7027.511294</td>\n",
       "      <td>42.0</td>\n",
       "      <td>12</td>\n",
       "      <td>0</td>\n",
       "      <td>398</td>\n",
       "    </tr>\n",
       "    <tr>\n",
       "      <th>4</th>\n",
       "      <td>1</td>\n",
       "      <td>754.159807</td>\n",
       "      <td>7.0</td>\n",
       "      <td>6</td>\n",
       "      <td>0</td>\n",
       "      <td>199</td>\n",
       "    </tr>\n",
       "    <tr>\n",
       "      <th>8</th>\n",
       "      <td>2</td>\n",
       "      <td>6723.470560</td>\n",
       "      <td>46.0</td>\n",
       "      <td>12</td>\n",
       "      <td>0</td>\n",
       "      <td>398</td>\n",
       "    </tr>\n",
       "    <tr>\n",
       "      <th>10</th>\n",
       "      <td>2</td>\n",
       "      <td>5809.911100</td>\n",
       "      <td>32.0</td>\n",
       "      <td>12</td>\n",
       "      <td>0</td>\n",
       "      <td>398</td>\n",
       "    </tr>\n",
       "    <tr>\n",
       "      <th>11</th>\n",
       "      <td>3</td>\n",
       "      <td>7003.499363</td>\n",
       "      <td>56.0</td>\n",
       "      <td>18</td>\n",
       "      <td>0</td>\n",
       "      <td>597</td>\n",
       "    </tr>\n",
       "    <tr>\n",
       "      <th>...</th>\n",
       "      <th>...</th>\n",
       "      <td>...</td>\n",
       "      <td>...</td>\n",
       "      <td>...</td>\n",
       "      <td>...</td>\n",
       "      <td>...</td>\n",
       "      <td>...</td>\n",
       "    </tr>\n",
       "    <tr>\n",
       "      <th rowspan=\"5\" valign=\"top\">1534</th>\n",
       "      <th>6</th>\n",
       "      <td>2</td>\n",
       "      <td>3409.468534</td>\n",
       "      <td>26.0</td>\n",
       "      <td>16</td>\n",
       "      <td>100</td>\n",
       "      <td>0</td>\n",
       "    </tr>\n",
       "    <tr>\n",
       "      <th>8</th>\n",
       "      <td>2</td>\n",
       "      <td>7622.453034</td>\n",
       "      <td>48.0</td>\n",
       "      <td>16</td>\n",
       "      <td>100</td>\n",
       "      <td>0</td>\n",
       "    </tr>\n",
       "    <tr>\n",
       "      <th>9</th>\n",
       "      <td>1</td>\n",
       "      <td>4928.173852</td>\n",
       "      <td>23.0</td>\n",
       "      <td>8</td>\n",
       "      <td>50</td>\n",
       "      <td>0</td>\n",
       "    </tr>\n",
       "    <tr>\n",
       "      <th>11</th>\n",
       "      <td>4</td>\n",
       "      <td>13350.015305</td>\n",
       "      <td>78.0</td>\n",
       "      <td>32</td>\n",
       "      <td>200</td>\n",
       "      <td>0</td>\n",
       "    </tr>\n",
       "    <tr>\n",
       "      <th>12</th>\n",
       "      <td>1</td>\n",
       "      <td>2371.711192</td>\n",
       "      <td>16.0</td>\n",
       "      <td>8</td>\n",
       "      <td>50</td>\n",
       "      <td>0</td>\n",
       "    </tr>\n",
       "  </tbody>\n",
       "</table>\n",
       "<p>11331 rows × 6 columns</p>\n",
       "</div>"
      ],
      "text/plain": [
       "               count      distance  duration  minute_price  start_ride_price  \\\n",
       "user_id month                                                                  \n",
       "1       1          2   7027.511294      42.0            12                 0   \n",
       "        4          1    754.159807       7.0             6                 0   \n",
       "        8          2   6723.470560      46.0            12                 0   \n",
       "        10         2   5809.911100      32.0            12                 0   \n",
       "        11         3   7003.499363      56.0            18                 0   \n",
       "...              ...           ...       ...           ...               ...   \n",
       "1534    6          2   3409.468534      26.0            16               100   \n",
       "        8          2   7622.453034      48.0            16               100   \n",
       "        9          1   4928.173852      23.0             8                50   \n",
       "        11         4  13350.015305      78.0            32               200   \n",
       "        12         1   2371.711192      16.0             8                50   \n",
       "\n",
       "               subscription_fee  \n",
       "user_id month                    \n",
       "1       1                   398  \n",
       "        4                   199  \n",
       "        8                   398  \n",
       "        10                  398  \n",
       "        11                  597  \n",
       "...                         ...  \n",
       "1534    6                     0  \n",
       "        8                     0  \n",
       "        9                     0  \n",
       "        11                    0  \n",
       "        12                    0  \n",
       "\n",
       "[11331 rows x 6 columns]"
      ]
     },
     "execution_count": 41,
     "metadata": {},
     "output_type": "execute_result"
    }
   ],
   "source": [
    "# Удаление дублирующих столбцов с подсчитанным количеством строк \n",
    "users_go_pivot = users_go_pivot.drop(['count2', 'count3', 'count4', 'count5'], axis=1)\n",
    "users_go_pivot\n"
   ]
  },
  {
   "cell_type": "code",
   "execution_count": 42,
   "id": "fc458913",
   "metadata": {},
   "outputs": [
    {
     "data": {
      "text/html": [
       "<div>\n",
       "<style scoped>\n",
       "    .dataframe tbody tr th:only-of-type {\n",
       "        vertical-align: middle;\n",
       "    }\n",
       "\n",
       "    .dataframe tbody tr th {\n",
       "        vertical-align: top;\n",
       "    }\n",
       "\n",
       "    .dataframe thead th {\n",
       "        text-align: right;\n",
       "    }\n",
       "</style>\n",
       "<table border=\"1\" class=\"dataframe\">\n",
       "  <thead>\n",
       "    <tr style=\"text-align: right;\">\n",
       "      <th></th>\n",
       "      <th></th>\n",
       "      <th>count</th>\n",
       "      <th>distance</th>\n",
       "      <th>duration</th>\n",
       "      <th>minute_price</th>\n",
       "      <th>start_ride_price</th>\n",
       "      <th>subscription_fee</th>\n",
       "    </tr>\n",
       "    <tr>\n",
       "      <th>user_id</th>\n",
       "      <th>month</th>\n",
       "      <th></th>\n",
       "      <th></th>\n",
       "      <th></th>\n",
       "      <th></th>\n",
       "      <th></th>\n",
       "      <th></th>\n",
       "    </tr>\n",
       "  </thead>\n",
       "  <tbody>\n",
       "    <tr>\n",
       "      <th rowspan=\"5\" valign=\"top\">1</th>\n",
       "      <th>1</th>\n",
       "      <td>2</td>\n",
       "      <td>7027.511294</td>\n",
       "      <td>42.0</td>\n",
       "      <td>6.0</td>\n",
       "      <td>0.0</td>\n",
       "      <td>199.0</td>\n",
       "    </tr>\n",
       "    <tr>\n",
       "      <th>4</th>\n",
       "      <td>1</td>\n",
       "      <td>754.159807</td>\n",
       "      <td>7.0</td>\n",
       "      <td>6.0</td>\n",
       "      <td>0.0</td>\n",
       "      <td>199.0</td>\n",
       "    </tr>\n",
       "    <tr>\n",
       "      <th>8</th>\n",
       "      <td>2</td>\n",
       "      <td>6723.470560</td>\n",
       "      <td>46.0</td>\n",
       "      <td>6.0</td>\n",
       "      <td>0.0</td>\n",
       "      <td>199.0</td>\n",
       "    </tr>\n",
       "    <tr>\n",
       "      <th>10</th>\n",
       "      <td>2</td>\n",
       "      <td>5809.911100</td>\n",
       "      <td>32.0</td>\n",
       "      <td>6.0</td>\n",
       "      <td>0.0</td>\n",
       "      <td>199.0</td>\n",
       "    </tr>\n",
       "    <tr>\n",
       "      <th>11</th>\n",
       "      <td>3</td>\n",
       "      <td>7003.499363</td>\n",
       "      <td>56.0</td>\n",
       "      <td>6.0</td>\n",
       "      <td>0.0</td>\n",
       "      <td>199.0</td>\n",
       "    </tr>\n",
       "    <tr>\n",
       "      <th>...</th>\n",
       "      <th>...</th>\n",
       "      <td>...</td>\n",
       "      <td>...</td>\n",
       "      <td>...</td>\n",
       "      <td>...</td>\n",
       "      <td>...</td>\n",
       "      <td>...</td>\n",
       "    </tr>\n",
       "    <tr>\n",
       "      <th rowspan=\"5\" valign=\"top\">1534</th>\n",
       "      <th>6</th>\n",
       "      <td>2</td>\n",
       "      <td>3409.468534</td>\n",
       "      <td>26.0</td>\n",
       "      <td>8.0</td>\n",
       "      <td>50.0</td>\n",
       "      <td>0.0</td>\n",
       "    </tr>\n",
       "    <tr>\n",
       "      <th>8</th>\n",
       "      <td>2</td>\n",
       "      <td>7622.453034</td>\n",
       "      <td>48.0</td>\n",
       "      <td>8.0</td>\n",
       "      <td>50.0</td>\n",
       "      <td>0.0</td>\n",
       "    </tr>\n",
       "    <tr>\n",
       "      <th>9</th>\n",
       "      <td>1</td>\n",
       "      <td>4928.173852</td>\n",
       "      <td>23.0</td>\n",
       "      <td>8.0</td>\n",
       "      <td>50.0</td>\n",
       "      <td>0.0</td>\n",
       "    </tr>\n",
       "    <tr>\n",
       "      <th>11</th>\n",
       "      <td>4</td>\n",
       "      <td>13350.015305</td>\n",
       "      <td>78.0</td>\n",
       "      <td>8.0</td>\n",
       "      <td>50.0</td>\n",
       "      <td>0.0</td>\n",
       "    </tr>\n",
       "    <tr>\n",
       "      <th>12</th>\n",
       "      <td>1</td>\n",
       "      <td>2371.711192</td>\n",
       "      <td>16.0</td>\n",
       "      <td>8.0</td>\n",
       "      <td>50.0</td>\n",
       "      <td>0.0</td>\n",
       "    </tr>\n",
       "  </tbody>\n",
       "</table>\n",
       "<p>11331 rows × 6 columns</p>\n",
       "</div>"
      ],
      "text/plain": [
       "               count      distance  duration  minute_price  start_ride_price  \\\n",
       "user_id month                                                                  \n",
       "1       1          2   7027.511294      42.0           6.0               0.0   \n",
       "        4          1    754.159807       7.0           6.0               0.0   \n",
       "        8          2   6723.470560      46.0           6.0               0.0   \n",
       "        10         2   5809.911100      32.0           6.0               0.0   \n",
       "        11         3   7003.499363      56.0           6.0               0.0   \n",
       "...              ...           ...       ...           ...               ...   \n",
       "1534    6          2   3409.468534      26.0           8.0              50.0   \n",
       "        8          2   7622.453034      48.0           8.0              50.0   \n",
       "        9          1   4928.173852      23.0           8.0              50.0   \n",
       "        11         4  13350.015305      78.0           8.0              50.0   \n",
       "        12         1   2371.711192      16.0           8.0              50.0   \n",
       "\n",
       "               subscription_fee  \n",
       "user_id month                    \n",
       "1       1                 199.0  \n",
       "        4                 199.0  \n",
       "        8                 199.0  \n",
       "        10                199.0  \n",
       "        11                199.0  \n",
       "...                         ...  \n",
       "1534    6                   0.0  \n",
       "        8                   0.0  \n",
       "        9                   0.0  \n",
       "        11                  0.0  \n",
       "        12                  0.0  \n",
       "\n",
       "[11331 rows x 6 columns]"
      ]
     },
     "execution_count": 42,
     "metadata": {},
     "output_type": "execute_result"
    }
   ],
   "source": [
    "# Приведение столбцов с ценами к целевому состоянию\n",
    "users_go_pivot['start_ride_price'] = users_go_pivot['start_ride_price'] / users_go_pivot['count']\n",
    "users_go_pivot['minute_price'] = users_go_pivot['minute_price'] / users_go_pivot['count']\n",
    "users_go_pivot['subscription_fee'] = users_go_pivot['subscription_fee'] / users_go_pivot['count']\n",
    "\n",
    "users_go_pivot"
   ]
  },
  {
   "cell_type": "markdown",
   "id": "b829ab29",
   "metadata": {},
   "source": [
    "##### Добавление столбца с помесячной выручкой, которую принёс каждый пользователь"
   ]
  },
  {
   "cell_type": "code",
   "execution_count": 43,
   "id": "286cdc98",
   "metadata": {
    "scrolled": true
   },
   "outputs": [
    {
     "name": "stdout",
     "output_type": "stream",
     "text": [
      "count               0\n",
      "distance            0\n",
      "duration            0\n",
      "minute_price        0\n",
      "start_ride_price    0\n",
      "subscription_fee    0\n",
      "dtype: int64\n"
     ]
    }
   ],
   "source": [
    "print(users_go_pivot.isnull().sum())"
   ]
  },
  {
   "cell_type": "code",
   "execution_count": 44,
   "id": "1e9de83d",
   "metadata": {
    "scrolled": false
   },
   "outputs": [
    {
     "data": {
      "text/html": [
       "<div>\n",
       "<style scoped>\n",
       "    .dataframe tbody tr th:only-of-type {\n",
       "        vertical-align: middle;\n",
       "    }\n",
       "\n",
       "    .dataframe tbody tr th {\n",
       "        vertical-align: top;\n",
       "    }\n",
       "\n",
       "    .dataframe thead th {\n",
       "        text-align: right;\n",
       "    }\n",
       "</style>\n",
       "<table border=\"1\" class=\"dataframe\">\n",
       "  <thead>\n",
       "    <tr style=\"text-align: right;\">\n",
       "      <th></th>\n",
       "      <th></th>\n",
       "      <th>count</th>\n",
       "      <th>distance</th>\n",
       "      <th>duration</th>\n",
       "      <th>subscription_fee</th>\n",
       "      <th>revenue</th>\n",
       "    </tr>\n",
       "    <tr>\n",
       "      <th>user_id</th>\n",
       "      <th>month</th>\n",
       "      <th></th>\n",
       "      <th></th>\n",
       "      <th></th>\n",
       "      <th></th>\n",
       "      <th></th>\n",
       "    </tr>\n",
       "  </thead>\n",
       "  <tbody>\n",
       "    <tr>\n",
       "      <th rowspan=\"6\" valign=\"top\">1</th>\n",
       "      <th>1</th>\n",
       "      <td>2</td>\n",
       "      <td>7027.511294</td>\n",
       "      <td>42.0</td>\n",
       "      <td>199.0</td>\n",
       "      <td>451.0</td>\n",
       "    </tr>\n",
       "    <tr>\n",
       "      <th>4</th>\n",
       "      <td>1</td>\n",
       "      <td>754.159807</td>\n",
       "      <td>7.0</td>\n",
       "      <td>199.0</td>\n",
       "      <td>241.0</td>\n",
       "    </tr>\n",
       "    <tr>\n",
       "      <th>8</th>\n",
       "      <td>2</td>\n",
       "      <td>6723.470560</td>\n",
       "      <td>46.0</td>\n",
       "      <td>199.0</td>\n",
       "      <td>475.0</td>\n",
       "    </tr>\n",
       "    <tr>\n",
       "      <th>10</th>\n",
       "      <td>2</td>\n",
       "      <td>5809.911100</td>\n",
       "      <td>32.0</td>\n",
       "      <td>199.0</td>\n",
       "      <td>391.0</td>\n",
       "    </tr>\n",
       "    <tr>\n",
       "      <th>11</th>\n",
       "      <td>3</td>\n",
       "      <td>7003.499363</td>\n",
       "      <td>56.0</td>\n",
       "      <td>199.0</td>\n",
       "      <td>535.0</td>\n",
       "    </tr>\n",
       "    <tr>\n",
       "      <th>12</th>\n",
       "      <td>2</td>\n",
       "      <td>6751.629942</td>\n",
       "      <td>28.0</td>\n",
       "      <td>199.0</td>\n",
       "      <td>367.0</td>\n",
       "    </tr>\n",
       "    <tr>\n",
       "      <th rowspan=\"4\" valign=\"top\">2</th>\n",
       "      <th>3</th>\n",
       "      <td>3</td>\n",
       "      <td>10187.723006</td>\n",
       "      <td>63.0</td>\n",
       "      <td>199.0</td>\n",
       "      <td>577.0</td>\n",
       "    </tr>\n",
       "    <tr>\n",
       "      <th>4</th>\n",
       "      <td>2</td>\n",
       "      <td>6164.381824</td>\n",
       "      <td>40.0</td>\n",
       "      <td>199.0</td>\n",
       "      <td>439.0</td>\n",
       "    </tr>\n",
       "    <tr>\n",
       "      <th>6</th>\n",
       "      <td>1</td>\n",
       "      <td>3255.338202</td>\n",
       "      <td>14.0</td>\n",
       "      <td>199.0</td>\n",
       "      <td>283.0</td>\n",
       "    </tr>\n",
       "    <tr>\n",
       "      <th>7</th>\n",
       "      <td>2</td>\n",
       "      <td>6780.722964</td>\n",
       "      <td>48.0</td>\n",
       "      <td>199.0</td>\n",
       "      <td>487.0</td>\n",
       "    </tr>\n",
       "  </tbody>\n",
       "</table>\n",
       "</div>"
      ],
      "text/plain": [
       "               count      distance  duration  subscription_fee  revenue\n",
       "user_id month                                                          \n",
       "1       1          2   7027.511294      42.0             199.0    451.0\n",
       "        4          1    754.159807       7.0             199.0    241.0\n",
       "        8          2   6723.470560      46.0             199.0    475.0\n",
       "        10         2   5809.911100      32.0             199.0    391.0\n",
       "        11         3   7003.499363      56.0             199.0    535.0\n",
       "        12         2   6751.629942      28.0             199.0    367.0\n",
       "2       3          3  10187.723006      63.0             199.0    577.0\n",
       "        4          2   6164.381824      40.0             199.0    439.0\n",
       "        6          1   3255.338202      14.0             199.0    283.0\n",
       "        7          2   6780.722964      48.0             199.0    487.0"
      ]
     },
     "execution_count": 44,
     "metadata": {},
     "output_type": "execute_result"
    }
   ],
   "source": [
    "# Расчет и округление выручки\n",
    "users_go_pivot['revenue'] = (\n",
    "    (users_go_pivot['start_ride_price'] * users_go_pivot['count']) \n",
    "    + (users_go_pivot['minute_price'] * users_go_pivot['duration']) \n",
    "    + users_go_pivot['subscription_fee']\n",
    ")\n",
    "\n",
    "# Удаление столбцов со вспомогательными данными\n",
    "users_go_pivot = users_go_pivot.drop(['start_ride_price', 'minute_price'], axis=1)\n",
    "\n",
    "users_go_pivot.head(10)"
   ]
  },
  {
   "cell_type": "markdown",
   "id": "41545ac0",
   "metadata": {},
   "source": [
    "#### Шаг 6. Проверка гипотез"
   ]
  },
  {
   "cell_type": "markdown",
   "id": "021df7e2",
   "metadata": {},
   "source": [
    "Продакт-менеджеры сервиса хотят увеличить количество пользователей с подпиской. Для этого они будут проводить различные акции, но сначала нужно выяснить несколько важных моментов."
   ]
  },
  {
   "cell_type": "markdown",
   "id": "64594644",
   "metadata": {},
   "source": [
    "##### Важно понять, тратят ли пользователи с подпиской больше времени на поездки? Если да, то пользователи с подпиской могут быть «выгоднее» для компании. Проверьте гипотезу. "
   ]
  },
  {
   "cell_type": "markdown",
   "id": "7bdaf6d0",
   "metadata": {},
   "source": [
    "Нулевая и альтернативная гипотезы:  \n",
    "1. Гипотеза Н0: Средняя продолжительность поездок с подпиской ‘ultra’ и ‘free’ равна.  \n",
    "2. Гипотеза Н1: Средняя продолжительность поездок с подпиской ‘ultra’ больше, чем с подпиской ‘free’."
   ]
  },
  {
   "cell_type": "code",
   "execution_count": 45,
   "id": "73447693",
   "metadata": {
    "scrolled": true
   },
   "outputs": [
    {
     "name": "stdout",
     "output_type": "stream",
     "text": [
      "1.2804098316645613e-34\n",
      "Отвергаем нулевую гипотезу\n"
     ]
    }
   ],
   "source": [
    "results = st.ttest_ind(ultra_go['duration'], free_go['duration'], alternative='greater')\n",
    "print(results.pvalue)\n",
    "if results.pvalue < 0.05:\n",
    "    print('Отвергаем нулевую гипотезу')\n",
    "else:\n",
    "    print('Не получилось отвергнуть нулевую гипотезу')"
   ]
  },
  {
   "cell_type": "markdown",
   "id": "a20e22c7",
   "metadata": {},
   "source": [
    "**Вывод.** Нулевую гипотезу о равенстве среднего времени поездки отвергли, есть основания утверждать, что средняя длительность поездок подписчиков выше."
   ]
  },
  {
   "cell_type": "markdown",
   "id": "00535de0",
   "metadata": {},
   "source": [
    "##### Расстояние одной поездки в 3130 метров — оптимальное с точки зрения износа самоката. Можно ли сказать, что среднее расстояние, которое проезжают пользователи с подпиской за одну поездку, не превышает 3130 метров? Проверьте гипотезу и сделайте выводы."
   ]
  },
  {
   "cell_type": "markdown",
   "id": "73621599",
   "metadata": {},
   "source": [
    "Нулевая и альтернативная гипотезы:  \n",
    "1. Гипотеза Н0: Среднее расстояние поездок с использованием подписки ‘ultra’ равно оптимальному расстоянию в 3130 метров.  \n",
    "2. Гипотеза Н1: Среднее расстояние поездок с использованием подписки ‘ultra’ более 3130 метров."
   ]
  },
  {
   "cell_type": "code",
   "execution_count": 46,
   "id": "67fa1504",
   "metadata": {},
   "outputs": [
    {
     "name": "stdout",
     "output_type": "stream",
     "text": [
      "0.9195368847849785\n",
      "Не получилось отвергнуть нулевую гипотезу\n"
     ]
    }
   ],
   "source": [
    "results = st.ttest_1samp(ultra_go['distance'], 3130, alternative='greater')\n",
    "print(results.pvalue)\n",
    "if results.pvalue < 0.05:\n",
    "    print('Отвергаем нулевую гипотезу')\n",
    "else:\n",
    "    print('Не получилось отвергнуть нулевую гипотезу')"
   ]
  },
  {
   "cell_type": "markdown",
   "id": "eba581e1",
   "metadata": {},
   "source": [
    "**Вывод.** Не получилось отвергнуть гипотезу о том, что среднее расстояние поездок с использованием подписки ‘ultra’ (меньше или) равно 3130 метров"
   ]
  },
  {
   "cell_type": "markdown",
   "id": "b4a50ee7",
   "metadata": {},
   "source": [
    "##### Проверьте гипотезу о том, будет ли помесячная выручка от пользователей с подпиской по месяцам выше, чем выручка от пользователей без подписки. Сделайте вывод."
   ]
  },
  {
   "cell_type": "markdown",
   "id": "2aea4703",
   "metadata": {},
   "source": [
    "Нулевая и альтернативная гипотезы:  \n",
    "1. Гипотеза Н0: Средняя выручка от поездок с разной подпиской равна.  \n",
    "2. Гипотеза Н1:  Средняя помесячная выручка от пользователей с подпиской выше, чем средняя помесячная выручка от пользователей без подписки."
   ]
  },
  {
   "cell_type": "code",
   "execution_count": 47,
   "id": "6278ab49",
   "metadata": {},
   "outputs": [
    {
     "name": "stdout",
     "output_type": "stream",
     "text": [
      "1.8850394384715216e-31\n",
      "Отвергаем нулевую гипотезу\n"
     ]
    }
   ],
   "source": [
    "results = st.ttest_ind(\n",
    "    users_go_pivot.loc[users_go_pivot['subscription_fee'] > 0, 'revenue'],\n",
    "    users_go_pivot.loc[users_go_pivot['subscription_fee'] == 0, 'revenue'],\n",
    "    alternative='greater'\n",
    ")\n",
    "\n",
    "print(results.pvalue)\n",
    "if results.pvalue < .05:\n",
    "    print('Отвергаем нулевую гипотезу')\n",
    "else:\n",
    "    print('Не получилось отвергнуть нулевую гипотезу')\n",
    "    "
   ]
  },
  {
   "cell_type": "markdown",
   "id": "cef335ee",
   "metadata": {},
   "source": [
    "**Вывод.** Отвергаем нулевую гипотезу о том, что средняя выручка от поездок с использованием подписки ‘ultra’ равна средней выручке с ипользованием подписки ‘free’.\n",
    "\n",
    "Выручка от подписки ‘ultra’ может быть больше, чем от подписки ‘free'."
   ]
  },
  {
   "cell_type": "markdown",
   "id": "cbf7ca20",
   "metadata": {},
   "source": [
    "##### Представьте такую ситуацию: техническая команда сервиса обновила сервера, с которыми взаимодействует мобильное приложение. Она надеется, что из-за этого количество обращений в техподдержку значимо снизилось. Некоторый файл содержит для каждого пользователя данные о количестве обращений до обновления и после него. Какой тест вам понадобился бы для проверки этой гипотезы?"
   ]
  },
  {
   "cell_type": "markdown",
   "id": "23ac2ebe",
   "metadata": {},
   "source": [
    "Сначала требуется провести сравнение выборок на предмет соответствия уникальных пользователей в них.  \n",
    "\n",
    "Если списки уникальных пользователей в них совпадают, то выборки зависимы и для проверки гипотезы потребуется тест st.ttest_rel(before, after, alternative=’less’)\n",
    "\n",
    "Если же списки разные то, можно использовать тест:\n",
    "st.ttest_ind(before, after, equal_var=False, alternative=’less’).  \n",
    "Где, equal_var=False, т.к. выборки не равны, а alternative=’less’, т.к. основная гипотеза отвергается, если изначально обращений было меньше, чем после обновлений сервиса."
   ]
  },
  {
   "cell_type": "markdown",
   "id": "61213c5e",
   "metadata": {},
   "source": [
    "#### Шаг 7. Распределения"
   ]
  },
  {
   "cell_type": "markdown",
   "id": "c454a78a",
   "metadata": {},
   "source": [
    "##### Отделу маркетинга GoFast поставили задачу: нужно провести акцию с раздачей промокодов на один бесплатный месяц подписки, в рамках которой как минимум 100 существующих клиентов должны продлить эту подписку. То есть по завершении периода действия подписки пользователь может либо отказаться от неё, либо продлить, совершив соответствующий платёж.   \n",
    "Эта акция уже проводилась ранее и по итогу выяснилось, что после бесплатного пробного периода подписку продлевают 10 % пользователей. Выясните, какое минимальное количество промокодов нужно разослать, чтобы вероятность не выполнить план была примерно 5 %. Подберите параметры распределения, описывающего эту ситуацию, постройте график распределения и сформулируйте ответ на вопрос о количестве промокодов."
   ]
  },
  {
   "cell_type": "code",
   "execution_count": 48,
   "id": "29bb9dd4",
   "metadata": {},
   "outputs": [
    {
     "data": {
      "text/plain": [
       "100.02841955223582"
      ]
     },
     "execution_count": 48,
     "metadata": {},
     "output_type": "execute_result"
    }
   ],
   "source": [
    "n = 1169\n",
    "p = 0.1\n",
    "x = 0.05\n",
    "# Расчет параметров нормального распределения\n",
    "mu = n * p\n",
    "sigma = (n * p * (1 - p))**0.5\n",
    "# Расчет нормального распределения\n",
    "distr = st.norm(mu, sigma)\n",
    "# Расчет значения для заданной вероятности x\n",
    "result = distr.ppf(x)\n",
    "result"
   ]
  },
  {
   "cell_type": "markdown",
   "id": "12f741c0",
   "metadata": {},
   "source": [
    "Требуется разослать 1169 промокодов, которые приводят к продлению подписки с вероятностью 10%, чтобы 100 клиентов продлили подписку с вероятностью неуспеха не более 5%."
   ]
  },
  {
   "cell_type": "markdown",
   "id": "42d4b379",
   "metadata": {},
   "source": [
    "##### Отдел маркетинга рассылает клиентам push-уведомления в мобильном приложении. Клиенты могут открыть его или не открывать. Известно, что уведомления открывают около 40 % получивших клиентов. Отдел планирует разослать 1 млн уведомлений. С помощью аппроксимации постройте примерный график распределения и оцените вероятность того, что уведомление откроют не более 399,5 тыс. пользователей."
   ]
  },
  {
   "cell_type": "code",
   "execution_count": 49,
   "id": "a07db92d",
   "metadata": {},
   "outputs": [
    {
     "data": {
      "text/plain": [
       "0.15371708296369768"
      ]
     },
     "execution_count": 49,
     "metadata": {},
     "output_type": "execute_result"
    }
   ],
   "source": [
    "n = 1000000\n",
    "p = 0.4\n",
    "x = 399500\n",
    "\n",
    "# Расчет параметров нормального распределения\n",
    "mu = n * p\n",
    "sigma = (n * p * (1 - p))**0.5\n",
    "# Расчет нормального распределения\n",
    "distr = st.norm(mu, sigma) \n",
    "# Расчет вероятности для заданного значения x\n",
    "result = distr.cdf(x)\n",
    "result"
   ]
  },
  {
   "cell_type": "markdown",
   "id": "a1ca76d2",
   "metadata": {},
   "source": [
    "399.5 тыс. клиентов откроют уведомления с вероятностью 15.37%, если разослать 1 млн. уведомлений, которые открывают клиенты с вероятностью 40%."
   ]
  },
  {
   "cell_type": "markdown",
   "id": "3f0e5c7f",
   "metadata": {},
   "source": [
    "# ВЫВОДЫ ПРОЕКТА"
   ]
  },
  {
   "cell_type": "markdown",
   "id": "2cca0e70",
   "metadata": {},
   "source": [
    "Все исходные данные во всех файлах не содержали пропусков, значительных выбросов, а также дубликатов, кроме тех, которые были обнаружены в файле ‘users_go.csv’. При копировании данных из файлов в датафреймы, данные столбцов были не в оптимальном состоянии. В ходе предобработки данных они были оптимизированы для целей данного проекта.\n",
    "\n",
    "В ходе исследовательского анализа данных было выявлено:\n",
    "\n",
    "- Пользователей с подпиской «free» всего 835, что составляет 54.43% от общего количества и на 136 больше, чем с подпиской «ultra».\n",
    "- Услугами сервиса аренды самокатов пользуются люди от 12 до 43 лет. Максимальное количество пользователей в возрасте 25 лет, этот же возраст является медианным.\n",
    "- Большая часть всех пользователей используют подписку «free». Всего их 835, что составляет 54.43% от общего количества и на 136 больше, чем с подпиской «ultra».\n",
    "- Максимальное количество в 219 поездок совершено в Пятигорске. Минимальное количество в 168 поездок совершено в Москве.\n",
    "- За одну поездку пользователи преодолевают от 1 до 7211 метров. Медиана всех значений равна 3134 метров. Наблюдаются два пика. Малый пик около 700 метров, большой пик около 3200 метров. Между пиками значения нормально распределены.\n",
    "- Продолжительность поездок нормально распределена от 0 до 41 минуты. Продолжительность в 18 минут является как наиболее распространенной так и медианным значением. Наблюдается выброс размером менее 100 поездок с продолжительностью в 1 минуту.\n",
    "\n",
    "В результате группировки данных выявлено:\n",
    "\n",
    "- Поездок с исползьзованием подписки ‘free’ на 5068 больше, чем с использованием подписки ‘ultra’, и составляет 11568.\n",
    "- Возрастные показатели пользователей с разным типом подписки в целом схожи, за исключением максимального возраста, который на 5 лет больше у пользователей с подпиской ‘free’.\n",
    "- Дистанция поездок при использовании подписки ‘free’ более разнообразна. Так максимальная дистанция больше на 1511 метров, а минимальная на 243 метра меньше, чем при использовании подписки ‘ultra’. Об этом же свидетельствует и стандартное отклонение, которое при использовании подписки ‘free’ больше на 409 метров, чем при использовании подписки ‘ultra’. Средняя дистанция при использовании подписки ‘free’ короче. Это следует из того, что среднее значениее на 70 метров, а медиана на 34 метра, меньше, чем при использовании ‘ultra’. При использовании обоих подписок наблюдается два пика. Первый небольшой пик на меньших дистанциях и второй основной пик на больших дистанциях. Так меньший пик ‘ultra’ находится в районе 1000 метров, а основной в районе 3100 метров с небольшой коррекцией около 4000 метров. Меншьй пик ‘free’ в районе 700 метров, а основной 2500-3500 метров. В целом пики ‘ultra’ более выраженные и имеют меньший разрбос.\n",
    "- Продолжительность поездок при использовании подписки ‘free’ немного меньше по всем показателям, чем при использовании ‘ultra’. Например, минимальное время меньше на 3.26 минут, а максимальное меньше на 5.88 минут. В обоих случаях количество поездок относительно нормально распределено в зависимости от их продолжительности. Пик количества поездок приходится на 17-18 минут. При использовании подписки ‘free’ наблюдается пик в около 100 поездок с продолжительностью около 1 минуты.\n",
    "- Сезонность использования разного типа подписки схожа за исключением медианы, которая у подписчиков ‘ultra’ приходится на июнь, а у подписчиков ‘free’ на июль. При использовании обоих типов подписок наблюдаются спады пользовательской активности в феврале и ноябре. Максимум поездок с подпиской ‘ultra’ в мае (597 поездок, это 3.3% от всех поездок). Максимумы поездок с подпиской ‘free’ в январе (1001 поездка, это 5.54% от всех поездок), сентябре (1002 поездки) и декабре (1003 поездки). При использовании подписки ‘free’ нет выраженной сезонности, кроме спдов в феврале и ноябре. При использовании подписки ‘ultra’ наблюдается более выраженная сезонность. Количество поездок растет с февраля по май, а затем медленно снижается до ноября.\n",
    "- Во всех городах доминирует подписка ‘free’. Пятигорск является лидером по использованию этиго типа подписки (1672 поездок). Ростов-на-Дону является лидером по использованию подписки ‘ultra’ (885 поездок).\n",
    "\n",
    "\n",
    "Средняя продолжительность поездок с подпиской ‘ultra’ может быть выше средней продолжительности с подпиской ‘free’. \n",
    "Средняя выручка от поездок с использованием подписки ‘ultra’ равна (или больше) средней выручке с ипользованием подписки ‘free’. Поэтому можно сказать, что они более выгодны для сервиса аренды самокатов"
   ]
  }
 ],
 "metadata": {
  "ExecuteTimeLog": [
   {
    "duration": 55,
    "start_time": "2023-10-12T09:56:57.408Z"
   },
   {
    "duration": 425,
    "start_time": "2023-10-12T09:57:01.529Z"
   },
   {
    "duration": 213,
    "start_time": "2023-10-12T09:57:02.304Z"
   },
   {
    "duration": 76,
    "start_time": "2023-10-12T09:57:14.744Z"
   },
   {
    "duration": 77,
    "start_time": "2023-10-12T09:58:01.061Z"
   },
   {
    "duration": 75,
    "start_time": "2023-10-12T09:58:08.120Z"
   },
   {
    "duration": 76,
    "start_time": "2023-10-12T09:58:10.811Z"
   },
   {
    "duration": 75,
    "start_time": "2023-10-12T09:58:19.412Z"
   },
   {
    "duration": 78,
    "start_time": "2023-10-12T09:58:23.867Z"
   },
   {
    "duration": 75,
    "start_time": "2023-10-12T09:58:40.562Z"
   },
   {
    "duration": 91,
    "start_time": "2023-10-12T09:58:47.081Z"
   },
   {
    "duration": 12,
    "start_time": "2023-10-12T09:59:13.072Z"
   },
   {
    "duration": 13,
    "start_time": "2023-10-12T09:59:16.647Z"
   },
   {
    "duration": 11,
    "start_time": "2023-10-12T09:59:28.055Z"
   },
   {
    "duration": 9,
    "start_time": "2023-10-12T09:59:35.470Z"
   },
   {
    "duration": 11,
    "start_time": "2023-10-12T09:59:44.981Z"
   },
   {
    "duration": 12,
    "start_time": "2023-10-12T10:00:21.188Z"
   },
   {
    "duration": 10,
    "start_time": "2023-10-12T10:00:45.354Z"
   },
   {
    "duration": 15,
    "start_time": "2023-10-12T10:01:47.329Z"
   },
   {
    "duration": 16,
    "start_time": "2023-10-12T10:04:11.933Z"
   },
   {
    "duration": 27,
    "start_time": "2023-10-12T10:04:38.922Z"
   },
   {
    "duration": 4,
    "start_time": "2023-10-12T10:04:46.609Z"
   },
   {
    "duration": 244,
    "start_time": "2023-10-12T10:05:17.814Z"
   },
   {
    "duration": 6,
    "start_time": "2023-10-12T10:05:20.231Z"
   },
   {
    "duration": 8,
    "start_time": "2023-10-12T10:05:32.094Z"
   },
   {
    "duration": 84,
    "start_time": "2023-10-12T10:06:06.012Z"
   },
   {
    "duration": 75,
    "start_time": "2023-10-12T10:06:10.579Z"
   },
   {
    "duration": 9,
    "start_time": "2023-10-12T10:07:13.608Z"
   },
   {
    "duration": 7,
    "start_time": "2023-10-12T10:07:19.271Z"
   },
   {
    "duration": 8,
    "start_time": "2023-10-12T10:07:32.491Z"
   },
   {
    "duration": 661,
    "start_time": "2023-10-12T10:08:00.020Z"
   },
   {
    "duration": 136,
    "start_time": "2023-10-12T10:08:10.596Z"
   },
   {
    "duration": 133,
    "start_time": "2023-10-12T10:08:26.467Z"
   },
   {
    "duration": 291,
    "start_time": "2023-10-12T10:08:35.482Z"
   },
   {
    "duration": 144,
    "start_time": "2023-10-12T10:08:42.929Z"
   },
   {
    "duration": 140,
    "start_time": "2023-10-12T10:09:02.776Z"
   },
   {
    "duration": 167,
    "start_time": "2023-10-12T10:09:06.472Z"
   },
   {
    "duration": 86,
    "start_time": "2023-10-12T10:09:35.726Z"
   },
   {
    "duration": 78,
    "start_time": "2023-10-12T10:09:41.510Z"
   },
   {
    "duration": 77,
    "start_time": "2023-10-12T10:09:51.941Z"
   },
   {
    "duration": 76,
    "start_time": "2023-10-12T10:09:54.661Z"
   },
   {
    "duration": 77,
    "start_time": "2023-10-12T10:10:09.483Z"
   },
   {
    "duration": 5,
    "start_time": "2023-10-12T10:10:52.704Z"
   },
   {
    "duration": 439,
    "start_time": "2023-10-15T09:25:08.365Z"
   },
   {
    "duration": 283,
    "start_time": "2023-10-15T09:43:08.689Z"
   },
   {
    "duration": 107,
    "start_time": "2023-10-15T09:43:34.120Z"
   },
   {
    "duration": 769,
    "start_time": "2023-10-15T09:44:28.737Z"
   },
   {
    "duration": 87,
    "start_time": "2023-10-15T09:45:19.225Z"
   },
   {
    "duration": 270,
    "start_time": "2023-10-15T09:45:21.280Z"
   },
   {
    "duration": 7,
    "start_time": "2023-10-15T09:48:14.777Z"
   },
   {
    "duration": 4,
    "start_time": "2023-10-15T09:48:26.537Z"
   },
   {
    "duration": 6,
    "start_time": "2023-10-15T09:48:38.862Z"
   },
   {
    "duration": 7,
    "start_time": "2023-10-15T09:48:55.067Z"
   },
   {
    "duration": 4,
    "start_time": "2023-10-15T09:51:06.251Z"
   },
   {
    "duration": 6,
    "start_time": "2023-10-15T09:51:22.954Z"
   },
   {
    "duration": 78,
    "start_time": "2023-10-15T09:51:29.170Z"
   },
   {
    "duration": 5,
    "start_time": "2023-10-15T09:51:36.104Z"
   },
   {
    "duration": 382,
    "start_time": "2023-10-15T09:52:06.579Z"
   },
   {
    "duration": 7,
    "start_time": "2023-10-15T09:54:16.277Z"
   },
   {
    "duration": 23,
    "start_time": "2023-10-15T09:54:37.387Z"
   },
   {
    "duration": 10,
    "start_time": "2023-10-15T09:59:09.740Z"
   },
   {
    "duration": 8,
    "start_time": "2023-10-15T09:59:29.045Z"
   },
   {
    "duration": 11,
    "start_time": "2023-10-15T09:59:39.083Z"
   },
   {
    "duration": 6,
    "start_time": "2023-10-15T10:01:40.036Z"
   },
   {
    "duration": 9,
    "start_time": "2023-10-15T10:01:43.717Z"
   },
   {
    "duration": 10,
    "start_time": "2023-10-15T10:01:52.480Z"
   },
   {
    "duration": 10,
    "start_time": "2023-10-15T10:02:24.164Z"
   },
   {
    "duration": 7,
    "start_time": "2023-10-15T10:03:09.174Z"
   },
   {
    "duration": 4,
    "start_time": "2023-10-15T10:03:34.709Z"
   },
   {
    "duration": 7,
    "start_time": "2023-10-15T10:03:54.725Z"
   },
   {
    "duration": 25,
    "start_time": "2023-10-15T10:04:02.086Z"
   },
   {
    "duration": 6,
    "start_time": "2023-10-15T10:04:13.885Z"
   },
   {
    "duration": 7,
    "start_time": "2023-10-15T10:04:42.532Z"
   },
   {
    "duration": 7,
    "start_time": "2023-10-15T10:04:46.958Z"
   },
   {
    "duration": 6,
    "start_time": "2023-10-15T10:05:02.380Z"
   },
   {
    "duration": 7,
    "start_time": "2023-10-15T10:05:07.637Z"
   },
   {
    "duration": 13,
    "start_time": "2023-10-15T10:08:21.414Z"
   },
   {
    "duration": 8,
    "start_time": "2023-10-15T10:08:28.294Z"
   },
   {
    "duration": 5,
    "start_time": "2023-10-15T10:08:38.946Z"
   },
   {
    "duration": 11,
    "start_time": "2023-10-15T10:08:43.375Z"
   },
   {
    "duration": 9,
    "start_time": "2023-10-15T10:08:47.535Z"
   },
   {
    "duration": 4,
    "start_time": "2023-10-15T10:08:52.504Z"
   },
   {
    "duration": 4,
    "start_time": "2023-10-15T10:09:05.330Z"
   },
   {
    "duration": 135,
    "start_time": "2023-10-15T10:09:21.056Z"
   },
   {
    "duration": 125,
    "start_time": "2023-10-15T10:10:07.418Z"
   },
   {
    "duration": 8,
    "start_time": "2023-10-15T10:10:17.683Z"
   },
   {
    "duration": 11,
    "start_time": "2023-10-15T10:10:41.108Z"
   },
   {
    "duration": 120,
    "start_time": "2023-10-15T10:10:45.114Z"
   },
   {
    "duration": 2,
    "start_time": "2023-10-15T10:11:21.747Z"
   },
   {
    "duration": 118,
    "start_time": "2023-10-15T10:11:43.932Z"
   },
   {
    "duration": 121,
    "start_time": "2023-10-15T10:11:48.787Z"
   },
   {
    "duration": 117,
    "start_time": "2023-10-15T10:11:50.244Z"
   },
   {
    "duration": 118,
    "start_time": "2023-10-15T10:14:54.863Z"
   },
   {
    "duration": 170,
    "start_time": "2023-10-15T10:15:04.587Z"
   },
   {
    "duration": 126,
    "start_time": "2023-10-15T10:15:10.872Z"
   },
   {
    "duration": 158,
    "start_time": "2023-10-15T10:16:00.376Z"
   },
   {
    "duration": 75,
    "start_time": "2023-10-15T10:16:06.576Z"
   },
   {
    "duration": 14,
    "start_time": "2023-10-15T10:16:16.728Z"
   },
   {
    "duration": 79,
    "start_time": "2023-10-15T10:16:34.825Z"
   },
   {
    "duration": 193,
    "start_time": "2023-10-15T10:16:39.012Z"
   },
   {
    "duration": 8,
    "start_time": "2023-10-15T10:17:59.626Z"
   },
   {
    "duration": 8,
    "start_time": "2023-10-15T10:18:57.779Z"
   },
   {
    "duration": 4,
    "start_time": "2023-10-15T10:19:10.845Z"
   },
   {
    "duration": 4,
    "start_time": "2023-10-15T10:19:19.515Z"
   },
   {
    "duration": 14,
    "start_time": "2023-10-15T10:19:35.012Z"
   },
   {
    "duration": 9,
    "start_time": "2023-10-15T10:20:11.828Z"
   },
   {
    "duration": 8,
    "start_time": "2023-10-15T10:20:17.964Z"
   },
   {
    "duration": 7,
    "start_time": "2023-10-15T10:20:35.036Z"
   },
   {
    "duration": 1502,
    "start_time": "2023-10-15T10:21:05.050Z"
   },
   {
    "duration": 12,
    "start_time": "2023-10-15T10:21:50.670Z"
   },
   {
    "duration": 17,
    "start_time": "2023-10-15T10:22:09.300Z"
   },
   {
    "duration": 1796,
    "start_time": "2023-10-15T10:22:22.189Z"
   },
   {
    "duration": 11,
    "start_time": "2023-10-15T10:22:30.278Z"
   },
   {
    "duration": 7,
    "start_time": "2023-10-15T10:22:43.093Z"
   },
   {
    "duration": 16,
    "start_time": "2023-10-15T10:23:01.284Z"
   },
   {
    "duration": 7,
    "start_time": "2023-10-15T10:23:18.470Z"
   },
   {
    "duration": 112,
    "start_time": "2023-10-15T10:23:34.166Z"
   },
   {
    "duration": 120,
    "start_time": "2023-10-15T10:23:37.614Z"
   },
   {
    "duration": 111,
    "start_time": "2023-10-15T10:24:11.718Z"
   },
   {
    "duration": 12,
    "start_time": "2023-10-15T10:24:26.550Z"
   },
   {
    "duration": 121,
    "start_time": "2023-10-15T10:24:46.336Z"
   },
   {
    "duration": 7,
    "start_time": "2023-10-15T10:24:54.711Z"
   },
   {
    "duration": 1532,
    "start_time": "2023-10-15T10:25:20.047Z"
   },
   {
    "duration": 8,
    "start_time": "2023-10-15T10:25:28.390Z"
   },
   {
    "duration": 11,
    "start_time": "2023-10-15T10:25:49.558Z"
   },
   {
    "duration": 8,
    "start_time": "2023-10-15T10:26:02.007Z"
   },
   {
    "duration": 4,
    "start_time": "2023-10-15T10:26:04.295Z"
   },
   {
    "duration": 123,
    "start_time": "2023-10-15T10:26:17.784Z"
   },
   {
    "duration": 7,
    "start_time": "2023-10-15T10:26:28.326Z"
   },
   {
    "duration": 7,
    "start_time": "2023-10-15T10:26:42.111Z"
   },
   {
    "duration": 9,
    "start_time": "2023-10-15T10:26:59.888Z"
   },
   {
    "duration": 1218,
    "start_time": "2023-10-15T10:27:49.744Z"
   },
   {
    "duration": 1311,
    "start_time": "2023-10-15T10:28:01.416Z"
   },
   {
    "duration": 1459,
    "start_time": "2023-10-15T10:28:04.520Z"
   },
   {
    "duration": 102,
    "start_time": "2023-10-15T10:28:07.936Z"
   },
   {
    "duration": 10,
    "start_time": "2023-10-15T10:28:10.497Z"
   },
   {
    "duration": 6,
    "start_time": "2023-10-15T10:28:50.450Z"
   },
   {
    "duration": 1868,
    "start_time": "2023-10-15T10:28:53.873Z"
   },
   {
    "duration": 10,
    "start_time": "2023-10-15T10:29:02.465Z"
   },
   {
    "duration": 9,
    "start_time": "2023-10-15T10:29:08.578Z"
   },
   {
    "duration": 8,
    "start_time": "2023-10-15T10:29:44.953Z"
   },
   {
    "duration": 11,
    "start_time": "2023-10-15T10:29:49.138Z"
   },
   {
    "duration": 7,
    "start_time": "2023-10-15T10:29:56.121Z"
   },
   {
    "duration": 5,
    "start_time": "2023-10-15T10:30:04.929Z"
   },
   {
    "duration": 8,
    "start_time": "2023-10-15T10:30:07.529Z"
   },
   {
    "duration": 117,
    "start_time": "2023-10-15T10:30:22.076Z"
   },
   {
    "duration": 12,
    "start_time": "2023-10-15T10:30:34.945Z"
   },
   {
    "duration": 13,
    "start_time": "2023-10-15T10:30:44.609Z"
   },
   {
    "duration": 9,
    "start_time": "2023-10-15T10:31:07.122Z"
   },
   {
    "duration": 122,
    "start_time": "2023-10-15T10:31:09.729Z"
   },
   {
    "duration": 10,
    "start_time": "2023-10-15T10:31:12.361Z"
   },
   {
    "duration": 116,
    "start_time": "2023-10-15T10:31:12.633Z"
   },
   {
    "duration": 6,
    "start_time": "2023-10-15T10:31:28.001Z"
   },
   {
    "duration": 10,
    "start_time": "2023-10-15T10:31:30.098Z"
   },
   {
    "duration": 152,
    "start_time": "2023-10-15T10:31:32.250Z"
   },
   {
    "duration": 10,
    "start_time": "2023-10-15T10:31:42.265Z"
   },
   {
    "duration": 123,
    "start_time": "2023-10-15T10:31:42.622Z"
   },
   {
    "duration": 10,
    "start_time": "2023-10-15T10:31:46.713Z"
   },
   {
    "duration": 219,
    "start_time": "2023-10-15T10:31:47.010Z"
   },
   {
    "duration": 9,
    "start_time": "2023-10-15T10:32:54.914Z"
   },
   {
    "duration": 6,
    "start_time": "2023-10-15T10:32:58.330Z"
   },
   {
    "duration": 8,
    "start_time": "2023-10-15T10:33:25.123Z"
   },
   {
    "duration": 7,
    "start_time": "2023-10-15T10:34:44.155Z"
   },
   {
    "duration": 10,
    "start_time": "2023-10-15T10:34:48.075Z"
   },
   {
    "duration": 6,
    "start_time": "2023-10-15T10:35:09.931Z"
   },
   {
    "duration": 6,
    "start_time": "2023-10-15T10:35:19.075Z"
   },
   {
    "duration": 116,
    "start_time": "2023-10-15T10:35:19.371Z"
   },
   {
    "duration": 8,
    "start_time": "2023-10-15T10:35:19.963Z"
   },
   {
    "duration": 9,
    "start_time": "2023-10-15T10:35:38.964Z"
   },
   {
    "duration": 4,
    "start_time": "2023-10-15T10:36:31.661Z"
   },
   {
    "duration": 6,
    "start_time": "2023-10-15T10:36:33.844Z"
   },
   {
    "duration": 7,
    "start_time": "2023-10-15T10:36:40.764Z"
   },
   {
    "duration": 5,
    "start_time": "2023-10-15T10:36:46.668Z"
   },
   {
    "duration": 7,
    "start_time": "2023-10-15T10:37:45.791Z"
   },
   {
    "duration": 10,
    "start_time": "2023-10-15T10:37:50.733Z"
   },
   {
    "duration": 16,
    "start_time": "2023-10-15T10:38:14.446Z"
   },
   {
    "duration": 9,
    "start_time": "2023-10-15T10:38:36.774Z"
   },
   {
    "duration": 11,
    "start_time": "2023-10-15T10:39:15.134Z"
   },
   {
    "duration": 128,
    "start_time": "2023-10-15T10:40:48.871Z"
   },
   {
    "duration": 135,
    "start_time": "2023-10-15T10:40:55.590Z"
   },
   {
    "duration": 184,
    "start_time": "2023-10-15T10:40:58.134Z"
   },
   {
    "duration": 150,
    "start_time": "2023-10-15T10:41:00.550Z"
   },
   {
    "duration": 164,
    "start_time": "2023-10-15T10:41:24.919Z"
   },
   {
    "duration": 1394,
    "start_time": "2023-10-15T10:42:18.663Z"
   },
   {
    "duration": 1523,
    "start_time": "2023-10-15T10:42:22.518Z"
   },
   {
    "duration": 173,
    "start_time": "2023-10-15T10:42:31.864Z"
   },
   {
    "duration": 184,
    "start_time": "2023-10-15T10:43:14.920Z"
   },
   {
    "duration": 191,
    "start_time": "2023-10-15T10:43:25.440Z"
   },
   {
    "duration": 210,
    "start_time": "2023-10-15T10:43:28.807Z"
   },
   {
    "duration": 247,
    "start_time": "2023-10-15T10:43:31.200Z"
   },
   {
    "duration": 185,
    "start_time": "2023-10-15T10:43:34.800Z"
   },
   {
    "duration": 16,
    "start_time": "2023-10-15T10:47:06.414Z"
   },
   {
    "duration": 13,
    "start_time": "2023-10-15T10:47:10.066Z"
   },
   {
    "duration": 10,
    "start_time": "2023-10-15T10:49:39.428Z"
   },
   {
    "duration": 22,
    "start_time": "2023-10-15T10:49:43.493Z"
   },
   {
    "duration": 22,
    "start_time": "2023-10-15T10:49:47.309Z"
   },
   {
    "duration": 8,
    "start_time": "2023-10-15T10:49:50.500Z"
   },
   {
    "duration": 13,
    "start_time": "2023-10-15T10:50:53.813Z"
   },
   {
    "duration": 12,
    "start_time": "2023-10-15T10:50:56.967Z"
   },
   {
    "duration": 13,
    "start_time": "2023-10-15T10:51:07.965Z"
   },
   {
    "duration": 14,
    "start_time": "2023-10-15T10:51:08.231Z"
   },
   {
    "duration": 53,
    "start_time": "2023-10-15T10:51:21.742Z"
   },
   {
    "duration": 125,
    "start_time": "2023-10-15T10:56:45.393Z"
   },
   {
    "duration": 131,
    "start_time": "2023-10-15T10:57:10.778Z"
   },
   {
    "duration": 140,
    "start_time": "2023-10-15T10:57:54.658Z"
   },
   {
    "duration": 131,
    "start_time": "2023-10-15T10:58:09.091Z"
   },
   {
    "duration": 134,
    "start_time": "2023-10-15T10:58:12.555Z"
   },
   {
    "duration": 125,
    "start_time": "2023-10-15T10:58:15.106Z"
   },
   {
    "duration": 134,
    "start_time": "2023-10-15T10:58:16.659Z"
   },
   {
    "duration": 133,
    "start_time": "2023-10-15T10:58:36.604Z"
   },
   {
    "duration": 133,
    "start_time": "2023-10-15T10:58:39.970Z"
   },
   {
    "duration": 222,
    "start_time": "2023-10-15T10:58:45.698Z"
   },
   {
    "duration": 188,
    "start_time": "2023-10-15T10:59:34.754Z"
   },
   {
    "duration": 193,
    "start_time": "2023-10-15T10:59:41.186Z"
   },
   {
    "duration": 231,
    "start_time": "2023-10-15T10:59:43.548Z"
   },
   {
    "duration": 185,
    "start_time": "2023-10-15T10:59:53.179Z"
   },
   {
    "duration": 198,
    "start_time": "2023-10-15T11:00:06.525Z"
   },
   {
    "duration": 209,
    "start_time": "2023-10-15T11:01:00.715Z"
   },
   {
    "duration": 143,
    "start_time": "2023-10-15T11:01:04.763Z"
   },
   {
    "duration": 296,
    "start_time": "2023-10-15T11:01:14.581Z"
   },
   {
    "duration": 215,
    "start_time": "2023-10-15T11:01:50.157Z"
   },
   {
    "duration": 192,
    "start_time": "2023-10-15T11:01:52.795Z"
   },
   {
    "duration": 193,
    "start_time": "2023-10-15T11:01:59.788Z"
   },
   {
    "duration": 347,
    "start_time": "2023-10-15T11:02:24.773Z"
   },
   {
    "duration": 151,
    "start_time": "2023-10-15T11:02:39.692Z"
   },
   {
    "duration": 207,
    "start_time": "2023-10-15T11:02:50.190Z"
   },
   {
    "duration": 21,
    "start_time": "2023-10-15T11:08:45.839Z"
   },
   {
    "duration": 20,
    "start_time": "2023-10-15T11:08:46.159Z"
   },
   {
    "duration": 268,
    "start_time": "2023-10-15T11:08:46.683Z"
   },
   {
    "duration": 14,
    "start_time": "2023-10-15T11:08:50.967Z"
   },
   {
    "duration": 4,
    "start_time": "2023-10-15T11:08:54.181Z"
   },
   {
    "duration": 4,
    "start_time": "2023-10-15T11:08:55.479Z"
   },
   {
    "duration": 295,
    "start_time": "2023-10-15T11:08:57.079Z"
   },
   {
    "duration": 5,
    "start_time": "2023-10-15T11:08:58.878Z"
   },
   {
    "duration": 15,
    "start_time": "2023-10-15T11:09:01.855Z"
   },
   {
    "duration": 7,
    "start_time": "2023-10-15T11:09:03.847Z"
   },
   {
    "duration": 10,
    "start_time": "2023-10-15T11:09:04.161Z"
   },
   {
    "duration": 7,
    "start_time": "2023-10-15T11:09:05.799Z"
   },
   {
    "duration": 9,
    "start_time": "2023-10-15T11:09:06.535Z"
   },
   {
    "duration": 5,
    "start_time": "2023-10-15T11:09:06.768Z"
   },
   {
    "duration": 6,
    "start_time": "2023-10-15T11:09:07.144Z"
   },
   {
    "duration": 5,
    "start_time": "2023-10-15T11:09:09.608Z"
   },
   {
    "duration": 8,
    "start_time": "2023-10-15T11:09:11.135Z"
   },
   {
    "duration": 6,
    "start_time": "2023-10-15T11:09:12.463Z"
   },
   {
    "duration": 122,
    "start_time": "2023-10-15T11:09:13.455Z"
   },
   {
    "duration": 7,
    "start_time": "2023-10-15T11:09:14.248Z"
   },
   {
    "duration": 12,
    "start_time": "2023-10-15T11:09:16.415Z"
   },
   {
    "duration": 152,
    "start_time": "2023-10-15T11:09:17.327Z"
   },
   {
    "duration": 178,
    "start_time": "2023-10-15T11:09:18.816Z"
   },
   {
    "duration": 184,
    "start_time": "2023-10-15T11:09:20.313Z"
   },
   {
    "duration": 15,
    "start_time": "2023-10-15T11:09:22.551Z"
   },
   {
    "duration": 12,
    "start_time": "2023-10-15T11:09:22.886Z"
   },
   {
    "duration": 10,
    "start_time": "2023-10-15T11:09:24.504Z"
   },
   {
    "duration": 11,
    "start_time": "2023-10-15T11:09:24.921Z"
   },
   {
    "duration": 12,
    "start_time": "2023-10-15T11:09:25.095Z"
   },
   {
    "duration": 12,
    "start_time": "2023-10-15T11:09:25.335Z"
   },
   {
    "duration": 27,
    "start_time": "2023-10-15T11:09:25.696Z"
   },
   {
    "duration": 50,
    "start_time": "2023-10-15T11:09:26.047Z"
   },
   {
    "duration": 206,
    "start_time": "2023-10-15T11:09:27.359Z"
   },
   {
    "duration": 223,
    "start_time": "2023-10-15T11:09:56.864Z"
   },
   {
    "duration": 196,
    "start_time": "2023-10-15T11:10:06.458Z"
   },
   {
    "duration": 194,
    "start_time": "2023-10-15T11:10:15.451Z"
   },
   {
    "duration": 219,
    "start_time": "2023-10-15T11:10:24.530Z"
   },
   {
    "duration": 2,
    "start_time": "2023-10-15T11:11:12.601Z"
   },
   {
    "duration": 250,
    "start_time": "2023-10-15T12:03:09.958Z"
   },
   {
    "duration": 232,
    "start_time": "2023-10-15T12:03:52.232Z"
   },
   {
    "duration": 2791,
    "start_time": "2023-10-15T12:03:57.569Z"
   },
   {
    "duration": 9,
    "start_time": "2023-10-15T12:05:01.130Z"
   },
   {
    "duration": 185,
    "start_time": "2023-10-15T12:05:04.513Z"
   },
   {
    "duration": 202,
    "start_time": "2023-10-15T12:05:18.461Z"
   },
   {
    "duration": 157,
    "start_time": "2023-10-15T12:05:27.737Z"
   },
   {
    "duration": 97,
    "start_time": "2023-10-15T12:05:38.895Z"
   },
   {
    "duration": 303,
    "start_time": "2023-10-15T12:05:43.635Z"
   },
   {
    "duration": 114,
    "start_time": "2023-10-15T12:05:46.305Z"
   },
   {
    "duration": 203,
    "start_time": "2023-10-15T12:05:49.418Z"
   },
   {
    "duration": 174,
    "start_time": "2023-10-15T12:06:01.642Z"
   },
   {
    "duration": 183,
    "start_time": "2023-10-15T12:06:15.749Z"
   },
   {
    "duration": 160,
    "start_time": "2023-10-15T12:06:20.282Z"
   },
   {
    "duration": 164,
    "start_time": "2023-10-15T12:06:39.160Z"
   },
   {
    "duration": 180,
    "start_time": "2023-10-15T12:06:46.003Z"
   },
   {
    "duration": 170,
    "start_time": "2023-10-15T12:06:56.860Z"
   },
   {
    "duration": 20,
    "start_time": "2023-10-15T12:07:15.093Z"
   },
   {
    "duration": 196,
    "start_time": "2023-10-15T12:07:20.116Z"
   },
   {
    "duration": 191,
    "start_time": "2023-10-15T12:07:38.194Z"
   },
   {
    "duration": 175,
    "start_time": "2023-10-15T12:08:18.507Z"
   },
   {
    "duration": 223,
    "start_time": "2023-10-15T12:08:55.108Z"
   },
   {
    "duration": 234,
    "start_time": "2023-10-15T12:09:40.676Z"
   },
   {
    "duration": 204,
    "start_time": "2023-10-15T12:10:29.796Z"
   },
   {
    "duration": 187,
    "start_time": "2023-10-15T12:10:41.164Z"
   },
   {
    "duration": 2,
    "start_time": "2023-10-15T12:14:28.415Z"
   },
   {
    "duration": 3,
    "start_time": "2023-10-15T12:14:38.919Z"
   },
   {
    "duration": 3,
    "start_time": "2023-10-15T12:15:58.992Z"
   },
   {
    "duration": 22,
    "start_time": "2023-10-15T12:16:57.136Z"
   },
   {
    "duration": 4,
    "start_time": "2023-10-15T12:17:04.768Z"
   },
   {
    "duration": 74,
    "start_time": "2023-10-15T12:17:18.552Z"
   },
   {
    "duration": 8,
    "start_time": "2023-10-15T12:17:45.435Z"
   },
   {
    "duration": 20,
    "start_time": "2023-10-15T12:18:00.134Z"
   },
   {
    "duration": 12,
    "start_time": "2023-10-15T12:18:53.713Z"
   },
   {
    "duration": 26,
    "start_time": "2023-10-15T12:18:57.466Z"
   },
   {
    "duration": 22,
    "start_time": "2023-10-15T12:20:44.866Z"
   },
   {
    "duration": 17,
    "start_time": "2023-10-15T12:23:05.750Z"
   },
   {
    "duration": 15,
    "start_time": "2023-10-15T12:24:54.445Z"
   },
   {
    "duration": 12,
    "start_time": "2023-10-15T12:25:24.436Z"
   },
   {
    "duration": 386,
    "start_time": "2023-10-15T12:25:28.982Z"
   },
   {
    "duration": 6,
    "start_time": "2023-10-15T12:25:32.972Z"
   },
   {
    "duration": 5,
    "start_time": "2023-10-15T12:26:56.582Z"
   },
   {
    "duration": 5,
    "start_time": "2023-10-15T12:28:06.684Z"
   },
   {
    "duration": 38,
    "start_time": "2023-10-15T12:28:08.524Z"
   },
   {
    "duration": 8,
    "start_time": "2023-10-15T12:28:37.819Z"
   },
   {
    "duration": 5,
    "start_time": "2023-10-15T12:37:26.620Z"
   },
   {
    "duration": 5,
    "start_time": "2023-10-15T12:37:36.160Z"
   },
   {
    "duration": 7,
    "start_time": "2023-10-15T12:37:50.316Z"
   },
   {
    "duration": 4,
    "start_time": "2023-10-15T12:37:51.580Z"
   },
   {
    "duration": 10,
    "start_time": "2023-10-15T12:37:55.941Z"
   },
   {
    "duration": 4,
    "start_time": "2023-10-15T12:37:56.183Z"
   },
   {
    "duration": 6,
    "start_time": "2023-10-15T12:39:03.260Z"
   },
   {
    "duration": 4,
    "start_time": "2023-10-15T12:39:03.982Z"
   },
   {
    "duration": 5,
    "start_time": "2023-10-15T12:39:09.118Z"
   },
   {
    "duration": 5,
    "start_time": "2023-10-15T12:39:11.125Z"
   },
   {
    "duration": 4,
    "start_time": "2023-10-15T12:39:11.276Z"
   },
   {
    "duration": 8,
    "start_time": "2023-10-15T12:39:54.061Z"
   },
   {
    "duration": 5,
    "start_time": "2023-10-15T12:39:54.228Z"
   },
   {
    "duration": 9,
    "start_time": "2023-10-15T12:40:02.622Z"
   },
   {
    "duration": 9,
    "start_time": "2023-10-15T12:40:05.581Z"
   },
   {
    "duration": 6,
    "start_time": "2023-10-15T12:42:32.910Z"
   },
   {
    "duration": 7,
    "start_time": "2023-10-15T12:42:38.998Z"
   },
   {
    "duration": 10,
    "start_time": "2023-10-15T12:46:35.959Z"
   },
   {
    "duration": 10,
    "start_time": "2023-10-15T12:46:40.863Z"
   },
   {
    "duration": 9,
    "start_time": "2023-10-15T12:46:54.448Z"
   },
   {
    "duration": 7,
    "start_time": "2023-10-15T12:46:57.928Z"
   },
   {
    "duration": 6,
    "start_time": "2023-10-15T12:47:11.617Z"
   },
   {
    "duration": 7,
    "start_time": "2023-10-15T12:47:24.552Z"
   },
   {
    "duration": 14,
    "start_time": "2023-10-15T12:49:28.089Z"
   },
   {
    "duration": 7,
    "start_time": "2023-10-15T12:49:59.616Z"
   },
   {
    "duration": 7,
    "start_time": "2023-10-15T12:50:00.392Z"
   },
   {
    "duration": 7,
    "start_time": "2023-10-15T12:50:17.392Z"
   },
   {
    "duration": 10,
    "start_time": "2023-10-15T12:50:59.545Z"
   },
   {
    "duration": 1147,
    "start_time": "2023-10-15T13:53:05.008Z"
   },
   {
    "duration": 213,
    "start_time": "2023-10-15T13:53:06.157Z"
   },
   {
    "duration": 313,
    "start_time": "2023-10-15T13:53:06.372Z"
   },
   {
    "duration": 4,
    "start_time": "2023-10-15T13:53:06.688Z"
   },
   {
    "duration": 24,
    "start_time": "2023-10-15T13:53:06.693Z"
   },
   {
    "duration": 42,
    "start_time": "2023-10-15T13:53:06.719Z"
   },
   {
    "duration": 352,
    "start_time": "2023-10-15T13:53:06.762Z"
   },
   {
    "duration": 5,
    "start_time": "2023-10-15T13:53:07.115Z"
   },
   {
    "duration": 46,
    "start_time": "2023-10-15T13:53:07.121Z"
   },
   {
    "duration": 24,
    "start_time": "2023-10-15T13:53:07.171Z"
   },
   {
    "duration": 19,
    "start_time": "2023-10-15T13:53:07.197Z"
   },
   {
    "duration": 8,
    "start_time": "2023-10-15T13:53:07.218Z"
   },
   {
    "duration": 25,
    "start_time": "2023-10-15T13:53:07.228Z"
   },
   {
    "duration": 5,
    "start_time": "2023-10-15T13:53:07.255Z"
   },
   {
    "duration": 10,
    "start_time": "2023-10-15T13:53:07.262Z"
   },
   {
    "duration": 14,
    "start_time": "2023-10-15T13:53:07.273Z"
   },
   {
    "duration": 139,
    "start_time": "2023-10-15T13:53:07.288Z"
   },
   {
    "duration": 8,
    "start_time": "2023-10-15T13:53:07.428Z"
   },
   {
    "duration": 18,
    "start_time": "2023-10-15T13:53:07.445Z"
   },
   {
    "duration": 117,
    "start_time": "2023-10-15T13:53:07.465Z"
   },
   {
    "duration": 0,
    "start_time": "2023-10-15T13:53:07.584Z"
   },
   {
    "duration": 0,
    "start_time": "2023-10-15T13:53:07.586Z"
   },
   {
    "duration": 0,
    "start_time": "2023-10-15T13:53:07.587Z"
   },
   {
    "duration": 0,
    "start_time": "2023-10-15T13:53:07.588Z"
   },
   {
    "duration": 0,
    "start_time": "2023-10-15T13:53:07.589Z"
   },
   {
    "duration": 0,
    "start_time": "2023-10-15T13:53:07.590Z"
   },
   {
    "duration": 0,
    "start_time": "2023-10-15T13:53:07.592Z"
   },
   {
    "duration": 0,
    "start_time": "2023-10-15T13:53:07.592Z"
   },
   {
    "duration": 0,
    "start_time": "2023-10-15T13:53:07.594Z"
   },
   {
    "duration": 0,
    "start_time": "2023-10-15T13:53:07.595Z"
   },
   {
    "duration": 0,
    "start_time": "2023-10-15T13:53:07.595Z"
   },
   {
    "duration": 0,
    "start_time": "2023-10-15T13:53:07.596Z"
   },
   {
    "duration": 0,
    "start_time": "2023-10-15T13:53:07.597Z"
   },
   {
    "duration": 0,
    "start_time": "2023-10-15T13:53:07.598Z"
   },
   {
    "duration": 0,
    "start_time": "2023-10-15T13:53:07.599Z"
   },
   {
    "duration": 0,
    "start_time": "2023-10-15T13:53:07.600Z"
   },
   {
    "duration": 0,
    "start_time": "2023-10-15T13:53:07.601Z"
   },
   {
    "duration": 0,
    "start_time": "2023-10-15T13:53:07.602Z"
   },
   {
    "duration": 0,
    "start_time": "2023-10-15T13:53:07.603Z"
   },
   {
    "duration": 0,
    "start_time": "2023-10-15T13:53:07.604Z"
   },
   {
    "duration": 0,
    "start_time": "2023-10-15T13:53:07.606Z"
   },
   {
    "duration": 0,
    "start_time": "2023-10-15T13:53:07.607Z"
   },
   {
    "duration": 0,
    "start_time": "2023-10-15T13:53:07.608Z"
   },
   {
    "duration": 0,
    "start_time": "2023-10-15T13:53:07.609Z"
   },
   {
    "duration": 0,
    "start_time": "2023-10-15T13:53:07.610Z"
   },
   {
    "duration": 0,
    "start_time": "2023-10-15T13:53:07.646Z"
   },
   {
    "duration": 242,
    "start_time": "2023-10-15T15:08:40.844Z"
   },
   {
    "duration": 208,
    "start_time": "2023-10-15T15:08:41.089Z"
   },
   {
    "duration": 14,
    "start_time": "2023-10-15T15:08:41.299Z"
   },
   {
    "duration": 12,
    "start_time": "2023-10-15T15:08:41.315Z"
   },
   {
    "duration": 17,
    "start_time": "2023-10-15T15:08:41.344Z"
   },
   {
    "duration": 11,
    "start_time": "2023-10-15T15:08:41.363Z"
   },
   {
    "duration": 12,
    "start_time": "2023-10-15T15:08:41.376Z"
   },
   {
    "duration": 18,
    "start_time": "2023-10-15T15:08:41.389Z"
   },
   {
    "duration": 13,
    "start_time": "2023-10-15T15:08:41.409Z"
   },
   {
    "duration": 76,
    "start_time": "2023-10-15T15:08:41.425Z"
   },
   {
    "duration": 268,
    "start_time": "2023-10-15T15:08:41.503Z"
   },
   {
    "duration": 195,
    "start_time": "2023-10-15T15:08:41.773Z"
   },
   {
    "duration": 318,
    "start_time": "2023-10-15T15:08:41.970Z"
   },
   {
    "duration": 244,
    "start_time": "2023-10-15T15:08:42.290Z"
   },
   {
    "duration": 203,
    "start_time": "2023-10-15T15:08:42.536Z"
   },
   {
    "duration": 18,
    "start_time": "2023-10-15T15:08:42.740Z"
   },
   {
    "duration": 67,
    "start_time": "2023-10-15T15:08:42.760Z"
   },
   {
    "duration": 28,
    "start_time": "2023-10-15T15:08:42.829Z"
   },
   {
    "duration": 27,
    "start_time": "2023-10-15T15:08:42.861Z"
   },
   {
    "duration": 20,
    "start_time": "2023-10-15T15:08:42.890Z"
   },
   {
    "duration": 15,
    "start_time": "2023-10-15T15:08:42.912Z"
   },
   {
    "duration": 5,
    "start_time": "2023-10-15T15:08:42.929Z"
   },
   {
    "duration": 21,
    "start_time": "2023-10-15T15:08:42.935Z"
   },
   {
    "duration": 10,
    "start_time": "2023-10-15T15:08:42.958Z"
   },
   {
    "duration": 7,
    "start_time": "2023-10-15T15:08:42.969Z"
   },
   {
    "duration": 14,
    "start_time": "2023-10-15T15:08:42.978Z"
   },
   {
    "duration": 18,
    "start_time": "2023-10-15T19:21:54.871Z"
   },
   {
    "duration": 7,
    "start_time": "2023-10-15T19:22:42.038Z"
   },
   {
    "duration": 10,
    "start_time": "2023-10-15T19:44:02.859Z"
   },
   {
    "duration": 14,
    "start_time": "2023-10-15T19:44:07.420Z"
   },
   {
    "duration": 7,
    "start_time": "2023-10-15T19:44:13.618Z"
   },
   {
    "duration": 10,
    "start_time": "2023-10-15T19:45:36.380Z"
   },
   {
    "duration": 7,
    "start_time": "2023-10-15T19:48:53.366Z"
   },
   {
    "duration": 6,
    "start_time": "2023-10-15T19:49:33.806Z"
   },
   {
    "duration": 6,
    "start_time": "2023-10-15T19:52:13.400Z"
   },
   {
    "duration": 9,
    "start_time": "2023-10-15T19:52:19.640Z"
   },
   {
    "duration": 8,
    "start_time": "2023-10-15T20:03:19.468Z"
   },
   {
    "duration": 9,
    "start_time": "2023-10-15T20:03:22.709Z"
   },
   {
    "duration": 8,
    "start_time": "2023-10-15T20:04:30.429Z"
   },
   {
    "duration": 8,
    "start_time": "2023-10-15T20:04:35.510Z"
   },
   {
    "duration": 8,
    "start_time": "2023-10-15T20:05:35.959Z"
   },
   {
    "duration": 11,
    "start_time": "2023-10-15T20:12:41.135Z"
   },
   {
    "duration": 1099,
    "start_time": "2023-10-15T20:15:24.796Z"
   },
   {
    "duration": 78,
    "start_time": "2023-10-15T20:15:25.897Z"
   },
   {
    "duration": 285,
    "start_time": "2023-10-15T20:15:25.977Z"
   },
   {
    "duration": 4,
    "start_time": "2023-10-15T20:15:26.264Z"
   },
   {
    "duration": 22,
    "start_time": "2023-10-15T20:15:26.270Z"
   },
   {
    "duration": 16,
    "start_time": "2023-10-15T20:15:26.293Z"
   },
   {
    "duration": 350,
    "start_time": "2023-10-15T20:15:26.310Z"
   },
   {
    "duration": 4,
    "start_time": "2023-10-15T20:15:26.662Z"
   },
   {
    "duration": 27,
    "start_time": "2023-10-15T20:15:26.668Z"
   },
   {
    "duration": 17,
    "start_time": "2023-10-15T20:15:26.698Z"
   },
   {
    "duration": 28,
    "start_time": "2023-10-15T20:15:26.717Z"
   },
   {
    "duration": 12,
    "start_time": "2023-10-15T20:15:26.747Z"
   },
   {
    "duration": 25,
    "start_time": "2023-10-15T20:15:26.761Z"
   },
   {
    "duration": 6,
    "start_time": "2023-10-15T20:15:26.788Z"
   },
   {
    "duration": 20,
    "start_time": "2023-10-15T20:15:26.795Z"
   },
   {
    "duration": 7,
    "start_time": "2023-10-15T20:15:26.817Z"
   },
   {
    "duration": 147,
    "start_time": "2023-10-15T20:15:26.825Z"
   },
   {
    "duration": 8,
    "start_time": "2023-10-15T20:15:26.974Z"
   },
   {
    "duration": 20,
    "start_time": "2023-10-15T20:15:26.983Z"
   },
   {
    "duration": 115,
    "start_time": "2023-10-15T20:15:27.005Z"
   },
   {
    "duration": 0,
    "start_time": "2023-10-15T20:15:27.123Z"
   },
   {
    "duration": 0,
    "start_time": "2023-10-15T20:15:27.124Z"
   },
   {
    "duration": 0,
    "start_time": "2023-10-15T20:15:27.126Z"
   },
   {
    "duration": 0,
    "start_time": "2023-10-15T20:15:27.127Z"
   },
   {
    "duration": 0,
    "start_time": "2023-10-15T20:15:27.129Z"
   },
   {
    "duration": 0,
    "start_time": "2023-10-15T20:15:27.144Z"
   },
   {
    "duration": 0,
    "start_time": "2023-10-15T20:15:27.145Z"
   },
   {
    "duration": 0,
    "start_time": "2023-10-15T20:15:27.146Z"
   },
   {
    "duration": 0,
    "start_time": "2023-10-15T20:15:27.147Z"
   },
   {
    "duration": 0,
    "start_time": "2023-10-15T20:15:27.148Z"
   },
   {
    "duration": 0,
    "start_time": "2023-10-15T20:15:27.150Z"
   },
   {
    "duration": 0,
    "start_time": "2023-10-15T20:15:27.151Z"
   },
   {
    "duration": 0,
    "start_time": "2023-10-15T20:15:27.152Z"
   },
   {
    "duration": 0,
    "start_time": "2023-10-15T20:15:27.152Z"
   },
   {
    "duration": 0,
    "start_time": "2023-10-15T20:15:27.162Z"
   },
   {
    "duration": 0,
    "start_time": "2023-10-15T20:15:27.163Z"
   },
   {
    "duration": 0,
    "start_time": "2023-10-15T20:15:27.167Z"
   },
   {
    "duration": 0,
    "start_time": "2023-10-15T20:15:27.168Z"
   },
   {
    "duration": 0,
    "start_time": "2023-10-15T20:15:27.169Z"
   },
   {
    "duration": 0,
    "start_time": "2023-10-15T20:15:27.171Z"
   },
   {
    "duration": 0,
    "start_time": "2023-10-15T20:15:27.173Z"
   },
   {
    "duration": 0,
    "start_time": "2023-10-15T20:15:27.174Z"
   },
   {
    "duration": 0,
    "start_time": "2023-10-15T20:15:27.175Z"
   },
   {
    "duration": 0,
    "start_time": "2023-10-15T20:15:27.176Z"
   },
   {
    "duration": 0,
    "start_time": "2023-10-15T20:15:27.178Z"
   },
   {
    "duration": 0,
    "start_time": "2023-10-15T20:15:27.179Z"
   },
   {
    "duration": 1110,
    "start_time": "2023-10-15T20:19:31.112Z"
   },
   {
    "duration": 87,
    "start_time": "2023-10-15T20:19:32.224Z"
   },
   {
    "duration": 306,
    "start_time": "2023-10-15T20:19:32.313Z"
   },
   {
    "duration": 4,
    "start_time": "2023-10-15T20:19:32.622Z"
   },
   {
    "duration": 108,
    "start_time": "2023-10-15T20:19:32.627Z"
   },
   {
    "duration": 169,
    "start_time": "2023-10-15T20:19:32.737Z"
   },
   {
    "duration": 552,
    "start_time": "2023-10-15T20:19:32.908Z"
   },
   {
    "duration": 4,
    "start_time": "2023-10-15T20:19:33.462Z"
   },
   {
    "duration": 27,
    "start_time": "2023-10-15T20:19:33.468Z"
   },
   {
    "duration": 19,
    "start_time": "2023-10-15T20:19:33.497Z"
   },
   {
    "duration": 12,
    "start_time": "2023-10-15T20:19:33.518Z"
   },
   {
    "duration": 24,
    "start_time": "2023-10-15T20:19:33.532Z"
   },
   {
    "duration": 13,
    "start_time": "2023-10-15T20:19:33.558Z"
   },
   {
    "duration": 11,
    "start_time": "2023-10-15T20:19:33.573Z"
   },
   {
    "duration": 9,
    "start_time": "2023-10-15T20:19:33.586Z"
   },
   {
    "duration": 30,
    "start_time": "2023-10-15T20:19:33.597Z"
   },
   {
    "duration": 147,
    "start_time": "2023-10-15T20:19:33.629Z"
   },
   {
    "duration": 7,
    "start_time": "2023-10-15T20:19:33.778Z"
   },
   {
    "duration": 17,
    "start_time": "2023-10-15T20:19:33.786Z"
   },
   {
    "duration": 133,
    "start_time": "2023-10-15T20:19:33.805Z"
   },
   {
    "duration": 0,
    "start_time": "2023-10-15T20:19:33.940Z"
   },
   {
    "duration": 0,
    "start_time": "2023-10-15T20:19:33.941Z"
   },
   {
    "duration": 0,
    "start_time": "2023-10-15T20:19:33.947Z"
   },
   {
    "duration": 0,
    "start_time": "2023-10-15T20:19:33.948Z"
   },
   {
    "duration": 0,
    "start_time": "2023-10-15T20:19:33.948Z"
   },
   {
    "duration": 0,
    "start_time": "2023-10-15T20:19:33.949Z"
   },
   {
    "duration": 0,
    "start_time": "2023-10-15T20:19:33.950Z"
   },
   {
    "duration": 0,
    "start_time": "2023-10-15T20:19:33.955Z"
   },
   {
    "duration": 0,
    "start_time": "2023-10-15T20:19:33.956Z"
   },
   {
    "duration": 0,
    "start_time": "2023-10-15T20:19:33.957Z"
   },
   {
    "duration": 0,
    "start_time": "2023-10-15T20:19:33.958Z"
   },
   {
    "duration": 1,
    "start_time": "2023-10-15T20:19:33.960Z"
   },
   {
    "duration": 0,
    "start_time": "2023-10-15T20:19:33.961Z"
   },
   {
    "duration": 1,
    "start_time": "2023-10-15T20:19:33.962Z"
   },
   {
    "duration": 1,
    "start_time": "2023-10-15T20:19:33.963Z"
   },
   {
    "duration": 0,
    "start_time": "2023-10-15T20:19:33.964Z"
   },
   {
    "duration": 0,
    "start_time": "2023-10-15T20:19:33.965Z"
   },
   {
    "duration": 0,
    "start_time": "2023-10-15T20:19:33.966Z"
   },
   {
    "duration": 0,
    "start_time": "2023-10-15T20:19:33.967Z"
   },
   {
    "duration": 0,
    "start_time": "2023-10-15T20:19:33.968Z"
   },
   {
    "duration": 0,
    "start_time": "2023-10-15T20:19:33.969Z"
   },
   {
    "duration": 0,
    "start_time": "2023-10-15T20:19:33.970Z"
   },
   {
    "duration": 0,
    "start_time": "2023-10-15T20:19:33.971Z"
   },
   {
    "duration": 0,
    "start_time": "2023-10-15T20:19:33.972Z"
   },
   {
    "duration": 0,
    "start_time": "2023-10-15T20:19:33.973Z"
   },
   {
    "duration": 0,
    "start_time": "2023-10-15T20:19:33.974Z"
   },
   {
    "duration": 44,
    "start_time": "2023-10-18T17:10:31.454Z"
   },
   {
    "duration": 1226,
    "start_time": "2023-10-18T17:10:37.278Z"
   },
   {
    "duration": 193,
    "start_time": "2023-10-18T17:10:38.506Z"
   },
   {
    "duration": 231,
    "start_time": "2023-10-18T17:10:38.700Z"
   },
   {
    "duration": 11,
    "start_time": "2023-10-18T17:10:38.933Z"
   },
   {
    "duration": 5,
    "start_time": "2023-10-18T17:10:38.945Z"
   },
   {
    "duration": 11,
    "start_time": "2023-10-18T17:10:38.955Z"
   },
   {
    "duration": 276,
    "start_time": "2023-10-18T17:10:38.968Z"
   },
   {
    "duration": 11,
    "start_time": "2023-10-18T17:10:39.245Z"
   },
   {
    "duration": 12,
    "start_time": "2023-10-18T17:10:39.258Z"
   },
   {
    "duration": 6,
    "start_time": "2023-10-18T17:10:39.272Z"
   },
   {
    "duration": 10,
    "start_time": "2023-10-18T17:10:39.279Z"
   },
   {
    "duration": 7,
    "start_time": "2023-10-18T17:10:39.290Z"
   },
   {
    "duration": 8,
    "start_time": "2023-10-18T17:10:39.299Z"
   },
   {
    "duration": 38,
    "start_time": "2023-10-18T17:10:39.309Z"
   },
   {
    "duration": 16,
    "start_time": "2023-10-18T17:10:39.353Z"
   },
   {
    "duration": 5,
    "start_time": "2023-10-18T17:10:39.370Z"
   },
   {
    "duration": 5,
    "start_time": "2023-10-18T17:10:51.592Z"
   },
   {
    "duration": 121,
    "start_time": "2023-10-18T17:10:51.895Z"
   },
   {
    "duration": 72,
    "start_time": "2023-10-18T17:11:40.850Z"
   },
   {
    "duration": 85,
    "start_time": "2023-10-18T17:13:39.649Z"
   },
   {
    "duration": 27,
    "start_time": "2023-10-18T17:13:43.930Z"
   },
   {
    "duration": 78,
    "start_time": "2023-10-18T17:13:45.539Z"
   },
   {
    "duration": 59,
    "start_time": "2023-10-18T17:13:59.874Z"
   },
   {
    "duration": 3,
    "start_time": "2023-10-18T17:14:39.485Z"
   },
   {
    "duration": 119,
    "start_time": "2023-10-18T17:14:42.500Z"
   },
   {
    "duration": 60,
    "start_time": "2023-10-18T17:14:46.839Z"
   },
   {
    "duration": 108,
    "start_time": "2023-10-18T17:15:45.750Z"
   },
   {
    "duration": 164,
    "start_time": "2023-10-18T17:15:53.332Z"
   },
   {
    "duration": 8,
    "start_time": "2023-10-18T17:16:02.284Z"
   },
   {
    "duration": 150,
    "start_time": "2023-10-18T17:16:08.510Z"
   },
   {
    "duration": 149,
    "start_time": "2023-10-18T17:19:39.106Z"
   },
   {
    "duration": 623,
    "start_time": "2023-10-18T17:20:05.858Z"
   },
   {
    "duration": 9,
    "start_time": "2023-10-18T17:21:30.698Z"
   },
   {
    "duration": 3,
    "start_time": "2023-10-18T17:21:36.514Z"
   },
   {
    "duration": 74,
    "start_time": "2023-10-18T17:21:36.518Z"
   },
   {
    "duration": 262,
    "start_time": "2023-10-18T17:21:36.594Z"
   },
   {
    "duration": 4,
    "start_time": "2023-10-18T17:21:36.858Z"
   },
   {
    "duration": 4,
    "start_time": "2023-10-18T17:21:36.864Z"
   },
   {
    "duration": 12,
    "start_time": "2023-10-18T17:21:36.870Z"
   },
   {
    "duration": 278,
    "start_time": "2023-10-18T17:21:36.884Z"
   },
   {
    "duration": 5,
    "start_time": "2023-10-18T17:21:37.163Z"
   },
   {
    "duration": 40,
    "start_time": "2023-10-18T17:21:37.170Z"
   },
   {
    "duration": 6,
    "start_time": "2023-10-18T17:21:37.211Z"
   },
   {
    "duration": 9,
    "start_time": "2023-10-18T17:21:37.219Z"
   },
   {
    "duration": 24,
    "start_time": "2023-10-18T17:21:37.229Z"
   },
   {
    "duration": 7,
    "start_time": "2023-10-18T17:21:37.255Z"
   },
   {
    "duration": 4,
    "start_time": "2023-10-18T17:21:37.263Z"
   },
   {
    "duration": 5,
    "start_time": "2023-10-18T17:21:37.268Z"
   },
   {
    "duration": 5,
    "start_time": "2023-10-18T17:21:37.274Z"
   },
   {
    "duration": 156,
    "start_time": "2023-10-18T17:21:37.280Z"
   },
   {
    "duration": 17,
    "start_time": "2023-10-18T17:21:37.438Z"
   },
   {
    "duration": 11,
    "start_time": "2023-10-18T17:21:37.457Z"
   },
   {
    "duration": 59,
    "start_time": "2023-10-18T17:21:37.470Z"
   },
   {
    "duration": 30,
    "start_time": "2023-10-18T17:21:37.530Z"
   },
   {
    "duration": 0,
    "start_time": "2023-10-18T17:21:37.561Z"
   },
   {
    "duration": 0,
    "start_time": "2023-10-18T17:21:37.562Z"
   },
   {
    "duration": 0,
    "start_time": "2023-10-18T17:21:37.563Z"
   },
   {
    "duration": 0,
    "start_time": "2023-10-18T17:21:37.565Z"
   },
   {
    "duration": 0,
    "start_time": "2023-10-18T17:21:37.565Z"
   },
   {
    "duration": 10,
    "start_time": "2023-10-18T17:22:06.155Z"
   },
   {
    "duration": 15,
    "start_time": "2023-10-18T17:22:10.907Z"
   },
   {
    "duration": 11,
    "start_time": "2023-10-18T17:22:11.219Z"
   },
   {
    "duration": 6,
    "start_time": "2023-10-18T17:22:13.403Z"
   },
   {
    "duration": 32,
    "start_time": "2023-10-18T17:23:53.940Z"
   },
   {
    "duration": 11,
    "start_time": "2023-10-18T17:23:59.084Z"
   },
   {
    "duration": 17,
    "start_time": "2023-10-18T17:25:05.158Z"
   },
   {
    "duration": 9,
    "start_time": "2023-10-18T17:25:08.277Z"
   },
   {
    "duration": 12,
    "start_time": "2023-10-18T17:25:23.822Z"
   },
   {
    "duration": 15,
    "start_time": "2023-10-18T17:25:36.423Z"
   },
   {
    "duration": 17,
    "start_time": "2023-10-18T17:26:03.361Z"
   },
   {
    "duration": 13,
    "start_time": "2023-10-18T17:26:06.805Z"
   },
   {
    "duration": 12,
    "start_time": "2023-10-18T17:26:14.781Z"
   },
   {
    "duration": 11,
    "start_time": "2023-10-18T17:26:17.710Z"
   },
   {
    "duration": 14,
    "start_time": "2023-10-18T17:26:22.222Z"
   },
   {
    "duration": 12,
    "start_time": "2023-10-18T17:26:27.173Z"
   },
   {
    "duration": 13,
    "start_time": "2023-10-18T17:26:30.406Z"
   },
   {
    "duration": 10,
    "start_time": "2023-10-18T17:26:35.878Z"
   },
   {
    "duration": 7,
    "start_time": "2023-10-18T17:28:36.607Z"
   },
   {
    "duration": 61,
    "start_time": "2023-10-18T17:28:40.161Z"
   },
   {
    "duration": 15,
    "start_time": "2023-10-18T17:28:42.302Z"
   },
   {
    "duration": 14,
    "start_time": "2023-10-18T17:28:42.672Z"
   },
   {
    "duration": 24,
    "start_time": "2023-10-18T17:28:45.852Z"
   },
   {
    "duration": 552,
    "start_time": "2023-10-18T17:28:50.920Z"
   },
   {
    "duration": 3,
    "start_time": "2023-10-18T17:28:59.170Z"
   },
   {
    "duration": 99,
    "start_time": "2023-10-18T17:28:59.175Z"
   },
   {
    "duration": 361,
    "start_time": "2023-10-18T17:28:59.276Z"
   },
   {
    "duration": 17,
    "start_time": "2023-10-18T17:28:59.640Z"
   },
   {
    "duration": 13,
    "start_time": "2023-10-18T17:28:59.658Z"
   },
   {
    "duration": 17,
    "start_time": "2023-10-18T17:28:59.672Z"
   },
   {
    "duration": 323,
    "start_time": "2023-10-18T17:28:59.691Z"
   },
   {
    "duration": 5,
    "start_time": "2023-10-18T17:29:00.015Z"
   },
   {
    "duration": 56,
    "start_time": "2023-10-18T17:29:00.023Z"
   },
   {
    "duration": 7,
    "start_time": "2023-10-18T17:29:00.080Z"
   },
   {
    "duration": 34,
    "start_time": "2023-10-18T17:29:00.088Z"
   },
   {
    "duration": 40,
    "start_time": "2023-10-18T17:29:00.124Z"
   },
   {
    "duration": 28,
    "start_time": "2023-10-18T17:29:00.166Z"
   },
   {
    "duration": 64,
    "start_time": "2023-10-18T17:29:00.196Z"
   },
   {
    "duration": 35,
    "start_time": "2023-10-18T17:29:00.261Z"
   },
   {
    "duration": 30,
    "start_time": "2023-10-18T17:29:00.298Z"
   },
   {
    "duration": 168,
    "start_time": "2023-10-18T17:29:00.330Z"
   },
   {
    "duration": 7,
    "start_time": "2023-10-18T17:29:00.499Z"
   },
   {
    "duration": 36,
    "start_time": "2023-10-18T17:29:00.508Z"
   },
   {
    "duration": 70,
    "start_time": "2023-10-18T17:29:00.545Z"
   },
   {
    "duration": 7,
    "start_time": "2023-10-18T17:29:00.617Z"
   },
   {
    "duration": 0,
    "start_time": "2023-10-18T17:29:00.625Z"
   },
   {
    "duration": 0,
    "start_time": "2023-10-18T17:29:00.626Z"
   },
   {
    "duration": 0,
    "start_time": "2023-10-18T17:29:00.627Z"
   },
   {
    "duration": 0,
    "start_time": "2023-10-18T17:29:00.628Z"
   },
   {
    "duration": 0,
    "start_time": "2023-10-18T17:29:00.629Z"
   },
   {
    "duration": 0,
    "start_time": "2023-10-18T17:29:00.630Z"
   },
   {
    "duration": 0,
    "start_time": "2023-10-18T17:29:00.644Z"
   },
   {
    "duration": 0,
    "start_time": "2023-10-18T17:29:00.645Z"
   },
   {
    "duration": 0,
    "start_time": "2023-10-18T17:29:00.645Z"
   },
   {
    "duration": 0,
    "start_time": "2023-10-18T17:29:00.646Z"
   },
   {
    "duration": 0,
    "start_time": "2023-10-18T17:29:00.646Z"
   },
   {
    "duration": 0,
    "start_time": "2023-10-18T17:29:00.647Z"
   },
   {
    "duration": 0,
    "start_time": "2023-10-18T17:29:00.647Z"
   },
   {
    "duration": 0,
    "start_time": "2023-10-18T17:29:00.653Z"
   },
   {
    "duration": 0,
    "start_time": "2023-10-18T17:29:00.654Z"
   },
   {
    "duration": 0,
    "start_time": "2023-10-18T17:29:00.654Z"
   },
   {
    "duration": 172,
    "start_time": "2023-10-18T17:29:16.064Z"
   },
   {
    "duration": 144,
    "start_time": "2023-10-18T17:29:18.327Z"
   },
   {
    "duration": 154,
    "start_time": "2023-10-18T17:29:20.129Z"
   },
   {
    "duration": 17,
    "start_time": "2023-10-18T17:29:22.603Z"
   },
   {
    "duration": 10,
    "start_time": "2023-10-18T17:29:22.823Z"
   },
   {
    "duration": 12,
    "start_time": "2023-10-18T17:29:24.879Z"
   },
   {
    "duration": 9,
    "start_time": "2023-10-18T17:29:26.753Z"
   },
   {
    "duration": 11,
    "start_time": "2023-10-18T17:29:28.111Z"
   },
   {
    "duration": 10,
    "start_time": "2023-10-18T17:29:28.328Z"
   },
   {
    "duration": 10,
    "start_time": "2023-10-18T17:29:29.406Z"
   },
   {
    "duration": 16,
    "start_time": "2023-10-18T17:29:29.628Z"
   },
   {
    "duration": 40,
    "start_time": "2023-10-18T17:29:30.183Z"
   },
   {
    "duration": 188,
    "start_time": "2023-10-18T17:29:31.639Z"
   },
   {
    "duration": 182,
    "start_time": "2023-10-18T17:29:32.431Z"
   },
   {
    "duration": 236,
    "start_time": "2023-10-18T17:29:33.855Z"
   },
   {
    "duration": 187,
    "start_time": "2023-10-18T17:29:35.463Z"
   },
   {
    "duration": 125,
    "start_time": "2023-10-18T17:29:37.263Z"
   },
   {
    "duration": 3,
    "start_time": "2023-10-18T17:29:39.907Z"
   },
   {
    "duration": 63,
    "start_time": "2023-10-18T17:29:41.136Z"
   },
   {
    "duration": 49,
    "start_time": "2023-10-18T17:29:44.583Z"
   },
   {
    "duration": 24,
    "start_time": "2023-10-18T17:29:46.558Z"
   },
   {
    "duration": 26,
    "start_time": "2023-10-18T17:29:48.433Z"
   },
   {
    "duration": 20,
    "start_time": "2023-10-18T17:29:50.239Z"
   },
   {
    "duration": 5,
    "start_time": "2023-10-18T17:29:52.818Z"
   },
   {
    "duration": 725,
    "start_time": "2023-10-18T17:30:15.672Z"
   },
   {
    "duration": 5,
    "start_time": "2023-10-18T17:30:23.512Z"
   },
   {
    "duration": 93,
    "start_time": "2023-10-18T17:31:23.597Z"
   },
   {
    "duration": 5,
    "start_time": "2023-10-18T17:31:27.528Z"
   },
   {
    "duration": 13,
    "start_time": "2023-10-18T17:31:27.881Z"
   },
   {
    "duration": 5,
    "start_time": "2023-10-18T19:08:04.310Z"
   },
   {
    "duration": 8,
    "start_time": "2023-10-18T19:08:21.664Z"
   },
   {
    "duration": 5,
    "start_time": "2023-10-18T19:10:27.232Z"
   },
   {
    "duration": 90,
    "start_time": "2023-10-18T19:11:16.190Z"
   },
   {
    "duration": 5,
    "start_time": "2023-10-18T19:11:21.422Z"
   },
   {
    "duration": 15,
    "start_time": "2023-10-18T19:13:06.231Z"
   },
   {
    "duration": 7,
    "start_time": "2023-10-18T19:16:56.399Z"
   },
   {
    "duration": 7,
    "start_time": "2023-10-18T19:19:01.565Z"
   },
   {
    "duration": 96,
    "start_time": "2023-10-18T19:19:05.882Z"
   },
   {
    "duration": 10,
    "start_time": "2023-10-18T19:19:13.773Z"
   },
   {
    "duration": 1260,
    "start_time": "2023-10-19T11:47:18.312Z"
   },
   {
    "duration": 318,
    "start_time": "2023-10-19T11:47:19.574Z"
   },
   {
    "duration": 342,
    "start_time": "2023-10-19T11:47:19.894Z"
   },
   {
    "duration": 9,
    "start_time": "2023-10-19T11:47:20.239Z"
   },
   {
    "duration": 25,
    "start_time": "2023-10-19T11:47:20.250Z"
   },
   {
    "duration": 9,
    "start_time": "2023-10-19T11:47:20.277Z"
   },
   {
    "duration": 324,
    "start_time": "2023-10-19T11:47:20.287Z"
   },
   {
    "duration": 5,
    "start_time": "2023-10-19T11:47:20.613Z"
   },
   {
    "duration": 34,
    "start_time": "2023-10-19T11:47:20.619Z"
   },
   {
    "duration": 10,
    "start_time": "2023-10-19T11:47:20.657Z"
   },
   {
    "duration": 11,
    "start_time": "2023-10-19T11:47:20.668Z"
   },
   {
    "duration": 7,
    "start_time": "2023-10-19T11:47:20.680Z"
   },
   {
    "duration": 18,
    "start_time": "2023-10-19T11:47:20.688Z"
   },
   {
    "duration": 12,
    "start_time": "2023-10-19T11:47:20.708Z"
   },
   {
    "duration": 28,
    "start_time": "2023-10-19T11:47:20.722Z"
   },
   {
    "duration": 8,
    "start_time": "2023-10-19T11:47:20.752Z"
   },
   {
    "duration": 173,
    "start_time": "2023-10-19T11:47:20.762Z"
   },
   {
    "duration": 14,
    "start_time": "2023-10-19T11:47:20.944Z"
   },
   {
    "duration": 20,
    "start_time": "2023-10-19T11:47:20.960Z"
   },
   {
    "duration": 85,
    "start_time": "2023-10-19T11:47:20.982Z"
   },
   {
    "duration": 128,
    "start_time": "2023-10-19T11:47:21.069Z"
   },
   {
    "duration": 0,
    "start_time": "2023-10-19T11:47:21.200Z"
   },
   {
    "duration": 0,
    "start_time": "2023-10-19T11:47:21.201Z"
   },
   {
    "duration": 0,
    "start_time": "2023-10-19T11:47:21.203Z"
   },
   {
    "duration": 0,
    "start_time": "2023-10-19T11:47:21.204Z"
   },
   {
    "duration": 0,
    "start_time": "2023-10-19T11:47:21.206Z"
   },
   {
    "duration": 1,
    "start_time": "2023-10-19T11:47:21.207Z"
   },
   {
    "duration": 0,
    "start_time": "2023-10-19T11:47:21.209Z"
   },
   {
    "duration": 0,
    "start_time": "2023-10-19T11:47:21.210Z"
   },
   {
    "duration": 0,
    "start_time": "2023-10-19T11:47:21.211Z"
   },
   {
    "duration": 0,
    "start_time": "2023-10-19T11:47:21.213Z"
   },
   {
    "duration": 0,
    "start_time": "2023-10-19T11:47:21.214Z"
   },
   {
    "duration": 0,
    "start_time": "2023-10-19T11:47:21.215Z"
   },
   {
    "duration": 0,
    "start_time": "2023-10-19T11:47:21.217Z"
   },
   {
    "duration": 0,
    "start_time": "2023-10-19T11:47:21.245Z"
   },
   {
    "duration": 0,
    "start_time": "2023-10-19T11:47:21.247Z"
   },
   {
    "duration": 0,
    "start_time": "2023-10-19T11:47:21.248Z"
   },
   {
    "duration": 0,
    "start_time": "2023-10-19T11:47:21.250Z"
   },
   {
    "duration": 0,
    "start_time": "2023-10-19T11:47:21.251Z"
   },
   {
    "duration": 0,
    "start_time": "2023-10-19T11:47:21.253Z"
   },
   {
    "duration": 0,
    "start_time": "2023-10-19T11:47:21.254Z"
   },
   {
    "duration": 0,
    "start_time": "2023-10-19T11:47:21.256Z"
   },
   {
    "duration": 0,
    "start_time": "2023-10-19T11:47:21.257Z"
   },
   {
    "duration": 0,
    "start_time": "2023-10-19T11:47:21.258Z"
   },
   {
    "duration": 0,
    "start_time": "2023-10-19T11:47:21.260Z"
   },
   {
    "duration": 0,
    "start_time": "2023-10-19T11:47:21.261Z"
   },
   {
    "duration": 0,
    "start_time": "2023-10-19T11:47:21.263Z"
   },
   {
    "duration": 0,
    "start_time": "2023-10-19T11:47:21.264Z"
   },
   {
    "duration": 0,
    "start_time": "2023-10-19T11:47:21.266Z"
   },
   {
    "duration": 0,
    "start_time": "2023-10-19T11:47:21.267Z"
   },
   {
    "duration": 1248,
    "start_time": "2023-10-19T11:47:45.940Z"
   },
   {
    "duration": 83,
    "start_time": "2023-10-19T11:47:47.190Z"
   },
   {
    "duration": 308,
    "start_time": "2023-10-19T11:47:47.274Z"
   },
   {
    "duration": 5,
    "start_time": "2023-10-19T11:47:47.584Z"
   },
   {
    "duration": 29,
    "start_time": "2023-10-19T11:47:47.590Z"
   },
   {
    "duration": 30,
    "start_time": "2023-10-19T11:47:47.621Z"
   },
   {
    "duration": 342,
    "start_time": "2023-10-19T11:47:47.653Z"
   },
   {
    "duration": 5,
    "start_time": "2023-10-19T11:47:47.996Z"
   },
   {
    "duration": 61,
    "start_time": "2023-10-19T11:47:48.003Z"
   },
   {
    "duration": 37,
    "start_time": "2023-10-19T11:47:48.067Z"
   },
   {
    "duration": 31,
    "start_time": "2023-10-19T11:47:48.105Z"
   },
   {
    "duration": 35,
    "start_time": "2023-10-19T11:47:48.137Z"
   },
   {
    "duration": 14,
    "start_time": "2023-10-19T11:47:48.174Z"
   },
   {
    "duration": 19,
    "start_time": "2023-10-19T11:47:48.189Z"
   },
   {
    "duration": 26,
    "start_time": "2023-10-19T11:47:48.210Z"
   },
   {
    "duration": 28,
    "start_time": "2023-10-19T11:47:48.238Z"
   },
   {
    "duration": 151,
    "start_time": "2023-10-19T11:47:48.268Z"
   },
   {
    "duration": 8,
    "start_time": "2023-10-19T11:47:48.421Z"
   },
   {
    "duration": 40,
    "start_time": "2023-10-19T11:47:48.430Z"
   },
   {
    "duration": 90,
    "start_time": "2023-10-19T11:47:48.472Z"
   },
   {
    "duration": 99,
    "start_time": "2023-10-19T11:47:48.564Z"
   },
   {
    "duration": 0,
    "start_time": "2023-10-19T11:47:48.666Z"
   },
   {
    "duration": 0,
    "start_time": "2023-10-19T11:47:48.668Z"
   },
   {
    "duration": 0,
    "start_time": "2023-10-19T11:47:48.669Z"
   },
   {
    "duration": 0,
    "start_time": "2023-10-19T11:47:48.670Z"
   },
   {
    "duration": 0,
    "start_time": "2023-10-19T11:47:48.672Z"
   },
   {
    "duration": 0,
    "start_time": "2023-10-19T11:47:48.673Z"
   },
   {
    "duration": 0,
    "start_time": "2023-10-19T11:47:48.674Z"
   },
   {
    "duration": 0,
    "start_time": "2023-10-19T11:47:48.675Z"
   },
   {
    "duration": 0,
    "start_time": "2023-10-19T11:47:48.677Z"
   },
   {
    "duration": 0,
    "start_time": "2023-10-19T11:47:48.678Z"
   },
   {
    "duration": 0,
    "start_time": "2023-10-19T11:47:48.680Z"
   },
   {
    "duration": 0,
    "start_time": "2023-10-19T11:47:48.681Z"
   },
   {
    "duration": 0,
    "start_time": "2023-10-19T11:47:48.682Z"
   },
   {
    "duration": 0,
    "start_time": "2023-10-19T11:47:48.684Z"
   },
   {
    "duration": 0,
    "start_time": "2023-10-19T11:47:48.685Z"
   },
   {
    "duration": 0,
    "start_time": "2023-10-19T11:47:48.686Z"
   },
   {
    "duration": 0,
    "start_time": "2023-10-19T11:47:48.688Z"
   },
   {
    "duration": 0,
    "start_time": "2023-10-19T11:47:48.689Z"
   },
   {
    "duration": 0,
    "start_time": "2023-10-19T11:47:48.691Z"
   },
   {
    "duration": 0,
    "start_time": "2023-10-19T11:47:48.693Z"
   },
   {
    "duration": 0,
    "start_time": "2023-10-19T11:47:48.694Z"
   },
   {
    "duration": 0,
    "start_time": "2023-10-19T11:47:48.695Z"
   },
   {
    "duration": 1,
    "start_time": "2023-10-19T11:47:48.745Z"
   },
   {
    "duration": 0,
    "start_time": "2023-10-19T11:47:48.748Z"
   },
   {
    "duration": 0,
    "start_time": "2023-10-19T11:47:48.749Z"
   },
   {
    "duration": 0,
    "start_time": "2023-10-19T11:47:48.751Z"
   },
   {
    "duration": 0,
    "start_time": "2023-10-19T11:47:48.754Z"
   },
   {
    "duration": 0,
    "start_time": "2023-10-19T11:47:48.755Z"
   },
   {
    "duration": 0,
    "start_time": "2023-10-19T11:47:48.756Z"
   },
   {
    "duration": 196,
    "start_time": "2023-10-19T11:48:22.120Z"
   },
   {
    "duration": 191,
    "start_time": "2023-10-19T11:48:22.321Z"
   },
   {
    "duration": 201,
    "start_time": "2023-10-19T11:48:22.514Z"
   },
   {
    "duration": 17,
    "start_time": "2023-10-19T11:48:22.717Z"
   },
   {
    "duration": 19,
    "start_time": "2023-10-19T11:48:22.745Z"
   },
   {
    "duration": 19,
    "start_time": "2023-10-19T11:48:22.766Z"
   },
   {
    "duration": 10,
    "start_time": "2023-10-19T11:48:22.786Z"
   },
   {
    "duration": 12,
    "start_time": "2023-10-19T11:48:22.798Z"
   },
   {
    "duration": 53,
    "start_time": "2023-10-19T11:48:22.811Z"
   },
   {
    "duration": 17,
    "start_time": "2023-10-19T11:48:22.868Z"
   },
   {
    "duration": 15,
    "start_time": "2023-10-19T11:48:22.886Z"
   },
   {
    "duration": 61,
    "start_time": "2023-10-19T11:48:22.903Z"
   },
   {
    "duration": 307,
    "start_time": "2023-10-19T11:48:22.966Z"
   },
   {
    "duration": 201,
    "start_time": "2023-10-19T11:48:23.275Z"
   },
   {
    "duration": 232,
    "start_time": "2023-10-19T11:48:23.477Z"
   },
   {
    "duration": 273,
    "start_time": "2023-10-19T11:48:23.711Z"
   },
   {
    "duration": 219,
    "start_time": "2023-10-19T11:48:23.985Z"
   },
   {
    "duration": 4,
    "start_time": "2023-10-19T11:48:24.206Z"
   },
   {
    "duration": 93,
    "start_time": "2023-10-19T11:48:24.212Z"
   },
   {
    "duration": 38,
    "start_time": "2023-10-19T11:48:24.308Z"
   },
   {
    "duration": 24,
    "start_time": "2023-10-19T11:48:24.348Z"
   },
   {
    "duration": 24,
    "start_time": "2023-10-19T11:48:24.374Z"
   },
   {
    "duration": 5,
    "start_time": "2023-10-19T11:48:24.399Z"
   },
   {
    "duration": 55,
    "start_time": "2023-10-19T11:48:24.405Z"
   },
   {
    "duration": 6,
    "start_time": "2023-10-19T11:48:24.462Z"
   },
   {
    "duration": 6,
    "start_time": "2023-10-19T11:48:24.469Z"
   },
   {
    "duration": 13,
    "start_time": "2023-10-19T11:48:24.476Z"
   },
   {
    "duration": 15,
    "start_time": "2023-10-19T11:48:24.492Z"
   },
   {
    "duration": 13,
    "start_time": "2023-10-19T11:48:24.508Z"
   },
   {
    "duration": 49,
    "start_time": "2023-10-19T16:42:46.352Z"
   },
   {
    "duration": 6,
    "start_time": "2023-10-19T16:42:49.067Z"
   },
   {
    "duration": 1309,
    "start_time": "2023-10-19T16:42:52.778Z"
   },
   {
    "duration": 198,
    "start_time": "2023-10-19T16:42:54.089Z"
   },
   {
    "duration": 261,
    "start_time": "2023-10-19T16:42:54.288Z"
   },
   {
    "duration": 4,
    "start_time": "2023-10-19T16:42:54.551Z"
   },
   {
    "duration": 11,
    "start_time": "2023-10-19T16:42:54.557Z"
   },
   {
    "duration": 11,
    "start_time": "2023-10-19T16:42:54.569Z"
   },
   {
    "duration": 306,
    "start_time": "2023-10-19T16:42:54.582Z"
   },
   {
    "duration": 4,
    "start_time": "2023-10-19T16:42:54.890Z"
   },
   {
    "duration": 23,
    "start_time": "2023-10-19T16:42:54.896Z"
   },
   {
    "duration": 7,
    "start_time": "2023-10-19T16:42:54.922Z"
   },
   {
    "duration": 11,
    "start_time": "2023-10-19T16:42:54.930Z"
   },
   {
    "duration": 7,
    "start_time": "2023-10-19T16:42:54.942Z"
   },
   {
    "duration": 8,
    "start_time": "2023-10-19T16:42:54.951Z"
   },
   {
    "duration": 46,
    "start_time": "2023-10-19T16:42:54.961Z"
   },
   {
    "duration": 27,
    "start_time": "2023-10-19T16:42:55.009Z"
   },
   {
    "duration": 26,
    "start_time": "2023-10-19T16:42:55.038Z"
   },
   {
    "duration": 133,
    "start_time": "2023-10-19T16:42:55.065Z"
   },
   {
    "duration": 10,
    "start_time": "2023-10-19T16:42:55.199Z"
   },
   {
    "duration": 34,
    "start_time": "2023-10-19T16:42:55.210Z"
   },
   {
    "duration": 69,
    "start_time": "2023-10-19T16:42:55.246Z"
   },
   {
    "duration": 178,
    "start_time": "2023-10-19T16:42:57.109Z"
   },
   {
    "duration": 121,
    "start_time": "2023-10-19T16:43:02.925Z"
   },
   {
    "duration": 273,
    "start_time": "2023-10-19T16:48:57.517Z"
   },
   {
    "duration": 245,
    "start_time": "2023-10-19T16:49:09.439Z"
   },
   {
    "duration": 222,
    "start_time": "2023-10-19T16:49:53.645Z"
   },
   {
    "duration": 164,
    "start_time": "2023-10-19T16:50:10.534Z"
   },
   {
    "duration": 85,
    "start_time": "2023-10-19T16:50:50.774Z"
   },
   {
    "duration": 11,
    "start_time": "2023-10-19T16:51:34.568Z"
   },
   {
    "duration": 10,
    "start_time": "2023-10-19T16:51:41.230Z"
   },
   {
    "duration": 9,
    "start_time": "2023-10-19T16:52:00.535Z"
   },
   {
    "duration": 12,
    "start_time": "2023-10-19T16:53:40.942Z"
   },
   {
    "duration": 11,
    "start_time": "2023-10-19T16:53:56.238Z"
   },
   {
    "duration": 11,
    "start_time": "2023-10-19T16:54:00.263Z"
   },
   {
    "duration": 178,
    "start_time": "2023-10-19T16:54:34.671Z"
   },
   {
    "duration": 698,
    "start_time": "2023-10-19T16:54:47.687Z"
   },
   {
    "duration": 590,
    "start_time": "2023-10-19T16:55:24.103Z"
   },
   {
    "duration": 727,
    "start_time": "2023-10-19T16:55:44.903Z"
   },
   {
    "duration": 180,
    "start_time": "2023-10-19T16:56:02.488Z"
   },
   {
    "duration": 178,
    "start_time": "2023-10-19T16:56:14.992Z"
   },
   {
    "duration": 312,
    "start_time": "2023-10-19T16:56:19.456Z"
   },
   {
    "duration": 307,
    "start_time": "2023-10-19T16:57:27.497Z"
   },
   {
    "duration": 300,
    "start_time": "2023-10-19T16:57:41.360Z"
   },
   {
    "duration": 390,
    "start_time": "2023-10-19T16:57:59.281Z"
   },
   {
    "duration": 305,
    "start_time": "2023-10-19T16:58:10.408Z"
   },
   {
    "duration": 84,
    "start_time": "2023-10-19T17:04:32.066Z"
   },
   {
    "duration": 207,
    "start_time": "2023-10-19T17:06:56.266Z"
   },
   {
    "duration": 210,
    "start_time": "2023-10-19T17:07:48.162Z"
   },
   {
    "duration": 59,
    "start_time": "2023-10-19T17:08:26.402Z"
   },
   {
    "duration": 2,
    "start_time": "2023-10-19T17:08:32.904Z"
   },
   {
    "duration": 71,
    "start_time": "2023-10-19T17:08:32.908Z"
   },
   {
    "duration": 160,
    "start_time": "2023-10-19T17:08:32.981Z"
   },
   {
    "duration": 5,
    "start_time": "2023-10-19T17:08:33.143Z"
   },
   {
    "duration": 6,
    "start_time": "2023-10-19T17:08:33.150Z"
   },
   {
    "duration": 6,
    "start_time": "2023-10-19T17:08:33.157Z"
   },
   {
    "duration": 342,
    "start_time": "2023-10-19T17:08:33.165Z"
   },
   {
    "duration": 6,
    "start_time": "2023-10-19T17:08:33.508Z"
   },
   {
    "duration": 19,
    "start_time": "2023-10-19T17:08:33.517Z"
   },
   {
    "duration": 6,
    "start_time": "2023-10-19T17:08:33.538Z"
   },
   {
    "duration": 12,
    "start_time": "2023-10-19T17:08:33.546Z"
   },
   {
    "duration": 9,
    "start_time": "2023-10-19T17:08:33.559Z"
   },
   {
    "duration": 38,
    "start_time": "2023-10-19T17:08:33.570Z"
   },
   {
    "duration": 5,
    "start_time": "2023-10-19T17:08:33.609Z"
   },
   {
    "duration": 8,
    "start_time": "2023-10-19T17:08:33.615Z"
   },
   {
    "duration": 8,
    "start_time": "2023-10-19T17:08:33.624Z"
   },
   {
    "duration": 140,
    "start_time": "2023-10-19T17:08:33.634Z"
   },
   {
    "duration": 9,
    "start_time": "2023-10-19T17:08:33.775Z"
   },
   {
    "duration": 21,
    "start_time": "2023-10-19T17:08:33.786Z"
   },
   {
    "duration": 59,
    "start_time": "2023-10-19T17:08:33.809Z"
   },
   {
    "duration": 192,
    "start_time": "2023-10-19T17:08:33.869Z"
   },
   {
    "duration": 278,
    "start_time": "2023-10-19T17:08:34.063Z"
   },
   {
    "duration": 194,
    "start_time": "2023-10-19T17:08:34.343Z"
   },
   {
    "duration": 14,
    "start_time": "2023-10-19T17:08:34.540Z"
   },
   {
    "duration": 11,
    "start_time": "2023-10-19T17:08:34.556Z"
   },
   {
    "duration": 13,
    "start_time": "2023-10-19T17:08:34.568Z"
   },
   {
    "duration": 31,
    "start_time": "2023-10-19T17:08:34.582Z"
   },
   {
    "duration": 10,
    "start_time": "2023-10-19T17:08:34.615Z"
   },
   {
    "duration": 14,
    "start_time": "2023-10-19T17:08:34.627Z"
   },
   {
    "duration": 15,
    "start_time": "2023-10-19T17:08:34.643Z"
   },
   {
    "duration": 11,
    "start_time": "2023-10-19T17:08:34.660Z"
   },
   {
    "duration": 69,
    "start_time": "2023-10-19T17:08:34.673Z"
   },
   {
    "duration": 212,
    "start_time": "2023-10-19T17:08:36.745Z"
   },
   {
    "duration": 214,
    "start_time": "2023-10-19T17:09:39.707Z"
   },
   {
    "duration": 232,
    "start_time": "2023-10-19T17:10:04.339Z"
   },
   {
    "duration": 176,
    "start_time": "2023-10-19T17:10:31.323Z"
   },
   {
    "duration": 167,
    "start_time": "2023-10-19T17:10:40.931Z"
   },
   {
    "duration": 211,
    "start_time": "2023-10-19T17:10:54.418Z"
   },
   {
    "duration": 109,
    "start_time": "2023-10-19T17:13:21.356Z"
   }
  ],
  "kernelspec": {
   "display_name": "Python 3 (ipykernel)",
   "language": "python",
   "name": "python3"
  },
  "language_info": {
   "codemirror_mode": {
    "name": "ipython",
    "version": 3
   },
   "file_extension": ".py",
   "mimetype": "text/x-python",
   "name": "python",
   "nbconvert_exporter": "python",
   "pygments_lexer": "ipython3",
   "version": "3.9.16"
  },
  "toc": {
   "base_numbering": 1,
   "nav_menu": {
    "height": "524px",
    "width": "926px"
   },
   "number_sections": true,
   "sideBar": true,
   "skip_h1_title": true,
   "title_cell": "Table of Contents",
   "title_sidebar": "Contents",
   "toc_cell": false,
   "toc_position": {},
   "toc_section_display": true,
   "toc_window_display": true
  }
 },
 "nbformat": 4,
 "nbformat_minor": 5
}
