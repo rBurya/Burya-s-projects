{
 "cells": [
  {
   "cell_type": "markdown",
   "metadata": {},
   "source": [
    "# Выбор локации для скважины"
   ]
  },
  {
   "cell_type": "markdown",
   "metadata": {},
   "source": [
    "Допустим, вы работаете в добывающей компании «ГлавРосГосНефть». Нужно решить, где бурить новую скважину.\n",
    "\n",
    "Вам предоставлены пробы нефти в трёх регионах: в каждом 10 000 месторождений, где измерили качество нефти и объём её запасов. Постройте модель машинного обучения, которая поможет определить регион, где добыча принесёт наибольшую прибыль. Проанализируйте возможную прибыль и риски техникой *Bootstrap.*\n",
    "\n",
    "Шаги для выбора локации:\n",
    "\n",
    "- В избранном регионе ищут месторождения, для каждого определяют значения признаков;\n",
    "- Строят модель и оценивают объём запасов;\n",
    "- Выбирают месторождения с самым высокими оценками значений. Количество месторождений зависит от бюджета компании и стоимости разработки одной скважины;\n",
    "- Прибыль равна суммарной прибыли отобранных месторождений."
   ]
  },
  {
   "cell_type": "markdown",
   "metadata": {},
   "source": [
    "Для обучения модели подходит только линейная регрессия (остальные — недостаточно предсказуемые).    \n",
    "\n",
    "При разведке региона исследуют 500 точек, из которых с помощью машинного обучения выбирают 200 лучших для разработки. \n",
    "\n",
    "Бюджет на разработку скважин в регионе — 10 млрд рублей.    \n",
    "\n",
    "При нынешних ценах один баррель сырья приносит 450 рублей дохода. Доход с каждой единицы продукта составляет 450 тыс. рублей, поскольку объём указан в тысячах баррелей.  \n",
    "\n",
    "После оценки рисков нужно оставить лишь те регионы, в которых вероятность убытков меньше 2.5%. Среди них выбирают регион с наибольшей средней прибылью.  "
   ]
  },
  {
   "cell_type": "markdown",
   "metadata": {},
   "source": [
    "Описание данных:\n",
    "  -  id — уникальный идентификатор скважины;\n",
    "  -  f0, f1, f2 — три признака точек (неважно, что они означают, но сами признаки значимы);\n",
    "  -  product — объём запасов в скважине (тыс. баррелей)."
   ]
  },
  {
   "cell_type": "code",
   "execution_count": 17,
   "metadata": {
    "scrolled": true
   },
   "outputs": [],
   "source": [
    "#pip install ydata-profiling"
   ]
  },
  {
   "cell_type": "markdown",
   "metadata": {},
   "source": [
    "# Импорт библиотек"
   ]
  },
  {
   "cell_type": "code",
   "execution_count": 18,
   "metadata": {},
   "outputs": [],
   "source": [
    "import pandas as pd\n",
    "from sklearn.model_selection import train_test_split\n",
    "from sklearn.linear_model import LinearRegression\n",
    "from sklearn.metrics import mean_squared_error\n",
    "from sklearn.preprocessing import StandardScaler\n",
    "import numpy as np\n",
    "import matplotlib.pyplot as plt\n",
    "import seaborn as sns"
   ]
  },
  {
   "cell_type": "markdown",
   "metadata": {},
   "source": [
    "## Загрузка и подготовка данных"
   ]
  },
  {
   "cell_type": "code",
   "execution_count": 19,
   "metadata": {},
   "outputs": [],
   "source": [
    "data_1 = pd.read_csv(\"C://Users/rdl_b/OneDrive/Рабочий стол/python/Yandex Practicum/Загрузка проектов/Проект 9/geo_data_0.csv\")\n",
    "data_2 = pd.read_csv(\"C://Users/rdl_b/OneDrive/Рабочий стол/python/Yandex Practicum/Загрузка проектов/Проект 9/geo_data_1.csv\")\n",
    "data_3 = pd.read_csv(\"C://Users/rdl_b/OneDrive/Рабочий стол/python/Yandex Practicum/Загрузка проектов/Проект 9/geo_data_2.csv\")"
   ]
  },
  {
   "cell_type": "markdown",
   "metadata": {},
   "source": [
    "**Посмотрим на данные**"
   ]
  },
  {
   "cell_type": "code",
   "execution_count": 20,
   "metadata": {
    "scrolled": true
   },
   "outputs": [
    {
     "data": {
      "text/html": [
       "<div>\n",
       "<style scoped>\n",
       "    .dataframe tbody tr th:only-of-type {\n",
       "        vertical-align: middle;\n",
       "    }\n",
       "\n",
       "    .dataframe tbody tr th {\n",
       "        vertical-align: top;\n",
       "    }\n",
       "\n",
       "    .dataframe thead th {\n",
       "        text-align: right;\n",
       "    }\n",
       "</style>\n",
       "<table border=\"1\" class=\"dataframe\">\n",
       "  <thead>\n",
       "    <tr style=\"text-align: right;\">\n",
       "      <th></th>\n",
       "      <th>id</th>\n",
       "      <th>f0</th>\n",
       "      <th>f1</th>\n",
       "      <th>f2</th>\n",
       "      <th>product</th>\n",
       "    </tr>\n",
       "  </thead>\n",
       "  <tbody>\n",
       "    <tr>\n",
       "      <th>0</th>\n",
       "      <td>txEyH</td>\n",
       "      <td>0.705745</td>\n",
       "      <td>-0.497823</td>\n",
       "      <td>1.221170</td>\n",
       "      <td>105.280062</td>\n",
       "    </tr>\n",
       "    <tr>\n",
       "      <th>1</th>\n",
       "      <td>2acmU</td>\n",
       "      <td>1.334711</td>\n",
       "      <td>-0.340164</td>\n",
       "      <td>4.365080</td>\n",
       "      <td>73.037750</td>\n",
       "    </tr>\n",
       "    <tr>\n",
       "      <th>2</th>\n",
       "      <td>409Wp</td>\n",
       "      <td>1.022732</td>\n",
       "      <td>0.151990</td>\n",
       "      <td>1.419926</td>\n",
       "      <td>85.265647</td>\n",
       "    </tr>\n",
       "    <tr>\n",
       "      <th>3</th>\n",
       "      <td>iJLyR</td>\n",
       "      <td>-0.032172</td>\n",
       "      <td>0.139033</td>\n",
       "      <td>2.978566</td>\n",
       "      <td>168.620776</td>\n",
       "    </tr>\n",
       "    <tr>\n",
       "      <th>4</th>\n",
       "      <td>Xdl7t</td>\n",
       "      <td>1.988431</td>\n",
       "      <td>0.155413</td>\n",
       "      <td>4.751769</td>\n",
       "      <td>154.036647</td>\n",
       "    </tr>\n",
       "  </tbody>\n",
       "</table>\n",
       "</div>"
      ],
      "text/plain": [
       "      id        f0        f1        f2     product\n",
       "0  txEyH  0.705745 -0.497823  1.221170  105.280062\n",
       "1  2acmU  1.334711 -0.340164  4.365080   73.037750\n",
       "2  409Wp  1.022732  0.151990  1.419926   85.265647\n",
       "3  iJLyR -0.032172  0.139033  2.978566  168.620776\n",
       "4  Xdl7t  1.988431  0.155413  4.751769  154.036647"
      ]
     },
     "execution_count": 20,
     "metadata": {},
     "output_type": "execute_result"
    }
   ],
   "source": [
    "data_1.head()"
   ]
  },
  {
   "cell_type": "code",
   "execution_count": 21,
   "metadata": {},
   "outputs": [
    {
     "data": {
      "text/html": [
       "<div>\n",
       "<style scoped>\n",
       "    .dataframe tbody tr th:only-of-type {\n",
       "        vertical-align: middle;\n",
       "    }\n",
       "\n",
       "    .dataframe tbody tr th {\n",
       "        vertical-align: top;\n",
       "    }\n",
       "\n",
       "    .dataframe thead th {\n",
       "        text-align: right;\n",
       "    }\n",
       "</style>\n",
       "<table border=\"1\" class=\"dataframe\">\n",
       "  <thead>\n",
       "    <tr style=\"text-align: right;\">\n",
       "      <th></th>\n",
       "      <th>id</th>\n",
       "      <th>f0</th>\n",
       "      <th>f1</th>\n",
       "      <th>f2</th>\n",
       "      <th>product</th>\n",
       "    </tr>\n",
       "  </thead>\n",
       "  <tbody>\n",
       "    <tr>\n",
       "      <th>0</th>\n",
       "      <td>kBEdx</td>\n",
       "      <td>-15.001348</td>\n",
       "      <td>-8.276000</td>\n",
       "      <td>-0.005876</td>\n",
       "      <td>3.179103</td>\n",
       "    </tr>\n",
       "    <tr>\n",
       "      <th>1</th>\n",
       "      <td>62mP7</td>\n",
       "      <td>14.272088</td>\n",
       "      <td>-3.475083</td>\n",
       "      <td>0.999183</td>\n",
       "      <td>26.953261</td>\n",
       "    </tr>\n",
       "    <tr>\n",
       "      <th>2</th>\n",
       "      <td>vyE1P</td>\n",
       "      <td>6.263187</td>\n",
       "      <td>-5.948386</td>\n",
       "      <td>5.001160</td>\n",
       "      <td>134.766305</td>\n",
       "    </tr>\n",
       "    <tr>\n",
       "      <th>3</th>\n",
       "      <td>KcrkZ</td>\n",
       "      <td>-13.081196</td>\n",
       "      <td>-11.506057</td>\n",
       "      <td>4.999415</td>\n",
       "      <td>137.945408</td>\n",
       "    </tr>\n",
       "    <tr>\n",
       "      <th>4</th>\n",
       "      <td>AHL4O</td>\n",
       "      <td>12.702195</td>\n",
       "      <td>-8.147433</td>\n",
       "      <td>5.004363</td>\n",
       "      <td>134.766305</td>\n",
       "    </tr>\n",
       "  </tbody>\n",
       "</table>\n",
       "</div>"
      ],
      "text/plain": [
       "      id         f0         f1        f2     product\n",
       "0  kBEdx -15.001348  -8.276000 -0.005876    3.179103\n",
       "1  62mP7  14.272088  -3.475083  0.999183   26.953261\n",
       "2  vyE1P   6.263187  -5.948386  5.001160  134.766305\n",
       "3  KcrkZ -13.081196 -11.506057  4.999415  137.945408\n",
       "4  AHL4O  12.702195  -8.147433  5.004363  134.766305"
      ]
     },
     "execution_count": 21,
     "metadata": {},
     "output_type": "execute_result"
    }
   ],
   "source": [
    "data_2.head()"
   ]
  },
  {
   "cell_type": "code",
   "execution_count": 22,
   "metadata": {},
   "outputs": [
    {
     "data": {
      "text/html": [
       "<div>\n",
       "<style scoped>\n",
       "    .dataframe tbody tr th:only-of-type {\n",
       "        vertical-align: middle;\n",
       "    }\n",
       "\n",
       "    .dataframe tbody tr th {\n",
       "        vertical-align: top;\n",
       "    }\n",
       "\n",
       "    .dataframe thead th {\n",
       "        text-align: right;\n",
       "    }\n",
       "</style>\n",
       "<table border=\"1\" class=\"dataframe\">\n",
       "  <thead>\n",
       "    <tr style=\"text-align: right;\">\n",
       "      <th></th>\n",
       "      <th>id</th>\n",
       "      <th>f0</th>\n",
       "      <th>f1</th>\n",
       "      <th>f2</th>\n",
       "      <th>product</th>\n",
       "    </tr>\n",
       "  </thead>\n",
       "  <tbody>\n",
       "    <tr>\n",
       "      <th>0</th>\n",
       "      <td>fwXo0</td>\n",
       "      <td>-1.146987</td>\n",
       "      <td>0.963328</td>\n",
       "      <td>-0.828965</td>\n",
       "      <td>27.758673</td>\n",
       "    </tr>\n",
       "    <tr>\n",
       "      <th>1</th>\n",
       "      <td>WJtFt</td>\n",
       "      <td>0.262778</td>\n",
       "      <td>0.269839</td>\n",
       "      <td>-2.530187</td>\n",
       "      <td>56.069697</td>\n",
       "    </tr>\n",
       "    <tr>\n",
       "      <th>2</th>\n",
       "      <td>ovLUW</td>\n",
       "      <td>0.194587</td>\n",
       "      <td>0.289035</td>\n",
       "      <td>-5.586433</td>\n",
       "      <td>62.871910</td>\n",
       "    </tr>\n",
       "    <tr>\n",
       "      <th>3</th>\n",
       "      <td>q6cA6</td>\n",
       "      <td>2.236060</td>\n",
       "      <td>-0.553760</td>\n",
       "      <td>0.930038</td>\n",
       "      <td>114.572842</td>\n",
       "    </tr>\n",
       "    <tr>\n",
       "      <th>4</th>\n",
       "      <td>WPMUX</td>\n",
       "      <td>-0.515993</td>\n",
       "      <td>1.716266</td>\n",
       "      <td>5.899011</td>\n",
       "      <td>149.600746</td>\n",
       "    </tr>\n",
       "  </tbody>\n",
       "</table>\n",
       "</div>"
      ],
      "text/plain": [
       "      id        f0        f1        f2     product\n",
       "0  fwXo0 -1.146987  0.963328 -0.828965   27.758673\n",
       "1  WJtFt  0.262778  0.269839 -2.530187   56.069697\n",
       "2  ovLUW  0.194587  0.289035 -5.586433   62.871910\n",
       "3  q6cA6  2.236060 -0.553760  0.930038  114.572842\n",
       "4  WPMUX -0.515993  1.716266  5.899011  149.600746"
      ]
     },
     "execution_count": 22,
     "metadata": {},
     "output_type": "execute_result"
    }
   ],
   "source": [
    "data_3.head()"
   ]
  },
  {
   "cell_type": "code",
   "execution_count": 23,
   "metadata": {},
   "outputs": [],
   "source": [
    "def info(df):\n",
    "    df.info()\n",
    "    print('\\nКоличество дубликатов:',df.duplicated().sum(),'\\n')\n",
    "    print('Количество пропусков:\\n',df.isna().sum())"
   ]
  },
  {
   "cell_type": "code",
   "execution_count": 24,
   "metadata": {},
   "outputs": [
    {
     "name": "stdout",
     "output_type": "stream",
     "text": [
      "<class 'pandas.core.frame.DataFrame'>\n",
      "RangeIndex: 100000 entries, 0 to 99999\n",
      "Data columns (total 5 columns):\n",
      " #   Column   Non-Null Count   Dtype  \n",
      "---  ------   --------------   -----  \n",
      " 0   id       100000 non-null  object \n",
      " 1   f0       100000 non-null  float64\n",
      " 2   f1       100000 non-null  float64\n",
      " 3   f2       100000 non-null  float64\n",
      " 4   product  100000 non-null  float64\n",
      "dtypes: float64(4), object(1)\n",
      "memory usage: 3.8+ MB\n",
      "\n",
      "Количество дубликатов: 0 \n",
      "\n",
      "Количество пропусков:\n",
      " id         0\n",
      "f0         0\n",
      "f1         0\n",
      "f2         0\n",
      "product    0\n",
      "dtype: int64\n"
     ]
    }
   ],
   "source": [
    "info(data_1)"
   ]
  },
  {
   "cell_type": "code",
   "execution_count": 25,
   "metadata": {},
   "outputs": [
    {
     "data": {
      "text/html": [
       "<div>\n",
       "<style scoped>\n",
       "    .dataframe tbody tr th:only-of-type {\n",
       "        vertical-align: middle;\n",
       "    }\n",
       "\n",
       "    .dataframe tbody tr th {\n",
       "        vertical-align: top;\n",
       "    }\n",
       "\n",
       "    .dataframe thead th {\n",
       "        text-align: right;\n",
       "    }\n",
       "</style>\n",
       "<table border=\"1\" class=\"dataframe\">\n",
       "  <thead>\n",
       "    <tr style=\"text-align: right;\">\n",
       "      <th></th>\n",
       "      <th>f0</th>\n",
       "      <th>f1</th>\n",
       "      <th>f2</th>\n",
       "      <th>product</th>\n",
       "    </tr>\n",
       "  </thead>\n",
       "  <tbody>\n",
       "    <tr>\n",
       "      <th>count</th>\n",
       "      <td>100000.000000</td>\n",
       "      <td>100000.000000</td>\n",
       "      <td>100000.000000</td>\n",
       "      <td>100000.000000</td>\n",
       "    </tr>\n",
       "    <tr>\n",
       "      <th>mean</th>\n",
       "      <td>0.500419</td>\n",
       "      <td>0.250143</td>\n",
       "      <td>2.502647</td>\n",
       "      <td>92.500000</td>\n",
       "    </tr>\n",
       "    <tr>\n",
       "      <th>std</th>\n",
       "      <td>0.871832</td>\n",
       "      <td>0.504433</td>\n",
       "      <td>3.248248</td>\n",
       "      <td>44.288691</td>\n",
       "    </tr>\n",
       "    <tr>\n",
       "      <th>min</th>\n",
       "      <td>-1.408605</td>\n",
       "      <td>-0.848218</td>\n",
       "      <td>-12.088328</td>\n",
       "      <td>0.000000</td>\n",
       "    </tr>\n",
       "    <tr>\n",
       "      <th>25%</th>\n",
       "      <td>-0.072580</td>\n",
       "      <td>-0.200881</td>\n",
       "      <td>0.287748</td>\n",
       "      <td>56.497507</td>\n",
       "    </tr>\n",
       "    <tr>\n",
       "      <th>50%</th>\n",
       "      <td>0.502360</td>\n",
       "      <td>0.250252</td>\n",
       "      <td>2.515969</td>\n",
       "      <td>91.849972</td>\n",
       "    </tr>\n",
       "    <tr>\n",
       "      <th>75%</th>\n",
       "      <td>1.073581</td>\n",
       "      <td>0.700646</td>\n",
       "      <td>4.715088</td>\n",
       "      <td>128.564089</td>\n",
       "    </tr>\n",
       "    <tr>\n",
       "      <th>max</th>\n",
       "      <td>2.362331</td>\n",
       "      <td>1.343769</td>\n",
       "      <td>16.003790</td>\n",
       "      <td>185.364347</td>\n",
       "    </tr>\n",
       "  </tbody>\n",
       "</table>\n",
       "</div>"
      ],
      "text/plain": [
       "                  f0             f1             f2        product\n",
       "count  100000.000000  100000.000000  100000.000000  100000.000000\n",
       "mean        0.500419       0.250143       2.502647      92.500000\n",
       "std         0.871832       0.504433       3.248248      44.288691\n",
       "min        -1.408605      -0.848218     -12.088328       0.000000\n",
       "25%        -0.072580      -0.200881       0.287748      56.497507\n",
       "50%         0.502360       0.250252       2.515969      91.849972\n",
       "75%         1.073581       0.700646       4.715088     128.564089\n",
       "max         2.362331       1.343769      16.003790     185.364347"
      ]
     },
     "execution_count": 25,
     "metadata": {},
     "output_type": "execute_result"
    }
   ],
   "source": [
    "data_1.describe()"
   ]
  },
  {
   "cell_type": "code",
   "execution_count": 26,
   "metadata": {},
   "outputs": [
    {
     "name": "stdout",
     "output_type": "stream",
     "text": [
      "<class 'pandas.core.frame.DataFrame'>\n",
      "RangeIndex: 100000 entries, 0 to 99999\n",
      "Data columns (total 5 columns):\n",
      " #   Column   Non-Null Count   Dtype  \n",
      "---  ------   --------------   -----  \n",
      " 0   id       100000 non-null  object \n",
      " 1   f0       100000 non-null  float64\n",
      " 2   f1       100000 non-null  float64\n",
      " 3   f2       100000 non-null  float64\n",
      " 4   product  100000 non-null  float64\n",
      "dtypes: float64(4), object(1)\n",
      "memory usage: 3.8+ MB\n",
      "\n",
      "Количество дубликатов: 0 \n",
      "\n",
      "Количество пропусков:\n",
      " id         0\n",
      "f0         0\n",
      "f1         0\n",
      "f2         0\n",
      "product    0\n",
      "dtype: int64\n"
     ]
    }
   ],
   "source": [
    "info(data_2)"
   ]
  },
  {
   "cell_type": "code",
   "execution_count": 27,
   "metadata": {},
   "outputs": [
    {
     "data": {
      "text/html": [
       "<div>\n",
       "<style scoped>\n",
       "    .dataframe tbody tr th:only-of-type {\n",
       "        vertical-align: middle;\n",
       "    }\n",
       "\n",
       "    .dataframe tbody tr th {\n",
       "        vertical-align: top;\n",
       "    }\n",
       "\n",
       "    .dataframe thead th {\n",
       "        text-align: right;\n",
       "    }\n",
       "</style>\n",
       "<table border=\"1\" class=\"dataframe\">\n",
       "  <thead>\n",
       "    <tr style=\"text-align: right;\">\n",
       "      <th></th>\n",
       "      <th>f0</th>\n",
       "      <th>f1</th>\n",
       "      <th>f2</th>\n",
       "      <th>product</th>\n",
       "    </tr>\n",
       "  </thead>\n",
       "  <tbody>\n",
       "    <tr>\n",
       "      <th>count</th>\n",
       "      <td>100000.000000</td>\n",
       "      <td>100000.000000</td>\n",
       "      <td>100000.000000</td>\n",
       "      <td>100000.000000</td>\n",
       "    </tr>\n",
       "    <tr>\n",
       "      <th>mean</th>\n",
       "      <td>1.141296</td>\n",
       "      <td>-4.796579</td>\n",
       "      <td>2.494541</td>\n",
       "      <td>68.825000</td>\n",
       "    </tr>\n",
       "    <tr>\n",
       "      <th>std</th>\n",
       "      <td>8.965932</td>\n",
       "      <td>5.119872</td>\n",
       "      <td>1.703572</td>\n",
       "      <td>45.944423</td>\n",
       "    </tr>\n",
       "    <tr>\n",
       "      <th>min</th>\n",
       "      <td>-31.609576</td>\n",
       "      <td>-26.358598</td>\n",
       "      <td>-0.018144</td>\n",
       "      <td>0.000000</td>\n",
       "    </tr>\n",
       "    <tr>\n",
       "      <th>25%</th>\n",
       "      <td>-6.298551</td>\n",
       "      <td>-8.267985</td>\n",
       "      <td>1.000021</td>\n",
       "      <td>26.953261</td>\n",
       "    </tr>\n",
       "    <tr>\n",
       "      <th>50%</th>\n",
       "      <td>1.153055</td>\n",
       "      <td>-4.813172</td>\n",
       "      <td>2.011479</td>\n",
       "      <td>57.085625</td>\n",
       "    </tr>\n",
       "    <tr>\n",
       "      <th>75%</th>\n",
       "      <td>8.621015</td>\n",
       "      <td>-1.332816</td>\n",
       "      <td>3.999904</td>\n",
       "      <td>107.813044</td>\n",
       "    </tr>\n",
       "    <tr>\n",
       "      <th>max</th>\n",
       "      <td>29.421755</td>\n",
       "      <td>18.734063</td>\n",
       "      <td>5.019721</td>\n",
       "      <td>137.945408</td>\n",
       "    </tr>\n",
       "  </tbody>\n",
       "</table>\n",
       "</div>"
      ],
      "text/plain": [
       "                  f0             f1             f2        product\n",
       "count  100000.000000  100000.000000  100000.000000  100000.000000\n",
       "mean        1.141296      -4.796579       2.494541      68.825000\n",
       "std         8.965932       5.119872       1.703572      45.944423\n",
       "min       -31.609576     -26.358598      -0.018144       0.000000\n",
       "25%        -6.298551      -8.267985       1.000021      26.953261\n",
       "50%         1.153055      -4.813172       2.011479      57.085625\n",
       "75%         8.621015      -1.332816       3.999904     107.813044\n",
       "max        29.421755      18.734063       5.019721     137.945408"
      ]
     },
     "execution_count": 27,
     "metadata": {},
     "output_type": "execute_result"
    }
   ],
   "source": [
    "data_2.describe()"
   ]
  },
  {
   "cell_type": "code",
   "execution_count": 28,
   "metadata": {},
   "outputs": [
    {
     "name": "stdout",
     "output_type": "stream",
     "text": [
      "<class 'pandas.core.frame.DataFrame'>\n",
      "RangeIndex: 100000 entries, 0 to 99999\n",
      "Data columns (total 5 columns):\n",
      " #   Column   Non-Null Count   Dtype  \n",
      "---  ------   --------------   -----  \n",
      " 0   id       100000 non-null  object \n",
      " 1   f0       100000 non-null  float64\n",
      " 2   f1       100000 non-null  float64\n",
      " 3   f2       100000 non-null  float64\n",
      " 4   product  100000 non-null  float64\n",
      "dtypes: float64(4), object(1)\n",
      "memory usage: 3.8+ MB\n",
      "\n",
      "Количество дубликатов: 0 \n",
      "\n",
      "Количество пропусков:\n",
      " id         0\n",
      "f0         0\n",
      "f1         0\n",
      "f2         0\n",
      "product    0\n",
      "dtype: int64\n"
     ]
    }
   ],
   "source": [
    "info(data_3)"
   ]
  },
  {
   "cell_type": "code",
   "execution_count": 29,
   "metadata": {},
   "outputs": [
    {
     "data": {
      "text/html": [
       "<div>\n",
       "<style scoped>\n",
       "    .dataframe tbody tr th:only-of-type {\n",
       "        vertical-align: middle;\n",
       "    }\n",
       "\n",
       "    .dataframe tbody tr th {\n",
       "        vertical-align: top;\n",
       "    }\n",
       "\n",
       "    .dataframe thead th {\n",
       "        text-align: right;\n",
       "    }\n",
       "</style>\n",
       "<table border=\"1\" class=\"dataframe\">\n",
       "  <thead>\n",
       "    <tr style=\"text-align: right;\">\n",
       "      <th></th>\n",
       "      <th>f0</th>\n",
       "      <th>f1</th>\n",
       "      <th>f2</th>\n",
       "      <th>product</th>\n",
       "    </tr>\n",
       "  </thead>\n",
       "  <tbody>\n",
       "    <tr>\n",
       "      <th>count</th>\n",
       "      <td>100000.000000</td>\n",
       "      <td>100000.000000</td>\n",
       "      <td>100000.000000</td>\n",
       "      <td>100000.000000</td>\n",
       "    </tr>\n",
       "    <tr>\n",
       "      <th>mean</th>\n",
       "      <td>0.002023</td>\n",
       "      <td>-0.002081</td>\n",
       "      <td>2.495128</td>\n",
       "      <td>95.000000</td>\n",
       "    </tr>\n",
       "    <tr>\n",
       "      <th>std</th>\n",
       "      <td>1.732045</td>\n",
       "      <td>1.730417</td>\n",
       "      <td>3.473445</td>\n",
       "      <td>44.749921</td>\n",
       "    </tr>\n",
       "    <tr>\n",
       "      <th>min</th>\n",
       "      <td>-8.760004</td>\n",
       "      <td>-7.084020</td>\n",
       "      <td>-11.970335</td>\n",
       "      <td>0.000000</td>\n",
       "    </tr>\n",
       "    <tr>\n",
       "      <th>25%</th>\n",
       "      <td>-1.162288</td>\n",
       "      <td>-1.174820</td>\n",
       "      <td>0.130359</td>\n",
       "      <td>59.450441</td>\n",
       "    </tr>\n",
       "    <tr>\n",
       "      <th>50%</th>\n",
       "      <td>0.009424</td>\n",
       "      <td>-0.009482</td>\n",
       "      <td>2.484236</td>\n",
       "      <td>94.925613</td>\n",
       "    </tr>\n",
       "    <tr>\n",
       "      <th>75%</th>\n",
       "      <td>1.158535</td>\n",
       "      <td>1.163678</td>\n",
       "      <td>4.858794</td>\n",
       "      <td>130.595027</td>\n",
       "    </tr>\n",
       "    <tr>\n",
       "      <th>max</th>\n",
       "      <td>7.238262</td>\n",
       "      <td>7.844801</td>\n",
       "      <td>16.739402</td>\n",
       "      <td>190.029838</td>\n",
       "    </tr>\n",
       "  </tbody>\n",
       "</table>\n",
       "</div>"
      ],
      "text/plain": [
       "                  f0             f1             f2        product\n",
       "count  100000.000000  100000.000000  100000.000000  100000.000000\n",
       "mean        0.002023      -0.002081       2.495128      95.000000\n",
       "std         1.732045       1.730417       3.473445      44.749921\n",
       "min        -8.760004      -7.084020     -11.970335       0.000000\n",
       "25%        -1.162288      -1.174820       0.130359      59.450441\n",
       "50%         0.009424      -0.009482       2.484236      94.925613\n",
       "75%         1.158535       1.163678       4.858794     130.595027\n",
       "max         7.238262       7.844801      16.739402     190.029838"
      ]
     },
     "execution_count": 29,
     "metadata": {},
     "output_type": "execute_result"
    }
   ],
   "source": [
    "data_3.describe()"
   ]
  },
  {
   "cell_type": "markdown",
   "metadata": {},
   "source": [
    "Построим матрицы корреляции:"
   ]
  },
  {
   "cell_type": "code",
   "execution_count": 30,
   "metadata": {},
   "outputs": [],
   "source": [
    "def corr_matrix(data):\n",
    "    numeric_cols = data.select_dtypes(include=['number']).columns\n",
    "    correlation_matrix = data[numeric_cols].corr()\n",
    "\n",
    "    plt.figure(figsize=(8, 5))\n",
    "    sns.heatmap(correlation_matrix, annot=True, cmap='coolwarm')\n",
    "    plt.show()\n"
   ]
  },
  {
   "cell_type": "code",
   "execution_count": 31,
   "metadata": {},
   "outputs": [
    {
     "data": {
      "image/png": "[encoded data removed]",
      "text/plain": [
       "<Figure size 800x500 with 2 Axes>"
      ]
     },
     "metadata": {},
     "output_type": "display_data"
    },
    {
     "data": {
      "image/png": "[encoded data removed]",
      "text/plain": [
       "<Figure size 800x500 with 2 Axes>"
      ]
     },
     "metadata": {},
     "output_type": "display_data"
    },
    {
     "data": {
      "image/png": "[encoded data removed]",
      "text/plain": [
       "<Figure size 800x500 with 2 Axes>"
      ]
     },
     "metadata": {},
     "output_type": "display_data"
    }
   ],
   "source": [
    "corr_matrix(data_1)\n",
    "corr_matrix(data_2)\n",
    "corr_matrix(data_3)"
   ]
  },
  {
   "cell_type": "markdown",
   "metadata": {},
   "source": [
    "1. Данные не нуждаются в предобработке. Названия стобцов в нужном регистре, пропусков и явных дубликатов нет, данные указаны в правильном типе. \n",
    "2. В втором фрейме очень сильно коррелирует целевой признак и f2.\n",
    "3. Переходим к обучению модели."
   ]
  },
  {
   "cell_type": "markdown",
   "metadata": {},
   "source": [
    "**Вывод:**\n",
    "\n",
    "- Пропуски - отсутствуют\n",
    "- Типы столбцов - соответсвуют данным\n",
    "- Названия столбцов - ок\n",
    "- Дубликаты - отсутствуют\n",
    "- Коррелирующие признаки - f2 и целевой признак сильно коррелируют, но согласно заданию признак f2 оставим/."
   ]
  },
  {
   "cell_type": "code",
   "execution_count": 32,
   "metadata": {},
   "outputs": [],
   "source": [
    "#from ydata_profiling import ProfileReport"
   ]
  },
  {
   "cell_type": "code",
   "execution_count": 33,
   "metadata": {
    "scrolled": true
   },
   "outputs": [],
   "source": [
    "#profile = ProfileReport(data_1, title=\"Profiling Report\")"
   ]
  },
  {
   "cell_type": "code",
   "execution_count": 34,
   "metadata": {
    "scrolled": false
   },
   "outputs": [],
   "source": [
    "#profile"
   ]
  },
  {
   "cell_type": "markdown",
   "metadata": {},
   "source": [
    "## Обучение и проверка модели"
   ]
  },
  {
   "cell_type": "markdown",
   "metadata": {},
   "source": [
    "Удалим признак id и f2 из второго фрейма"
   ]
  },
  {
   "cell_type": "code",
   "execution_count": 35,
   "metadata": {},
   "outputs": [],
   "source": [
    "data_1.drop([\"id\"], axis=1, inplace=True)\n",
    "data_2.drop([\"id\"], axis=1, inplace=True)\n",
    "data_3.drop([\"id\"], axis=1, inplace=True)"
   ]
  },
  {
   "cell_type": "code",
   "execution_count": 36,
   "metadata": {},
   "outputs": [
    {
     "data": {
      "text/html": [
       "<div>\n",
       "<style scoped>\n",
       "    .dataframe tbody tr th:only-of-type {\n",
       "        vertical-align: middle;\n",
       "    }\n",
       "\n",
       "    .dataframe tbody tr th {\n",
       "        vertical-align: top;\n",
       "    }\n",
       "\n",
       "    .dataframe thead th {\n",
       "        text-align: right;\n",
       "    }\n",
       "</style>\n",
       "<table border=\"1\" class=\"dataframe\">\n",
       "  <thead>\n",
       "    <tr style=\"text-align: right;\">\n",
       "      <th></th>\n",
       "      <th>f0</th>\n",
       "      <th>f1</th>\n",
       "      <th>f2</th>\n",
       "      <th>product</th>\n",
       "    </tr>\n",
       "  </thead>\n",
       "  <tbody>\n",
       "    <tr>\n",
       "      <th>0</th>\n",
       "      <td>-15.001348</td>\n",
       "      <td>-8.276000</td>\n",
       "      <td>-0.005876</td>\n",
       "      <td>3.179103</td>\n",
       "    </tr>\n",
       "    <tr>\n",
       "      <th>1</th>\n",
       "      <td>14.272088</td>\n",
       "      <td>-3.475083</td>\n",
       "      <td>0.999183</td>\n",
       "      <td>26.953261</td>\n",
       "    </tr>\n",
       "    <tr>\n",
       "      <th>2</th>\n",
       "      <td>6.263187</td>\n",
       "      <td>-5.948386</td>\n",
       "      <td>5.001160</td>\n",
       "      <td>134.766305</td>\n",
       "    </tr>\n",
       "    <tr>\n",
       "      <th>3</th>\n",
       "      <td>-13.081196</td>\n",
       "      <td>-11.506057</td>\n",
       "      <td>4.999415</td>\n",
       "      <td>137.945408</td>\n",
       "    </tr>\n",
       "    <tr>\n",
       "      <th>4</th>\n",
       "      <td>12.702195</td>\n",
       "      <td>-8.147433</td>\n",
       "      <td>5.004363</td>\n",
       "      <td>134.766305</td>\n",
       "    </tr>\n",
       "  </tbody>\n",
       "</table>\n",
       "</div>"
      ],
      "text/plain": [
       "          f0         f1        f2     product\n",
       "0 -15.001348  -8.276000 -0.005876    3.179103\n",
       "1  14.272088  -3.475083  0.999183   26.953261\n",
       "2   6.263187  -5.948386  5.001160  134.766305\n",
       "3 -13.081196 -11.506057  4.999415  137.945408\n",
       "4  12.702195  -8.147433  5.004363  134.766305"
      ]
     },
     "execution_count": 36,
     "metadata": {},
     "output_type": "execute_result"
    }
   ],
   "source": [
    "data_2.head()"
   ]
  },
  {
   "cell_type": "markdown",
   "metadata": {},
   "source": [
    "### Разделение на выборки"
   ]
  },
  {
   "cell_type": "code",
   "execution_count": 37,
   "metadata": {},
   "outputs": [],
   "source": [
    "def split_df(data_split):\n",
    "    features = data_split.drop(\"product\",axis=1)\n",
    "    target = data_split[\"product\"]\n",
    "    \n",
    "    features_train, features_valid, target_train, target_valid = train_test_split(features, target, \n",
    "                                                                                  test_size=0.25, random_state=42)\n",
    "    \n",
    "    return features_train, features_valid, target_train, target_valid"
   ]
  },
  {
   "cell_type": "code",
   "execution_count": 38,
   "metadata": {
    "scrolled": true
   },
   "outputs": [],
   "source": [
    "features_train_1, features_valid_1, target_train_1, target_valid_1 = split_df(data_1)"
   ]
  },
  {
   "cell_type": "code",
   "execution_count": 39,
   "metadata": {},
   "outputs": [
    {
     "name": "stdout",
     "output_type": "stream",
     "text": [
      "Размер исходного датафрейма: (100000, 4)\n",
      "Размер признака обучающей выборке: (75000, 3)\n",
      "Размер целевого признака обучающей выборке: 75000\n",
      "Размер признака валидационной выборки: (25000, 3)\n",
      "Размер целевого признака валидационной выборки: 25000\n"
     ]
    }
   ],
   "source": [
    "print(f'Размер исходного датафрейма: {data_1.shape}')\n",
    "print(f'Размер признака обучающей выборке: {features_train_1.shape}')\n",
    "print(f'Размер целевого признака обучающей выборке: {target_train_1.shape[0]}')\n",
    "print(f'Размер признака валидационной выборки: {features_valid_1.shape}')\n",
    "print(f'Размер целевого признака валидационной выборки: {target_valid_1.shape[0]}')"
   ]
  },
  {
   "cell_type": "code",
   "execution_count": 40,
   "metadata": {
    "scrolled": true
   },
   "outputs": [],
   "source": [
    "features_train_2, features_valid_2, target_train_2, target_valid_2 = split_df(data_2)"
   ]
  },
  {
   "cell_type": "code",
   "execution_count": 41,
   "metadata": {},
   "outputs": [
    {
     "name": "stdout",
     "output_type": "stream",
     "text": [
      "Размер исходного датафрейма: (100000, 4)\n",
      "Размер признака обучающей выборке: (75000, 3)\n",
      "Размер целевого признака обучающей выборке: 75000\n",
      "Размер признака валидационной выборки: (25000, 3)\n",
      "Размер целевого признака валидационной выборки: 25000\n"
     ]
    }
   ],
   "source": [
    "print(f'Размер исходного датафрейма: {data_2.shape}')\n",
    "print(f'Размер признака обучающей выборке: {features_train_2.shape}')\n",
    "print(f'Размер целевого признака обучающей выборке: {target_train_2.shape[0]}')\n",
    "print(f'Размер признака валидационной выборки: {features_valid_2.shape}')\n",
    "print(f'Размер целевого признака валидационной выборки: {target_valid_2.shape[0]}')"
   ]
  },
  {
   "cell_type": "code",
   "execution_count": 42,
   "metadata": {
    "scrolled": true
   },
   "outputs": [],
   "source": [
    "features_train_3, features_valid_3, target_train_3, target_valid_3 = split_df(data_3)"
   ]
  },
  {
   "cell_type": "code",
   "execution_count": 43,
   "metadata": {},
   "outputs": [
    {
     "name": "stdout",
     "output_type": "stream",
     "text": [
      "Размер исходного датафрейма: (100000, 4)\n",
      "Размер признака обучающей выборке: (75000, 3)\n",
      "Размер целевого признака обучающей выборке: 75000\n",
      "Размер признака валидационной выборки: (25000, 3)\n",
      "Размер целевого признака валидационной выборки: 25000\n"
     ]
    }
   ],
   "source": [
    "print(f'Размер исходного датафрейма: {data_3.shape}')\n",
    "print(f'Размер признака обучающей выборке: {features_train_3.shape}')\n",
    "print(f'Размер целевого признака обучающей выборке: {target_train_3.shape[0]}')\n",
    "print(f'Размер признака валидационной выборки: {features_valid_3.shape}')\n",
    "print(f'Размер целевого признака валидационной выборки: {target_valid_3.shape[0]}')"
   ]
  },
  {
   "cell_type": "markdown",
   "metadata": {},
   "source": [
    "### Обучиние модели и предсказание на валидационной выборке."
   ]
  },
  {
   "cell_type": "code",
   "execution_count": 44,
   "metadata": {},
   "outputs": [],
   "source": [
    "def model_predict(features_train, features_valid, target_train, target_valid):\n",
    "    model = LinearRegression()\n",
    "    model.fit(features_train,target_train)\n",
    "    predictions_valid = pd.Series(model.predict(features_valid))\n",
    "    rmse = mean_squared_error(target_valid, predictions_valid)**0.5\n",
    "    mean = predictions_valid.mean()\n",
    "    \n",
    "    return predictions_valid, rmse, mean"
   ]
  },
  {
   "cell_type": "markdown",
   "metadata": {},
   "source": [
    "# Регион 1"
   ]
  },
  {
   "cell_type": "code",
   "execution_count": 45,
   "metadata": {},
   "outputs": [],
   "source": [
    "predictions_valid_1, rmse_1, mean_1 = model_predict(features_train_1, \n",
    "                                                       features_valid_1, \n",
    "                                                       target_train_1, \n",
    "                                                       target_valid_1\n",
    "                                                      )"
   ]
  },
  {
   "cell_type": "code",
   "execution_count": 46,
   "metadata": {
    "scrolled": true
   },
   "outputs": [
    {
     "name": "stdout",
     "output_type": "stream",
     "text": [
      "RMSE модели: 37.75660035026169\n",
      "Средний запас сырья в регионе: 92.39879990657768\n"
     ]
    }
   ],
   "source": [
    "print(\"RMSE модели:\",rmse_1)\n",
    "print(\"Средний запас сырья в регионе:\",mean_1)"
   ]
  },
  {
   "cell_type": "markdown",
   "metadata": {},
   "source": [
    "# Регион 2"
   ]
  },
  {
   "cell_type": "code",
   "execution_count": 47,
   "metadata": {},
   "outputs": [],
   "source": [
    "predictions_valid_2, rmse_2, mean_2 = model_predict(features_train_2, \n",
    "                                                       features_valid_2, \n",
    "                                                       target_train_2, \n",
    "                                                       target_valid_2\n",
    "                                                      )"
   ]
  },
  {
   "cell_type": "code",
   "execution_count": 48,
   "metadata": {},
   "outputs": [
    {
     "name": "stdout",
     "output_type": "stream",
     "text": [
      "RMSE модели: 0.8902801001028854\n",
      "Средний запас сырья в регионе: 68.71287803913762\n"
     ]
    }
   ],
   "source": [
    "print(\"RMSE модели:\",rmse_2)\n",
    "print(\"Средний запас сырья в регионе:\",mean_2)"
   ]
  },
  {
   "cell_type": "markdown",
   "metadata": {},
   "source": [
    "# Регион 3"
   ]
  },
  {
   "cell_type": "code",
   "execution_count": 49,
   "metadata": {},
   "outputs": [],
   "source": [
    "\n",
    "predictions_valid_3, rmse_3, mean_3 = model_predict(features_train_3, \n",
    "                                                       features_valid_3, \n",
    "                                                       target_train_3, \n",
    "                                                       target_valid_3\n",
    "                                                      )"
   ]
  },
  {
   "cell_type": "code",
   "execution_count": 50,
   "metadata": {},
   "outputs": [
    {
     "name": "stdout",
     "output_type": "stream",
     "text": [
      "RMSE модели: 40.145872311342174\n",
      "Средний запас сырья в регионе: 94.77102387765939\n"
     ]
    }
   ],
   "source": [
    "print(\"RMSE модели:\",rmse_3)\n",
    "print(\"Средний запас сырья в регионе:\",mean_3)"
   ]
  },
  {
   "cell_type": "markdown",
   "metadata": {},
   "source": [
    "**Вывод:**\n",
    "\n",
    "Исходя из прогноза модели, то средний запас у 1 и 3 региона намного больше, чем у второго. Оданко, у данных регионов RMSE модели тоже значительно выше, чем у второго региона. Это говорит о том, что во втором регионе наибольшая точность предсказания сырья"
   ]
  },
  {
   "cell_type": "markdown",
   "metadata": {},
   "source": [
    "## Подготовка к расчёту прибыли"
   ]
  },
  {
   "cell_type": "markdown",
   "metadata": {},
   "source": [
    "При разведке региона исследуют 500 точек, из которых с помощью машинного обучения выбирают 200 лучших для разработки. \n",
    "\n",
    "Бюджет на разработку скважин в регионе — 10 млрд рублей.    \n",
    "\n",
    "При нынешних ценах один баррель сырья приносит 450 рублей дохода. Доход с каждой единицы продукта составляет 450 тыс. рублей, поскольку объём указан в тысячах баррелей.   "
   ]
  },
  {
   "cell_type": "markdown",
   "metadata": {},
   "source": [
    "Исходя из условия задачи, зададим константы"
   ]
  },
  {
   "cell_type": "code",
   "execution_count": 51,
   "metadata": {},
   "outputs": [],
   "source": [
    "explore = 500\n",
    "mining = 200 \n",
    "bank = 10000000000\n",
    "revenue_per_barrel = 450000\n",
    "loss_probability = 0.025\n",
    "bootstrap_number = 1000"
   ]
  },
  {
   "cell_type": "markdown",
   "metadata": {},
   "source": [
    "### Расчет достаточного объема сырья"
   ]
  },
  {
   "cell_type": "code",
   "execution_count": 52,
   "metadata": {},
   "outputs": [
    {
     "name": "stdout",
     "output_type": "stream",
     "text": [
      "Объем сырья для безубыточной разработки 1 скважины: 111.11111111111111\n"
     ]
    }
   ],
   "source": [
    "print(\"Объем сырья для безубыточной разработки 1 скважины:\", bank / mining / revenue_per_barrel)"
   ]
  },
  {
   "cell_type": "code",
   "execution_count": 53,
   "metadata": {},
   "outputs": [
    {
     "name": "stdout",
     "output_type": "stream",
     "text": [
      "Средний запас сырья в регионе 1: 92.39879990657768\n",
      "Средний запас сырья в регионе 2: 68.71287803913762\n",
      "Средний запас сырья в регионе 3: 94.77102387765939\n"
     ]
    }
   ],
   "source": [
    "print(\"Средний запас сырья в регионе 1:\",mean_1)\n",
    "print(\"Средний запас сырья в регионе 2:\",mean_2)\n",
    "print(\"Средний запас сырья в регионе 3:\",mean_3)"
   ]
  },
  {
   "cell_type": "markdown",
   "metadata": {},
   "source": [
    "Минимальное среднее количество продукта в месторождениях региона, достаточное для разработки составляет 111.11 тыс. баррелей"
   ]
  },
  {
   "cell_type": "markdown",
   "metadata": {},
   "source": [
    "**Вывод:**\n",
    "    Средних запасов нефти во всех регионах недостаточно для окупаемости добычи. Однако исходить из средних в данном случае не целесообразно, поэтому посчитаем прибыль, исходя из 200 наиболее перспектинвых скважин в каждом регионе"
   ]
  },
  {
   "cell_type": "markdown",
   "metadata": {},
   "source": [
    "## Расчёт прибыли и рисков "
   ]
  },
  {
   "cell_type": "code",
   "execution_count": 54,
   "metadata": {},
   "outputs": [],
   "source": [
    "def dohod(target_valid,predictions_valid,count):\n",
    "    top_mining = predictions_valid.sort_values(ascending=False)\n",
    "    target_choice = target_valid[top_mining.index][:count]\n",
    "    income = (target_choice.sum() * revenue_per_barrel) - bank\n",
    "    return income"
   ]
  },
  {
   "cell_type": "code",
   "execution_count": 55,
   "metadata": {},
   "outputs": [],
   "source": [
    "def income_risks (target_valid, predictions_valid,  bootstrap_samples, explore):\n",
    "    state = np.random.RandomState(12345)\n",
    "    values = []\n",
    "    \n",
    "    for i in range(bootstrap_samples):\n",
    "        target_subsample = target_valid.reset_index(drop=True).sample(explore, replace=True, random_state=state)\n",
    "        probs_subsample = predictions_valid[target_subsample.index]\n",
    "        rev = dohod(target_subsample, probs_subsample,mining)\n",
    "        values.append(rev)\n",
    "\n",
    "    values = pd.Series(values)\n",
    "\n",
    "    lower = values.quantile(0.025) \n",
    "    upper = values.quantile(0.975) \n",
    "    mean = values.mean()\n",
    "    risks = len(values[values < 0])/len(values)*100\n",
    "    \n",
    "    print(\"Средняя выручка:\", mean)\n",
    "    print(\"95%-квантиль по выручке:\", upper)\n",
    "    print(\"5%-квантиль по выручке:\", lower)\n",
    "    print(\"Вероятность убытков:\",risks,\"%\")"
   ]
  },
  {
   "cell_type": "code",
   "execution_count": 56,
   "metadata": {},
   "outputs": [
    {
     "name": "stdout",
     "output_type": "stream",
     "text": [
      "Для первого региона при случайном выборе 500 скважин получаются следующие показатели:\n",
      "Средняя выручка: 435933772.1386621\n",
      "95%-квантиль по выручке: 966504180.707376\n",
      "5%-квантиль по выручке: -116231612.77720818\n",
      "Вероятность убытков: 6.1 %\n"
     ]
    }
   ],
   "source": [
    "print('Для первого региона при случайном выборе 500 скважин получаются следующие показатели:')\n",
    "income_risks(target_valid_1, predictions_valid_1,  bootstrap_number, explore)"
   ]
  },
  {
   "cell_type": "code",
   "execution_count": 57,
   "metadata": {
    "scrolled": true
   },
   "outputs": [
    {
     "name": "stdout",
     "output_type": "stream",
     "text": [
      "Для второго региона при случайном выборе 500 скважин получаются следующие показатели:\n",
      "Средняя выручка: 489661254.41175246\n",
      "95%-квантиль по выручке: 905762650.4248402\n",
      "5%-квантиль по выручке: 55116177.27361494\n",
      "Вероятность убытков: 1.0999999999999999 %\n"
     ]
    }
   ],
   "source": [
    "print('Для второго региона при случайном выборе 500 скважин получаются следующие показатели:')\n",
    "income_risks(target_valid_2, predictions_valid_2,  bootstrap_number, explore)"
   ]
  },
  {
   "cell_type": "code",
   "execution_count": 58,
   "metadata": {},
   "outputs": [
    {
     "name": "stdout",
     "output_type": "stream",
     "text": [
      "Для третьего региона при случайном выборе 500 скважин получаются следующие показатели:\n",
      "Средняя выручка: 403687927.86213845\n",
      "95%-квантиль по выручке: 952887416.7078604\n",
      "5%-квантиль по выручке: -153116984.7619049\n",
      "Вероятность убытков: 7.1 %\n"
     ]
    }
   ],
   "source": [
    "print('Для третьего региона при случайном выборе 500 скважин получаются следующие показатели:')\n",
    "income_risks(target_valid_3, predictions_valid_3,  bootstrap_number, explore)"
   ]
  },
  {
   "cell_type": "markdown",
   "metadata": {},
   "source": [
    "Наиболее лучшим регионом по выручке является - второй. При этом только в данном регионе вероятность убытков равна 1.1% и лежит в допустимом значении (Максимальное - 2.5%). "
   ]
  },
  {
   "cell_type": "markdown",
   "metadata": {},
   "source": [
    "# Вывод"
   ]
  },
  {
   "cell_type": "markdown",
   "metadata": {},
   "source": [
    "1. Первый регион:\n",
    "- Средняя выручка: 435933772\n",
    "- Вероятность убытков: 6.1 %\n",
    "\n",
    "2. Второй регион:\n",
    "- Средняя выручка: 489661254\n",
    "- Вероятность убытков: 1.1\n",
    "\n",
    "2. Третий регион:\n",
    "- Средняя выручка: 403687927\n",
    "- Вероятность убытков: 7.1 %\n",
    "\n",
    "Исходя из этого самый лучший регион по выручке и вероятности убытков - второй."
   ]
  }
 ],
 "metadata": {
  "ExecuteTimeLog": [
   {
    "duration": 60,
    "start_time": "2024-04-03T18:30:13.954Z"
   },
   {
    "duration": 1240,
    "start_time": "2024-04-03T18:30:26.371Z"
   },
   {
    "duration": 1726,
    "start_time": "2024-04-03T18:30:27.614Z"
   },
   {
    "duration": 79,
    "start_time": "2024-04-03T18:31:34.592Z"
   },
   {
    "duration": 4,
    "start_time": "2024-04-03T18:31:37.349Z"
   },
   {
    "duration": 73,
    "start_time": "2024-04-03T18:31:37.643Z"
   },
   {
    "duration": 16,
    "start_time": "2024-04-03T18:31:48.821Z"
   },
   {
    "duration": 12,
    "start_time": "2024-04-03T18:32:00.100Z"
   },
   {
    "duration": 10,
    "start_time": "2024-04-03T18:32:04.439Z"
   },
   {
    "duration": 2,
    "start_time": "2024-04-03T18:34:48.777Z"
   },
   {
    "duration": 3,
    "start_time": "2024-04-03T18:34:59.914Z"
   },
   {
    "duration": 64,
    "start_time": "2024-04-03T18:35:06.048Z"
   },
   {
    "duration": 67,
    "start_time": "2024-04-03T18:35:09.897Z"
   },
   {
    "duration": 4,
    "start_time": "2024-04-03T18:37:06.832Z"
   },
   {
    "duration": 104,
    "start_time": "2024-04-03T18:37:07.181Z"
   },
   {
    "duration": 99,
    "start_time": "2024-04-03T18:37:10.576Z"
   },
   {
    "duration": 130,
    "start_time": "2024-04-03T18:37:11.966Z"
   },
   {
    "duration": 39,
    "start_time": "2024-04-03T18:37:25.387Z"
   },
   {
    "duration": 4,
    "start_time": "2024-04-03T18:37:30.845Z"
   },
   {
    "duration": 72,
    "start_time": "2024-04-03T18:37:31.888Z"
   },
   {
    "duration": 40,
    "start_time": "2024-04-03T18:37:33.450Z"
   },
   {
    "duration": 62,
    "start_time": "2024-04-03T18:37:52.537Z"
   },
   {
    "duration": 41,
    "start_time": "2024-04-03T18:37:55.550Z"
   },
   {
    "duration": 81,
    "start_time": "2024-04-03T18:38:01.133Z"
   },
   {
    "duration": 39,
    "start_time": "2024-04-03T18:38:01.411Z"
   },
   {
    "duration": 16,
    "start_time": "2024-04-03T18:39:23.033Z"
   },
   {
    "duration": 12,
    "start_time": "2024-04-03T18:39:51.506Z"
   },
   {
    "duration": 4455,
    "start_time": "2024-04-03T18:40:11.418Z"
   },
   {
    "duration": 1139,
    "start_time": "2024-04-03T18:40:22.013Z"
   },
   {
    "duration": 463,
    "start_time": "2024-04-03T18:40:23.153Z"
   },
   {
    "duration": 17,
    "start_time": "2024-04-03T18:40:23.618Z"
   },
   {
    "duration": 10,
    "start_time": "2024-04-03T18:40:23.637Z"
   },
   {
    "duration": 13,
    "start_time": "2024-04-03T18:40:23.648Z"
   },
   {
    "duration": 9,
    "start_time": "2024-04-03T18:40:23.663Z"
   },
   {
    "duration": 88,
    "start_time": "2024-04-03T18:40:23.673Z"
   },
   {
    "duration": 59,
    "start_time": "2024-04-03T18:40:23.763Z"
   },
   {
    "duration": 72,
    "start_time": "2024-04-03T18:40:23.824Z"
   },
   {
    "duration": 42,
    "start_time": "2024-04-03T18:40:23.898Z"
   },
   {
    "duration": 80,
    "start_time": "2024-04-03T18:40:24.506Z"
   },
   {
    "duration": 42,
    "start_time": "2024-04-03T18:40:24.882Z"
   },
   {
    "duration": 17,
    "start_time": "2024-04-03T18:40:25.251Z"
   },
   {
    "duration": 108,
    "start_time": "2024-04-03T18:40:26.408Z"
   },
   {
    "duration": 523,
    "start_time": "2024-04-03T18:40:44.682Z"
   },
   {
    "duration": 1111,
    "start_time": "2024-04-03T18:41:47.721Z"
   },
   {
    "duration": 454,
    "start_time": "2024-04-03T18:41:48.834Z"
   },
   {
    "duration": 20,
    "start_time": "2024-04-03T18:41:49.290Z"
   },
   {
    "duration": 24,
    "start_time": "2024-04-03T18:41:49.312Z"
   },
   {
    "duration": 21,
    "start_time": "2024-04-03T18:41:49.337Z"
   },
   {
    "duration": 22,
    "start_time": "2024-04-03T18:41:49.360Z"
   },
   {
    "duration": 79,
    "start_time": "2024-04-03T18:41:49.384Z"
   },
   {
    "duration": 50,
    "start_time": "2024-04-03T18:41:49.464Z"
   },
   {
    "duration": 77,
    "start_time": "2024-04-03T18:41:49.515Z"
   },
   {
    "duration": 40,
    "start_time": "2024-04-03T18:41:49.594Z"
   },
   {
    "duration": 88,
    "start_time": "2024-04-03T18:41:49.636Z"
   },
   {
    "duration": 45,
    "start_time": "2024-04-03T18:41:49.726Z"
   },
   {
    "duration": 26,
    "start_time": "2024-04-03T18:41:49.773Z"
   },
   {
    "duration": 49,
    "start_time": "2024-04-03T18:41:49.801Z"
   },
   {
    "duration": 16,
    "start_time": "2024-04-03T18:41:55.727Z"
   },
   {
    "duration": 185,
    "start_time": "2024-04-03T18:44:44.630Z"
   },
   {
    "duration": 305,
    "start_time": "2024-04-03T18:45:02.341Z"
   },
   {
    "duration": 91,
    "start_time": "2024-04-03T18:45:05.903Z"
   },
   {
    "duration": 66,
    "start_time": "2024-04-03T18:45:16.398Z"
   },
   {
    "duration": 430,
    "start_time": "2024-04-03T18:45:19.609Z"
   },
   {
    "duration": 332,
    "start_time": "2024-04-03T18:45:27.102Z"
   },
   {
    "duration": 415,
    "start_time": "2024-04-03T18:45:30.314Z"
   },
   {
    "duration": 456,
    "start_time": "2024-04-03T18:45:37.679Z"
   },
   {
    "duration": 348,
    "start_time": "2024-04-03T18:45:45.150Z"
   },
   {
    "duration": 329,
    "start_time": "2024-04-03T18:45:49.511Z"
   },
   {
    "duration": 365,
    "start_time": "2024-04-03T18:45:52.180Z"
   },
   {
    "duration": 689,
    "start_time": "2024-04-03T18:46:02.772Z"
   },
   {
    "duration": 681,
    "start_time": "2024-04-03T18:46:29.947Z"
   },
   {
    "duration": 1058,
    "start_time": "2024-04-03T18:47:12.436Z"
   },
   {
    "duration": 4,
    "start_time": "2024-04-03T18:47:51.977Z"
   },
   {
    "duration": 462,
    "start_time": "2024-04-03T18:47:58.615Z"
   },
   {
    "duration": 675,
    "start_time": "2024-04-03T18:48:08.939Z"
   },
   {
    "duration": 978,
    "start_time": "2024-04-03T18:48:13.943Z"
   },
   {
    "duration": 4,
    "start_time": "2024-04-03T18:48:51.487Z"
   },
   {
    "duration": 1240,
    "start_time": "2024-04-03T18:48:51.905Z"
   },
   {
    "duration": 5,
    "start_time": "2024-04-03T18:48:58.974Z"
   },
   {
    "duration": 1306,
    "start_time": "2024-04-03T18:48:59.241Z"
   },
   {
    "duration": 332,
    "start_time": "2024-04-03T18:49:38.243Z"
   },
   {
    "duration": 350,
    "start_time": "2024-04-03T18:49:42.193Z"
   },
   {
    "duration": 5,
    "start_time": "2024-04-03T18:51:08.095Z"
   },
   {
    "duration": 1635,
    "start_time": "2024-04-03T18:51:23.520Z"
   },
   {
    "duration": 1654,
    "start_time": "2024-04-03T18:51:36.916Z"
   },
   {
    "duration": 84,
    "start_time": "2024-04-03T18:58:18.253Z"
   },
   {
    "duration": 5,
    "start_time": "2024-04-03T19:21:04.129Z"
   },
   {
    "duration": 16,
    "start_time": "2024-04-03T19:21:12.204Z"
   },
   {
    "duration": 77,
    "start_time": "2024-04-03T19:21:18.293Z"
   },
   {
    "duration": 4,
    "start_time": "2024-04-03T19:21:28.425Z"
   },
   {
    "duration": 76,
    "start_time": "2024-04-03T19:21:28.839Z"
   },
   {
    "duration": 5,
    "start_time": "2024-04-03T19:21:37.602Z"
   },
   {
    "duration": 8,
    "start_time": "2024-04-03T19:22:26.387Z"
   },
   {
    "duration": 9,
    "start_time": "2024-04-03T19:22:30.573Z"
   },
   {
    "duration": 4,
    "start_time": "2024-04-03T19:22:34.393Z"
   },
   {
    "duration": 30,
    "start_time": "2024-04-03T19:22:35.048Z"
   },
   {
    "duration": 5,
    "start_time": "2024-04-03T19:22:37.354Z"
   },
   {
    "duration": 5,
    "start_time": "2024-04-03T19:22:47.158Z"
   },
   {
    "duration": 22,
    "start_time": "2024-04-03T19:22:47.499Z"
   },
   {
    "duration": 4,
    "start_time": "2024-04-03T19:23:01.318Z"
   },
   {
    "duration": 14,
    "start_time": "2024-04-03T19:23:01.682Z"
   },
   {
    "duration": 4,
    "start_time": "2024-04-03T19:23:02.953Z"
   },
   {
    "duration": 9,
    "start_time": "2024-04-03T19:23:31.213Z"
   },
   {
    "duration": 9,
    "start_time": "2024-04-03T19:23:33.221Z"
   },
   {
    "duration": 10,
    "start_time": "2024-04-03T19:23:34.944Z"
   },
   {
    "duration": 4,
    "start_time": "2024-04-03T19:24:26.778Z"
   },
   {
    "duration": 9,
    "start_time": "2024-04-03T19:24:27.970Z"
   },
   {
    "duration": 8,
    "start_time": "2024-04-03T19:24:35.606Z"
   },
   {
    "duration": 8,
    "start_time": "2024-04-03T19:24:47.825Z"
   },
   {
    "duration": 17,
    "start_time": "2024-04-03T19:24:50.635Z"
   },
   {
    "duration": 10,
    "start_time": "2024-04-03T19:24:50.893Z"
   },
   {
    "duration": 1466,
    "start_time": "2024-04-03T19:25:01.802Z"
   },
   {
    "duration": 426,
    "start_time": "2024-04-03T19:25:03.270Z"
   },
   {
    "duration": 15,
    "start_time": "2024-04-03T19:25:03.697Z"
   },
   {
    "duration": 13,
    "start_time": "2024-04-03T19:25:03.715Z"
   },
   {
    "duration": 41,
    "start_time": "2024-04-03T19:25:03.729Z"
   },
   {
    "duration": 17,
    "start_time": "2024-04-03T19:25:03.771Z"
   },
   {
    "duration": 81,
    "start_time": "2024-04-03T19:25:03.789Z"
   },
   {
    "duration": 43,
    "start_time": "2024-04-03T19:25:03.871Z"
   },
   {
    "duration": 62,
    "start_time": "2024-04-03T19:25:03.916Z"
   },
   {
    "duration": 47,
    "start_time": "2024-04-03T19:25:03.981Z"
   },
   {
    "duration": 94,
    "start_time": "2024-04-03T19:25:04.030Z"
   },
   {
    "duration": 46,
    "start_time": "2024-04-03T19:25:04.126Z"
   },
   {
    "duration": 3,
    "start_time": "2024-04-03T19:25:04.174Z"
   },
   {
    "duration": 1003,
    "start_time": "2024-04-03T19:25:04.179Z"
   },
   {
    "duration": 80,
    "start_time": "2024-04-03T19:25:05.191Z"
   },
   {
    "duration": 0,
    "start_time": "2024-04-03T19:25:05.273Z"
   },
   {
    "duration": 0,
    "start_time": "2024-04-03T19:25:05.274Z"
   },
   {
    "duration": 0,
    "start_time": "2024-04-03T19:25:05.275Z"
   },
   {
    "duration": 0,
    "start_time": "2024-04-03T19:25:05.276Z"
   },
   {
    "duration": 0,
    "start_time": "2024-04-03T19:25:05.277Z"
   },
   {
    "duration": 0,
    "start_time": "2024-04-03T19:25:05.278Z"
   },
   {
    "duration": 0,
    "start_time": "2024-04-03T19:25:05.279Z"
   },
   {
    "duration": 0,
    "start_time": "2024-04-03T19:25:05.281Z"
   },
   {
    "duration": 14,
    "start_time": "2024-04-03T19:25:11.130Z"
   },
   {
    "duration": 6,
    "start_time": "2024-04-03T19:25:12.231Z"
   },
   {
    "duration": 8,
    "start_time": "2024-04-03T19:25:12.528Z"
   },
   {
    "duration": 4,
    "start_time": "2024-04-03T19:25:15.838Z"
   },
   {
    "duration": 39,
    "start_time": "2024-04-03T19:25:16.112Z"
   },
   {
    "duration": 4,
    "start_time": "2024-04-03T19:25:26.683Z"
   },
   {
    "duration": 111,
    "start_time": "2024-04-03T19:25:50.076Z"
   },
   {
    "duration": 26,
    "start_time": "2024-04-03T19:25:54.397Z"
   },
   {
    "duration": 4,
    "start_time": "2024-04-03T19:26:20.929Z"
   },
   {
    "duration": 30,
    "start_time": "2024-04-03T19:26:26.459Z"
   },
   {
    "duration": 5,
    "start_time": "2024-04-03T19:26:34.492Z"
   },
   {
    "duration": 32,
    "start_time": "2024-04-03T19:26:45.238Z"
   },
   {
    "duration": 5,
    "start_time": "2024-04-03T19:27:00.879Z"
   },
   {
    "duration": 4,
    "start_time": "2024-04-03T19:27:08.557Z"
   },
   {
    "duration": 3,
    "start_time": "2024-04-03T19:28:34.415Z"
   },
   {
    "duration": 19,
    "start_time": "2024-04-03T19:28:44.848Z"
   },
   {
    "duration": 4,
    "start_time": "2024-04-03T19:28:51.588Z"
   },
   {
    "duration": 12,
    "start_time": "2024-04-03T19:29:40.905Z"
   },
   {
    "duration": 4,
    "start_time": "2024-04-03T19:29:48.369Z"
   },
   {
    "duration": 3,
    "start_time": "2024-04-03T19:29:52.384Z"
   },
   {
    "duration": 13,
    "start_time": "2024-04-03T19:31:05.740Z"
   },
   {
    "duration": 4,
    "start_time": "2024-04-03T19:31:05.990Z"
   },
   {
    "duration": 3,
    "start_time": "2024-04-03T19:33:46.874Z"
   },
   {
    "duration": 4,
    "start_time": "2024-04-03T19:33:47.133Z"
   },
   {
    "duration": 12,
    "start_time": "2024-04-03T19:33:47.553Z"
   },
   {
    "duration": 5,
    "start_time": "2024-04-03T19:33:48.989Z"
   },
   {
    "duration": 10,
    "start_time": "2024-04-03T19:33:50.285Z"
   },
   {
    "duration": 4,
    "start_time": "2024-04-03T19:33:50.504Z"
   },
   {
    "duration": 16,
    "start_time": "2024-04-03T19:33:50.856Z"
   },
   {
    "duration": 5,
    "start_time": "2024-04-03T19:33:52.238Z"
   },
   {
    "duration": 4,
    "start_time": "2024-04-03T19:33:53.448Z"
   },
   {
    "duration": 18,
    "start_time": "2024-04-03T19:33:54.041Z"
   },
   {
    "duration": 4,
    "start_time": "2024-04-03T19:33:57.898Z"
   },
   {
    "duration": 15,
    "start_time": "2024-04-03T19:34:00.326Z"
   },
   {
    "duration": 4,
    "start_time": "2024-04-03T19:34:00.584Z"
   },
   {
    "duration": 15,
    "start_time": "2024-04-03T19:34:01.535Z"
   },
   {
    "duration": 4,
    "start_time": "2024-04-03T19:34:02.012Z"
   },
   {
    "duration": 12,
    "start_time": "2024-04-03T19:34:16.602Z"
   },
   {
    "duration": 5,
    "start_time": "2024-04-03T19:34:16.914Z"
   },
   {
    "duration": 12,
    "start_time": "2024-04-03T19:34:18.008Z"
   },
   {
    "duration": 4,
    "start_time": "2024-04-03T19:34:18.360Z"
   },
   {
    "duration": 3,
    "start_time": "2024-04-03T19:34:18.660Z"
   },
   {
    "duration": 13,
    "start_time": "2024-04-03T19:34:18.840Z"
   },
   {
    "duration": 3,
    "start_time": "2024-04-03T19:34:19.203Z"
   },
   {
    "duration": 11,
    "start_time": "2024-04-03T19:34:19.720Z"
   },
   {
    "duration": 3,
    "start_time": "2024-04-03T19:34:20.251Z"
   },
   {
    "duration": 15,
    "start_time": "2024-04-03T19:34:22.045Z"
   },
   {
    "duration": 4,
    "start_time": "2024-04-03T19:34:22.250Z"
   },
   {
    "duration": 14,
    "start_time": "2024-04-03T19:34:38.084Z"
   },
   {
    "duration": 3,
    "start_time": "2024-04-03T19:34:38.607Z"
   },
   {
    "duration": 26,
    "start_time": "2024-04-03T19:34:38.904Z"
   },
   {
    "duration": 3,
    "start_time": "2024-04-03T19:34:39.093Z"
   },
   {
    "duration": 13,
    "start_time": "2024-04-03T19:34:39.338Z"
   },
   {
    "duration": 4,
    "start_time": "2024-04-03T19:34:39.492Z"
   },
   {
    "duration": 81,
    "start_time": "2024-04-03T19:36:57.170Z"
   },
   {
    "duration": 3,
    "start_time": "2024-04-03T19:38:14.324Z"
   },
   {
    "duration": 3,
    "start_time": "2024-04-03T19:38:21.632Z"
   },
   {
    "duration": 4,
    "start_time": "2024-04-03T19:39:30.434Z"
   },
   {
    "duration": 4,
    "start_time": "2024-04-03T19:39:46.656Z"
   },
   {
    "duration": 6,
    "start_time": "2024-04-03T19:43:22.489Z"
   },
   {
    "duration": 4,
    "start_time": "2024-04-03T19:45:28.600Z"
   },
   {
    "duration": 6,
    "start_time": "2024-04-03T19:45:30.836Z"
   },
   {
    "duration": 16,
    "start_time": "2024-04-03T19:45:46.874Z"
   },
   {
    "duration": 5,
    "start_time": "2024-04-03T19:46:36.674Z"
   },
   {
    "duration": 20,
    "start_time": "2024-04-03T19:46:36.993Z"
   },
   {
    "duration": 3,
    "start_time": "2024-04-03T19:46:47.652Z"
   },
   {
    "duration": 4,
    "start_time": "2024-04-03T19:46:48.447Z"
   },
   {
    "duration": 1542,
    "start_time": "2024-04-03T19:46:49.178Z"
   },
   {
    "duration": 1514,
    "start_time": "2024-04-03T19:47:02.272Z"
   },
   {
    "duration": 1451,
    "start_time": "2024-04-03T19:47:12.301Z"
   },
   {
    "duration": 2035,
    "start_time": "2024-04-03T19:49:55.524Z"
   },
   {
    "duration": 1470,
    "start_time": "2024-04-03T19:50:11.477Z"
   },
   {
    "duration": 1526,
    "start_time": "2024-04-03T19:50:55.230Z"
   },
   {
    "duration": 1510,
    "start_time": "2024-04-03T19:50:56.758Z"
   },
   {
    "duration": 1482,
    "start_time": "2024-04-03T19:50:58.270Z"
   },
   {
    "duration": 1434,
    "start_time": "2024-04-03T19:53:12.602Z"
   },
   {
    "duration": 424,
    "start_time": "2024-04-03T19:53:14.038Z"
   },
   {
    "duration": 14,
    "start_time": "2024-04-03T19:53:14.463Z"
   },
   {
    "duration": 17,
    "start_time": "2024-04-03T19:53:14.479Z"
   },
   {
    "duration": 18,
    "start_time": "2024-04-03T19:53:14.498Z"
   },
   {
    "duration": 4,
    "start_time": "2024-04-03T19:53:14.519Z"
   },
   {
    "duration": 102,
    "start_time": "2024-04-03T19:53:14.524Z"
   },
   {
    "duration": 44,
    "start_time": "2024-04-03T19:53:14.628Z"
   },
   {
    "duration": 71,
    "start_time": "2024-04-03T19:53:14.674Z"
   },
   {
    "duration": 49,
    "start_time": "2024-04-03T19:53:14.747Z"
   },
   {
    "duration": 64,
    "start_time": "2024-04-03T19:53:14.798Z"
   },
   {
    "duration": 56,
    "start_time": "2024-04-03T19:53:14.863Z"
   },
   {
    "duration": 4,
    "start_time": "2024-04-03T19:53:14.920Z"
   },
   {
    "duration": 982,
    "start_time": "2024-04-03T19:53:14.925Z"
   },
   {
    "duration": 14,
    "start_time": "2024-04-03T19:53:15.909Z"
   },
   {
    "duration": 28,
    "start_time": "2024-04-03T19:53:15.925Z"
   },
   {
    "duration": 13,
    "start_time": "2024-04-03T19:53:15.955Z"
   },
   {
    "duration": 5,
    "start_time": "2024-04-03T19:53:15.969Z"
   },
   {
    "duration": 21,
    "start_time": "2024-04-03T19:53:15.975Z"
   },
   {
    "duration": 7,
    "start_time": "2024-04-03T19:53:15.998Z"
   },
   {
    "duration": 24,
    "start_time": "2024-04-03T19:53:16.007Z"
   },
   {
    "duration": 5,
    "start_time": "2024-04-03T19:53:16.034Z"
   },
   {
    "duration": 35,
    "start_time": "2024-04-03T19:53:16.040Z"
   },
   {
    "duration": 20,
    "start_time": "2024-04-03T19:53:16.076Z"
   },
   {
    "duration": 15,
    "start_time": "2024-04-03T19:53:16.098Z"
   },
   {
    "duration": 18,
    "start_time": "2024-04-03T19:53:16.115Z"
   },
   {
    "duration": 63,
    "start_time": "2024-04-03T19:53:16.137Z"
   },
   {
    "duration": 12,
    "start_time": "2024-04-03T19:53:16.293Z"
   },
   {
    "duration": 87,
    "start_time": "2024-04-03T19:53:16.308Z"
   },
   {
    "duration": 110,
    "start_time": "2024-04-03T19:53:16.397Z"
   },
   {
    "duration": 5,
    "start_time": "2024-04-03T19:53:16.509Z"
   },
   {
    "duration": 86,
    "start_time": "2024-04-03T19:53:16.515Z"
   },
   {
    "duration": 4,
    "start_time": "2024-04-03T19:53:16.692Z"
   },
   {
    "duration": 4,
    "start_time": "2024-04-03T19:53:16.698Z"
   },
   {
    "duration": 8,
    "start_time": "2024-04-03T19:53:16.704Z"
   },
   {
    "duration": 6,
    "start_time": "2024-04-03T19:53:16.713Z"
   },
   {
    "duration": 1610,
    "start_time": "2024-04-03T19:53:16.721Z"
   },
   {
    "duration": 1493,
    "start_time": "2024-04-03T19:53:18.333Z"
   },
   {
    "duration": 1545,
    "start_time": "2024-04-03T19:53:19.827Z"
   },
   {
    "duration": 25499,
    "start_time": "2024-04-04T14:15:01.755Z"
   },
   {
    "duration": 4370,
    "start_time": "2024-04-04T14:15:41.465Z"
   },
   {
    "duration": 2920,
    "start_time": "2024-04-04T14:16:44.400Z"
   },
   {
    "duration": 2988,
    "start_time": "2024-04-04T14:16:51.309Z"
   },
   {
    "duration": 2790,
    "start_time": "2024-04-04T14:16:54.300Z"
   },
   {
    "duration": 61,
    "start_time": "2024-04-04T14:16:57.092Z"
   },
   {
    "duration": 679,
    "start_time": "2024-04-04T14:16:57.154Z"
   },
   {
    "duration": 21,
    "start_time": "2024-04-04T14:16:57.836Z"
   },
   {
    "duration": 13,
    "start_time": "2024-04-04T14:16:57.859Z"
   },
   {
    "duration": 12,
    "start_time": "2024-04-04T14:16:57.883Z"
   },
   {
    "duration": 4,
    "start_time": "2024-04-04T14:16:57.897Z"
   },
   {
    "duration": 88,
    "start_time": "2024-04-04T14:16:57.903Z"
   },
   {
    "duration": 43,
    "start_time": "2024-04-04T14:16:57.993Z"
   },
   {
    "duration": 88,
    "start_time": "2024-04-04T14:16:58.038Z"
   },
   {
    "duration": 54,
    "start_time": "2024-04-04T14:16:58.128Z"
   },
   {
    "duration": 73,
    "start_time": "2024-04-04T14:16:58.184Z"
   },
   {
    "duration": 64,
    "start_time": "2024-04-04T14:16:58.261Z"
   },
   {
    "duration": 4,
    "start_time": "2024-04-04T14:16:58.326Z"
   },
   {
    "duration": 1071,
    "start_time": "2024-04-04T14:16:58.331Z"
   },
   {
    "duration": 2,
    "start_time": "2024-04-04T14:16:59.404Z"
   },
   {
    "duration": 182,
    "start_time": "2024-04-04T14:17:25.795Z"
   },
   {
    "duration": 6779,
    "start_time": "2024-04-04T14:17:32.571Z"
   },
   {
    "duration": 5454,
    "start_time": "2024-04-04T14:18:12.799Z"
   },
   {
    "duration": 14,
    "start_time": "2024-04-04T14:19:16.147Z"
   },
   {
    "duration": 5957,
    "start_time": "2024-04-04T14:19:20.250Z"
   },
   {
    "duration": 57,
    "start_time": "2024-04-04T14:20:14.750Z"
   },
   {
    "duration": 5112,
    "start_time": "2024-04-04T14:20:17.808Z"
   },
   {
    "duration": 3976,
    "start_time": "2024-04-04T14:20:24.197Z"
   },
   {
    "duration": 50,
    "start_time": "2024-04-04T14:20:38.823Z"
   },
   {
    "duration": 0,
    "start_time": "2024-04-04T14:20:38.876Z"
   },
   {
    "duration": 0,
    "start_time": "2024-04-04T14:20:38.877Z"
   },
   {
    "duration": 0,
    "start_time": "2024-04-04T14:20:38.878Z"
   },
   {
    "duration": 0,
    "start_time": "2024-04-04T14:20:38.880Z"
   },
   {
    "duration": 0,
    "start_time": "2024-04-04T14:20:38.881Z"
   },
   {
    "duration": 0,
    "start_time": "2024-04-04T14:20:38.882Z"
   },
   {
    "duration": 0,
    "start_time": "2024-04-04T14:20:38.883Z"
   },
   {
    "duration": 0,
    "start_time": "2024-04-04T14:20:38.884Z"
   },
   {
    "duration": 0,
    "start_time": "2024-04-04T14:20:38.885Z"
   },
   {
    "duration": 0,
    "start_time": "2024-04-04T14:20:38.886Z"
   },
   {
    "duration": 0,
    "start_time": "2024-04-04T14:20:38.887Z"
   },
   {
    "duration": 0,
    "start_time": "2024-04-04T14:20:38.888Z"
   },
   {
    "duration": 0,
    "start_time": "2024-04-04T14:20:38.889Z"
   },
   {
    "duration": 0,
    "start_time": "2024-04-04T14:20:38.891Z"
   },
   {
    "duration": 0,
    "start_time": "2024-04-04T14:20:38.892Z"
   },
   {
    "duration": 0,
    "start_time": "2024-04-04T14:20:38.893Z"
   },
   {
    "duration": 0,
    "start_time": "2024-04-04T14:20:38.894Z"
   },
   {
    "duration": 0,
    "start_time": "2024-04-04T14:20:38.894Z"
   },
   {
    "duration": 0,
    "start_time": "2024-04-04T14:20:38.895Z"
   },
   {
    "duration": 0,
    "start_time": "2024-04-04T14:20:38.896Z"
   },
   {
    "duration": 0,
    "start_time": "2024-04-04T14:20:38.897Z"
   },
   {
    "duration": 0,
    "start_time": "2024-04-04T14:20:38.899Z"
   },
   {
    "duration": 0,
    "start_time": "2024-04-04T14:20:38.900Z"
   },
   {
    "duration": 0,
    "start_time": "2024-04-04T14:20:38.901Z"
   },
   {
    "duration": 0,
    "start_time": "2024-04-04T14:20:38.903Z"
   },
   {
    "duration": 0,
    "start_time": "2024-04-04T14:20:38.904Z"
   },
   {
    "duration": 0,
    "start_time": "2024-04-04T14:20:38.905Z"
   },
   {
    "duration": 0,
    "start_time": "2024-04-04T14:20:38.906Z"
   },
   {
    "duration": 7030,
    "start_time": "2024-04-04T14:20:50.183Z"
   },
   {
    "duration": 2714,
    "start_time": "2024-04-04T14:20:57.216Z"
   },
   {
    "duration": 1370,
    "start_time": "2024-04-04T14:20:59.932Z"
   },
   {
    "duration": 408,
    "start_time": "2024-04-04T14:21:01.304Z"
   },
   {
    "duration": 14,
    "start_time": "2024-04-04T14:21:01.714Z"
   },
   {
    "duration": 20,
    "start_time": "2024-04-04T14:21:01.729Z"
   },
   {
    "duration": 47,
    "start_time": "2024-04-04T14:21:01.750Z"
   },
   {
    "duration": 25,
    "start_time": "2024-04-04T14:21:01.798Z"
   },
   {
    "duration": 92,
    "start_time": "2024-04-04T14:21:01.825Z"
   },
   {
    "duration": 38,
    "start_time": "2024-04-04T14:21:01.919Z"
   },
   {
    "duration": 81,
    "start_time": "2024-04-04T14:21:01.959Z"
   },
   {
    "duration": 42,
    "start_time": "2024-04-04T14:21:02.042Z"
   },
   {
    "duration": 67,
    "start_time": "2024-04-04T14:21:02.086Z"
   },
   {
    "duration": 49,
    "start_time": "2024-04-04T14:21:02.156Z"
   },
   {
    "duration": 3,
    "start_time": "2024-04-04T14:21:02.207Z"
   },
   {
    "duration": 972,
    "start_time": "2024-04-04T14:21:02.212Z"
   },
   {
    "duration": 1162,
    "start_time": "2024-04-04T14:21:03.186Z"
   },
   {
    "duration": 3,
    "start_time": "2024-04-04T14:21:06.770Z"
   },
   {
    "duration": 14,
    "start_time": "2024-04-04T14:21:07.514Z"
   },
   {
    "duration": 10268,
    "start_time": "2024-04-04T14:21:08.569Z"
   },
   {
    "duration": 12,
    "start_time": "2024-04-04T14:23:59.047Z"
   },
   {
    "duration": 3567,
    "start_time": "2024-04-04T14:37:36.423Z"
   },
   {
    "duration": 245,
    "start_time": "2024-04-04T14:37:45.709Z"
   },
   {
    "duration": 148,
    "start_time": "2024-04-04T14:38:09.813Z"
   },
   {
    "duration": 4,
    "start_time": "2024-04-04T14:38:16.125Z"
   },
   {
    "duration": 85,
    "start_time": "2024-04-04T14:38:40.867Z"
   },
   {
    "duration": 57,
    "start_time": "2024-04-04T14:41:15.178Z"
   },
   {
    "duration": 12,
    "start_time": "2024-04-04T14:42:24.149Z"
   },
   {
    "duration": 12,
    "start_time": "2024-04-04T14:42:24.460Z"
   },
   {
    "duration": 3,
    "start_time": "2024-04-04T14:42:27.181Z"
   },
   {
    "duration": 16,
    "start_time": "2024-04-04T14:42:27.669Z"
   },
   {
    "duration": 4,
    "start_time": "2024-04-04T14:42:27.980Z"
   },
   {
    "duration": 14,
    "start_time": "2024-04-04T14:42:28.980Z"
   },
   {
    "duration": 4,
    "start_time": "2024-04-04T14:42:29.173Z"
   },
   {
    "duration": 15,
    "start_time": "2024-04-04T14:42:29.403Z"
   },
   {
    "duration": 4,
    "start_time": "2024-04-04T14:42:29.725Z"
   },
   {
    "duration": 3,
    "start_time": "2024-04-04T14:42:31.811Z"
   },
   {
    "duration": 16,
    "start_time": "2024-04-04T14:42:34.108Z"
   },
   {
    "duration": 4,
    "start_time": "2024-04-04T14:42:35.530Z"
   },
   {
    "duration": 12,
    "start_time": "2024-04-04T14:42:37.043Z"
   },
   {
    "duration": 3,
    "start_time": "2024-04-04T14:42:37.604Z"
   },
   {
    "duration": 12,
    "start_time": "2024-04-04T14:42:40.908Z"
   },
   {
    "duration": 3,
    "start_time": "2024-04-04T14:42:41.259Z"
   },
   {
    "duration": 53,
    "start_time": "2024-04-04T14:43:41.631Z"
   },
   {
    "duration": 2,
    "start_time": "2024-04-04T14:44:23.580Z"
   },
   {
    "duration": 3,
    "start_time": "2024-04-04T14:44:24.557Z"
   },
   {
    "duration": 3,
    "start_time": "2024-04-04T14:44:24.932Z"
   },
   {
    "duration": 4,
    "start_time": "2024-04-04T14:44:30.212Z"
   },
   {
    "duration": 5,
    "start_time": "2024-04-04T14:44:34.468Z"
   },
   {
    "duration": 6,
    "start_time": "2024-04-04T14:45:09.843Z"
   },
   {
    "duration": 67,
    "start_time": "2024-04-04T14:45:27.907Z"
   },
   {
    "duration": 1505,
    "start_time": "2024-04-04T14:46:40.498Z"
   },
   {
    "duration": 1541,
    "start_time": "2024-04-04T14:46:42.004Z"
   },
   {
    "duration": 1541,
    "start_time": "2024-04-04T14:46:43.546Z"
   },
   {
    "duration": 74,
    "start_time": "2024-04-04T14:51:12.938Z"
   },
   {
    "duration": 59,
    "start_time": "2024-04-04T14:56:42.083Z"
   }
  ],
  "kernelspec": {
   "display_name": "Python 3 (ipykernel)",
   "language": "python",
   "name": "python3"
  },
  "language_info": {
   "codemirror_mode": {
    "name": "ipython",
    "version": 3
   },
   "file_extension": ".py",
   "mimetype": "text/x-python",
   "name": "python",
   "nbconvert_exporter": "python",
   "pygments_lexer": "ipython3",
   "version": "3.9.16"
  },
  "toc": {
   "base_numbering": 1,
   "nav_menu": {
    "height": "283.75px",
    "width": "256.753px"
   },
   "number_sections": true,
   "sideBar": true,
   "skip_h1_title": true,
   "title_cell": "Table of Contents",
   "title_sidebar": "Contents",
   "toc_cell": false,
   "toc_position": {
    "height": "calc(100% - 180px)",
    "left": "10px",
    "top": "150px",
    "width": "461px"
   },
   "toc_section_display": true,
   "toc_window_display": true
  }
 },
 "nbformat": 4,
 "nbformat_minor": 2
}
